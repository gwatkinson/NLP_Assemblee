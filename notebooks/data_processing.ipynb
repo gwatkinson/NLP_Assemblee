{
 "cells": [
  {
   "attachments": {},
   "cell_type": "markdown",
   "metadata": {},
   "source": [
    "# Processing the data compiled from the API\n",
    "\n",
    "In this notebook, we process the data obtained from the API, resulting in a dataframe that can be used for further analysis.\n",
    "\n",
    "The compiled data is stored in the `data/compiled` folder.\n",
    "\n",
    "The processed data is then stored in the `data/processed` folder.\n",
    "\n",
    "The module `data_processing` contains the functions used to process the data."
   ]
  },
  {
   "cell_type": "code",
   "execution_count": 1,
   "metadata": {},
   "outputs": [
    {
     "name": "stderr",
     "output_type": "stream",
     "text": [
      "/home/gwatk/Documents/MVA/DL/NLP_Assemblee/nlp_assemblee/data_processing.py:13: TqdmExperimentalWarning: Using `tqdm.autonotebook.tqdm` in notebook mode. Use `tqdm.tqdm` instead to force console mode (e.g. in jupyter console)\n",
      "  from tqdm.autonotebook import tqdm\n"
     ]
    }
   ],
   "source": [
    "from warnings import filterwarnings\n",
    "\n",
    "import matplotlib.pyplot as plt\n",
    "import numpy as np\n",
    "import pandas as pd\n",
    "import plotly.express as px\n",
    "import seaborn as sns\n",
    "\n",
    "from nlp_assemblee.data_processing import DataProcessing\n",
    "\n",
    "sns.set_style(\"ticks\")\n",
    "sns.set_context(\"paper\")\n",
    "sns.set_palette(\"muted\")\n",
    "\n",
    "\n",
    "filterwarnings(\"ignore\")"
   ]
  },
  {
   "cell_type": "code",
   "execution_count": 2,
   "metadata": {},
   "outputs": [
    {
     "name": "stdout",
     "output_type": "stream",
     "text": [
      "Cleaning the deputies dataframe...\n",
      "Cleaning the compiled dataset...\n",
      "Merging the two dataframes...\n",
      "Saving the processed data...\n",
      "Could not save records.\n",
      "'DataProcessing' object has no attribute 'records'\n",
      "Could not save tokenizers.\n",
      "'DataProcessing' object has no attribute 'bert_tokenizer'\n"
     ]
    }
   ],
   "source": [
    "label_dict_15th = {\n",
    "    \"NI\": 2,\n",
    "    \"UAI\": 2,\n",
    "    \"LC\": 2,\n",
    "    \"LR\": 2,\n",
    "    \"LFI\": 0,\n",
    "    \"NG\": 0,\n",
    "    \"GDR\": 0,\n",
    "    \"SOC\": 0,\n",
    "    \"LT\": 1,\n",
    "    \"UDI\": 1,\n",
    "    \"NI\": 2,\n",
    "    \"LC\": 1,\n",
    "    \"LREM\": 1,\n",
    "    \"MODEM\": 1,\n",
    "}\n",
    "\n",
    "processor15 = DataProcessing(\n",
    "    deputies_df_path=\"../data/compiled/15th_deputies.pkl\",\n",
    "    compiled_data_path=\"../data/compiled/15th_legislature_complete.tsv\",\n",
    "    label_dict=label_dict_15th,\n",
    "    process=True,\n",
    "    tokenize=False,\n",
    "    save=\"../data/processed\",\n",
    "    load=False,\n",
    "    # process=False,\n",
    "    # tokenize=False,\n",
    "    # save=False,\n",
    "    # load=\"../data/processed\",\n",
    "    max_len=512,\n",
    "    year_min=1940,\n",
    "    year_max=2022,\n",
    "    legislature=15,\n",
    ")"
   ]
  },
  {
   "cell_type": "code",
   "execution_count": 3,
   "metadata": {},
   "outputs": [
    {
     "data": {
      "image/png": "[encoded data removed]",
      "text/plain": [
       "<Figure size 640x480 with 1 Axes>"
      ]
     },
     "metadata": {},
     "output_type": "display_data"
    }
   ],
   "source": [
    "tmp = (\n",
    "    processor15.compiled_data_processed.groupby([\"depute_groupe\", \"depute\"])[\"intervention\"]\n",
    "    .count()\n",
    "    .reset_index()\n",
    ")\n",
    "tmp.rename(\n",
    "    columns={\"intervention\": \"Nombre d'interventions\", \"depute_groupe\": \"Groupe politique\"},\n",
    "    inplace=True,\n",
    ")\n",
    "g = sns.histplot(\n",
    "    data=tmp[tmp[\"Nombre d'interventions\"] < 1000],\n",
    "    x=\"Nombre d'interventions\",\n",
    "    hue=\"Groupe politique\",\n",
    "    multiple=\"stack\",\n",
    ")\n",
    "sns.despine()\n",
    "g.figure.savefig(\"../images/15th_legislature_interventions_per_deputy.pdf\")"
   ]
  },
  {
   "cell_type": "code",
   "execution_count": 51,
   "metadata": {},
   "outputs": [
    {
     "data": {
      "application/vnd.plotly.v1+json": {
       "config": {
        "plotlyServerURL": "https://plot.ly"
       },
       "data": [
        {
         "branchvalues": "total",
         "customdata": [
          [
           "Gauche"
          ],
          [
           "Centre"
          ],
          [
           "Gauche"
          ],
          [
           "Droite"
          ],
          [
           "Centre"
          ],
          [
           "Centre"
          ],
          [
           "Centre"
          ],
          [
           "Gauche"
          ],
          [
           "Droite"
          ],
          [
           "Gauche"
          ],
          [
           "Droite"
          ],
          [
           "Centre"
          ],
          [
           "Centre"
          ],
          [
           "Droite"
          ],
          [
           "Gauche"
          ]
         ],
         "domain": {
          "x": [
           0,
           1
          ],
          "y": [
           0,
           1
          ]
         },
         "hovertemplate": "labels=%{label}<br>count=%{value}<br>parent=%{parent}<br>id=%{id}<br>Groupe=%{customdata[0]}<extra></extra>",
         "ids": [
          "Gauche/GDR",
          "Centre/LC",
          "Gauche/LFI",
          "Droite/LR",
          "Centre/LREM",
          "Centre/LT",
          "Centre/MODEM",
          "Gauche/NG",
          "Droite/NI",
          "Gauche/SOC",
          "Droite/UAI",
          "Centre/UDI",
          "Centre",
          "Droite",
          "Gauche"
         ],
         "labels": [
          "GDR",
          "LC",
          "LFI",
          "LR",
          "LREM",
          "LT",
          "MODEM",
          "NG",
          "NI",
          "SOC",
          "UAI",
          "UDI",
          "Centre",
          "Droite",
          "Gauche"
         ],
         "marker": {
          "colors": [
           "rgb(251,180,174)",
           "rgb(204,235,197)",
           "rgb(251,180,174)",
           "rgb(179,205,227)",
           "rgb(204,235,197)",
           "rgb(204,235,197)",
           "rgb(204,235,197)",
           "rgb(251,180,174)",
           "rgb(179,205,227)",
           "rgb(251,180,174)",
           "rgb(179,205,227)",
           "rgb(204,235,197)",
           "rgb(204,235,197)",
           "rgb(179,205,227)",
           "rgb(251,180,174)"
          ]
         },
         "name": "",
         "parents": [
          "Gauche",
          "Centre",
          "Gauche",
          "Droite",
          "Centre",
          "Centre",
          "Centre",
          "Gauche",
          "Droite",
          "Gauche",
          "Droite",
          "Centre",
          "",
          "",
          ""
         ],
         "type": "sunburst",
         "values": [
          19367,
          2128,
          25008,
          49298,
          58181,
          6433,
          14978,
          9783,
          7228,
          10076,
          11314,
          1149,
          82869,
          67840,
          64234
         ]
        }
       ],
       "layout": {
        "height": 300,
        "legend": {
         "tracegroupgap": 0
        },
        "margin": {
         "b": 20,
         "l": 20,
         "r": 20,
         "t": 20
        },
        "template": {
         "data": {
          "bar": [
           {
            "error_x": {
             "color": "#2a3f5f"
            },
            "error_y": {
             "color": "#2a3f5f"
            },
            "marker": {
             "line": {
              "color": "#E5ECF6",
              "width": 0.5
             },
             "pattern": {
              "fillmode": "overlay",
              "size": 10,
              "solidity": 0.2
             }
            },
            "type": "bar"
           }
          ],
          "barpolar": [
           {
            "marker": {
             "line": {
              "color": "#E5ECF6",
              "width": 0.5
             },
             "pattern": {
              "fillmode": "overlay",
              "size": 10,
              "solidity": 0.2
             }
            },
            "type": "barpolar"
           }
          ],
          "carpet": [
           {
            "aaxis": {
             "endlinecolor": "#2a3f5f",
             "gridcolor": "white",
             "linecolor": "white",
             "minorgridcolor": "white",
             "startlinecolor": "#2a3f5f"
            },
            "baxis": {
             "endlinecolor": "#2a3f5f",
             "gridcolor": "white",
             "linecolor": "white",
             "minorgridcolor": "white",
             "startlinecolor": "#2a3f5f"
            },
            "type": "carpet"
           }
          ],
          "choropleth": [
           {
            "colorbar": {
             "outlinewidth": 0,
             "ticks": ""
            },
            "type": "choropleth"
           }
          ],
          "contour": [
           {
            "colorbar": {
             "outlinewidth": 0,
             "ticks": ""
            },
            "colorscale": [
             [
              0,
              "#0d0887"
             ],
             [
              0.1111111111111111,
              "#46039f"
             ],
             [
              0.2222222222222222,
              "#7201a8"
             ],
             [
              0.3333333333333333,
              "#9c179e"
             ],
             [
              0.4444444444444444,
              "#bd3786"
             ],
             [
              0.5555555555555556,
              "#d8576b"
             ],
             [
              0.6666666666666666,
              "#ed7953"
             ],
             [
              0.7777777777777778,
              "#fb9f3a"
             ],
             [
              0.8888888888888888,
              "#fdca26"
             ],
             [
              1,
              "#f0f921"
             ]
            ],
            "type": "contour"
           }
          ],
          "contourcarpet": [
           {
            "colorbar": {
             "outlinewidth": 0,
             "ticks": ""
            },
            "type": "contourcarpet"
           }
          ],
          "heatmap": [
           {
            "colorbar": {
             "outlinewidth": 0,
             "ticks": ""
            },
            "colorscale": [
             [
              0,
              "#0d0887"
             ],
             [
              0.1111111111111111,
              "#46039f"
             ],
             [
              0.2222222222222222,
              "#7201a8"
             ],
             [
              0.3333333333333333,
              "#9c179e"
             ],
             [
              0.4444444444444444,
              "#bd3786"
             ],
             [
              0.5555555555555556,
              "#d8576b"
             ],
             [
              0.6666666666666666,
              "#ed7953"
             ],
             [
              0.7777777777777778,
              "#fb9f3a"
             ],
             [
              0.8888888888888888,
              "#fdca26"
             ],
             [
              1,
              "#f0f921"
             ]
            ],
            "type": "heatmap"
           }
          ],
          "heatmapgl": [
           {
            "colorbar": {
             "outlinewidth": 0,
             "ticks": ""
            },
            "colorscale": [
             [
              0,
              "#0d0887"
             ],
             [
              0.1111111111111111,
              "#46039f"
             ],
             [
              0.2222222222222222,
              "#7201a8"
             ],
             [
              0.3333333333333333,
              "#9c179e"
             ],
             [
              0.4444444444444444,
              "#bd3786"
             ],
             [
              0.5555555555555556,
              "#d8576b"
             ],
             [
              0.6666666666666666,
              "#ed7953"
             ],
             [
              0.7777777777777778,
              "#fb9f3a"
             ],
             [
              0.8888888888888888,
              "#fdca26"
             ],
             [
              1,
              "#f0f921"
             ]
            ],
            "type": "heatmapgl"
           }
          ],
          "histogram": [
           {
            "marker": {
             "pattern": {
              "fillmode": "overlay",
              "size": 10,
              "solidity": 0.2
             }
            },
            "type": "histogram"
           }
          ],
          "histogram2d": [
           {
            "colorbar": {
             "outlinewidth": 0,
             "ticks": ""
            },
            "colorscale": [
             [
              0,
              "#0d0887"
             ],
             [
              0.1111111111111111,
              "#46039f"
             ],
             [
              0.2222222222222222,
              "#7201a8"
             ],
             [
              0.3333333333333333,
              "#9c179e"
             ],
             [
              0.4444444444444444,
              "#bd3786"
             ],
             [
              0.5555555555555556,
              "#d8576b"
             ],
             [
              0.6666666666666666,
              "#ed7953"
             ],
             [
              0.7777777777777778,
              "#fb9f3a"
             ],
             [
              0.8888888888888888,
              "#fdca26"
             ],
             [
              1,
              "#f0f921"
             ]
            ],
            "type": "histogram2d"
           }
          ],
          "histogram2dcontour": [
           {
            "colorbar": {
             "outlinewidth": 0,
             "ticks": ""
            },
            "colorscale": [
             [
              0,
              "#0d0887"
             ],
             [
              0.1111111111111111,
              "#46039f"
             ],
             [
              0.2222222222222222,
              "#7201a8"
             ],
             [
              0.3333333333333333,
              "#9c179e"
             ],
             [
              0.4444444444444444,
              "#bd3786"
             ],
             [
              0.5555555555555556,
              "#d8576b"
             ],
             [
              0.6666666666666666,
              "#ed7953"
             ],
             [
              0.7777777777777778,
              "#fb9f3a"
             ],
             [
              0.8888888888888888,
              "#fdca26"
             ],
             [
              1,
              "#f0f921"
             ]
            ],
            "type": "histogram2dcontour"
           }
          ],
          "mesh3d": [
           {
            "colorbar": {
             "outlinewidth": 0,
             "ticks": ""
            },
            "type": "mesh3d"
           }
          ],
          "parcoords": [
           {
            "line": {
             "colorbar": {
              "outlinewidth": 0,
              "ticks": ""
             }
            },
            "type": "parcoords"
           }
          ],
          "pie": [
           {
            "automargin": true,
            "type": "pie"
           }
          ],
          "scatter": [
           {
            "fillpattern": {
             "fillmode": "overlay",
             "size": 10,
             "solidity": 0.2
            },
            "type": "scatter"
           }
          ],
          "scatter3d": [
           {
            "line": {
             "colorbar": {
              "outlinewidth": 0,
              "ticks": ""
             }
            },
            "marker": {
             "colorbar": {
              "outlinewidth": 0,
              "ticks": ""
             }
            },
            "type": "scatter3d"
           }
          ],
          "scattercarpet": [
           {
            "marker": {
             "colorbar": {
              "outlinewidth": 0,
              "ticks": ""
             }
            },
            "type": "scattercarpet"
           }
          ],
          "scattergeo": [
           {
            "marker": {
             "colorbar": {
              "outlinewidth": 0,
              "ticks": ""
             }
            },
            "type": "scattergeo"
           }
          ],
          "scattergl": [
           {
            "marker": {
             "colorbar": {
              "outlinewidth": 0,
              "ticks": ""
             }
            },
            "type": "scattergl"
           }
          ],
          "scattermapbox": [
           {
            "marker": {
             "colorbar": {
              "outlinewidth": 0,
              "ticks": ""
             }
            },
            "type": "scattermapbox"
           }
          ],
          "scatterpolar": [
           {
            "marker": {
             "colorbar": {
              "outlinewidth": 0,
              "ticks": ""
             }
            },
            "type": "scatterpolar"
           }
          ],
          "scatterpolargl": [
           {
            "marker": {
             "colorbar": {
              "outlinewidth": 0,
              "ticks": ""
             }
            },
            "type": "scatterpolargl"
           }
          ],
          "scatterternary": [
           {
            "marker": {
             "colorbar": {
              "outlinewidth": 0,
              "ticks": ""
             }
            },
            "type": "scatterternary"
           }
          ],
          "surface": [
           {
            "colorbar": {
             "outlinewidth": 0,
             "ticks": ""
            },
            "colorscale": [
             [
              0,
              "#0d0887"
             ],
             [
              0.1111111111111111,
              "#46039f"
             ],
             [
              0.2222222222222222,
              "#7201a8"
             ],
             [
              0.3333333333333333,
              "#9c179e"
             ],
             [
              0.4444444444444444,
              "#bd3786"
             ],
             [
              0.5555555555555556,
              "#d8576b"
             ],
             [
              0.6666666666666666,
              "#ed7953"
             ],
             [
              0.7777777777777778,
              "#fb9f3a"
             ],
             [
              0.8888888888888888,
              "#fdca26"
             ],
             [
              1,
              "#f0f921"
             ]
            ],
            "type": "surface"
           }
          ],
          "table": [
           {
            "cells": {
             "fill": {
              "color": "#EBF0F8"
             },
             "line": {
              "color": "white"
             }
            },
            "header": {
             "fill": {
              "color": "#C8D4E3"
             },
             "line": {
              "color": "white"
             }
            },
            "type": "table"
           }
          ]
         },
         "layout": {
          "annotationdefaults": {
           "arrowcolor": "#2a3f5f",
           "arrowhead": 0,
           "arrowwidth": 1
          },
          "autotypenumbers": "strict",
          "coloraxis": {
           "colorbar": {
            "outlinewidth": 0,
            "ticks": ""
           }
          },
          "colorscale": {
           "diverging": [
            [
             0,
             "#8e0152"
            ],
            [
             0.1,
             "#c51b7d"
            ],
            [
             0.2,
             "#de77ae"
            ],
            [
             0.3,
             "#f1b6da"
            ],
            [
             0.4,
             "#fde0ef"
            ],
            [
             0.5,
             "#f7f7f7"
            ],
            [
             0.6,
             "#e6f5d0"
            ],
            [
             0.7,
             "#b8e186"
            ],
            [
             0.8,
             "#7fbc41"
            ],
            [
             0.9,
             "#4d9221"
            ],
            [
             1,
             "#276419"
            ]
           ],
           "sequential": [
            [
             0,
             "#0d0887"
            ],
            [
             0.1111111111111111,
             "#46039f"
            ],
            [
             0.2222222222222222,
             "#7201a8"
            ],
            [
             0.3333333333333333,
             "#9c179e"
            ],
            [
             0.4444444444444444,
             "#bd3786"
            ],
            [
             0.5555555555555556,
             "#d8576b"
            ],
            [
             0.6666666666666666,
             "#ed7953"
            ],
            [
             0.7777777777777778,
             "#fb9f3a"
            ],
            [
             0.8888888888888888,
             "#fdca26"
            ],
            [
             1,
             "#f0f921"
            ]
           ],
           "sequentialminus": [
            [
             0,
             "#0d0887"
            ],
            [
             0.1111111111111111,
             "#46039f"
            ],
            [
             0.2222222222222222,
             "#7201a8"
            ],
            [
             0.3333333333333333,
             "#9c179e"
            ],
            [
             0.4444444444444444,
             "#bd3786"
            ],
            [
             0.5555555555555556,
             "#d8576b"
            ],
            [
             0.6666666666666666,
             "#ed7953"
            ],
            [
             0.7777777777777778,
             "#fb9f3a"
            ],
            [
             0.8888888888888888,
             "#fdca26"
            ],
            [
             1,
             "#f0f921"
            ]
           ]
          },
          "colorway": [
           "#636efa",
           "#EF553B",
           "#00cc96",
           "#ab63fa",
           "#FFA15A",
           "#19d3f3",
           "#FF6692",
           "#B6E880",
           "#FF97FF",
           "#FECB52"
          ],
          "font": {
           "color": "#2a3f5f"
          },
          "geo": {
           "bgcolor": "white",
           "lakecolor": "white",
           "landcolor": "#E5ECF6",
           "showlakes": true,
           "showland": true,
           "subunitcolor": "white"
          },
          "hoverlabel": {
           "align": "left"
          },
          "hovermode": "closest",
          "mapbox": {
           "style": "light"
          },
          "paper_bgcolor": "white",
          "plot_bgcolor": "#E5ECF6",
          "polar": {
           "angularaxis": {
            "gridcolor": "white",
            "linecolor": "white",
            "ticks": ""
           },
           "bgcolor": "#E5ECF6",
           "radialaxis": {
            "gridcolor": "white",
            "linecolor": "white",
            "ticks": ""
           }
          },
          "scene": {
           "xaxis": {
            "backgroundcolor": "#E5ECF6",
            "gridcolor": "white",
            "gridwidth": 2,
            "linecolor": "white",
            "showbackground": true,
            "ticks": "",
            "zerolinecolor": "white"
           },
           "yaxis": {
            "backgroundcolor": "#E5ECF6",
            "gridcolor": "white",
            "gridwidth": 2,
            "linecolor": "white",
            "showbackground": true,
            "ticks": "",
            "zerolinecolor": "white"
           },
           "zaxis": {
            "backgroundcolor": "#E5ECF6",
            "gridcolor": "white",
            "gridwidth": 2,
            "linecolor": "white",
            "showbackground": true,
            "ticks": "",
            "zerolinecolor": "white"
           }
          },
          "shapedefaults": {
           "line": {
            "color": "#2a3f5f"
           }
          },
          "ternary": {
           "aaxis": {
            "gridcolor": "white",
            "linecolor": "white",
            "ticks": ""
           },
           "baxis": {
            "gridcolor": "white",
            "linecolor": "white",
            "ticks": ""
           },
           "bgcolor": "#E5ECF6",
           "caxis": {
            "gridcolor": "white",
            "linecolor": "white",
            "ticks": ""
           }
          },
          "title": {
           "x": 0.05
          },
          "xaxis": {
           "automargin": true,
           "gridcolor": "white",
           "linecolor": "white",
           "ticks": "",
           "title": {
            "standoff": 15
           },
           "zerolinecolor": "white",
           "zerolinewidth": 2
          },
          "yaxis": {
           "automargin": true,
           "gridcolor": "white",
           "linecolor": "white",
           "ticks": "",
           "title": {
            "standoff": 15
           },
           "zerolinecolor": "white",
           "zerolinewidth": 2
          }
         }
        },
        "width": 300
       }
      }
     },
     "metadata": {},
     "output_type": "display_data"
    }
   ],
   "source": [
    "cdf = processor15.short_interventions.copy()\n",
    "cdf[\"Groupe\"] = (\n",
    "    cdf[\"groupe\"].map(label_dict_15th).map({0.0: \"Gauche\", 1.0: \"Centre\", 2.0: \"Droite\"})\n",
    ")\n",
    "cdf[\"Partie\"] = cdf[\"groupe\"]\n",
    "cdf.sort_values(by=\"Groupe\", inplace=True)\n",
    "\n",
    "colors = px.colors.qualitative.Pastel1\n",
    "color_dict = {\n",
    "    \"Gauche\": colors[0],\n",
    "    \"Centre\": colors[2],\n",
    "    \"Droite\": colors[1],\n",
    "}\n",
    "\n",
    "fig = px.sunburst(\n",
    "    cdf,\n",
    "    path=[\"Groupe\", \"Partie\"],\n",
    "    color=\"Groupe\",\n",
    "    color_discrete_map=color_dict,\n",
    "    width=300,\n",
    "    height=300,\n",
    "    # title=\"Répartition des groupes politiques dans la 15ème législature\",\n",
    ")\n",
    "\n",
    "fig.update_layout(\n",
    "    margin=dict(l=20, r=20, t=20, b=20),\n",
    ")\n",
    "fig.show()\n",
    "fig.write_image(\"../images/sunburst_groupes_interventions-15.pdf\")"
   ]
  },
  {
   "attachments": {},
   "cell_type": "markdown",
   "metadata": {},
   "source": [
    "We focus on the data from the 14th legislature, which is stored in the `data/compiled/` folder.\n",
    "\n",
    "To process it, we use the DataProcessing class from the `data_processing` module.\n",
    "It loads the data from the `data/compiled/` folder and processes it.\n",
    "\n",
    "It processes :\n",
    "\n",
    "* The deputies' data\n",
    "* The compiled speech data\n",
    "* Then it merges the two dataframes\n",
    "* Then it tokenizes the interventions, the titles and the professions\n",
    "* The data is then stored in the `data/processed/` folder\n",
    "* The file of interest being `data/processed/14th_records.pkl`, which contains the processed and the tokenized data (both with BERT and CamemBERT).\n",
    "* The tokenizing takes around 10 minutes, so it is recommended to load the preprocessed data."
   ]
  },
  {
   "cell_type": "code",
   "execution_count": 6,
   "metadata": {},
   "outputs": [
    {
     "name": "stdout",
     "output_type": "stream",
     "text": [
      "Cleaning the deputies dataframe...\n",
      "Cleaning the compiled dataset...\n",
      "Merging the two dataframes...\n",
      "Saving the processed data...\n",
      "Could not save records.\n",
      "'DataProcessing' object has no attribute 'records'\n",
      "Could not save tokenizers.\n",
      "'DataProcessing' object has no attribute 'bert_tokenizer'\n"
     ]
    }
   ],
   "source": [
    "label_dict_14th = {\n",
    "    \"SRC\": 0,\n",
    "    \"ECOLO\": 0,\n",
    "    \"SER\": 0,\n",
    "    \"GDR\": 0,\n",
    "    \"UDI\": 1,\n",
    "    \"RRDP\": 1,\n",
    "    \"LR\": 2,\n",
    "    \"UMP\": 2,\n",
    "    \"RUMP\": 2,\n",
    "    \"NI\": 2,\n",
    "    \"\": 2,\n",
    "}\n",
    "\n",
    "processor14 = DataProcessing(\n",
    "    deputies_df_path=\"../data/compiled/14th_deputies.pkl\",\n",
    "    compiled_data_path=\"../data/compiled/14th_legislature_complete.tsv\",\n",
    "    label_dict=label_dict_14th,\n",
    "    process=True,\n",
    "    tokenize=False,\n",
    "    save=\"../data/processed\",\n",
    "    load=False,\n",
    "    # process=False,\n",
    "    # tokenize=False,\n",
    "    # save=False,\n",
    "    # load=\"../data/processed\",\n",
    "    max_len=512,\n",
    "    year_min=1940,\n",
    "    year_max=2022,\n",
    "    legislature=14,\n",
    ")"
   ]
  },
  {
   "attachments": {},
   "cell_type": "markdown",
   "metadata": {},
   "source": [
    "## Exploring the deputies dataframe\n",
    "\n",
    "First, we look at the processed deputies dataframe. It contains informations about the deputies.\n",
    "\n",
    "It has the following columns:"
   ]
  },
  {
   "cell_type": "code",
   "execution_count": 77,
   "metadata": {},
   "outputs": [
    {
     "name": "stdout",
     "output_type": "stream",
     "text": [
      "<class 'pandas.core.frame.DataFrame'>\n",
      "RangeIndex: 659 entries, 0 to 658\n",
      "Data columns (total 21 columns):\n",
      " #   Column                Non-Null Count  Dtype \n",
      "---  ------                --------------  ----- \n",
      " 0   id                    659 non-null    int64 \n",
      " 1   nom                   659 non-null    object\n",
      " 2   nom_de_famille        659 non-null    object\n",
      " 3   prenom                659 non-null    object\n",
      " 4   sexe                  659 non-null    object\n",
      " 5   date_naissance        659 non-null    object\n",
      " 6   lieu_naissance        652 non-null    object\n",
      " 7   num_deptmt            659 non-null    object\n",
      " 8   nom_circo             659 non-null    object\n",
      " 9   num_circo             659 non-null    int64 \n",
      " 10  mandat_debut          659 non-null    object\n",
      " 11  mandat_fin            659 non-null    object\n",
      " 12  ancien_depute         659 non-null    int64 \n",
      " 13  groupe_sigle          655 non-null    object\n",
      " 14  parti_ratt_financier  659 non-null    object\n",
      " 15  anciens_mandats       659 non-null    object\n",
      " 16  profession            659 non-null    object\n",
      " 17  place_en_hemicycle    654 non-null    object\n",
      " 18  slug                  659 non-null    object\n",
      " 19  nb_mandats            659 non-null    int64 \n",
      " 20  legislature           659 non-null    object\n",
      "dtypes: int64(4), object(17)\n",
      "memory usage: 108.2+ KB\n"
     ]
    }
   ],
   "source": [
    "processor14.deputies_df_processed.info()"
   ]
  },
  {
   "cell_type": "code",
   "execution_count": 42,
   "metadata": {},
   "outputs": [
    {
     "data": {
      "text/html": [
       "<div>\n",
       "<style scoped>\n",
       "    .dataframe tbody tr th:only-of-type {\n",
       "        vertical-align: middle;\n",
       "    }\n",
       "\n",
       "    .dataframe tbody tr th {\n",
       "        vertical-align: top;\n",
       "    }\n",
       "\n",
       "    .dataframe thead th {\n",
       "        text-align: right;\n",
       "    }\n",
       "</style>\n",
       "<table border=\"1\" class=\"dataframe\">\n",
       "  <thead>\n",
       "    <tr style=\"text-align: right;\">\n",
       "      <th></th>\n",
       "      <th>id</th>\n",
       "      <th>nom</th>\n",
       "      <th>nom_de_famille</th>\n",
       "      <th>prenom</th>\n",
       "      <th>sexe</th>\n",
       "      <th>date_naissance</th>\n",
       "      <th>lieu_naissance</th>\n",
       "      <th>num_deptmt</th>\n",
       "      <th>nom_circo</th>\n",
       "      <th>num_circo</th>\n",
       "      <th>...</th>\n",
       "      <th>mandat_fin</th>\n",
       "      <th>ancien_depute</th>\n",
       "      <th>groupe_sigle</th>\n",
       "      <th>parti_ratt_financier</th>\n",
       "      <th>anciens_mandats</th>\n",
       "      <th>profession</th>\n",
       "      <th>place_en_hemicycle</th>\n",
       "      <th>slug</th>\n",
       "      <th>nb_mandats</th>\n",
       "      <th>legislature</th>\n",
       "    </tr>\n",
       "  </thead>\n",
       "  <tbody>\n",
       "    <tr>\n",
       "      <th>0</th>\n",
       "      <td>1</td>\n",
       "      <td>Jean-François Lamour</td>\n",
       "      <td>Lamour</td>\n",
       "      <td>Jean-François</td>\n",
       "      <td>H</td>\n",
       "      <td>1956-02-02</td>\n",
       "      <td>Paris (Paris)</td>\n",
       "      <td>75</td>\n",
       "      <td>Paris</td>\n",
       "      <td>13</td>\n",
       "      <td>...</td>\n",
       "      <td>2017-06-20</td>\n",
       "      <td>1</td>\n",
       "      <td>LR</td>\n",
       "      <td>Les Républicains</td>\n",
       "      <td>[{'mandat': '20/06/2007 / 19/06/2012 / fin de ...</td>\n",
       "      <td>Kinésithérapeute</td>\n",
       "      <td>80</td>\n",
       "      <td>jean-francois-lamour</td>\n",
       "      <td>2</td>\n",
       "      <td>2012-2017</td>\n",
       "    </tr>\n",
       "    <tr>\n",
       "      <th>1</th>\n",
       "      <td>2</td>\n",
       "      <td>Jean-Michel Clément</td>\n",
       "      <td>Clément</td>\n",
       "      <td>Jean-Michel</td>\n",
       "      <td>H</td>\n",
       "      <td>1954-10-31</td>\n",
       "      <td>Mauprevoir (Vienne)</td>\n",
       "      <td>86</td>\n",
       "      <td>Vienne</td>\n",
       "      <td>3</td>\n",
       "      <td>...</td>\n",
       "      <td>2017-06-20</td>\n",
       "      <td>1</td>\n",
       "      <td>SER</td>\n",
       "      <td>Parti socialiste</td>\n",
       "      <td>[{'mandat': '20/06/2007 / 19/06/2012 / fin de ...</td>\n",
       "      <td>Avocat</td>\n",
       "      <td>263</td>\n",
       "      <td>jean-michel-clement</td>\n",
       "      <td>2</td>\n",
       "      <td>2012-2017</td>\n",
       "    </tr>\n",
       "    <tr>\n",
       "      <th>2</th>\n",
       "      <td>3</td>\n",
       "      <td>Bernard Reynès</td>\n",
       "      <td>Reynès</td>\n",
       "      <td>Bernard</td>\n",
       "      <td>H</td>\n",
       "      <td>1953-10-18</td>\n",
       "      <td>Meknès (Maroc)</td>\n",
       "      <td>13</td>\n",
       "      <td>Bouches-du-Rhône</td>\n",
       "      <td>15</td>\n",
       "      <td>...</td>\n",
       "      <td>2017-06-20</td>\n",
       "      <td>1</td>\n",
       "      <td>LR</td>\n",
       "      <td>Les Républicains</td>\n",
       "      <td>[{'mandat': '20/06/2007 / 19/06/2012 / fin de ...</td>\n",
       "      <td>Chirurgien-Dentiste</td>\n",
       "      <td>190</td>\n",
       "      <td>bernard-reynes</td>\n",
       "      <td>2</td>\n",
       "      <td>2012-2017</td>\n",
       "    </tr>\n",
       "    <tr>\n",
       "      <th>3</th>\n",
       "      <td>4</td>\n",
       "      <td>Sandrine Hurel</td>\n",
       "      <td>Hurel</td>\n",
       "      <td>Sandrine</td>\n",
       "      <td>F</td>\n",
       "      <td>1968-08-07</td>\n",
       "      <td>Lisieux (Calvados)</td>\n",
       "      <td>76</td>\n",
       "      <td>Seine-Maritime</td>\n",
       "      <td>6</td>\n",
       "      <td>...</td>\n",
       "      <td>2015-08-27</td>\n",
       "      <td>1</td>\n",
       "      <td></td>\n",
       "      <td>Parti socialiste</td>\n",
       "      <td>[{'mandat': '20/06/2007 / 19/06/2012 / fin de ...</td>\n",
       "      <td>Secrétaire de direction</td>\n",
       "      <td>460</td>\n",
       "      <td>sandrine-hurel</td>\n",
       "      <td>2</td>\n",
       "      <td>2012-2017</td>\n",
       "    </tr>\n",
       "    <tr>\n",
       "      <th>4</th>\n",
       "      <td>5</td>\n",
       "      <td>Marc Laffineur</td>\n",
       "      <td>Laffineur</td>\n",
       "      <td>Marc</td>\n",
       "      <td>H</td>\n",
       "      <td>1945-08-10</td>\n",
       "      <td>Maubeuge (Nord)</td>\n",
       "      <td>49</td>\n",
       "      <td>Maine-et-Loire</td>\n",
       "      <td>7</td>\n",
       "      <td>...</td>\n",
       "      <td>2017-06-20</td>\n",
       "      <td>1</td>\n",
       "      <td>LR</td>\n",
       "      <td>Les Républicains</td>\n",
       "      <td>[{'mandat': '20/06/2012 /  / '}, {'mandat': '0...</td>\n",
       "      <td>Médecin anesthésiste-réanimateur</td>\n",
       "      <td>183</td>\n",
       "      <td>marc-laffineur</td>\n",
       "      <td>2</td>\n",
       "      <td>2012-2017</td>\n",
       "    </tr>\n",
       "  </tbody>\n",
       "</table>\n",
       "<p>5 rows × 21 columns</p>\n",
       "</div>"
      ],
      "text/plain": [
       "   id                   nom nom_de_famille         prenom sexe date_naissance  \\\n",
       "0   1  Jean-François Lamour         Lamour  Jean-François    H     1956-02-02   \n",
       "1   2   Jean-Michel Clément        Clément    Jean-Michel    H     1954-10-31   \n",
       "2   3        Bernard Reynès         Reynès        Bernard    H     1953-10-18   \n",
       "3   4        Sandrine Hurel          Hurel       Sandrine    F     1968-08-07   \n",
       "4   5        Marc Laffineur      Laffineur           Marc    H     1945-08-10   \n",
       "\n",
       "        lieu_naissance num_deptmt         nom_circo  num_circo  ...  \\\n",
       "0        Paris (Paris)         75             Paris         13  ...   \n",
       "1  Mauprevoir (Vienne)         86            Vienne          3  ...   \n",
       "2       Meknès (Maroc)         13  Bouches-du-Rhône         15  ...   \n",
       "3   Lisieux (Calvados)         76    Seine-Maritime          6  ...   \n",
       "4      Maubeuge (Nord)         49    Maine-et-Loire          7  ...   \n",
       "\n",
       "   mandat_fin ancien_depute  groupe_sigle parti_ratt_financier  \\\n",
       "0  2017-06-20             1            LR     Les Républicains   \n",
       "1  2017-06-20             1           SER     Parti socialiste   \n",
       "2  2017-06-20             1            LR     Les Républicains   \n",
       "3  2015-08-27             1                   Parti socialiste   \n",
       "4  2017-06-20             1            LR     Les Républicains   \n",
       "\n",
       "                                     anciens_mandats  \\\n",
       "0  [{'mandat': '20/06/2007 / 19/06/2012 / fin de ...   \n",
       "1  [{'mandat': '20/06/2007 / 19/06/2012 / fin de ...   \n",
       "2  [{'mandat': '20/06/2007 / 19/06/2012 / fin de ...   \n",
       "3  [{'mandat': '20/06/2007 / 19/06/2012 / fin de ...   \n",
       "4  [{'mandat': '20/06/2012 /  / '}, {'mandat': '0...   \n",
       "\n",
       "                         profession place_en_hemicycle                  slug  \\\n",
       "0                  Kinésithérapeute                 80  jean-francois-lamour   \n",
       "1                            Avocat                263   jean-michel-clement   \n",
       "2               Chirurgien-Dentiste                190        bernard-reynes   \n",
       "3           Secrétaire de direction                460        sandrine-hurel   \n",
       "4  Médecin anesthésiste-réanimateur                183        marc-laffineur   \n",
       "\n",
       "  nb_mandats  legislature  \n",
       "0          2    2012-2017  \n",
       "1          2    2012-2017  \n",
       "2          2    2012-2017  \n",
       "3          2    2012-2017  \n",
       "4          2    2012-2017  \n",
       "\n",
       "[5 rows x 21 columns]"
      ]
     },
     "execution_count": 42,
     "metadata": {},
     "output_type": "execute_result"
    }
   ],
   "source": [
    "processor14.deputies_df_processed.head()"
   ]
  },
  {
   "attachments": {},
   "cell_type": "markdown",
   "metadata": {},
   "source": [
    "We can then look at some descriptive statistics :"
   ]
  },
  {
   "cell_type": "code",
   "execution_count": 11,
   "metadata": {},
   "outputs": [
    {
     "data": {
      "application/vnd.plotly.v1+json": {
       "config": {
        "plotlyServerURL": "https://plot.ly"
       },
       "data": [
        {
         "branchvalues": "total",
         "domain": {
          "x": [
           0,
           1
          ],
          "y": [
           0,
           1
          ]
         },
         "hovertemplate": "labels=%{label}<br>count=%{value}<br>parent=%{parent}<br>id=%{id}<extra></extra>",
         "ids": [
          "Gauche/GDR",
          "Droite/LR",
          "Droite/NI",
          "Centre/RRDP",
          "Gauche/SER",
          "Centre/UDI",
          "Centre",
          "Droite",
          "Gauche"
         ],
         "labels": [
          "GDR",
          "LR",
          "NI",
          "RRDP",
          "SER",
          "UDI",
          "Centre",
          "Droite",
          "Gauche"
         ],
         "name": "",
         "parents": [
          "Gauche",
          "Droite",
          "Droite",
          "Centre",
          "Gauche",
          "Centre",
          "",
          "",
          ""
         ],
         "type": "sunburst",
         "values": [
          15,
          205,
          82,
          20,
          294,
          32,
          52,
          287,
          309
         ]
        }
       ],
       "layout": {
        "legend": {
         "tracegroupgap": 0
        },
        "sunburstcolorway": [
         "rgb(251,180,174)",
         "rgb(179,205,227)",
         "rgb(204,235,197)",
         "rgb(222,203,228)",
         "rgb(254,217,166)",
         "rgb(255,255,204)",
         "rgb(229,216,189)",
         "rgb(253,218,236)",
         "rgb(242,242,242)"
        ],
        "template": {
         "data": {
          "bar": [
           {
            "error_x": {
             "color": "#2a3f5f"
            },
            "error_y": {
             "color": "#2a3f5f"
            },
            "marker": {
             "line": {
              "color": "#E5ECF6",
              "width": 0.5
             },
             "pattern": {
              "fillmode": "overlay",
              "size": 10,
              "solidity": 0.2
             }
            },
            "type": "bar"
           }
          ],
          "barpolar": [
           {
            "marker": {
             "line": {
              "color": "#E5ECF6",
              "width": 0.5
             },
             "pattern": {
              "fillmode": "overlay",
              "size": 10,
              "solidity": 0.2
             }
            },
            "type": "barpolar"
           }
          ],
          "carpet": [
           {
            "aaxis": {
             "endlinecolor": "#2a3f5f",
             "gridcolor": "white",
             "linecolor": "white",
             "minorgridcolor": "white",
             "startlinecolor": "#2a3f5f"
            },
            "baxis": {
             "endlinecolor": "#2a3f5f",
             "gridcolor": "white",
             "linecolor": "white",
             "minorgridcolor": "white",
             "startlinecolor": "#2a3f5f"
            },
            "type": "carpet"
           }
          ],
          "choropleth": [
           {
            "colorbar": {
             "outlinewidth": 0,
             "ticks": ""
            },
            "type": "choropleth"
           }
          ],
          "contour": [
           {
            "colorbar": {
             "outlinewidth": 0,
             "ticks": ""
            },
            "colorscale": [
             [
              0,
              "#0d0887"
             ],
             [
              0.1111111111111111,
              "#46039f"
             ],
             [
              0.2222222222222222,
              "#7201a8"
             ],
             [
              0.3333333333333333,
              "#9c179e"
             ],
             [
              0.4444444444444444,
              "#bd3786"
             ],
             [
              0.5555555555555556,
              "#d8576b"
             ],
             [
              0.6666666666666666,
              "#ed7953"
             ],
             [
              0.7777777777777778,
              "#fb9f3a"
             ],
             [
              0.8888888888888888,
              "#fdca26"
             ],
             [
              1,
              "#f0f921"
             ]
            ],
            "type": "contour"
           }
          ],
          "contourcarpet": [
           {
            "colorbar": {
             "outlinewidth": 0,
             "ticks": ""
            },
            "type": "contourcarpet"
           }
          ],
          "heatmap": [
           {
            "colorbar": {
             "outlinewidth": 0,
             "ticks": ""
            },
            "colorscale": [
             [
              0,
              "#0d0887"
             ],
             [
              0.1111111111111111,
              "#46039f"
             ],
             [
              0.2222222222222222,
              "#7201a8"
             ],
             [
              0.3333333333333333,
              "#9c179e"
             ],
             [
              0.4444444444444444,
              "#bd3786"
             ],
             [
              0.5555555555555556,
              "#d8576b"
             ],
             [
              0.6666666666666666,
              "#ed7953"
             ],
             [
              0.7777777777777778,
              "#fb9f3a"
             ],
             [
              0.8888888888888888,
              "#fdca26"
             ],
             [
              1,
              "#f0f921"
             ]
            ],
            "type": "heatmap"
           }
          ],
          "heatmapgl": [
           {
            "colorbar": {
             "outlinewidth": 0,
             "ticks": ""
            },
            "colorscale": [
             [
              0,
              "#0d0887"
             ],
             [
              0.1111111111111111,
              "#46039f"
             ],
             [
              0.2222222222222222,
              "#7201a8"
             ],
             [
              0.3333333333333333,
              "#9c179e"
             ],
             [
              0.4444444444444444,
              "#bd3786"
             ],
             [
              0.5555555555555556,
              "#d8576b"
             ],
             [
              0.6666666666666666,
              "#ed7953"
             ],
             [
              0.7777777777777778,
              "#fb9f3a"
             ],
             [
              0.8888888888888888,
              "#fdca26"
             ],
             [
              1,
              "#f0f921"
             ]
            ],
            "type": "heatmapgl"
           }
          ],
          "histogram": [
           {
            "marker": {
             "pattern": {
              "fillmode": "overlay",
              "size": 10,
              "solidity": 0.2
             }
            },
            "type": "histogram"
           }
          ],
          "histogram2d": [
           {
            "colorbar": {
             "outlinewidth": 0,
             "ticks": ""
            },
            "colorscale": [
             [
              0,
              "#0d0887"
             ],
             [
              0.1111111111111111,
              "#46039f"
             ],
             [
              0.2222222222222222,
              "#7201a8"
             ],
             [
              0.3333333333333333,
              "#9c179e"
             ],
             [
              0.4444444444444444,
              "#bd3786"
             ],
             [
              0.5555555555555556,
              "#d8576b"
             ],
             [
              0.6666666666666666,
              "#ed7953"
             ],
             [
              0.7777777777777778,
              "#fb9f3a"
             ],
             [
              0.8888888888888888,
              "#fdca26"
             ],
             [
              1,
              "#f0f921"
             ]
            ],
            "type": "histogram2d"
           }
          ],
          "histogram2dcontour": [
           {
            "colorbar": {
             "outlinewidth": 0,
             "ticks": ""
            },
            "colorscale": [
             [
              0,
              "#0d0887"
             ],
             [
              0.1111111111111111,
              "#46039f"
             ],
             [
              0.2222222222222222,
              "#7201a8"
             ],
             [
              0.3333333333333333,
              "#9c179e"
             ],
             [
              0.4444444444444444,
              "#bd3786"
             ],
             [
              0.5555555555555556,
              "#d8576b"
             ],
             [
              0.6666666666666666,
              "#ed7953"
             ],
             [
              0.7777777777777778,
              "#fb9f3a"
             ],
             [
              0.8888888888888888,
              "#fdca26"
             ],
             [
              1,
              "#f0f921"
             ]
            ],
            "type": "histogram2dcontour"
           }
          ],
          "mesh3d": [
           {
            "colorbar": {
             "outlinewidth": 0,
             "ticks": ""
            },
            "type": "mesh3d"
           }
          ],
          "parcoords": [
           {
            "line": {
             "colorbar": {
              "outlinewidth": 0,
              "ticks": ""
             }
            },
            "type": "parcoords"
           }
          ],
          "pie": [
           {
            "automargin": true,
            "type": "pie"
           }
          ],
          "scatter": [
           {
            "fillpattern": {
             "fillmode": "overlay",
             "size": 10,
             "solidity": 0.2
            },
            "type": "scatter"
           }
          ],
          "scatter3d": [
           {
            "line": {
             "colorbar": {
              "outlinewidth": 0,
              "ticks": ""
             }
            },
            "marker": {
             "colorbar": {
              "outlinewidth": 0,
              "ticks": ""
             }
            },
            "type": "scatter3d"
           }
          ],
          "scattercarpet": [
           {
            "marker": {
             "colorbar": {
              "outlinewidth": 0,
              "ticks": ""
             }
            },
            "type": "scattercarpet"
           }
          ],
          "scattergeo": [
           {
            "marker": {
             "colorbar": {
              "outlinewidth": 0,
              "ticks": ""
             }
            },
            "type": "scattergeo"
           }
          ],
          "scattergl": [
           {
            "marker": {
             "colorbar": {
              "outlinewidth": 0,
              "ticks": ""
             }
            },
            "type": "scattergl"
           }
          ],
          "scattermapbox": [
           {
            "marker": {
             "colorbar": {
              "outlinewidth": 0,
              "ticks": ""
             }
            },
            "type": "scattermapbox"
           }
          ],
          "scatterpolar": [
           {
            "marker": {
             "colorbar": {
              "outlinewidth": 0,
              "ticks": ""
             }
            },
            "type": "scatterpolar"
           }
          ],
          "scatterpolargl": [
           {
            "marker": {
             "colorbar": {
              "outlinewidth": 0,
              "ticks": ""
             }
            },
            "type": "scatterpolargl"
           }
          ],
          "scatterternary": [
           {
            "marker": {
             "colorbar": {
              "outlinewidth": 0,
              "ticks": ""
             }
            },
            "type": "scatterternary"
           }
          ],
          "surface": [
           {
            "colorbar": {
             "outlinewidth": 0,
             "ticks": ""
            },
            "colorscale": [
             [
              0,
              "#0d0887"
             ],
             [
              0.1111111111111111,
              "#46039f"
             ],
             [
              0.2222222222222222,
              "#7201a8"
             ],
             [
              0.3333333333333333,
              "#9c179e"
             ],
             [
              0.4444444444444444,
              "#bd3786"
             ],
             [
              0.5555555555555556,
              "#d8576b"
             ],
             [
              0.6666666666666666,
              "#ed7953"
             ],
             [
              0.7777777777777778,
              "#fb9f3a"
             ],
             [
              0.8888888888888888,
              "#fdca26"
             ],
             [
              1,
              "#f0f921"
             ]
            ],
            "type": "surface"
           }
          ],
          "table": [
           {
            "cells": {
             "fill": {
              "color": "#EBF0F8"
             },
             "line": {
              "color": "white"
             }
            },
            "header": {
             "fill": {
              "color": "#C8D4E3"
             },
             "line": {
              "color": "white"
             }
            },
            "type": "table"
           }
          ]
         },
         "layout": {
          "annotationdefaults": {
           "arrowcolor": "#2a3f5f",
           "arrowhead": 0,
           "arrowwidth": 1
          },
          "autotypenumbers": "strict",
          "coloraxis": {
           "colorbar": {
            "outlinewidth": 0,
            "ticks": ""
           }
          },
          "colorscale": {
           "diverging": [
            [
             0,
             "#8e0152"
            ],
            [
             0.1,
             "#c51b7d"
            ],
            [
             0.2,
             "#de77ae"
            ],
            [
             0.3,
             "#f1b6da"
            ],
            [
             0.4,
             "#fde0ef"
            ],
            [
             0.5,
             "#f7f7f7"
            ],
            [
             0.6,
             "#e6f5d0"
            ],
            [
             0.7,
             "#b8e186"
            ],
            [
             0.8,
             "#7fbc41"
            ],
            [
             0.9,
             "#4d9221"
            ],
            [
             1,
             "#276419"
            ]
           ],
           "sequential": [
            [
             0,
             "#0d0887"
            ],
            [
             0.1111111111111111,
             "#46039f"
            ],
            [
             0.2222222222222222,
             "#7201a8"
            ],
            [
             0.3333333333333333,
             "#9c179e"
            ],
            [
             0.4444444444444444,
             "#bd3786"
            ],
            [
             0.5555555555555556,
             "#d8576b"
            ],
            [
             0.6666666666666666,
             "#ed7953"
            ],
            [
             0.7777777777777778,
             "#fb9f3a"
            ],
            [
             0.8888888888888888,
             "#fdca26"
            ],
            [
             1,
             "#f0f921"
            ]
           ],
           "sequentialminus": [
            [
             0,
             "#0d0887"
            ],
            [
             0.1111111111111111,
             "#46039f"
            ],
            [
             0.2222222222222222,
             "#7201a8"
            ],
            [
             0.3333333333333333,
             "#9c179e"
            ],
            [
             0.4444444444444444,
             "#bd3786"
            ],
            [
             0.5555555555555556,
             "#d8576b"
            ],
            [
             0.6666666666666666,
             "#ed7953"
            ],
            [
             0.7777777777777778,
             "#fb9f3a"
            ],
            [
             0.8888888888888888,
             "#fdca26"
            ],
            [
             1,
             "#f0f921"
            ]
           ]
          },
          "colorway": [
           "#636efa",
           "#EF553B",
           "#00cc96",
           "#ab63fa",
           "#FFA15A",
           "#19d3f3",
           "#FF6692",
           "#B6E880",
           "#FF97FF",
           "#FECB52"
          ],
          "font": {
           "color": "#2a3f5f"
          },
          "geo": {
           "bgcolor": "white",
           "lakecolor": "white",
           "landcolor": "#E5ECF6",
           "showlakes": true,
           "showland": true,
           "subunitcolor": "white"
          },
          "hoverlabel": {
           "align": "left"
          },
          "hovermode": "closest",
          "mapbox": {
           "style": "light"
          },
          "paper_bgcolor": "white",
          "plot_bgcolor": "#E5ECF6",
          "polar": {
           "angularaxis": {
            "gridcolor": "white",
            "linecolor": "white",
            "ticks": ""
           },
           "bgcolor": "#E5ECF6",
           "radialaxis": {
            "gridcolor": "white",
            "linecolor": "white",
            "ticks": ""
           }
          },
          "scene": {
           "xaxis": {
            "backgroundcolor": "#E5ECF6",
            "gridcolor": "white",
            "gridwidth": 2,
            "linecolor": "white",
            "showbackground": true,
            "ticks": "",
            "zerolinecolor": "white"
           },
           "yaxis": {
            "backgroundcolor": "#E5ECF6",
            "gridcolor": "white",
            "gridwidth": 2,
            "linecolor": "white",
            "showbackground": true,
            "ticks": "",
            "zerolinecolor": "white"
           },
           "zaxis": {
            "backgroundcolor": "#E5ECF6",
            "gridcolor": "white",
            "gridwidth": 2,
            "linecolor": "white",
            "showbackground": true,
            "ticks": "",
            "zerolinecolor": "white"
           }
          },
          "shapedefaults": {
           "line": {
            "color": "#2a3f5f"
           }
          },
          "ternary": {
           "aaxis": {
            "gridcolor": "white",
            "linecolor": "white",
            "ticks": ""
           },
           "baxis": {
            "gridcolor": "white",
            "linecolor": "white",
            "ticks": ""
           },
           "bgcolor": "#E5ECF6",
           "caxis": {
            "gridcolor": "white",
            "linecolor": "white",
            "ticks": ""
           }
          },
          "title": {
           "x": 0.05
          },
          "xaxis": {
           "automargin": true,
           "gridcolor": "white",
           "linecolor": "white",
           "ticks": "",
           "title": {
            "standoff": 15
           },
           "zerolinecolor": "white",
           "zerolinewidth": 2
          },
          "yaxis": {
           "automargin": true,
           "gridcolor": "white",
           "linecolor": "white",
           "ticks": "",
           "title": {
            "standoff": 15
           },
           "zerolinecolor": "white",
           "zerolinewidth": 2
          }
         }
        },
        "title": {
         "text": "Répartition des groupes politiques dans la 14ème législature"
        }
       }
      }
     },
     "metadata": {},
     "output_type": "display_data"
    }
   ],
   "source": [
    "ddf = processor14.deputies_df_processed.copy()\n",
    "ddf[\"date_naissance\"] = pd.to_datetime(ddf[\"date_naissance\"])\n",
    "\n",
    "ddf[\"Groupe\"] = (\n",
    "    ddf[\"groupe_sigle\"].map(label_dict_14th).map({0.0: \"Gauche\", 1.0: \"Centre\", 2.0: \"Droite\"})\n",
    ")\n",
    "ddf[\"Partie\"] = ddf[\"groupe_sigle\"].map(lambda x: \"NI\" if x == \"\" else x)\n",
    "\n",
    "fig = px.sunburst(\n",
    "    ddf,\n",
    "    path=[\"Groupe\", \"Partie\"],\n",
    "    color_discrete_sequence=px.colors.qualitative.Pastel1,\n",
    "    title=\"Répartition des groupes politiques dans la 14ème législature\",\n",
    ")\n",
    "fig.show()\n",
    "fig.write_image(\"../images/sunburst_groupes.pdf\")"
   ]
  },
  {
   "cell_type": "code",
   "execution_count": 47,
   "metadata": {},
   "outputs": [
    {
     "data": {
      "image/png": "[encoded data removed]",
      "text/plain": [
       "<Figure size 640x480 with 1 Axes>"
      ]
     },
     "metadata": {},
     "output_type": "display_data"
    }
   ],
   "source": [
    "colors = sns.color_palette(\"pastel\", as_cmap=True)\n",
    "ax = ddf[\"groupe_sigle\"].value_counts().plot.pie(colors=colors, autopct=\"%0.0f%%\")\n",
    "ax.set(ylabel=\"\", title=\"Répartition des groupes politiques dans la 14ème législature\")\n",
    "fig.write_image(\"../images/pie_groupes.png\")"
   ]
  },
  {
   "cell_type": "code",
   "execution_count": 12,
   "metadata": {},
   "outputs": [
    {
     "data": {
      "image/png": "[encoded data removed]",
      "text/plain": [
       "<Figure size 900x300 with 3 Axes>"
      ]
     },
     "metadata": {},
     "output_type": "display_data"
    }
   ],
   "source": [
    "title = \"Répartition des ages selon le groupe politique dans la 14ème législature\"\n",
    "\n",
    "g = sns.FacetGrid(ddf, col=\"Groupe\", margin_titles=True)\n",
    "g.map(sns.histplot, \"date_naissance\", stat=\"probability\")\n",
    "g.set_axis_labels(\"Date de naissance\", \"\")\n",
    "# g.figure.suptitle(title, fontsize=16)\n",
    "for group in g.axes_dict:\n",
    "    subtitle = group if group != \"\" else \"Pas de groupe\"\n",
    "    g.axes_dict[group].set_title(subtitle)\n",
    "g.figure.tight_layout()\n",
    "g.figure.savefig(\"../images/histplot_groupes.pdf\")"
   ]
  },
  {
   "cell_type": "code",
   "execution_count": 14,
   "metadata": {},
   "outputs": [
    {
     "data": {
      "image/png": "[encoded data removed]",
      "text/plain": [
       "<Figure size 640x480 with 1 Axes>"
      ]
     },
     "metadata": {},
     "output_type": "display_data"
    }
   ],
   "source": [
    "sexe_df = ddf.groupby(\"Groupe\")[\"sexe\"].value_counts(normalize=True, sort=True) * 100\n",
    "sexe_df.name = \"percentage\"\n",
    "sexe_df = sexe_df.reset_index()\n",
    "\n",
    "g = sns.barplot(data=sexe_df, y=\"percentage\", x=\"Groupe\", hue=\"sexe\")\n",
    "sns.despine()\n",
    "plt.xticks(rotation=60)\n",
    "g.set(xlabel=\"Groupe politique\", ylabel=\"Pourcentage\")\n",
    "g.legend(title=\"Sexe\")\n",
    "g.figure.savefig(\"../images/barplot_sexe.pdf\")"
   ]
  },
  {
   "cell_type": "code",
   "execution_count": 22,
   "metadata": {},
   "outputs": [
    {
     "data": {
      "image/png": "[encoded data removed]",
      "text/plain": [
       "<Figure size 640x480 with 1 Axes>"
      ]
     },
     "metadata": {},
     "output_type": "display_data"
    }
   ],
   "source": [
    "g = sns.countplot(data=ddf, x=\"nb_mandats\", hue=\"Groupe\")\n",
    "sns.despine()\n",
    "g.set(\n",
    "    xlabel=\"Nombre de mandats\",\n",
    "    ylabel=\"Nombre de députés\",\n",
    "    # title=\"Répartition du nombre de mandats selon le groupe politique\",\n",
    ")\n",
    "g.legend(title=\"Groupe politique\")\n",
    "g.figure.savefig(\"../images/countplot_mandats.pdf\")"
   ]
  },
  {
   "attachments": {},
   "cell_type": "markdown",
   "metadata": {},
   "source": [
    "## Exploring the processed compiled dataframe\n",
    "\n",
    "Then, we can look at one of the resulting dataframe. We will not explore it more as it is not used as is in the analysis, but it is a intermediate step."
   ]
  },
  {
   "cell_type": "code",
   "execution_count": 81,
   "metadata": {},
   "outputs": [
    {
     "name": "stdout",
     "output_type": "stream",
     "text": [
      "<class 'pandas.core.frame.DataFrame'>\n",
      "RangeIndex: 215692 entries, 0 to 215691\n",
      "Data columns (total 18 columns):\n",
      " #   Column              Non-Null Count   Dtype \n",
      "---  ------              --------------   ----- \n",
      " 0   id                  215692 non-null  int64 \n",
      " 1   seance_id           215692 non-null  int64 \n",
      " 2   date                215692 non-null  object\n",
      " 3   moment              215692 non-null  object\n",
      " 4   type                215692 non-null  object\n",
      " 5   titre_complet       215692 non-null  object\n",
      " 6   titre               215692 non-null  object\n",
      " 7   timestamp           215692 non-null  int64 \n",
      " 8   intervention        215692 non-null  object\n",
      " 9   nb_mots             215692 non-null  int64 \n",
      " 10  personnalite        0 non-null       object\n",
      " 11  depute              215692 non-null  object\n",
      " 12  parlementaire_sexe  215692 non-null  object\n",
      " 13  depute_groupe       215692 non-null  object\n",
      " 14  fonction            37097 non-null   object\n",
      " 15  source              215692 non-null  object\n",
      " 16  intervention_count  215692 non-null  int64 \n",
      " 17  nb_mots_approx      215692 non-null  int64 \n",
      "dtypes: int64(6), object(12)\n",
      "memory usage: 29.6+ MB\n"
     ]
    }
   ],
   "source": [
    "processor14.compiled_data_processed.info()"
   ]
  },
  {
   "cell_type": "code",
   "execution_count": 49,
   "metadata": {},
   "outputs": [
    {
     "data": {
      "text/html": [
       "<div>\n",
       "<style scoped>\n",
       "    .dataframe tbody tr th:only-of-type {\n",
       "        vertical-align: middle;\n",
       "    }\n",
       "\n",
       "    .dataframe tbody tr th {\n",
       "        vertical-align: top;\n",
       "    }\n",
       "\n",
       "    .dataframe thead th {\n",
       "        text-align: right;\n",
       "    }\n",
       "</style>\n",
       "<table border=\"1\" class=\"dataframe\">\n",
       "  <thead>\n",
       "    <tr style=\"text-align: right;\">\n",
       "      <th></th>\n",
       "      <th>id</th>\n",
       "      <th>seance_id</th>\n",
       "      <th>date</th>\n",
       "      <th>moment</th>\n",
       "      <th>type</th>\n",
       "      <th>titre_complet</th>\n",
       "      <th>titre</th>\n",
       "      <th>timestamp</th>\n",
       "      <th>intervention</th>\n",
       "      <th>nb_mots</th>\n",
       "      <th>personnalite</th>\n",
       "      <th>depute</th>\n",
       "      <th>parlementaire_sexe</th>\n",
       "      <th>depute_groupe</th>\n",
       "      <th>fonction</th>\n",
       "      <th>source</th>\n",
       "      <th>intervention_count</th>\n",
       "      <th>nb_mots_approx</th>\n",
       "    </tr>\n",
       "  </thead>\n",
       "  <tbody>\n",
       "    <tr>\n",
       "      <th>0</th>\n",
       "      <td>125</td>\n",
       "      <td>11</td>\n",
       "      <td>2012-07-03</td>\n",
       "      <td>15:00</td>\n",
       "      <td>loi</td>\n",
       "      <td>déclaration de politique générale du gouvernem...</td>\n",
       "      <td>déclaration de politique générale du gouvernem...</td>\n",
       "      <td>190</td>\n",
       "      <td>Alors, arrêtez de dépenser !</td>\n",
       "      <td>8</td>\n",
       "      <td>NaN</td>\n",
       "      <td>Pierre Lellouche</td>\n",
       "      <td>H</td>\n",
       "      <td>UMP</td>\n",
       "      <td>NaN</td>\n",
       "      <td>http://www.assemblee-nationale.fr/14/cri/2011-...</td>\n",
       "      <td>1562</td>\n",
       "      <td>5</td>\n",
       "    </tr>\n",
       "    <tr>\n",
       "      <th>1</th>\n",
       "      <td>531</td>\n",
       "      <td>22</td>\n",
       "      <td>2012-07-04</td>\n",
       "      <td>15:00</td>\n",
       "      <td>loi</td>\n",
       "      <td>rappels au règlement</td>\n",
       "      <td>rappels au règlement</td>\n",
       "      <td>160</td>\n",
       "      <td>Commencez par respecter l'opposition ! (Protes...</td>\n",
       "      <td>16</td>\n",
       "      <td>NaN</td>\n",
       "      <td>Pierre Lellouche</td>\n",
       "      <td>H</td>\n",
       "      <td>UMP</td>\n",
       "      <td>NaN</td>\n",
       "      <td>http://www.assemblee-nationale.fr/14/cri/2011-...</td>\n",
       "      <td>1562</td>\n",
       "      <td>16</td>\n",
       "    </tr>\n",
       "    <tr>\n",
       "      <th>2</th>\n",
       "      <td>568</td>\n",
       "      <td>22</td>\n",
       "      <td>2012-07-04</td>\n",
       "      <td>15:00</td>\n",
       "      <td>loi</td>\n",
       "      <td>débat sur les résultats du conseil européen de...</td>\n",
       "      <td>débat sur les résultats du conseil européen de...</td>\n",
       "      <td>530</td>\n",
       "      <td>Apprenez à respecter le Parlement ! Où vous cr...</td>\n",
       "      <td>9</td>\n",
       "      <td>NaN</td>\n",
       "      <td>Pierre Lellouche</td>\n",
       "      <td>H</td>\n",
       "      <td>UMP</td>\n",
       "      <td>NaN</td>\n",
       "      <td>http://www.assemblee-nationale.fr/14/cri/2011-...</td>\n",
       "      <td>1562</td>\n",
       "      <td>10</td>\n",
       "    </tr>\n",
       "    <tr>\n",
       "      <th>3</th>\n",
       "      <td>827</td>\n",
       "      <td>22</td>\n",
       "      <td>2012-07-04</td>\n",
       "      <td>15:00</td>\n",
       "      <td>loi</td>\n",
       "      <td>débat sur les résultats du conseil européen de...</td>\n",
       "      <td>débat sur les résultats du conseil européen de...</td>\n",
       "      <td>3120</td>\n",
       "      <td>Madame la présidente, monsieur le ministre, me...</td>\n",
       "      <td>186</td>\n",
       "      <td>NaN</td>\n",
       "      <td>Pierre Lellouche</td>\n",
       "      <td>H</td>\n",
       "      <td>UMP</td>\n",
       "      <td>NaN</td>\n",
       "      <td>http://www.assemblee-nationale.fr/14/cri/2011-...</td>\n",
       "      <td>1562</td>\n",
       "      <td>181</td>\n",
       "    </tr>\n",
       "    <tr>\n",
       "      <th>4</th>\n",
       "      <td>829</td>\n",
       "      <td>22</td>\n",
       "      <td>2012-07-04</td>\n",
       "      <td>15:00</td>\n",
       "      <td>loi</td>\n",
       "      <td>débat sur les résultats du conseil européen de...</td>\n",
       "      <td>débat sur les résultats du conseil européen de...</td>\n",
       "      <td>3140</td>\n",
       "      <td>Bien sûr, les impôts vont à nouveau pleuvoir c...</td>\n",
       "      <td>64</td>\n",
       "      <td>NaN</td>\n",
       "      <td>Pierre Lellouche</td>\n",
       "      <td>H</td>\n",
       "      <td>UMP</td>\n",
       "      <td>NaN</td>\n",
       "      <td>http://www.assemblee-nationale.fr/14/cri/2011-...</td>\n",
       "      <td>1562</td>\n",
       "      <td>58</td>\n",
       "    </tr>\n",
       "  </tbody>\n",
       "</table>\n",
       "</div>"
      ],
      "text/plain": [
       "    id  seance_id        date moment type  \\\n",
       "0  125         11  2012-07-03  15:00  loi   \n",
       "1  531         22  2012-07-04  15:00  loi   \n",
       "2  568         22  2012-07-04  15:00  loi   \n",
       "3  827         22  2012-07-04  15:00  loi   \n",
       "4  829         22  2012-07-04  15:00  loi   \n",
       "\n",
       "                                       titre_complet  \\\n",
       "0  déclaration de politique générale du gouvernem...   \n",
       "1                               rappels au règlement   \n",
       "2  débat sur les résultats du conseil européen de...   \n",
       "3  débat sur les résultats du conseil européen de...   \n",
       "4  débat sur les résultats du conseil européen de...   \n",
       "\n",
       "                                               titre  timestamp  \\\n",
       "0  déclaration de politique générale du gouvernem...        190   \n",
       "1                               rappels au règlement        160   \n",
       "2  débat sur les résultats du conseil européen de...        530   \n",
       "3  débat sur les résultats du conseil européen de...       3120   \n",
       "4  débat sur les résultats du conseil européen de...       3140   \n",
       "\n",
       "                                        intervention  nb_mots personnalite  \\\n",
       "0                       Alors, arrêtez de dépenser !        8          NaN   \n",
       "1  Commencez par respecter l'opposition ! (Protes...       16          NaN   \n",
       "2  Apprenez à respecter le Parlement ! Où vous cr...        9          NaN   \n",
       "3  Madame la présidente, monsieur le ministre, me...      186          NaN   \n",
       "4  Bien sûr, les impôts vont à nouveau pleuvoir c...       64          NaN   \n",
       "\n",
       "             depute parlementaire_sexe depute_groupe fonction  \\\n",
       "0  Pierre Lellouche                  H           UMP      NaN   \n",
       "1  Pierre Lellouche                  H           UMP      NaN   \n",
       "2  Pierre Lellouche                  H           UMP      NaN   \n",
       "3  Pierre Lellouche                  H           UMP      NaN   \n",
       "4  Pierre Lellouche                  H           UMP      NaN   \n",
       "\n",
       "                                              source  intervention_count  \\\n",
       "0  http://www.assemblee-nationale.fr/14/cri/2011-...                1562   \n",
       "1  http://www.assemblee-nationale.fr/14/cri/2011-...                1562   \n",
       "2  http://www.assemblee-nationale.fr/14/cri/2011-...                1562   \n",
       "3  http://www.assemblee-nationale.fr/14/cri/2011-...                1562   \n",
       "4  http://www.assemblee-nationale.fr/14/cri/2011-...                1562   \n",
       "\n",
       "   nb_mots_approx  \n",
       "0               5  \n",
       "1              16  \n",
       "2              10  \n",
       "3             181  \n",
       "4              58  "
      ]
     },
     "execution_count": 49,
     "metadata": {},
     "output_type": "execute_result"
    }
   ],
   "source": [
    "processor14.compiled_data_processed.head()"
   ]
  },
  {
   "cell_type": "code",
   "execution_count": 50,
   "metadata": {},
   "outputs": [],
   "source": [
    "tmp = (\n",
    "    processor14.compiled_data_processed.groupby([\"depute_groupe\", \"depute\"])[\"intervention\"]\n",
    "    .count()\n",
    "    .reset_index()\n",
    ")\n",
    "tmp.rename(\n",
    "    columns={\"intervention\": \"Nombre d'interventions\", \"depute_groupe\": \"Groupe politique\"},\n",
    "    inplace=True,\n",
    ")"
   ]
  },
  {
   "cell_type": "code",
   "execution_count": 16,
   "metadata": {},
   "outputs": [
    {
     "data": {
      "image/png": "[encoded data removed]",
      "text/plain": [
       "<Figure size 640x480 with 1 Axes>"
      ]
     },
     "metadata": {},
     "output_type": "display_data"
    }
   ],
   "source": [
    "g = sns.histplot(\n",
    "    data=tmp[tmp[\"Nombre d'interventions\"] < 1000],\n",
    "    x=\"Nombre d'interventions\",\n",
    "    hue=\"Groupe politique\",\n",
    "    multiple=\"stack\",\n",
    ")\n",
    "sns.despine()\n",
    "g.figure.savefig(\"../images/14th_legislature_interventions_per_deputy.pdf\")"
   ]
  },
  {
   "attachments": {},
   "cell_type": "markdown",
   "metadata": {},
   "source": [
    "## Exploring the merged dataframes\n",
    "\n",
    "Here, we look at the merged dataframes. Those are the dataframes that will be used for the analysis.\n",
    "\n",
    "The first one contains larger interventions, since it is the result of grouping the interventions by deputies, session and theme.\n",
    "\n",
    "The second contains smaller interventions as they are kept as is."
   ]
  },
  {
   "cell_type": "code",
   "execution_count": 53,
   "metadata": {},
   "outputs": [
    {
     "name": "stdout",
     "output_type": "stream",
     "text": [
      "<class 'pandas.core.frame.DataFrame'>\n",
      "Int64Index: 363572 entries, 0 to 363571\n",
      "Data columns (total 27 columns):\n",
      " #   Column              Non-Null Count   Dtype         \n",
      "---  ------              --------------   -----         \n",
      " 0   nom                 363572 non-null  object        \n",
      " 1   groupe              363572 non-null  object        \n",
      " 2   seance_id           363572 non-null  int64         \n",
      " 3   date_seance         363572 non-null  object        \n",
      " 4   titre               363572 non-null  object        \n",
      " 5   titre_complet       363572 non-null  object        \n",
      " 6   intervention        363572 non-null  object        \n",
      " 7   nb_mots             363572 non-null  int64         \n",
      " 8   intervention_count  363572 non-null  int64         \n",
      " 9   nb_mots_approx      363572 non-null  int64         \n",
      " 10  date_naissance      363572 non-null  object        \n",
      " 11  sexe                363572 non-null  object        \n",
      " 12  profession          363572 non-null  object        \n",
      " 13  nb_mandats          363572 non-null  int64         \n",
      " 14  date                363572 non-null  datetime64[ns]\n",
      " 15  year                363572 non-null  int64         \n",
      " 16  month               363572 non-null  int64         \n",
      " 17  day                 363572 non-null  int64         \n",
      " 18  y_naissance         363572 non-null  int64         \n",
      " 19  n_y_naissance       363572 non-null  float64       \n",
      " 20  n_year              363572 non-null  float64       \n",
      " 21  cos_month           363572 non-null  float64       \n",
      " 22  sin_month           363572 non-null  float64       \n",
      " 23  cos_day             363572 non-null  float64       \n",
      " 24  sin_day             363572 non-null  float64       \n",
      " 25  n_sexe              363572 non-null  float64       \n",
      " 26  label               363572 non-null  int64         \n",
      "dtypes: datetime64[ns](1), float64(7), int64(10), object(9)\n",
      "memory usage: 77.7+ MB\n"
     ]
    }
   ],
   "source": [
    "processor14.short_interventions.info()"
   ]
  },
  {
   "cell_type": "code",
   "execution_count": 54,
   "metadata": {},
   "outputs": [
    {
     "data": {
      "text/html": [
       "<div>\n",
       "<style scoped>\n",
       "    .dataframe tbody tr th:only-of-type {\n",
       "        vertical-align: middle;\n",
       "    }\n",
       "\n",
       "    .dataframe tbody tr th {\n",
       "        vertical-align: top;\n",
       "    }\n",
       "\n",
       "    .dataframe thead th {\n",
       "        text-align: right;\n",
       "    }\n",
       "</style>\n",
       "<table border=\"1\" class=\"dataframe\">\n",
       "  <thead>\n",
       "    <tr style=\"text-align: right;\">\n",
       "      <th></th>\n",
       "      <th>nom</th>\n",
       "      <th>groupe</th>\n",
       "      <th>seance_id</th>\n",
       "      <th>date_seance</th>\n",
       "      <th>titre</th>\n",
       "      <th>titre_complet</th>\n",
       "      <th>intervention</th>\n",
       "      <th>nb_mots</th>\n",
       "      <th>intervention_count</th>\n",
       "      <th>nb_mots_approx</th>\n",
       "      <th>...</th>\n",
       "      <th>day</th>\n",
       "      <th>y_naissance</th>\n",
       "      <th>n_y_naissance</th>\n",
       "      <th>n_year</th>\n",
       "      <th>cos_month</th>\n",
       "      <th>sin_month</th>\n",
       "      <th>cos_day</th>\n",
       "      <th>sin_day</th>\n",
       "      <th>n_sexe</th>\n",
       "      <th>label</th>\n",
       "    </tr>\n",
       "  </thead>\n",
       "  <tbody>\n",
       "    <tr>\n",
       "      <th>0</th>\n",
       "      <td>Pierre Lellouche</td>\n",
       "      <td>UMP</td>\n",
       "      <td>11</td>\n",
       "      <td>2012-07-03</td>\n",
       "      <td>déclaration de politique générale du gouvernem...</td>\n",
       "      <td>déclaration de politique générale du gouvernem...</td>\n",
       "      <td>Alors, arrêtez de dépenser !</td>\n",
       "      <td>8</td>\n",
       "      <td>1562</td>\n",
       "      <td>5</td>\n",
       "      <td>...</td>\n",
       "      <td>3</td>\n",
       "      <td>1951</td>\n",
       "      <td>0.865854</td>\n",
       "      <td>0.0</td>\n",
       "      <td>-0.866025</td>\n",
       "      <td>-0.5</td>\n",
       "      <td>0.820763</td>\n",
       "      <td>0.571268</td>\n",
       "      <td>0.0</td>\n",
       "      <td>2</td>\n",
       "    </tr>\n",
       "    <tr>\n",
       "      <th>1</th>\n",
       "      <td>Pierre Lellouche</td>\n",
       "      <td>UMP</td>\n",
       "      <td>22</td>\n",
       "      <td>2012-07-04</td>\n",
       "      <td>rappels au règlement</td>\n",
       "      <td>rappels au règlement</td>\n",
       "      <td>Commencez par respecter l'opposition ! (Protes...</td>\n",
       "      <td>16</td>\n",
       "      <td>1562</td>\n",
       "      <td>16</td>\n",
       "      <td>...</td>\n",
       "      <td>4</td>\n",
       "      <td>1951</td>\n",
       "      <td>0.865854</td>\n",
       "      <td>0.0</td>\n",
       "      <td>-0.866025</td>\n",
       "      <td>-0.5</td>\n",
       "      <td>0.688967</td>\n",
       "      <td>0.724793</td>\n",
       "      <td>0.0</td>\n",
       "      <td>2</td>\n",
       "    </tr>\n",
       "    <tr>\n",
       "      <th>2</th>\n",
       "      <td>Pierre Lellouche</td>\n",
       "      <td>UMP</td>\n",
       "      <td>22</td>\n",
       "      <td>2012-07-04</td>\n",
       "      <td>débat sur les résultats du conseil européen de...</td>\n",
       "      <td>débat sur les résultats du conseil européen de...</td>\n",
       "      <td>Apprenez à respecter le Parlement ! Où vous cr...</td>\n",
       "      <td>9</td>\n",
       "      <td>1562</td>\n",
       "      <td>10</td>\n",
       "      <td>...</td>\n",
       "      <td>4</td>\n",
       "      <td>1951</td>\n",
       "      <td>0.865854</td>\n",
       "      <td>0.0</td>\n",
       "      <td>-0.866025</td>\n",
       "      <td>-0.5</td>\n",
       "      <td>0.688967</td>\n",
       "      <td>0.724793</td>\n",
       "      <td>0.0</td>\n",
       "      <td>2</td>\n",
       "    </tr>\n",
       "    <tr>\n",
       "      <th>3</th>\n",
       "      <td>Pierre Lellouche</td>\n",
       "      <td>UMP</td>\n",
       "      <td>22</td>\n",
       "      <td>2012-07-04</td>\n",
       "      <td>débat sur les résultats du conseil européen de...</td>\n",
       "      <td>débat sur les résultats du conseil européen de...</td>\n",
       "      <td>Madame la présidente, monsieur le ministre, me...</td>\n",
       "      <td>186</td>\n",
       "      <td>1562</td>\n",
       "      <td>181</td>\n",
       "      <td>...</td>\n",
       "      <td>4</td>\n",
       "      <td>1951</td>\n",
       "      <td>0.865854</td>\n",
       "      <td>0.0</td>\n",
       "      <td>-0.866025</td>\n",
       "      <td>-0.5</td>\n",
       "      <td>0.688967</td>\n",
       "      <td>0.724793</td>\n",
       "      <td>0.0</td>\n",
       "      <td>2</td>\n",
       "    </tr>\n",
       "    <tr>\n",
       "      <th>4</th>\n",
       "      <td>Pierre Lellouche</td>\n",
       "      <td>UMP</td>\n",
       "      <td>22</td>\n",
       "      <td>2012-07-04</td>\n",
       "      <td>débat sur les résultats du conseil européen de...</td>\n",
       "      <td>débat sur les résultats du conseil européen de...</td>\n",
       "      <td>Bien sûr, les impôts vont à nouveau pleuvoir c...</td>\n",
       "      <td>64</td>\n",
       "      <td>1562</td>\n",
       "      <td>58</td>\n",
       "      <td>...</td>\n",
       "      <td>4</td>\n",
       "      <td>1951</td>\n",
       "      <td>0.865854</td>\n",
       "      <td>0.0</td>\n",
       "      <td>-0.866025</td>\n",
       "      <td>-0.5</td>\n",
       "      <td>0.688967</td>\n",
       "      <td>0.724793</td>\n",
       "      <td>0.0</td>\n",
       "      <td>2</td>\n",
       "    </tr>\n",
       "  </tbody>\n",
       "</table>\n",
       "<p>5 rows × 27 columns</p>\n",
       "</div>"
      ],
      "text/plain": [
       "                nom groupe  seance_id date_seance  \\\n",
       "0  Pierre Lellouche    UMP         11  2012-07-03   \n",
       "1  Pierre Lellouche    UMP         22  2012-07-04   \n",
       "2  Pierre Lellouche    UMP         22  2012-07-04   \n",
       "3  Pierre Lellouche    UMP         22  2012-07-04   \n",
       "4  Pierre Lellouche    UMP         22  2012-07-04   \n",
       "\n",
       "                                               titre  \\\n",
       "0  déclaration de politique générale du gouvernem...   \n",
       "1                               rappels au règlement   \n",
       "2  débat sur les résultats du conseil européen de...   \n",
       "3  débat sur les résultats du conseil européen de...   \n",
       "4  débat sur les résultats du conseil européen de...   \n",
       "\n",
       "                                       titre_complet  \\\n",
       "0  déclaration de politique générale du gouvernem...   \n",
       "1                               rappels au règlement   \n",
       "2  débat sur les résultats du conseil européen de...   \n",
       "3  débat sur les résultats du conseil européen de...   \n",
       "4  débat sur les résultats du conseil européen de...   \n",
       "\n",
       "                                        intervention  nb_mots  \\\n",
       "0                       Alors, arrêtez de dépenser !        8   \n",
       "1  Commencez par respecter l'opposition ! (Protes...       16   \n",
       "2  Apprenez à respecter le Parlement ! Où vous cr...        9   \n",
       "3  Madame la présidente, monsieur le ministre, me...      186   \n",
       "4  Bien sûr, les impôts vont à nouveau pleuvoir c...       64   \n",
       "\n",
       "   intervention_count  nb_mots_approx  ... day y_naissance n_y_naissance  \\\n",
       "0                1562               5  ...   3        1951      0.865854   \n",
       "1                1562              16  ...   4        1951      0.865854   \n",
       "2                1562              10  ...   4        1951      0.865854   \n",
       "3                1562             181  ...   4        1951      0.865854   \n",
       "4                1562              58  ...   4        1951      0.865854   \n",
       "\n",
       "   n_year cos_month  sin_month   cos_day   sin_day  n_sexe  label  \n",
       "0     0.0 -0.866025       -0.5  0.820763  0.571268     0.0      2  \n",
       "1     0.0 -0.866025       -0.5  0.688967  0.724793     0.0      2  \n",
       "2     0.0 -0.866025       -0.5  0.688967  0.724793     0.0      2  \n",
       "3     0.0 -0.866025       -0.5  0.688967  0.724793     0.0      2  \n",
       "4     0.0 -0.866025       -0.5  0.688967  0.724793     0.0      2  \n",
       "\n",
       "[5 rows x 27 columns]"
      ]
     },
     "execution_count": 54,
     "metadata": {},
     "output_type": "execute_result"
    }
   ],
   "source": [
    "processor14.short_interventions.head()"
   ]
  },
  {
   "cell_type": "code",
   "execution_count": 57,
   "metadata": {},
   "outputs": [],
   "source": [
    "cdf = processor14.short_interventions.copy()\n",
    "cdf[\"Groupe\"] = (\n",
    "    cdf[\"groupe\"].map(label_dict_14th).map({0.0: \"Gauche\", 1.0: \"Centre\", 2.0: \"Droite\"})\n",
    ")\n",
    "cdf[\"Partie\"] = cdf[\"groupe\"]"
   ]
  },
  {
   "cell_type": "code",
   "execution_count": 59,
   "metadata": {},
   "outputs": [
    {
     "data": {
      "application/vnd.plotly.v1+json": {
       "config": {
        "plotlyServerURL": "https://plot.ly"
       },
       "data": [
        {
         "branchvalues": "total",
         "domain": {
          "x": [
           0,
           1
          ],
          "y": [
           0,
           1
          ]
         },
         "hovertemplate": "labels=%{label}<br>count=%{value}<br>parent=%{parent}<br>id=%{id}<extra></extra>",
         "ids": [
          "Gauche/ECOLO",
          "Gauche/GDR",
          "Droite/LR",
          "Droite/NI",
          "Centre/RRDP",
          "Droite/RUMP",
          "Gauche/SER",
          "Gauche/SRC",
          "Centre/UDI",
          "Droite/UMP",
          "Centre",
          "Droite",
          "Gauche"
         ],
         "labels": [
          "ECOLO",
          "GDR",
          "LR",
          "NI",
          "RRDP",
          "RUMP",
          "SER",
          "SRC",
          "UDI",
          "UMP",
          "Centre",
          "Droite",
          "Gauche"
         ],
         "name": "",
         "parents": [
          "Gauche",
          "Gauche",
          "Droite",
          "Droite",
          "Centre",
          "Droite",
          "Gauche",
          "Gauche",
          "Centre",
          "Droite",
          "",
          "",
          ""
         ],
         "type": "sunburst",
         "values": [
          22760,
          23117,
          33405,
          4717,
          18561,
          571,
          19176,
          116762,
          32416,
          92087,
          50977,
          130780,
          181815
         ]
        }
       ],
       "layout": {
        "legend": {
         "tracegroupgap": 0
        },
        "sunburstcolorway": [
         "rgb(251,180,174)",
         "rgb(179,205,227)",
         "rgb(204,235,197)",
         "rgb(222,203,228)",
         "rgb(254,217,166)",
         "rgb(255,255,204)",
         "rgb(229,216,189)",
         "rgb(253,218,236)",
         "rgb(242,242,242)"
        ],
        "template": {
         "data": {
          "bar": [
           {
            "error_x": {
             "color": "#2a3f5f"
            },
            "error_y": {
             "color": "#2a3f5f"
            },
            "marker": {
             "line": {
              "color": "#E5ECF6",
              "width": 0.5
             },
             "pattern": {
              "fillmode": "overlay",
              "size": 10,
              "solidity": 0.2
             }
            },
            "type": "bar"
           }
          ],
          "barpolar": [
           {
            "marker": {
             "line": {
              "color": "#E5ECF6",
              "width": 0.5
             },
             "pattern": {
              "fillmode": "overlay",
              "size": 10,
              "solidity": 0.2
             }
            },
            "type": "barpolar"
           }
          ],
          "carpet": [
           {
            "aaxis": {
             "endlinecolor": "#2a3f5f",
             "gridcolor": "white",
             "linecolor": "white",
             "minorgridcolor": "white",
             "startlinecolor": "#2a3f5f"
            },
            "baxis": {
             "endlinecolor": "#2a3f5f",
             "gridcolor": "white",
             "linecolor": "white",
             "minorgridcolor": "white",
             "startlinecolor": "#2a3f5f"
            },
            "type": "carpet"
           }
          ],
          "choropleth": [
           {
            "colorbar": {
             "outlinewidth": 0,
             "ticks": ""
            },
            "type": "choropleth"
           }
          ],
          "contour": [
           {
            "colorbar": {
             "outlinewidth": 0,
             "ticks": ""
            },
            "colorscale": [
             [
              0,
              "#0d0887"
             ],
             [
              0.1111111111111111,
              "#46039f"
             ],
             [
              0.2222222222222222,
              "#7201a8"
             ],
             [
              0.3333333333333333,
              "#9c179e"
             ],
             [
              0.4444444444444444,
              "#bd3786"
             ],
             [
              0.5555555555555556,
              "#d8576b"
             ],
             [
              0.6666666666666666,
              "#ed7953"
             ],
             [
              0.7777777777777778,
              "#fb9f3a"
             ],
             [
              0.8888888888888888,
              "#fdca26"
             ],
             [
              1,
              "#f0f921"
             ]
            ],
            "type": "contour"
           }
          ],
          "contourcarpet": [
           {
            "colorbar": {
             "outlinewidth": 0,
             "ticks": ""
            },
            "type": "contourcarpet"
           }
          ],
          "heatmap": [
           {
            "colorbar": {
             "outlinewidth": 0,
             "ticks": ""
            },
            "colorscale": [
             [
              0,
              "#0d0887"
             ],
             [
              0.1111111111111111,
              "#46039f"
             ],
             [
              0.2222222222222222,
              "#7201a8"
             ],
             [
              0.3333333333333333,
              "#9c179e"
             ],
             [
              0.4444444444444444,
              "#bd3786"
             ],
             [
              0.5555555555555556,
              "#d8576b"
             ],
             [
              0.6666666666666666,
              "#ed7953"
             ],
             [
              0.7777777777777778,
              "#fb9f3a"
             ],
             [
              0.8888888888888888,
              "#fdca26"
             ],
             [
              1,
              "#f0f921"
             ]
            ],
            "type": "heatmap"
           }
          ],
          "heatmapgl": [
           {
            "colorbar": {
             "outlinewidth": 0,
             "ticks": ""
            },
            "colorscale": [
             [
              0,
              "#0d0887"
             ],
             [
              0.1111111111111111,
              "#46039f"
             ],
             [
              0.2222222222222222,
              "#7201a8"
             ],
             [
              0.3333333333333333,
              "#9c179e"
             ],
             [
              0.4444444444444444,
              "#bd3786"
             ],
             [
              0.5555555555555556,
              "#d8576b"
             ],
             [
              0.6666666666666666,
              "#ed7953"
             ],
             [
              0.7777777777777778,
              "#fb9f3a"
             ],
             [
              0.8888888888888888,
              "#fdca26"
             ],
             [
              1,
              "#f0f921"
             ]
            ],
            "type": "heatmapgl"
           }
          ],
          "histogram": [
           {
            "marker": {
             "pattern": {
              "fillmode": "overlay",
              "size": 10,
              "solidity": 0.2
             }
            },
            "type": "histogram"
           }
          ],
          "histogram2d": [
           {
            "colorbar": {
             "outlinewidth": 0,
             "ticks": ""
            },
            "colorscale": [
             [
              0,
              "#0d0887"
             ],
             [
              0.1111111111111111,
              "#46039f"
             ],
             [
              0.2222222222222222,
              "#7201a8"
             ],
             [
              0.3333333333333333,
              "#9c179e"
             ],
             [
              0.4444444444444444,
              "#bd3786"
             ],
             [
              0.5555555555555556,
              "#d8576b"
             ],
             [
              0.6666666666666666,
              "#ed7953"
             ],
             [
              0.7777777777777778,
              "#fb9f3a"
             ],
             [
              0.8888888888888888,
              "#fdca26"
             ],
             [
              1,
              "#f0f921"
             ]
            ],
            "type": "histogram2d"
           }
          ],
          "histogram2dcontour": [
           {
            "colorbar": {
             "outlinewidth": 0,
             "ticks": ""
            },
            "colorscale": [
             [
              0,
              "#0d0887"
             ],
             [
              0.1111111111111111,
              "#46039f"
             ],
             [
              0.2222222222222222,
              "#7201a8"
             ],
             [
              0.3333333333333333,
              "#9c179e"
             ],
             [
              0.4444444444444444,
              "#bd3786"
             ],
             [
              0.5555555555555556,
              "#d8576b"
             ],
             [
              0.6666666666666666,
              "#ed7953"
             ],
             [
              0.7777777777777778,
              "#fb9f3a"
             ],
             [
              0.8888888888888888,
              "#fdca26"
             ],
             [
              1,
              "#f0f921"
             ]
            ],
            "type": "histogram2dcontour"
           }
          ],
          "mesh3d": [
           {
            "colorbar": {
             "outlinewidth": 0,
             "ticks": ""
            },
            "type": "mesh3d"
           }
          ],
          "parcoords": [
           {
            "line": {
             "colorbar": {
              "outlinewidth": 0,
              "ticks": ""
             }
            },
            "type": "parcoords"
           }
          ],
          "pie": [
           {
            "automargin": true,
            "type": "pie"
           }
          ],
          "scatter": [
           {
            "fillpattern": {
             "fillmode": "overlay",
             "size": 10,
             "solidity": 0.2
            },
            "type": "scatter"
           }
          ],
          "scatter3d": [
           {
            "line": {
             "colorbar": {
              "outlinewidth": 0,
              "ticks": ""
             }
            },
            "marker": {
             "colorbar": {
              "outlinewidth": 0,
              "ticks": ""
             }
            },
            "type": "scatter3d"
           }
          ],
          "scattercarpet": [
           {
            "marker": {
             "colorbar": {
              "outlinewidth": 0,
              "ticks": ""
             }
            },
            "type": "scattercarpet"
           }
          ],
          "scattergeo": [
           {
            "marker": {
             "colorbar": {
              "outlinewidth": 0,
              "ticks": ""
             }
            },
            "type": "scattergeo"
           }
          ],
          "scattergl": [
           {
            "marker": {
             "colorbar": {
              "outlinewidth": 0,
              "ticks": ""
             }
            },
            "type": "scattergl"
           }
          ],
          "scattermapbox": [
           {
            "marker": {
             "colorbar": {
              "outlinewidth": 0,
              "ticks": ""
             }
            },
            "type": "scattermapbox"
           }
          ],
          "scatterpolar": [
           {
            "marker": {
             "colorbar": {
              "outlinewidth": 0,
              "ticks": ""
             }
            },
            "type": "scatterpolar"
           }
          ],
          "scatterpolargl": [
           {
            "marker": {
             "colorbar": {
              "outlinewidth": 0,
              "ticks": ""
             }
            },
            "type": "scatterpolargl"
           }
          ],
          "scatterternary": [
           {
            "marker": {
             "colorbar": {
              "outlinewidth": 0,
              "ticks": ""
             }
            },
            "type": "scatterternary"
           }
          ],
          "surface": [
           {
            "colorbar": {
             "outlinewidth": 0,
             "ticks": ""
            },
            "colorscale": [
             [
              0,
              "#0d0887"
             ],
             [
              0.1111111111111111,
              "#46039f"
             ],
             [
              0.2222222222222222,
              "#7201a8"
             ],
             [
              0.3333333333333333,
              "#9c179e"
             ],
             [
              0.4444444444444444,
              "#bd3786"
             ],
             [
              0.5555555555555556,
              "#d8576b"
             ],
             [
              0.6666666666666666,
              "#ed7953"
             ],
             [
              0.7777777777777778,
              "#fb9f3a"
             ],
             [
              0.8888888888888888,
              "#fdca26"
             ],
             [
              1,
              "#f0f921"
             ]
            ],
            "type": "surface"
           }
          ],
          "table": [
           {
            "cells": {
             "fill": {
              "color": "#EBF0F8"
             },
             "line": {
              "color": "white"
             }
            },
            "header": {
             "fill": {
              "color": "#C8D4E3"
             },
             "line": {
              "color": "white"
             }
            },
            "type": "table"
           }
          ]
         },
         "layout": {
          "annotationdefaults": {
           "arrowcolor": "#2a3f5f",
           "arrowhead": 0,
           "arrowwidth": 1
          },
          "autotypenumbers": "strict",
          "coloraxis": {
           "colorbar": {
            "outlinewidth": 0,
            "ticks": ""
           }
          },
          "colorscale": {
           "diverging": [
            [
             0,
             "#8e0152"
            ],
            [
             0.1,
             "#c51b7d"
            ],
            [
             0.2,
             "#de77ae"
            ],
            [
             0.3,
             "#f1b6da"
            ],
            [
             0.4,
             "#fde0ef"
            ],
            [
             0.5,
             "#f7f7f7"
            ],
            [
             0.6,
             "#e6f5d0"
            ],
            [
             0.7,
             "#b8e186"
            ],
            [
             0.8,
             "#7fbc41"
            ],
            [
             0.9,
             "#4d9221"
            ],
            [
             1,
             "#276419"
            ]
           ],
           "sequential": [
            [
             0,
             "#0d0887"
            ],
            [
             0.1111111111111111,
             "#46039f"
            ],
            [
             0.2222222222222222,
             "#7201a8"
            ],
            [
             0.3333333333333333,
             "#9c179e"
            ],
            [
             0.4444444444444444,
             "#bd3786"
            ],
            [
             0.5555555555555556,
             "#d8576b"
            ],
            [
             0.6666666666666666,
             "#ed7953"
            ],
            [
             0.7777777777777778,
             "#fb9f3a"
            ],
            [
             0.8888888888888888,
             "#fdca26"
            ],
            [
             1,
             "#f0f921"
            ]
           ],
           "sequentialminus": [
            [
             0,
             "#0d0887"
            ],
            [
             0.1111111111111111,
             "#46039f"
            ],
            [
             0.2222222222222222,
             "#7201a8"
            ],
            [
             0.3333333333333333,
             "#9c179e"
            ],
            [
             0.4444444444444444,
             "#bd3786"
            ],
            [
             0.5555555555555556,
             "#d8576b"
            ],
            [
             0.6666666666666666,
             "#ed7953"
            ],
            [
             0.7777777777777778,
             "#fb9f3a"
            ],
            [
             0.8888888888888888,
             "#fdca26"
            ],
            [
             1,
             "#f0f921"
            ]
           ]
          },
          "colorway": [
           "#636efa",
           "#EF553B",
           "#00cc96",
           "#ab63fa",
           "#FFA15A",
           "#19d3f3",
           "#FF6692",
           "#B6E880",
           "#FF97FF",
           "#FECB52"
          ],
          "font": {
           "color": "#2a3f5f"
          },
          "geo": {
           "bgcolor": "white",
           "lakecolor": "white",
           "landcolor": "#E5ECF6",
           "showlakes": true,
           "showland": true,
           "subunitcolor": "white"
          },
          "hoverlabel": {
           "align": "left"
          },
          "hovermode": "closest",
          "mapbox": {
           "style": "light"
          },
          "paper_bgcolor": "white",
          "plot_bgcolor": "#E5ECF6",
          "polar": {
           "angularaxis": {
            "gridcolor": "white",
            "linecolor": "white",
            "ticks": ""
           },
           "bgcolor": "#E5ECF6",
           "radialaxis": {
            "gridcolor": "white",
            "linecolor": "white",
            "ticks": ""
           }
          },
          "scene": {
           "xaxis": {
            "backgroundcolor": "#E5ECF6",
            "gridcolor": "white",
            "gridwidth": 2,
            "linecolor": "white",
            "showbackground": true,
            "ticks": "",
            "zerolinecolor": "white"
           },
           "yaxis": {
            "backgroundcolor": "#E5ECF6",
            "gridcolor": "white",
            "gridwidth": 2,
            "linecolor": "white",
            "showbackground": true,
            "ticks": "",
            "zerolinecolor": "white"
           },
           "zaxis": {
            "backgroundcolor": "#E5ECF6",
            "gridcolor": "white",
            "gridwidth": 2,
            "linecolor": "white",
            "showbackground": true,
            "ticks": "",
            "zerolinecolor": "white"
           }
          },
          "shapedefaults": {
           "line": {
            "color": "#2a3f5f"
           }
          },
          "ternary": {
           "aaxis": {
            "gridcolor": "white",
            "linecolor": "white",
            "ticks": ""
           },
           "baxis": {
            "gridcolor": "white",
            "linecolor": "white",
            "ticks": ""
           },
           "bgcolor": "#E5ECF6",
           "caxis": {
            "gridcolor": "white",
            "linecolor": "white",
            "ticks": ""
           }
          },
          "title": {
           "x": 0.05
          },
          "xaxis": {
           "automargin": true,
           "gridcolor": "white",
           "linecolor": "white",
           "ticks": "",
           "title": {
            "standoff": 15
           },
           "zerolinecolor": "white",
           "zerolinewidth": 2
          },
          "yaxis": {
           "automargin": true,
           "gridcolor": "white",
           "linecolor": "white",
           "ticks": "",
           "title": {
            "standoff": 15
           },
           "zerolinecolor": "white",
           "zerolinewidth": 2
          }
         }
        },
        "title": {
         "text": "Répartition des groupes politiques dans la 14ème législature"
        }
       }
      }
     },
     "metadata": {},
     "output_type": "display_data"
    }
   ],
   "source": [
    "fig = px.sunburst(\n",
    "    cdf,\n",
    "    path=[\"Groupe\", \"Partie\"],\n",
    "    color_discrete_sequence=px.colors.qualitative.Pastel1,\n",
    "    title=\"Répartition des groupes politiques dans la 14ème législature\",\n",
    ")\n",
    "fig.show()\n",
    "fig.write_image(\"../images/sunburst_groupes_interventions.png\")"
   ]
  },
  {
   "cell_type": "code",
   "execution_count": 34,
   "metadata": {},
   "outputs": [
    {
     "data": {
      "image/png": "[encoded data removed]",
      "text/plain": [
       "<Figure size 900x300 with 3 Axes>"
      ]
     },
     "metadata": {},
     "output_type": "display_data"
    }
   ],
   "source": [
    "title = \"Répartition du nombre de mots dans les interventions\"\n",
    "\n",
    "g = sns.FacetGrid(cdf, col=\"Groupe\", margin_titles=True)\n",
    "g.map(sns.kdeplot, \"nb_mots_approx\", fill=True, alpha=0.5)\n",
    "\n",
    "g.set_axis_labels(\"Nombre de mots\", \"Nombre d'interventions\")\n",
    "# g.figure.suptitle(title, fontsize=16)\n",
    "for group in g.axes_dict:\n",
    "    g.axes_dict[group].set_title(group)\n",
    "    g.axes_dict[group].set_xlim(0, 512)\n",
    "g.figure.tight_layout()\n",
    "g.figure.savefig(\"../images/histplot_nb_mots.pdf\")"
   ]
  },
  {
   "attachments": {},
   "cell_type": "markdown",
   "metadata": {},
   "source": [
    "We notice that the distribution of the number of words in the interventions are similar for all groups. Most interventions are around 50 words long.\n",
    "\n",
    "However, we do notice that the major parties have more really shorts interventions than the minor parties."
   ]
  },
  {
   "attachments": {},
   "cell_type": "markdown",
   "metadata": {},
   "source": [
    "## Looking at the tokenised data\n",
    "\n",
    "Lastly, we look at the \"records\", that contain all the previous informations, but also the tokenised interventions, titles and profession, using both Camembert and BERT."
   ]
  },
  {
   "cell_type": "code",
   "execution_count": 20,
   "metadata": {},
   "outputs": [],
   "source": [
    "example = processor14.records[500]"
   ]
  },
  {
   "cell_type": "code",
   "execution_count": 21,
   "metadata": {},
   "outputs": [
    {
     "data": {
      "text/plain": [
       "{'nom': 'Pierre Lellouche',\n",
       " 'groupe': 'UMP',\n",
       " 'seance_id': 3633,\n",
       " 'date_seance': '2014-09-15',\n",
       " 'titre': 'discussion générale',\n",
       " 'titre_complet': 'lutte contre le terrorisme > discussion générale',\n",
       " 'intervention': \"Nous aurons, lors de la discussion des articles, l'occasion de revenir en détail sur les mesures que vous proposez, monsieur le ministre. Je le dis d'emblée, j'approuve celles qui touchent au contrôle de la propagande mortifère sur internet, de même que les dispositifs prévoyant une meilleure coordination interministérielle dans la lutte contre le terrorisme. Dans le même ordre d'idées, nous soutiendrons l'évolution de notre loi afin de criminaliser les actes commis par les fameux loups solitaires.\",\n",
       " 'nb_mots': 1262,\n",
       " 'intervention_count': 1562,\n",
       " 'nb_mots_approx': 76,\n",
       " 'date_naissance': '1951-05-03',\n",
       " 'sexe': 'H',\n",
       " 'profession': 'Avocat et universitaire',\n",
       " 'nb_mandats': 2,\n",
       " 'date': Timestamp('2014-09-15 00:00:00'),\n",
       " 'year': 2014,\n",
       " 'month': 9,\n",
       " 'day': 15,\n",
       " 'y_naissance': 1951,\n",
       " 'n_y_naissance': 0.8658536585365854,\n",
       " 'n_year': 0.4,\n",
       " 'cos_month': -1.8369701987210297e-16,\n",
       " 'sin_month': -1.0,\n",
       " 'cos_day': -0.994869323391895,\n",
       " 'sin_day': 0.10116832198743272,\n",
       " 'n_sexe': 0,\n",
       " 'label': 2,\n",
       " 'camembert_tokens': {'intervention': [5,\n",
       "   170,\n",
       "   12639,\n",
       "   7,\n",
       "   298,\n",
       "   8,\n",
       "   13,\n",
       "   3651,\n",
       "   20,\n",
       "   1213,\n",
       "   7,\n",
       "   17,\n",
       "   11,\n",
       "   690,\n",
       "   8,\n",
       "   1910,\n",
       "   22,\n",
       "   2636,\n",
       "   32,\n",
       "   19,\n",
       "   1546,\n",
       "   27,\n",
       "   39,\n",
       "   441,\n",
       "   138,\n",
       "   7,\n",
       "   5615,\n",
       "   16,\n",
       "   938,\n",
       "   9,\n",
       "   100,\n",
       "   16,\n",
       "   701,\n",
       "   18,\n",
       "   11,\n",
       "   15659,\n",
       "   7,\n",
       "   76,\n",
       "   11,\n",
       "   17472,\n",
       "   10367,\n",
       "   989,\n",
       "   31,\n",
       "   14971,\n",
       "   36,\n",
       "   963,\n",
       "   8,\n",
       "   13,\n",
       "   11647,\n",
       "   626,\n",
       "   10592,\n",
       "   32,\n",
       "   890,\n",
       "   7,\n",
       "   8,\n",
       "   93,\n",
       "   27,\n",
       "   19,\n",
       "   5945,\n",
       "   26432,\n",
       "   28,\n",
       "   1058,\n",
       "   8137,\n",
       "   1361,\n",
       "   12527,\n",
       "   10,\n",
       "   3664,\n",
       "   144,\n",
       "   29,\n",
       "   13,\n",
       "   1671,\n",
       "   192,\n",
       "   16,\n",
       "   8429,\n",
       "   9,\n",
       "   211,\n",
       "   16,\n",
       "   93,\n",
       "   2981,\n",
       "   18,\n",
       "   11,\n",
       "   6264,\n",
       "   7,\n",
       "   63,\n",
       "   1237,\n",
       "   20211,\n",
       "   10,\n",
       "   17,\n",
       "   11,\n",
       "   2010,\n",
       "   8,\n",
       "   127,\n",
       "   589,\n",
       "   289,\n",
       "   8,\n",
       "   60,\n",
       "   31123,\n",
       "   1864,\n",
       "   19,\n",
       "   3109,\n",
       "   6325,\n",
       "   37,\n",
       "   19,\n",
       "   3869,\n",
       "   14979,\n",
       "   9463,\n",
       "   10,\n",
       "   9,\n",
       "   6],\n",
       "  'titre_complet': [5, 1671, 192, 16, 8429, 614, 3651, 1229, 6],\n",
       "  'titre': [5, 3651, 1229, 6],\n",
       "  'profession': [5, 23608, 14, 6502, 6]},\n",
       " 'bert_tokens': {'intervention': [101,\n",
       "   52208,\n",
       "   73635,\n",
       "   13326,\n",
       "   117,\n",
       "   12539,\n",
       "   10104,\n",
       "   10109,\n",
       "   41640,\n",
       "   10139,\n",
       "   18416,\n",
       "   117,\n",
       "   180,\n",
       "   112,\n",
       "   21334,\n",
       "   10104,\n",
       "   83457,\n",
       "   10110,\n",
       "   91889,\n",
       "   10326,\n",
       "   10152,\n",
       "   42273,\n",
       "   10121,\n",
       "   24931,\n",
       "   30027,\n",
       "   10305,\n",
       "   117,\n",
       "   34372,\n",
       "   17408,\n",
       "   10546,\n",
       "   10141,\n",
       "   18449,\n",
       "   119,\n",
       "   13796,\n",
       "   10141,\n",
       "   27920,\n",
       "   172,\n",
       "   112,\n",
       "   10266,\n",
       "   31766,\n",
       "   11245,\n",
       "   117,\n",
       "   178,\n",
       "   112,\n",
       "   72894,\n",
       "   20217,\n",
       "   10612,\n",
       "   29069,\n",
       "   10355,\n",
       "   54981,\n",
       "   11405,\n",
       "   10257,\n",
       "   29746,\n",
       "   10104,\n",
       "   10109,\n",
       "   30045,\n",
       "   49917,\n",
       "   10253,\n",
       "   57301,\n",
       "   69773,\n",
       "   10326,\n",
       "   18938,\n",
       "   117,\n",
       "   10104,\n",
       "   11594,\n",
       "   10121,\n",
       "   10152,\n",
       "   47277,\n",
       "   10107,\n",
       "   42621,\n",
       "   81843,\n",
       "   11236,\n",
       "   10231,\n",
       "   32578,\n",
       "   89371,\n",
       "   22021,\n",
       "   37249,\n",
       "   10562,\n",
       "   54815,\n",
       "   11270,\n",
       "   10260,\n",
       "   10109,\n",
       "   43927,\n",
       "   12511,\n",
       "   10141,\n",
       "   96969,\n",
       "   10112,\n",
       "   119,\n",
       "   13029,\n",
       "   10141,\n",
       "   11594,\n",
       "   15544,\n",
       "   172,\n",
       "   112,\n",
       "   61261,\n",
       "   117,\n",
       "   18354,\n",
       "   39875,\n",
       "   44560,\n",
       "   10107,\n",
       "   180,\n",
       "   112,\n",
       "   30341,\n",
       "   10104,\n",
       "   43555,\n",
       "   20472,\n",
       "   17664,\n",
       "   10104,\n",
       "   30931,\n",
       "   25004,\n",
       "   10152,\n",
       "   37481,\n",
       "   10212,\n",
       "   15240,\n",
       "   10248,\n",
       "   10152,\n",
       "   51930,\n",
       "   11855,\n",
       "   10406,\n",
       "   83888,\n",
       "   36766,\n",
       "   82861,\n",
       "   119,\n",
       "   102],\n",
       "  'titre_complet': [101,\n",
       "   43927,\n",
       "   12511,\n",
       "   10141,\n",
       "   96969,\n",
       "   10112,\n",
       "   135,\n",
       "   41640,\n",
       "   28274,\n",
       "   102],\n",
       "  'titre': [101, 41640, 28274, 102],\n",
       "  'profession': [101, 33799, 44207, 10123, 10131, 54540, 102]}}"
      ]
     },
     "execution_count": 21,
     "metadata": {},
     "output_type": "execute_result"
    }
   ],
   "source": [
    "example"
   ]
  },
  {
   "cell_type": "code",
   "execution_count": 22,
   "metadata": {},
   "outputs": [
    {
     "data": {
      "text/plain": [
       "\"Nous aurons, lors de la discussion des articles, l'occasion de revenir en détail sur les mesures que vous proposez, monsieur le ministre. Je le dis d'emblée, j'approuve celles qui touchent au contrôle de la propagande mortifère sur internet, de même que les dispositifs prévoyant une meilleure coordination interministérielle dans la lutte contre le terrorisme. Dans le même ordre d'idées, nous soutiendrons l'évolution de notre loi afin de criminaliser les actes commis par les fameux loups solitaires.\""
      ]
     },
     "execution_count": 22,
     "metadata": {},
     "output_type": "execute_result"
    }
   ],
   "source": [
    "example[\"intervention\"]"
   ]
  },
  {
   "cell_type": "code",
   "execution_count": 23,
   "metadata": {},
   "outputs": [
    {
     "data": {
      "text/plain": [
       "[5,\n",
       " 170,\n",
       " 12639,\n",
       " 7,\n",
       " 298,\n",
       " 8,\n",
       " 13,\n",
       " 3651,\n",
       " 20,\n",
       " 1213,\n",
       " 7,\n",
       " 17,\n",
       " 11,\n",
       " 690,\n",
       " 8,\n",
       " 1910,\n",
       " 22,\n",
       " 2636,\n",
       " 32,\n",
       " 19,\n",
       " 1546,\n",
       " 27,\n",
       " 39,\n",
       " 441,\n",
       " 138,\n",
       " 7,\n",
       " 5615,\n",
       " 16,\n",
       " 938,\n",
       " 9,\n",
       " 100,\n",
       " 16,\n",
       " 701,\n",
       " 18,\n",
       " 11,\n",
       " 15659,\n",
       " 7,\n",
       " 76,\n",
       " 11,\n",
       " 17472,\n",
       " 10367,\n",
       " 989,\n",
       " 31,\n",
       " 14971,\n",
       " 36,\n",
       " 963,\n",
       " 8,\n",
       " 13,\n",
       " 11647,\n",
       " 626,\n",
       " 10592,\n",
       " 32,\n",
       " 890,\n",
       " 7,\n",
       " 8,\n",
       " 93,\n",
       " 27,\n",
       " 19,\n",
       " 5945,\n",
       " 26432,\n",
       " 28,\n",
       " 1058,\n",
       " 8137,\n",
       " 1361,\n",
       " 12527,\n",
       " 10,\n",
       " 3664,\n",
       " 144,\n",
       " 29,\n",
       " 13,\n",
       " 1671,\n",
       " 192,\n",
       " 16,\n",
       " 8429,\n",
       " 9,\n",
       " 211,\n",
       " 16,\n",
       " 93,\n",
       " 2981,\n",
       " 18,\n",
       " 11,\n",
       " 6264,\n",
       " 7,\n",
       " 63,\n",
       " 1237,\n",
       " 20211,\n",
       " 10,\n",
       " 17,\n",
       " 11,\n",
       " 2010,\n",
       " 8,\n",
       " 127,\n",
       " 589,\n",
       " 289,\n",
       " 8,\n",
       " 60,\n",
       " 31123,\n",
       " 1864,\n",
       " 19,\n",
       " 3109,\n",
       " 6325,\n",
       " 37,\n",
       " 19,\n",
       " 3869,\n",
       " 14979,\n",
       " 9463,\n",
       " 10,\n",
       " 9,\n",
       " 6]"
      ]
     },
     "execution_count": 23,
     "metadata": {},
     "output_type": "execute_result"
    }
   ],
   "source": [
    "example[\"camembert_tokens\"][\"intervention\"]"
   ]
  },
  {
   "cell_type": "code",
   "execution_count": 24,
   "metadata": {},
   "outputs": [
    {
     "data": {
      "text/plain": [
       "\"Nous aurons, lors de la discussion des articles, l'occasion de revenir en détail sur les mesures que vous proposez, monsieur le ministre. Je le dis d'emblée, j'approuve celles qui touchent au contrôle de la propagande mortifère sur internet, de même que les dispositifs prévoyant une meilleure coordination interministérielle dans la lutte contre le terrorisme. Dans le même ordre d'idées, nous soutiendrons l'évolution de notre loi afin de criminaliser les actes commis par les fameux loups solitaires.\""
      ]
     },
     "execution_count": 24,
     "metadata": {},
     "output_type": "execute_result"
    }
   ],
   "source": [
    "processor14.camembert_tokenizer.decode(example[\"camembert_tokens\"][\"intervention\"])"
   ]
  },
  {
   "cell_type": "code",
   "execution_count": 25,
   "metadata": {},
   "outputs": [
    {
     "data": {
      "image/png": "[encoded data removed]",
      "text/plain": [
       "<Figure size 1200x600 with 2 Axes>"
      ]
     },
     "metadata": {},
     "output_type": "display_data"
    }
   ],
   "source": [
    "fig, (ax1, ax2) = plt.subplots(1, 2, figsize=(12, 6), sharey=True)\n",
    "\n",
    "c_lens = []\n",
    "for record in processor14.records:\n",
    "    c_lens.append(len(record[\"camembert_tokens\"][\"intervention\"]))\n",
    "sns.histplot(c_lens, bins=100, ax=ax1)\n",
    "ax1.set(xlabel=\"Nombre de tokens\", ylabel=\"Nombre d'interventions\", title=\"CamemBERT\")\n",
    "\n",
    "b_lens = []\n",
    "for record in processor14.records:\n",
    "    b_lens.append(len(record[\"bert_tokens\"][\"intervention\"]))\n",
    "sns.histplot(b_lens, bins=100, ax=ax2)\n",
    "ax2.set(xlabel=\"Nombre de tokens\", ylabel=\"Nombre d'interventions\", title=\"BERT\")\n",
    "\n",
    "\n",
    "# fig.suptitle(\"Répartition du nombre de tokens dans les interventions\")\n",
    "fig.tight_layout()\n",
    "fig.savefig(\"../images/histplot_nb_tokens.png\")"
   ]
  }
 ],
 "metadata": {
  "kernelspec": {
   "display_name": "pytorch-11-7",
   "language": "python",
   "name": "python3"
  },
  "language_info": {
   "codemirror_mode": {
    "name": "ipython",
    "version": 3
   },
   "file_extension": ".py",
   "mimetype": "text/x-python",
   "name": "python",
   "nbconvert_exporter": "python",
   "pygments_lexer": "ipython3",
   "version": "3.10.9"
  },
  "orig_nbformat": 4,
  "vscode": {
   "interpreter": {
    "hash": "290de4d201867099a7cec8aa5bca78d01a6c85d7bcab7b52f8e97114ad853450"
   }
  }
 },
 "nbformat": 4,
 "nbformat_minor": 2
}

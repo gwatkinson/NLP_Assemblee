{
 "cells": [
  {
   "cell_type": "code",
   "execution_count": 2,
   "metadata": {},
   "outputs": [],
   "source": [
    "%load_ext autoreload\n",
    "%autoreload 2"
   ]
  },
  {
   "cell_type": "code",
   "execution_count": 1,
   "metadata": {},
   "outputs": [],
   "source": [
    "import warnings\n",
    "\n",
    "warnings.filterwarnings(\"ignore\")\n",
    "\n",
    "import asyncio\n",
    "import json\n",
    "import pickle\n",
    "import time\n",
    "from glob import glob\n",
    "from pathlib import Path\n",
    "from urllib import request\n",
    "\n",
    "import pandas as pd\n",
    "from tqdm.autonotebook import tqdm\n",
    "\n",
    "from nlp_assemblee.scrapping.api import CPCApi\n",
    "from nlp_assemblee.scrapping.fetch_data_from_api import interventions_of_group, main"
   ]
  },
  {
   "cell_type": "code",
   "execution_count": 13,
   "metadata": {},
   "outputs": [],
   "source": [
    "# apidep_2007 = CPCApi(legislature=\"2007-2012\")\n",
    "apidep_2012 = CPCApi(legislature=\"2012-2017\")\n",
    "apidep_2017 = CPCApi(legislature=\"2017-2022\")\n",
    "apidep_2022 = CPCApi()"
   ]
  },
  {
   "cell_type": "code",
   "execution_count": 33,
   "metadata": {},
   "outputs": [],
   "source": [
    "# urls_2012 = await apidep_2012.get_all_interventions_urls(\n",
    "#     all_pages=False, sort=0, count=500,\n",
    "#     page=1, verbose=True, max_interventions=1000,\n",
    "#     save=\"../data/interventions_urls_by_deputies.json\"\n",
    "# )"
   ]
  },
  {
   "cell_type": "code",
   "execution_count": 15,
   "metadata": {},
   "outputs": [
    {
     "data": {
      "application/vnd.jupyter.widget-view+json": {
       "model_id": "4744edfdd8e84819a9d208ebae14b2b7",
       "version_major": 2,
       "version_minor": 0
      },
      "text/plain": [
       "  0%|          | 0/659 [00:00<?, ?it/s]"
      ]
     },
     "metadata": {},
     "output_type": "display_data"
    }
   ],
   "source": [
    "# urls_2017 = await apidep_2017.get_all_interventions_urls(\n",
    "#     all_pages=False, sort=0, count=500,\n",
    "#     page=1, verbose=True, max_interventions=1000,\n",
    "#     save=\"../data/interventions_urls_by_deputies.json\"\n",
    "# )"
   ]
  },
  {
   "cell_type": "code",
   "execution_count": 40,
   "metadata": {},
   "outputs": [],
   "source": [
    "# urls_2022 = await apidep_2022.get_all_interventions_urls(\n",
    "#     all_pages=False, sort=0, count=500,\n",
    "#     page=1, verbose=True, max_interventions=1000,\n",
    "#     save=\"../data/interventions_urls_by_deputies.json\"\n",
    "# )"
   ]
  },
  {
   "cell_type": "code",
   "execution_count": 3,
   "metadata": {},
   "outputs": [],
   "source": [
    "with open(\"../data/2012-2017/interventions_urls_by_deputies.json\", \"rb\") as f:\n",
    "    urls_2012 = json.load(f)\n",
    "with open(\"../data/2017-2022/interventions_urls_by_deputies.json\", \"rb\") as f:\n",
    "    urls_2017 = json.load(f)\n",
    "with open(\"../data/last/interventions_urls_by_deputies.json\", \"rb\") as f:\n",
    "    urls_2022 = json.load(f)"
   ]
  },
  {
   "cell_type": "code",
   "execution_count": 4,
   "metadata": {},
   "outputs": [
    {
     "data": {
      "text/plain": [
       "(599, 659, 648)"
      ]
     },
     "execution_count": 4,
     "metadata": {},
     "output_type": "execute_result"
    }
   ],
   "source": [
    "len(urls_2022), len(urls_2017), len(urls_2012)"
   ]
  },
  {
   "cell_type": "code",
   "execution_count": 14,
   "metadata": {},
   "outputs": [
    {
     "data": {
      "application/vnd.jupyter.widget-view+json": {
       "model_id": "c8cb9c8dc38e41f8ab1e5f077bfd9cdf",
       "version_major": 2,
       "version_minor": 0
      },
      "text/plain": [
       "  0%|          | 0/648 [00:00<?, ?it/s]"
      ]
     },
     "metadata": {},
     "output_type": "display_data"
    }
   ],
   "source": [
    "api = apidep_2012\n",
    "urls = urls_2012\n",
    "\n",
    "deps = api.deputies\n",
    "slugs = [api.deputies_df[api.deputies_df[\"nom\"] == dep][\"slug\"].values[0] for dep in deps]\n",
    "files = glob(f\"../data/{api.legislature_name}/interventions/*.json\")\n",
    "files = [file.split(\"/\")[-1].split(\".\")[0] for file in files]\n",
    "\n",
    "idx = [i for i, slug in enumerate(slugs) if slug not in files]\n",
    "\n",
    "for dep, slug in tqdm(zip(deps, slugs)):\n",
    "    try:\n",
    "        await api.async_fetch_interventions_of_deputy(\n",
    "            dep_urls=urls[dep],\n",
    "            slug_name=slug,\n",
    "            max_interventions=1000,\n",
    "            verbose=False,\n",
    "            save=\"../data/\",\n",
    "        )\n",
    "    except Exception as e:\n",
    "        print(e)\n",
    "        time.sleep(60)"
   ]
  },
  {
   "cell_type": "code",
   "execution_count": 18,
   "metadata": {},
   "outputs": [
    {
     "data": {
      "application/vnd.jupyter.widget-view+json": {
       "model_id": "e4f8a5f30059495f8537b7691a6a3796",
       "version_major": 2,
       "version_minor": 0
      },
      "text/plain": [
       "  0%|          | 0/649 [00:00<?, ?it/s]"
      ]
     },
     "metadata": {},
     "output_type": "display_data"
    },
    {
     "name": "stdout",
     "output_type": "stream",
     "text": [
      "[Errno 104] Connection reset by peer\n",
      "Cannot connect to host 2017-2022.nosdeputes.fr:443 ssl:default [None]\n"
     ]
    }
   ],
   "source": [
    "api = apidep_2017\n",
    "urls = urls_2017\n",
    "\n",
    "deps = api.deputies\n",
    "slugs = [api.deputies_df[api.deputies_df[\"nom\"] == dep][\"slug\"].values[0] for dep in deps]\n",
    "files = glob(f\"../data/{api.legislature_name}/interventions/*.json\")\n",
    "files = [file.split(\"/\")[-1].split(\".\")[0] for file in files]\n",
    "\n",
    "idx = [i for i, slug in enumerate(slugs) if slug not in files]\n",
    "deps = [deps[i] for i in idx]\n",
    "slugs = [slugs[i] for i in idx]\n",
    "\n",
    "for dep, slug in tqdm(zip(deps, slugs), total=len(idx)):\n",
    "    try:\n",
    "        await api.async_fetch_interventions_of_deputy(\n",
    "            dep_urls=urls[dep],\n",
    "            slug_name=slug,\n",
    "            max_interventions=1000,\n",
    "            verbose=False,\n",
    "            save=\"../data/\",\n",
    "        )\n",
    "    except Exception as e:\n",
    "        print(e)\n",
    "        time.sleep(60)"
   ]
  },
  {
   "cell_type": "code",
   "execution_count": 22,
   "metadata": {},
   "outputs": [],
   "source": [
    "async def fetch_all_interventions(api, urls, save=\"./data/\", max_interventions=1000):\n",
    "    deps = api.deputies\n",
    "    slugs = [api.deputies_df[api.deputies_df[\"nom\"] == dep][\"slug\"].values[0] for dep in deps]\n",
    "    files = glob(f\"{save}/{api.legislature_name}/interventions/*.json\")\n",
    "    files = [file.split(\"/\")[-1].split(\".\")[0] for file in files]\n",
    "\n",
    "    idx = [i for i, slug in enumerate(slugs) if slug not in files]\n",
    "    deps = [deps[i] for i in idx]\n",
    "    slugs = [slugs[i] for i in idx]\n",
    "\n",
    "    for dep, slug in tqdm(zip(deps, slugs), total=len(idx)):\n",
    "        for attempt in range(10):\n",
    "            try:\n",
    "                await api.async_fetch_interventions_of_deputy(\n",
    "                    dep_urls=urls[dep],\n",
    "                    slug_name=slug,\n",
    "                    max_interventions=max_interventions,\n",
    "                    verbose=False,\n",
    "                    save=save,\n",
    "                )\n",
    "            except Exception as e:\n",
    "                print(e)\n",
    "                time.sleep(60)\n",
    "            else:\n",
    "                break\n",
    "        else:\n",
    "            print(f\"Failed to fetch {dep} after 10 attempts\")\n",
    "            break"
   ]
  },
  {
   "cell_type": "code",
   "execution_count": 23,
   "metadata": {},
   "outputs": [
    {
     "data": {
      "application/vnd.jupyter.widget-view+json": {
       "model_id": "386fcaebec55450fb33f8a302d6f9a89",
       "version_major": 2,
       "version_minor": 0
      },
      "text/plain": [
       "  0%|          | 0/599 [00:00<?, ?it/s]"
      ]
     },
     "metadata": {},
     "output_type": "display_data"
    },
    {
     "name": "stdout",
     "output_type": "stream",
     "text": [
      "[Errno 104] Connection reset by peer\n",
      "[Errno 104] Connection reset by peer\n"
     ]
    }
   ],
   "source": [
    "await fetch_all_interventions(apidep_2022, urls_2022, save=\"../data/\")"
   ]
  },
  {
   "cell_type": "code",
   "execution_count": null,
   "metadata": {},
   "outputs": [],
   "source": [
    "with open(\"../data/last/interventions_urls_by_deputies.json\", \"rb\") as f:\n",
    "    urls_2022 = json.load(f)\n",
    "\n",
    "await apidep_2022.async_fetch_all_interventions(urls_2022, save=\"../data/\")"
   ]
  }
 ],
 "metadata": {
  "kernelspec": {
   "display_name": "pytorch-11-7",
   "language": "python",
   "name": "python3"
  },
  "language_info": {
   "codemirror_mode": {
    "name": "ipython",
    "version": 3
   },
   "file_extension": ".py",
   "mimetype": "text/x-python",
   "name": "python",
   "nbconvert_exporter": "python",
   "pygments_lexer": "ipython3",
   "version": "3.10.8"
  },
  "orig_nbformat": 4,
  "vscode": {
   "interpreter": {
    "hash": "290de4d201867099a7cec8aa5bca78d01a6c85d7bcab7b52f8e97114ad853450"
   }
  }
 },
 "nbformat": 4,
 "nbformat_minor": 2
}

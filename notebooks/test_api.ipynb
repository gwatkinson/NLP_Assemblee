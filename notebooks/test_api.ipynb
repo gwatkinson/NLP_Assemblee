{
 "cells": [
  {
   "cell_type": "code",
   "execution_count": 1,
   "metadata": {},
   "outputs": [],
   "source": [
    "%load_ext autoreload\n",
    "%autoreload 2"
   ]
  },
  {
   "cell_type": "code",
   "execution_count": 4,
   "metadata": {},
   "outputs": [],
   "source": [
    "import warnings\n",
    "warnings.filterwarnings(\"ignore\")\n",
    "\n",
    "from nlp_assemblee.scrapping.api import CPCApi\n",
    "from nlp_assemblee.scrapping.fetch_data_from_api import main, interventions_of_group\n",
    "import pickle\n",
    "import pandas as pd\n",
    "from urllib import request\n",
    "import asyncio\n",
    "import json\n",
    "from tqdm.autonotebook import tqdm\n",
    "from pathlib import Path"
   ]
  },
  {
   "cell_type": "code",
   "execution_count": 3,
   "metadata": {},
   "outputs": [],
   "source": [
    "apidep_2007 = CPCApi(legislature=\"2007-2012\")\n",
    "apidep_2012 = CPCApi(legislature=\"2012-2017\")\n",
    "apidep_2017 = CPCApi(legislature=\"2017-2022\")\n",
    "apidep_last = CPCApi()"
   ]
  },
  {
   "cell_type": "code",
   "execution_count": 11,
   "metadata": {},
   "outputs": [
    {
     "data": {
      "application/vnd.jupyter.widget-view+json": {
       "model_id": "27408138cbf1404ea61fdcf57a36f78b",
       "version_major": 2,
       "version_minor": 0
      },
      "text/plain": [
       "  0%|          | 0/599 [00:00<?, ?it/s]"
      ]
     },
     "metadata": {},
     "output_type": "display_data"
    }
   ],
   "source": [
    "deputies_list = apidep_2007.get_all_interventions_urls(\n",
    "    save=\"../data/interventions_urls_by_deputies.json\"\n",
    ")"
   ]
  },
  {
   "cell_type": "code",
   "execution_count": 6,
   "metadata": {},
   "outputs": [],
   "source": [
    "with open('../data/interventions_urls_by_deputies.json') as f:\n",
    "    deputies_list = json.load(f)"
   ]
  },
  {
   "cell_type": "code",
   "execution_count": 7,
   "metadata": {},
   "outputs": [
    {
     "name": "stdout",
     "output_type": "stream",
     "text": [
      "There are 76001 interventions in total, and 599 deputies.\n"
     ]
    }
   ],
   "source": [
    "res = 0\n",
    "for dep in deputies_list:\n",
    "    res += min(len(deputies_list[dep]['results']), 1000)\n",
    "\n",
    "print(f\"There are {res} interventions in total, and {len(deputies_list)} deputies.\")"
   ]
  },
  {
   "cell_type": "code",
   "execution_count": 29,
   "metadata": {},
   "outputs": [
    {
     "data": {
      "application/vnd.jupyter.widget-view+json": {
       "model_id": "0c8677a40b404ec5b041f301fdf8f95f",
       "version_major": 2,
       "version_minor": 0
      },
      "text/plain": [
       "  0%|          | 0/599 [00:00<?, ?it/s]"
      ]
     },
     "metadata": {},
     "output_type": "display_data"
    }
   ],
   "source": [
    "deps = tqdm(apidep_last.deputies)\n",
    "\n",
    "for dep in deps:\n",
    "    slug = apidep_last.deputies_df[apidep_last.deputies_df[\"nom\"] == dep][\"slug\"].values[0]\n",
    "    await apidep_last.async_fetch_interventions_of_deputy_2(\n",
    "        dep_urls=deputies_list[dep],\n",
    "        slug_name=slug,\n",
    "        max_interventions=1000,\n",
    "        verbose=False,\n",
    "        # save=False\n",
    "        save=\"../data/\"\n",
    "    )"
   ]
  },
  {
   "cell_type": "code",
   "execution_count": 17,
   "metadata": {},
   "outputs": [],
   "source": [
    "import json\n",
    "with open(\"../data/interventions_urls_by_deputies.json\", 'w') as f:\n",
    "    json.dump(deputies_list, f)"
   ]
  },
  {
   "cell_type": "code",
   "execution_count": 4,
   "metadata": {},
   "outputs": [
    {
     "data": {
      "text/plain": [
       "array(['LR', 'GDR', 'REN', 'RN', 'MODEM', 'LFI', 'SOC', 'ECO', 'HOR',\n",
       "       'LIOT', 'NI'], dtype=object)"
      ]
     },
     "execution_count": 4,
     "metadata": {},
     "output_type": "execute_result"
    }
   ],
   "source": [
    "groupes = apidep_last.all_groups\n",
    "groupes"
   ]
  },
  {
   "cell_type": "code",
   "execution_count": 5,
   "metadata": {},
   "outputs": [
    {
     "data": {
      "text/plain": [
       "'thibault-bazin'"
      ]
     },
     "execution_count": 5,
     "metadata": {},
     "output_type": "execute_result"
    }
   ],
   "source": [
    "apidep_last.deputies_df.slug.values[0]"
   ]
  },
  {
   "cell_type": "code",
   "execution_count": 18,
   "metadata": {},
   "outputs": [
    {
     "data": {
      "text/plain": [
       "b'{\"start\": 1, \"end\": 500, \"last_result\": 0, \"results\": [ ]}'"
      ]
     },
     "execution_count": 18,
     "metadata": {},
     "output_type": "execute_result"
    }
   ],
   "source": [
    "apidep_last.interventions(slug_name='thibault-bazin')"
   ]
  }
 ],
 "metadata": {
  "kernelspec": {
   "display_name": "pytorch-11-7",
   "language": "python",
   "name": "python3"
  },
  "language_info": {
   "codemirror_mode": {
    "name": "ipython",
    "version": 3
   },
   "file_extension": ".py",
   "mimetype": "text/x-python",
   "name": "python",
   "nbconvert_exporter": "python",
   "pygments_lexer": "ipython3",
   "version": "3.10.8"
  },
  "orig_nbformat": 4,
  "vscode": {
   "interpreter": {
    "hash": "290de4d201867099a7cec8aa5bca78d01a6c85d7bcab7b52f8e97114ad853450"
   }
  }
 },
 "nbformat": 4,
 "nbformat_minor": 2
}

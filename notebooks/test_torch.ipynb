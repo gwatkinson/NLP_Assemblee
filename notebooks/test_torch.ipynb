{
 "cells": [
  {
   "cell_type": "code",
   "execution_count": 1,
   "metadata": {},
   "outputs": [],
   "source": [
    "%load_ext autoreload\n",
    "%autoreload 2"
   ]
  },
  {
   "cell_type": "code",
   "execution_count": 2,
   "metadata": {},
   "outputs": [
    {
     "data": {
      "text/html": [
       "\n",
       "      <iframe id=\"tensorboard-frame-bd16bcfba4303d79\" width=\"100%\" height=\"800\" frameborder=\"0\">\n",
       "      </iframe>\n",
       "      <script>\n",
       "        (function() {\n",
       "          const frame = document.getElementById(\"tensorboard-frame-bd16bcfba4303d79\");\n",
       "          const url = new URL(\"/\", window.location);\n",
       "          const port = 6006;\n",
       "          if (port) {\n",
       "            url.port = port;\n",
       "          }\n",
       "          frame.src = url;\n",
       "        })();\n",
       "      </script>\n",
       "    "
      ],
      "text/plain": [
       "<IPython.core.display.HTML object>"
      ]
     },
     "metadata": {},
     "output_type": "display_data"
    }
   ],
   "source": [
    "%reload_ext tensorboard\n",
    "%tensorboard --logdir=../lightning_logs/"
   ]
  },
  {
   "cell_type": "code",
   "execution_count": 3,
   "metadata": {},
   "outputs": [],
   "source": [
    "import json\n",
    "import os\n",
    "import pickle\n",
    "from glob import glob\n",
    "\n",
    "import bs4\n",
    "import numpy as np\n",
    "import pandas as pd\n",
    "import seaborn as sns\n",
    "import torch\n",
    "import torch.nn as nn\n",
    "import torch.nn.functional as F\n",
    "from torch.utils.data import DataLoader, Dataset\n",
    "from transformers import BertModel, BertTokenizer, CamembertModel, CamembertTokenizer"
   ]
  },
  {
   "cell_type": "code",
   "execution_count": 4,
   "metadata": {},
   "outputs": [],
   "source": [
    "deputies_df = pd.read_pickle(\"../data/2017-2022/deputies.pkl\")"
   ]
  },
  {
   "cell_type": "code",
   "execution_count": 5,
   "metadata": {},
   "outputs": [],
   "source": [
    "groups = deputies_df.groupe_sigle.unique()\n",
    "groups_to_int = dict(zip(groups, range(len(groups))))\n",
    "int_to_groups = dict(zip(range(len(groups)), groups))"
   ]
  },
  {
   "cell_type": "code",
   "execution_count": 6,
   "metadata": {},
   "outputs": [
    {
     "data": {
      "text/plain": [
       "True"
      ]
     },
     "execution_count": 6,
     "metadata": {},
     "output_type": "execute_result"
    }
   ],
   "source": [
    "use_cuda = torch.cuda.is_available()\n",
    "device = torch.device(\"cuda\" if use_cuda else \"cpu\")\n",
    "use_cuda"
   ]
  },
  {
   "cell_type": "code",
   "execution_count": 28,
   "metadata": {},
   "outputs": [],
   "source": [
    "tokenizer = CamembertTokenizer.from_pretrained(\"camembert-base\")"
   ]
  },
  {
   "cell_type": "code",
   "execution_count": 30,
   "metadata": {},
   "outputs": [],
   "source": [
    "tokenize = lambda x: tokenizer(\n",
    "    x, padding=\"max_length\", max_length=256, truncation=True, return_tensors=\"pt\"\n",
    ")\n",
    "\n",
    "decode_tokens = lambda x: tokenizer.decode(x)"
   ]
  },
  {
   "cell_type": "code",
   "execution_count": 38,
   "metadata": {},
   "outputs": [],
   "source": [
    "files = glob(\"../data/2017-2022/interventions/*.json\")\n",
    "file_stats = [os.stat(file).st_size for file in files]\n",
    "no_empty_files = [files[i] for i in range(len(files)) if file_stats[i] > 63]\n",
    "slug_files = [file.split(\"/\")[-1].split(\".\")[0] for file in no_empty_files]\n",
    "file_dict = dict(zip(slug_files, no_empty_files))"
   ]
  },
  {
   "cell_type": "code",
   "execution_count": 34,
   "metadata": {},
   "outputs": [],
   "source": [
    "tdf = pd.read_csv(\"../tsvs/ND13_interventions_QAG.tsv\", sep=\"\\t\")"
   ]
  },
  {
   "cell_type": "code",
   "execution_count": 55,
   "metadata": {},
   "outputs": [],
   "source": [
    "tdf = pd.read_csv(\"../tsvs/ND15_interventions_hemicycle_rich.tsv\", sep=\"\\t\")"
   ]
  },
  {
   "cell_type": "code",
   "execution_count": 356,
   "metadata": {},
   "outputs": [],
   "source": [
    "tdf.to_pickle(\"../data/2017-2022/raw_dataset.pkl\")"
   ]
  },
  {
   "cell_type": "code",
   "execution_count": 247,
   "metadata": {},
   "outputs": [],
   "source": [
    "from bs4 import BeautifulSoup"
   ]
  },
  {
   "cell_type": "code",
   "execution_count": 331,
   "metadata": {},
   "outputs": [],
   "source": [
    "tdf_without_pres = tdf[\n",
    "    (\n",
    "        ~tdf.fonction.isin([\"président\", \"présidente\", \"président, doyen d'âge\"])\n",
    "    )  # Enlève le président\n",
    "    # (~tdf.titre.str.contains(\"article\"))  # Enlève les interventions sur les articles\n",
    "]\n",
    "\n",
    "tdf_without_exclamations = tdf_without_pres[\n",
    "    (~tdf_without_pres.titre.isna())\n",
    "    & (  # Enlève les interventions sans titre (transitions, présidents, ...)\n",
    "        ~tdf_without_pres.sexe.isna()\n",
    "    )\n",
    "    & (  # Enlève les interventions sans sexe (groupe, interlocutions, non députés, ...)\n",
    "        tdf_without_pres.nb_mots > 7\n",
    "    )  # Enlève les interventions trop courtes\n",
    "]\n",
    "\n",
    "intervention_count = (\n",
    "    tdf_without_exclamations.parlementaire.value_counts().rename(\"intervention_count\").to_frame()\n",
    ")\n",
    "tdf_without_exclamations = tdf_without_exclamations.merge(\n",
    "    intervention_count, left_on=\"parlementaire\", right_index=True\n",
    ")"
   ]
  },
  {
   "cell_type": "code",
   "execution_count": 282,
   "metadata": {},
   "outputs": [],
   "source": [
    "def process_intervention(row, max_len=256):\n",
    "    if row[\"nb_mots\"] > max_len:\n",
    "        paragraphs = BeautifulSoup(row[\"intervention\"]).find_all(\"p\")\n",
    "        return [_.getText() for _ in paragraphs]\n",
    "    return BeautifulSoup(row[\"intervention\"]).text"
   ]
  },
  {
   "cell_type": "code",
   "execution_count": 309,
   "metadata": {},
   "outputs": [],
   "source": [
    "processed_tdf_intervention = tdf_without_exclamations.apply(process_intervention, axis=1)\n",
    "tdf_intervention_processed = tdf_without_exclamations.assign(\n",
    "    intervention=processed_tdf_intervention\n",
    ").explode(\"intervention\")\n",
    "tdf_intervention_processed = tdf_intervention_processed[\n",
    "    tdf_intervention_processed.intervention.str.count(\" \") > 3\n",
    "]\n",
    "tdf_intervention_processed[\"nb_mots_approx\"] = (\n",
    "    tdf_intervention_processed.intervention.str.count(\" \") + 1\n",
    ")"
   ]
  },
  {
   "cell_type": "code",
   "execution_count": 321,
   "metadata": {},
   "outputs": [],
   "source": [
    "tdf_without_short = tdf_intervention_processed[\n",
    "    tdf_intervention_processed[\"intervention_count\"] > 10\n",
    "].reset_index(drop=True)"
   ]
  },
  {
   "cell_type": "code",
   "execution_count": 322,
   "metadata": {},
   "outputs": [],
   "source": [
    "tdf_without_short.to_pickle(\"../data/2017-2022/clean_interventions_df.pkl\")"
   ]
  },
  {
   "cell_type": "code",
   "execution_count": 7,
   "metadata": {},
   "outputs": [],
   "source": [
    "tdf_without_short = pd.read_pickle(\"../data/2017-2022/clean_interventions_df.pkl\")"
   ]
  },
  {
   "cell_type": "code",
   "execution_count": 8,
   "metadata": {},
   "outputs": [],
   "source": [
    "by_seance = tdf_without_short.groupby([\"seance_id\", \"parlementaire\"]).agg(\n",
    "    count=pd.NamedAgg(column=\"id\", aggfunc=\"count\")\n",
    ")"
   ]
  },
  {
   "cell_type": "code",
   "execution_count": 4,
   "metadata": {},
   "outputs": [
    {
     "ename": "NameError",
     "evalue": "name 'deputies_df' is not defined",
     "output_type": "error",
     "traceback": [
      "\u001b[0;31m---------------------------------------------------------------------------\u001b[0m",
      "\u001b[0;31mNameError\u001b[0m                                 Traceback (most recent call last)",
      "Cell \u001b[0;32mIn[4], line 1\u001b[0m\n\u001b[0;32m----> 1\u001b[0m clean_deputies_df \u001b[39m=\u001b[39m deputies_df[[\u001b[39m\"\u001b[39m\u001b[39mnom\u001b[39m\u001b[39m\"\u001b[39m, \u001b[39m\"\u001b[39m\u001b[39mdate_naissance\u001b[39m\u001b[39m\"\u001b[39m, \u001b[39m\"\u001b[39m\u001b[39mnum_circo\u001b[39m\u001b[39m\"\u001b[39m, \u001b[39m\"\u001b[39m\u001b[39mprofession\u001b[39m\u001b[39m\"\u001b[39m, \u001b[39m\"\u001b[39m\u001b[39mnb_mandats\u001b[39m\u001b[39m\"\u001b[39m]]\u001b[39m.\u001b[39mcopy()\n\u001b[1;32m      2\u001b[0m clean_deputies_df[\u001b[39m\"\u001b[39m\u001b[39mprofession\u001b[39m\u001b[39m\"\u001b[39m]\u001b[39m.\u001b[39mfillna(\u001b[39m\"\u001b[39m\u001b[39mNone\u001b[39m\u001b[39m\"\u001b[39m, inplace\u001b[39m=\u001b[39m\u001b[39mTrue\u001b[39;00m)\n",
      "\u001b[0;31mNameError\u001b[0m: name 'deputies_df' is not defined"
     ]
    }
   ],
   "source": [
    "clean_deputies_df = deputies_df[\n",
    "    [\"nom\", \"date_naissance\", \"num_circo\", \"profession\", \"nb_mandats\"]\n",
    "].copy()\n",
    "clean_deputies_df[\"profession\"].fillna(\"None\", inplace=True)"
   ]
  },
  {
   "cell_type": "code",
   "execution_count": 11,
   "metadata": {},
   "outputs": [],
   "source": [
    "simple_interventions = tdf_without_short[\n",
    "    [\n",
    "        \"parlementaire\",\n",
    "        \"parlementaire_groupe_acronyme\",\n",
    "        \"seance_id\",\n",
    "        \"date\",\n",
    "        \"type\",\n",
    "        \"titre\",\n",
    "        \"titre_complet\",\n",
    "        \"intervention\",\n",
    "    ]\n",
    "].rename(\n",
    "    columns={\n",
    "        \"parlementaire\": \"nom\",\n",
    "        \"parlementaire_groupe_acronyme\": \"groupe\",\n",
    "        \"date\": \"date_seance\",\n",
    "    }\n",
    ")"
   ]
  },
  {
   "cell_type": "code",
   "execution_count": 12,
   "metadata": {},
   "outputs": [],
   "source": [
    "grouped_df = (\n",
    "    simple_interventions.groupby(\n",
    "        [\"seance_id\", \"date_seance\", \"nom\", \"groupe\", \"type\", \"titre\", \"titre_complet\"]\n",
    "    )\n",
    "    .agg(intervention=pd.NamedAgg(column=\"intervention\", aggfunc=lambda group: \" \".join(group)))\n",
    "    .reset_index()\n",
    ")"
   ]
  },
  {
   "cell_type": "code",
   "execution_count": 13,
   "metadata": {},
   "outputs": [],
   "source": [
    "processed_df = grouped_df.merge(clean_deputies_df, left_on=\"nom\", right_on=\"nom\")"
   ]
  },
  {
   "cell_type": "code",
   "execution_count": 14,
   "metadata": {},
   "outputs": [],
   "source": [
    "processed_df.to_pickle(\"../data/2017-2022/final_df.pkl\")"
   ]
  },
  {
   "cell_type": "code",
   "execution_count": 4,
   "metadata": {},
   "outputs": [],
   "source": [
    "processed_df = pd.read_pickle(\"../data/2017-2022/final_df.pkl\")"
   ]
  },
  {
   "cell_type": "code",
   "execution_count": 5,
   "metadata": {},
   "outputs": [],
   "source": [
    "sub_groups_dict = {\n",
    "    \"NI\": \"Droite\",\n",
    "    \"UAI\": \"Droite\",\n",
    "    \"LC\": \"Droite\",\n",
    "    \"LR\": \"Droite\",\n",
    "    \"LFI\": \"Gauche\",\n",
    "    \"NG\": \"Gauche\",\n",
    "    \"GDR\": \"Gauche\",\n",
    "    \"LREM\": \"Centre\",\n",
    "    \"MODEM\": \"Centre\",\n",
    "}\n",
    "\n",
    "sub_to_int = {\"Gauche\": 0, \"Centre\": 1, \"Droite\": 2}\n",
    "\n",
    "labels_dict = {group: sub_to_int[sub_groups_dict[group]] for group in sub_groups_dict}"
   ]
  },
  {
   "cell_type": "code",
   "execution_count": 6,
   "metadata": {},
   "outputs": [],
   "source": [
    "import numpy as np\n",
    "import torch\n",
    "from torch.utils.data import Dataset\n",
    "\n",
    "tokenizer = CamembertTokenizer.from_pretrained(\"camembert-base\")\n",
    "\n",
    "\n",
    "class SeanceDataset(Dataset):\n",
    "    def __init__(\n",
    "        self,\n",
    "        tokenizer,\n",
    "        df,\n",
    "        labels_dict,\n",
    "        group_var=\"groupe\",\n",
    "        intervention_var=\"intervention\",\n",
    "        titre_var=\"titre_complet\",\n",
    "        profession_var=\"profession\",\n",
    "        max_len_padding=512,\n",
    "        max_len_padding_titre=64,\n",
    "        max_len_padding_profession=16,\n",
    "    ):\n",
    "        # Parameters\n",
    "        self.df = df\n",
    "        self.labels_dict = labels_dict\n",
    "        self.inverse_label_dict = {v: k for k, v in labels_dict.items()}\n",
    "        self.group_var = group_var\n",
    "        self.intervention_var = intervention_var\n",
    "        self.titre_var = titre_var\n",
    "        self.profession_var = profession_var\n",
    "        self.max_len_padding = max_len_padding\n",
    "        self.max_len_padding_titre = max_len_padding_titre\n",
    "        self.max_len_padding_profession = max_len_padding_profession\n",
    "\n",
    "        # Inputs and labels\n",
    "        self.labels = [labels_dict[label] for label in df[group_var]]\n",
    "\n",
    "        self.interventions = [\n",
    "            tokenizer(\n",
    "                text,\n",
    "                padding=\"max_length\",\n",
    "                max_length=max_len_padding,\n",
    "                truncation=True,\n",
    "                return_tensors=\"pt\",\n",
    "            )\n",
    "            for text in df[intervention_var]\n",
    "        ]\n",
    "\n",
    "        self.titres = [\n",
    "            tokenizer(\n",
    "                text,\n",
    "                padding=\"max_length\",\n",
    "                max_length=max_len_padding_titre,\n",
    "                truncation=True,\n",
    "                return_tensors=\"pt\",\n",
    "            )\n",
    "            for text in df[titre_var]\n",
    "        ]\n",
    "\n",
    "        self.professions = [\n",
    "            tokenizer(\n",
    "                text,\n",
    "                padding=\"max_length\",\n",
    "                max_length=max_len_padding_profession,\n",
    "                truncation=True,\n",
    "                return_tensors=\"pt\",\n",
    "            )\n",
    "            for text in df[profession_var]\n",
    "        ]\n",
    "\n",
    "    def classes(self):\n",
    "        return self.labels\n",
    "\n",
    "    def __len__(self):\n",
    "        return len(self.labels)\n",
    "\n",
    "    def get_batch_labels(self, idx):\n",
    "        return np.array(self.labels[idx])\n",
    "\n",
    "    def get_batch_inputs(self, idx):\n",
    "        return {\n",
    "            \"intervention\": self.interventions[idx],\n",
    "            \"titre\": self.titres[idx],\n",
    "            \"profession\": self.professions[idx],\n",
    "        }\n",
    "\n",
    "    def __getitem__(self, idx):\n",
    "        batch_x = self.get_batch_inputs(idx)\n",
    "        batch_y = self.get_batch_labels(idx)\n",
    "\n",
    "        return batch_x, batch_y"
   ]
  },
  {
   "cell_type": "code",
   "execution_count": 7,
   "metadata": {},
   "outputs": [],
   "source": [
    "from sklearn.model_selection import train_test_split"
   ]
  },
  {
   "cell_type": "code",
   "execution_count": 8,
   "metadata": {},
   "outputs": [],
   "source": [
    "def get_dataset(\n",
    "    tokenizer,\n",
    "    processed_df,\n",
    "    labels_dict,\n",
    "    group_var=\"groupe\",\n",
    "    intervention_var=\"intervention\",\n",
    "    titre_var=\"titre_complet\",\n",
    "    profession_var=\"profession\",\n",
    "    max_len_padding=512,\n",
    "    max_len_padding_titre=64,\n",
    "    max_len_padding_profession=16,\n",
    "    test_frac=0.25,\n",
    "    val_frac=0.2,\n",
    "):\n",
    "    X, y = np.arange(len(processed_df)), processed_df[\"groupe\"]\n",
    "    test_frac = 0.25\n",
    "    val_frac = 0.2\n",
    "\n",
    "    idx_train, idx_test, y_train, y_test = train_test_split(\n",
    "        X, y, test_size=test_frac, random_state=42, stratify=y\n",
    "    )\n",
    "    idx_train, idx_val, y_train, y_val = train_test_split(\n",
    "        idx_train, y_train, test_size=val_frac, random_state=42, stratify=y_train\n",
    "    )\n",
    "\n",
    "    train_dataset = SeanceDataset(\n",
    "        tokenizer,\n",
    "        processed_df.iloc[idx_train],\n",
    "        labels_dict,\n",
    "        group_var=group_var,\n",
    "        intervention_var=intervention_var,\n",
    "        titre_var=titre_var,\n",
    "        profession_var=profession_var,\n",
    "        max_len_padding=max_len_padding,\n",
    "        max_len_padding_titre=max_len_padding_titre,\n",
    "        max_len_padding_profession=max_len_padding_profession,\n",
    "    )\n",
    "\n",
    "    val_dataset = SeanceDataset(\n",
    "        tokenizer,\n",
    "        processed_df.iloc[idx_val],\n",
    "        labels_dict,\n",
    "        group_var=group_var,\n",
    "        intervention_var=intervention_var,\n",
    "        titre_var=titre_var,\n",
    "        profession_var=profession_var,\n",
    "        max_len_padding=max_len_padding,\n",
    "        max_len_padding_titre=max_len_padding_titre,\n",
    "        max_len_padding_profession=max_len_padding_profession,\n",
    "    )\n",
    "\n",
    "    test_dataset = SeanceDataset(\n",
    "        tokenizer,\n",
    "        processed_df.iloc[idx_test],\n",
    "        labels_dict,\n",
    "        group_var=group_var,\n",
    "        intervention_var=intervention_var,\n",
    "        titre_var=titre_var,\n",
    "        profession_var=profession_var,\n",
    "        max_len_padding=max_len_padding,\n",
    "        max_len_padding_titre=max_len_padding_titre,\n",
    "        max_len_padding_profession=max_len_padding_profession,\n",
    "    )\n",
    "\n",
    "    return train_dataset, val_dataset, test_dataset\n",
    "\n",
    "\n",
    "def get_dataloader(\n",
    "    train_dataset,\n",
    "    val_dataset,\n",
    "    test_dataset,\n",
    "    batch_size=32,\n",
    "    num_workers=8,\n",
    "):\n",
    "    train_dataloader = DataLoader(\n",
    "        train_dataset, batch_size=batch_size, shuffle=True, num_workers=num_workers\n",
    "    )\n",
    "    val_dataloader = DataLoader(val_dataset, batch_size=batch_size, num_workers=num_workers)\n",
    "    test_dataloader = DataLoader(test_dataset, batch_size=batch_size, num_workers=num_workers)\n",
    "\n",
    "    return train_dataloader, val_dataloader, test_dataloader"
   ]
  },
  {
   "cell_type": "code",
   "execution_count": 9,
   "metadata": {},
   "outputs": [],
   "source": [
    "from torch import nn\n",
    "from transformers import CamembertModel\n",
    "\n",
    "\n",
    "class SeanceClassifier(nn.Module):\n",
    "    def __init__(\n",
    "        self,\n",
    "        bert_model,\n",
    "        num_classes,\n",
    "        intervention_dim=256,\n",
    "        titre_dim=128,\n",
    "        profession_dim=64,\n",
    "        bert_dim=768,\n",
    "        dropout=0.1,\n",
    "    ):\n",
    "        super(SeanceClassifier, self).__init__()\n",
    "\n",
    "        # Parameters\n",
    "        self.num_classes = num_classes\n",
    "        self.intervention_dim = intervention_dim\n",
    "        self.titre_dim = titre_dim\n",
    "        self.profession_dim = profession_dim\n",
    "        self.inter_dim = intervention_dim + titre_dim + profession_dim\n",
    "        self.bert_dim = bert_dim\n",
    "        self.dropout = dropout\n",
    "\n",
    "        self.bert = bert_model\n",
    "\n",
    "        self.intervention_linear = nn.Linear(bert_dim, intervention_dim)\n",
    "        self.titre_linear = nn.Linear(bert_dim, titre_dim)\n",
    "        self.profession_linear = nn.Linear(bert_dim, profession_dim)\n",
    "\n",
    "        self.mlp = nn.Sequential(\n",
    "            nn.Dropout(dropout),\n",
    "            nn.Linear(self.inter_dim, self.inter_dim),\n",
    "            nn.ReLU(),\n",
    "            nn.Dropout(dropout),\n",
    "            nn.Linear(self.inter_dim, self.inter_dim),\n",
    "            nn.ReLU(),\n",
    "            nn.Dropout(dropout),\n",
    "            nn.Linear(self.inter_dim, num_classes),\n",
    "            nn.ReLU(),\n",
    "        )\n",
    "\n",
    "    def forward(self, intervention, titre, profession):\n",
    "        # Embed interventions\n",
    "        _, intervention_pooled_output = self.bert(\n",
    "            input_ids=intervention[\"input_ids\"].squeeze(1),\n",
    "            attention_mask=intervention[\"attention_mask\"].squeeze(1),\n",
    "            return_dict=False,\n",
    "        )\n",
    "\n",
    "        # Embed titre\n",
    "        _, titre_pooled_output = self.bert(\n",
    "            input_ids=titre[\"input_ids\"].squeeze(1),\n",
    "            attention_mask=titre[\"attention_mask\"].squeeze(1),\n",
    "            return_dict=False,\n",
    "        )\n",
    "\n",
    "        # Embed profession\n",
    "        _, profession_pooled_output = self.bert(\n",
    "            input_ids=profession[\"input_ids\"].squeeze(1),\n",
    "            attention_mask=profession[\"attention_mask\"].squeeze(1),\n",
    "            return_dict=False,\n",
    "        )\n",
    "\n",
    "        intervention_embeded = self.intervention_linear(intervention_pooled_output)\n",
    "        titre_embeded = self.titre_linear(titre_pooled_output)\n",
    "        profession_embeded = self.profession_linear(profession_pooled_output)\n",
    "\n",
    "        # Concatenate the embeddings\n",
    "        seance_repr = torch.cat([intervention_embeded, titre_embeded, profession_embeded], dim=1)\n",
    "\n",
    "        # MLP classifier layer\n",
    "        final_output = self.mlp(seance_repr)\n",
    "\n",
    "        return final_output"
   ]
  },
  {
   "cell_type": "code",
   "execution_count": 10,
   "metadata": {},
   "outputs": [],
   "source": [
    "import pytorch_lightning as pl\n",
    "from torch import nn, optim\n",
    "\n",
    "\n",
    "class SeanceLitClassifier(pl.LightningModule):\n",
    "    def __init__(\n",
    "        self,\n",
    "        processed_df,\n",
    "        labels_dict,\n",
    "        batch_size=32,\n",
    "        num_workers=8,\n",
    "        type_bert=\"camembert\",\n",
    "        freeze_bert=True,\n",
    "        intervention_dim=256,\n",
    "        titre_dim=128,\n",
    "        profession_dim=64,\n",
    "        bert_dim=768,\n",
    "        dropout=0.1,\n",
    "        lr=1e-3,\n",
    "    ):\n",
    "        super().__init__()\n",
    "        self.example_input_array = {\n",
    "            \"intervention\": {\n",
    "                \"input_ids\": torch.randint(0, 100, (32, 1, 512)),\n",
    "                \"attention_mask\": torch.randint(0, 2, (32, 1, 512)),\n",
    "            },\n",
    "            \"titre\": {\n",
    "                \"input_ids\": torch.randint(0, 100, (32, 1, 64)),\n",
    "                \"attention_mask\": torch.randint(0, 2, (32, 1, 64)),\n",
    "            },\n",
    "            \"profession\": {\n",
    "                \"input_ids\": torch.randint(0, 100, (32, 1, 16)),\n",
    "                \"attention_mask\": torch.randint(0, 2, (32, 1, 16)),\n",
    "            },\n",
    "        }\n",
    "\n",
    "        # Parameters\n",
    "        self.num_classes = len(np.unique(list(labels_dict.values())))\n",
    "        self.processed_df = processed_df\n",
    "        self.labels_dict = labels_dict\n",
    "        self.batch_size = batch_size\n",
    "        self.num_workers = num_workers\n",
    "        self.type_bert = type_bert\n",
    "        self.freeze_bert = freeze_bert\n",
    "        self.intervention_dim = intervention_dim\n",
    "        self.titre_dim = titre_dim\n",
    "        self.profession_dim = profession_dim\n",
    "        self.bert_dim = bert_dim\n",
    "        self.dropout = dropout\n",
    "        self.lr = lr\n",
    "\n",
    "        # Models\n",
    "        if type_bert == \"camembert\":\n",
    "            self.bert_model = CamembertModel.from_pretrained(\"camembert-base\")\n",
    "            self.tokenizer = CamembertTokenizer.from_pretrained(\"camembert-base\")\n",
    "        else:\n",
    "            self.bert_model = BertModel.from_pretrained(\"bert-base-multilingual-cased\")\n",
    "            self.tokenizer = BertTokenizer.from_pretrained(\"bert-base-multilingual-cased\")\n",
    "\n",
    "        if freeze_bert:\n",
    "            for p in self.bert_model.parameters():\n",
    "                p.requires_grad = False\n",
    "\n",
    "        self.classifier = SeanceClassifier(\n",
    "            bert_model=self.bert_model,\n",
    "            num_classes=self.num_classes,\n",
    "            intervention_dim=intervention_dim,\n",
    "            titre_dim=titre_dim,\n",
    "            profession_dim=profession_dim,\n",
    "            bert_dim=bert_dim,\n",
    "            dropout=dropout,\n",
    "        )\n",
    "\n",
    "        # Save the hyperparameters\n",
    "        # See https://pytorch-lightning.readthedocs.io/en/latest/common/checkpointing_basic.html#save-a-checkpoint\n",
    "        self.save_hyperparameters()\n",
    "\n",
    "    def forward(self, intervention, titre, profession):\n",
    "        return self.classifier(intervention, titre, profession)\n",
    "\n",
    "    def training_step(self, batch, batch_idx):\n",
    "        # training_step defines the train loop.\n",
    "        # it is independent of forward\n",
    "        x, y = batch\n",
    "        x_hat = self.forward(x[\"intervention\"], x[\"titre\"], x[\"profession\"])\n",
    "        loss = nn.CrossEntropyLoss()(x_hat, y)\n",
    "        # Logging to TensorBoard by default\n",
    "        self.log(\"train_loss\", loss)\n",
    "        return loss\n",
    "\n",
    "    def test_step(self, batch, batch_idx):\n",
    "        # this is the test loop\n",
    "        # See more https://pytorch-lightning.readthedocs.io/en/latest/common/evaluation_basic.html\n",
    "        x, y = batch\n",
    "        x_hat = self.forward(x[\"intervention\"], x[\"titre\"], x[\"profession\"])\n",
    "        loss = nn.CrossEntropyLoss()(x_hat, y)\n",
    "        # Logging to TensorBoard by default\n",
    "        self.log(\"test_loss\", loss)\n",
    "\n",
    "    def validation_step(self, batch, batch_idx):\n",
    "        # this is the validation loop\n",
    "        x, y = batch\n",
    "        x_hat = self.forward(x[\"intervention\"], x[\"titre\"], x[\"profession\"])\n",
    "        loss = nn.CrossEntropyLoss()(x_hat, y)\n",
    "        # Logging to TensorBoard by default\n",
    "        self.log(\"val_loss\", loss)\n",
    "\n",
    "    def configure_optimizers(self):\n",
    "        optimizer = optim.Adam(self.parameters(), lr=self.lr)\n",
    "        return optimizer\n",
    "\n",
    "    def predict_step(self, batch, batch_idx, dataloader_idx=0):\n",
    "        return self(batch)\n",
    "\n",
    "    def prepare_data(self):\n",
    "        self.train_data, self.val_data, self.test_data = get_dataset(\n",
    "            self.tokenizer,\n",
    "            self.processed_df,\n",
    "            self.labels_dict,\n",
    "            group_var=\"groupe\",\n",
    "            intervention_var=\"intervention\",\n",
    "            titre_var=\"titre_complet\",\n",
    "            profession_var=\"profession\",\n",
    "            max_len_padding=512,\n",
    "            max_len_padding_titre=64,\n",
    "            max_len_padding_profession=16,\n",
    "            test_frac=0.25,\n",
    "            val_frac=0.2,\n",
    "        )\n",
    "\n",
    "    def train_dataloader(self):\n",
    "        return DataLoader(\n",
    "            self.train_data, batch_size=self.batch_size, shuffle=True, num_workers=self.batch_size\n",
    "        )\n",
    "\n",
    "    def val_dataloader(self):\n",
    "        return DataLoader(self.val_data, batch_size=self.batch_size, num_workers=self.batch_size)\n",
    "\n",
    "    def test_dataloader(self):\n",
    "        return DataLoader(self.test_data, batch_size=self.batch_size, num_workers=self.batch_size)"
   ]
  },
  {
   "cell_type": "code",
   "execution_count": 60,
   "metadata": {},
   "outputs": [
    {
     "ename": "KeyboardInterrupt",
     "evalue": "",
     "output_type": "error",
     "traceback": [
      "\u001b[0;31m---------------------------------------------------------------------------\u001b[0m",
      "\u001b[0;31mKeyboardInterrupt\u001b[0m                         Traceback (most recent call last)",
      "Cell \u001b[0;32mIn[60], line 1\u001b[0m\n\u001b[0;32m----> 1\u001b[0m train_dataset, val_dataset, test_dataset  \u001b[39m=\u001b[39m get_dataset(\n\u001b[1;32m      2\u001b[0m     tokenizer,\n\u001b[1;32m      3\u001b[0m     processed_df,\n\u001b[1;32m      4\u001b[0m     labels_dict\n\u001b[1;32m      5\u001b[0m )\n\u001b[1;32m      7\u001b[0m train_dataloader, val_dataloader, test_dataloader \u001b[39m=\u001b[39m get_dataloader(\n\u001b[1;32m      8\u001b[0m     train_dataset, val_dataset, test_dataset, batch_size\u001b[39m=\u001b[39m\u001b[39m128\u001b[39m, num_workers\u001b[39m=\u001b[39m\u001b[39m8\u001b[39m\n\u001b[1;32m      9\u001b[0m )\n",
      "Cell \u001b[0;32mIn[57], line 35\u001b[0m, in \u001b[0;36mget_dataset\u001b[0;34m(tokenizer, processed_df, labels_dict, group_var, intervention_var, titre_var, profession_var, max_len_padding, max_len_padding_titre, max_len_padding_profession, test_frac, val_frac)\u001b[0m\n\u001b[1;32m     20\u001b[0m idx_train, idx_val, y_train, y_val \u001b[39m=\u001b[39m train_test_split(idx_train, y_train, test_size\u001b[39m=\u001b[39mval_frac, random_state\u001b[39m=\u001b[39m\u001b[39m42\u001b[39m, stratify\u001b[39m=\u001b[39my_train)\n\u001b[1;32m     22\u001b[0m train_dataset \u001b[39m=\u001b[39m SeanceDataset(\n\u001b[1;32m     23\u001b[0m     tokenizer,\n\u001b[1;32m     24\u001b[0m     processed_df\u001b[39m.\u001b[39miloc[idx_train],\n\u001b[0;32m   (...)\u001b[0m\n\u001b[1;32m     32\u001b[0m     max_len_padding_profession\u001b[39m=\u001b[39mmax_len_padding_profession,\n\u001b[1;32m     33\u001b[0m )\n\u001b[0;32m---> 35\u001b[0m val_dataset \u001b[39m=\u001b[39m SeanceDataset(\n\u001b[1;32m     36\u001b[0m     tokenizer,\n\u001b[1;32m     37\u001b[0m     processed_df\u001b[39m.\u001b[39;49miloc[idx_val],\n\u001b[1;32m     38\u001b[0m     labels_dict,\n\u001b[1;32m     39\u001b[0m     group_var\u001b[39m=\u001b[39;49mgroup_var,\n\u001b[1;32m     40\u001b[0m     intervention_var\u001b[39m=\u001b[39;49mintervention_var,\n\u001b[1;32m     41\u001b[0m     titre_var\u001b[39m=\u001b[39;49mtitre_var,\n\u001b[1;32m     42\u001b[0m     profession_var\u001b[39m=\u001b[39;49mprofession_var,\n\u001b[1;32m     43\u001b[0m     max_len_padding\u001b[39m=\u001b[39;49mmax_len_padding,\n\u001b[1;32m     44\u001b[0m     max_len_padding_titre\u001b[39m=\u001b[39;49mmax_len_padding_titre,\n\u001b[1;32m     45\u001b[0m     max_len_padding_profession\u001b[39m=\u001b[39;49mmax_len_padding_profession,\n\u001b[1;32m     46\u001b[0m )\n\u001b[1;32m     48\u001b[0m test_dataset \u001b[39m=\u001b[39m SeanceDataset(\n\u001b[1;32m     49\u001b[0m     tokenizer,\n\u001b[1;32m     50\u001b[0m     processed_df\u001b[39m.\u001b[39miloc[idx_test],\n\u001b[0;32m   (...)\u001b[0m\n\u001b[1;32m     58\u001b[0m     max_len_padding_profession\u001b[39m=\u001b[39mmax_len_padding_profession,\n\u001b[1;32m     59\u001b[0m )\n\u001b[1;32m     61\u001b[0m \u001b[39mreturn\u001b[39;00m train_dataset, val_dataset, test_dataset\n",
      "Cell \u001b[0;32mIn[55], line 36\u001b[0m, in \u001b[0;36mSeanceDataset.__init__\u001b[0;34m(self, tokenizer, df, labels_dict, group_var, intervention_var, titre_var, profession_var, max_len_padding, max_len_padding_titre, max_len_padding_profession)\u001b[0m\n\u001b[1;32m     33\u001b[0m \u001b[39m# Inputs and labels\u001b[39;00m\n\u001b[1;32m     34\u001b[0m \u001b[39mself\u001b[39m\u001b[39m.\u001b[39mlabels \u001b[39m=\u001b[39m [labels_dict[label] \u001b[39mfor\u001b[39;00m label \u001b[39min\u001b[39;00m df[group_var]]\n\u001b[0;32m---> 36\u001b[0m \u001b[39mself\u001b[39m\u001b[39m.\u001b[39minterventions \u001b[39m=\u001b[39m [tokenizer(\n\u001b[1;32m     37\u001b[0m     text,\n\u001b[1;32m     38\u001b[0m     padding\u001b[39m=\u001b[39m\u001b[39m\"\u001b[39m\u001b[39mmax_length\u001b[39m\u001b[39m\"\u001b[39m,\n\u001b[1;32m     39\u001b[0m     max_length\u001b[39m=\u001b[39mmax_len_padding,\n\u001b[1;32m     40\u001b[0m     truncation\u001b[39m=\u001b[39m\u001b[39mTrue\u001b[39;00m,\n\u001b[1;32m     41\u001b[0m     return_tensors\u001b[39m=\u001b[39m\u001b[39m\"\u001b[39m\u001b[39mpt\u001b[39m\u001b[39m\"\u001b[39m\n\u001b[1;32m     42\u001b[0m ) \u001b[39mfor\u001b[39;00m text \u001b[39min\u001b[39;00m df[intervention_var]]\n\u001b[1;32m     44\u001b[0m \u001b[39mself\u001b[39m\u001b[39m.\u001b[39mtitres \u001b[39m=\u001b[39m [tokenizer(\n\u001b[1;32m     45\u001b[0m     text,\n\u001b[1;32m     46\u001b[0m     padding\u001b[39m=\u001b[39m\u001b[39m\"\u001b[39m\u001b[39mmax_length\u001b[39m\u001b[39m\"\u001b[39m,\n\u001b[0;32m   (...)\u001b[0m\n\u001b[1;32m     49\u001b[0m     return_tensors\u001b[39m=\u001b[39m\u001b[39m\"\u001b[39m\u001b[39mpt\u001b[39m\u001b[39m\"\u001b[39m\n\u001b[1;32m     50\u001b[0m ) \u001b[39mfor\u001b[39;00m text \u001b[39min\u001b[39;00m df[titre_var]]\n\u001b[1;32m     52\u001b[0m \u001b[39mself\u001b[39m\u001b[39m.\u001b[39mprofessions \u001b[39m=\u001b[39m [tokenizer(\n\u001b[1;32m     53\u001b[0m     text,\n\u001b[1;32m     54\u001b[0m     padding\u001b[39m=\u001b[39m\u001b[39m\"\u001b[39m\u001b[39mmax_length\u001b[39m\u001b[39m\"\u001b[39m,\n\u001b[0;32m   (...)\u001b[0m\n\u001b[1;32m     57\u001b[0m     return_tensors\u001b[39m=\u001b[39m\u001b[39m\"\u001b[39m\u001b[39mpt\u001b[39m\u001b[39m\"\u001b[39m\n\u001b[1;32m     58\u001b[0m ) \u001b[39mfor\u001b[39;00m text \u001b[39min\u001b[39;00m df[profession_var]]\n",
      "Cell \u001b[0;32mIn[55], line 36\u001b[0m, in \u001b[0;36m<listcomp>\u001b[0;34m(.0)\u001b[0m\n\u001b[1;32m     33\u001b[0m \u001b[39m# Inputs and labels\u001b[39;00m\n\u001b[1;32m     34\u001b[0m \u001b[39mself\u001b[39m\u001b[39m.\u001b[39mlabels \u001b[39m=\u001b[39m [labels_dict[label] \u001b[39mfor\u001b[39;00m label \u001b[39min\u001b[39;00m df[group_var]]\n\u001b[0;32m---> 36\u001b[0m \u001b[39mself\u001b[39m\u001b[39m.\u001b[39minterventions \u001b[39m=\u001b[39m [tokenizer(\n\u001b[1;32m     37\u001b[0m     text,\n\u001b[1;32m     38\u001b[0m     padding\u001b[39m=\u001b[39;49m\u001b[39m\"\u001b[39;49m\u001b[39mmax_length\u001b[39;49m\u001b[39m\"\u001b[39;49m,\n\u001b[1;32m     39\u001b[0m     max_length\u001b[39m=\u001b[39;49mmax_len_padding,\n\u001b[1;32m     40\u001b[0m     truncation\u001b[39m=\u001b[39;49m\u001b[39mTrue\u001b[39;49;00m,\n\u001b[1;32m     41\u001b[0m     return_tensors\u001b[39m=\u001b[39;49m\u001b[39m\"\u001b[39;49m\u001b[39mpt\u001b[39;49m\u001b[39m\"\u001b[39;49m\n\u001b[1;32m     42\u001b[0m ) \u001b[39mfor\u001b[39;00m text \u001b[39min\u001b[39;00m df[intervention_var]]\n\u001b[1;32m     44\u001b[0m \u001b[39mself\u001b[39m\u001b[39m.\u001b[39mtitres \u001b[39m=\u001b[39m [tokenizer(\n\u001b[1;32m     45\u001b[0m     text,\n\u001b[1;32m     46\u001b[0m     padding\u001b[39m=\u001b[39m\u001b[39m\"\u001b[39m\u001b[39mmax_length\u001b[39m\u001b[39m\"\u001b[39m,\n\u001b[0;32m   (...)\u001b[0m\n\u001b[1;32m     49\u001b[0m     return_tensors\u001b[39m=\u001b[39m\u001b[39m\"\u001b[39m\u001b[39mpt\u001b[39m\u001b[39m\"\u001b[39m\n\u001b[1;32m     50\u001b[0m ) \u001b[39mfor\u001b[39;00m text \u001b[39min\u001b[39;00m df[titre_var]]\n\u001b[1;32m     52\u001b[0m \u001b[39mself\u001b[39m\u001b[39m.\u001b[39mprofessions \u001b[39m=\u001b[39m [tokenizer(\n\u001b[1;32m     53\u001b[0m     text,\n\u001b[1;32m     54\u001b[0m     padding\u001b[39m=\u001b[39m\u001b[39m\"\u001b[39m\u001b[39mmax_length\u001b[39m\u001b[39m\"\u001b[39m,\n\u001b[0;32m   (...)\u001b[0m\n\u001b[1;32m     57\u001b[0m     return_tensors\u001b[39m=\u001b[39m\u001b[39m\"\u001b[39m\u001b[39mpt\u001b[39m\u001b[39m\"\u001b[39m\n\u001b[1;32m     58\u001b[0m ) \u001b[39mfor\u001b[39;00m text \u001b[39min\u001b[39;00m df[profession_var]]\n",
      "File \u001b[0;32m~/miniconda3/envs/pytorch-11-7/lib/python3.10/site-packages/transformers/tokenization_utils_base.py:2488\u001b[0m, in \u001b[0;36mPreTrainedTokenizerBase.__call__\u001b[0;34m(self, text, text_pair, text_target, text_pair_target, add_special_tokens, padding, truncation, max_length, stride, is_split_into_words, pad_to_multiple_of, return_tensors, return_token_type_ids, return_attention_mask, return_overflowing_tokens, return_special_tokens_mask, return_offsets_mapping, return_length, verbose, **kwargs)\u001b[0m\n\u001b[1;32m   2486\u001b[0m     \u001b[39mif\u001b[39;00m \u001b[39mnot\u001b[39;00m \u001b[39mself\u001b[39m\u001b[39m.\u001b[39m_in_target_context_manager:\n\u001b[1;32m   2487\u001b[0m         \u001b[39mself\u001b[39m\u001b[39m.\u001b[39m_switch_to_input_mode()\n\u001b[0;32m-> 2488\u001b[0m     encodings \u001b[39m=\u001b[39m \u001b[39mself\u001b[39;49m\u001b[39m.\u001b[39;49m_call_one(text\u001b[39m=\u001b[39;49mtext, text_pair\u001b[39m=\u001b[39;49mtext_pair, \u001b[39m*\u001b[39;49m\u001b[39m*\u001b[39;49mall_kwargs)\n\u001b[1;32m   2489\u001b[0m \u001b[39mif\u001b[39;00m text_target \u001b[39mis\u001b[39;00m \u001b[39mnot\u001b[39;00m \u001b[39mNone\u001b[39;00m:\n\u001b[1;32m   2490\u001b[0m     \u001b[39mself\u001b[39m\u001b[39m.\u001b[39m_switch_to_target_mode()\n",
      "File \u001b[0;32m~/miniconda3/envs/pytorch-11-7/lib/python3.10/site-packages/transformers/tokenization_utils_base.py:2594\u001b[0m, in \u001b[0;36mPreTrainedTokenizerBase._call_one\u001b[0;34m(self, text, text_pair, add_special_tokens, padding, truncation, max_length, stride, is_split_into_words, pad_to_multiple_of, return_tensors, return_token_type_ids, return_attention_mask, return_overflowing_tokens, return_special_tokens_mask, return_offsets_mapping, return_length, verbose, **kwargs)\u001b[0m\n\u001b[1;32m   2574\u001b[0m     \u001b[39mreturn\u001b[39;00m \u001b[39mself\u001b[39m\u001b[39m.\u001b[39mbatch_encode_plus(\n\u001b[1;32m   2575\u001b[0m         batch_text_or_text_pairs\u001b[39m=\u001b[39mbatch_text_or_text_pairs,\n\u001b[1;32m   2576\u001b[0m         add_special_tokens\u001b[39m=\u001b[39madd_special_tokens,\n\u001b[0;32m   (...)\u001b[0m\n\u001b[1;32m   2591\u001b[0m         \u001b[39m*\u001b[39m\u001b[39m*\u001b[39mkwargs,\n\u001b[1;32m   2592\u001b[0m     )\n\u001b[1;32m   2593\u001b[0m \u001b[39melse\u001b[39;00m:\n\u001b[0;32m-> 2594\u001b[0m     \u001b[39mreturn\u001b[39;00m \u001b[39mself\u001b[39;49m\u001b[39m.\u001b[39;49mencode_plus(\n\u001b[1;32m   2595\u001b[0m         text\u001b[39m=\u001b[39;49mtext,\n\u001b[1;32m   2596\u001b[0m         text_pair\u001b[39m=\u001b[39;49mtext_pair,\n\u001b[1;32m   2597\u001b[0m         add_special_tokens\u001b[39m=\u001b[39;49madd_special_tokens,\n\u001b[1;32m   2598\u001b[0m         padding\u001b[39m=\u001b[39;49mpadding,\n\u001b[1;32m   2599\u001b[0m         truncation\u001b[39m=\u001b[39;49mtruncation,\n\u001b[1;32m   2600\u001b[0m         max_length\u001b[39m=\u001b[39;49mmax_length,\n\u001b[1;32m   2601\u001b[0m         stride\u001b[39m=\u001b[39;49mstride,\n\u001b[1;32m   2602\u001b[0m         is_split_into_words\u001b[39m=\u001b[39;49mis_split_into_words,\n\u001b[1;32m   2603\u001b[0m         pad_to_multiple_of\u001b[39m=\u001b[39;49mpad_to_multiple_of,\n\u001b[1;32m   2604\u001b[0m         return_tensors\u001b[39m=\u001b[39;49mreturn_tensors,\n\u001b[1;32m   2605\u001b[0m         return_token_type_ids\u001b[39m=\u001b[39;49mreturn_token_type_ids,\n\u001b[1;32m   2606\u001b[0m         return_attention_mask\u001b[39m=\u001b[39;49mreturn_attention_mask,\n\u001b[1;32m   2607\u001b[0m         return_overflowing_tokens\u001b[39m=\u001b[39;49mreturn_overflowing_tokens,\n\u001b[1;32m   2608\u001b[0m         return_special_tokens_mask\u001b[39m=\u001b[39;49mreturn_special_tokens_mask,\n\u001b[1;32m   2609\u001b[0m         return_offsets_mapping\u001b[39m=\u001b[39;49mreturn_offsets_mapping,\n\u001b[1;32m   2610\u001b[0m         return_length\u001b[39m=\u001b[39;49mreturn_length,\n\u001b[1;32m   2611\u001b[0m         verbose\u001b[39m=\u001b[39;49mverbose,\n\u001b[1;32m   2612\u001b[0m         \u001b[39m*\u001b[39;49m\u001b[39m*\u001b[39;49mkwargs,\n\u001b[1;32m   2613\u001b[0m     )\n",
      "File \u001b[0;32m~/miniconda3/envs/pytorch-11-7/lib/python3.10/site-packages/transformers/tokenization_utils_base.py:2667\u001b[0m, in \u001b[0;36mPreTrainedTokenizerBase.encode_plus\u001b[0;34m(self, text, text_pair, add_special_tokens, padding, truncation, max_length, stride, is_split_into_words, pad_to_multiple_of, return_tensors, return_token_type_ids, return_attention_mask, return_overflowing_tokens, return_special_tokens_mask, return_offsets_mapping, return_length, verbose, **kwargs)\u001b[0m\n\u001b[1;32m   2657\u001b[0m \u001b[39m# Backward compatibility for 'truncation_strategy', 'pad_to_max_length'\u001b[39;00m\n\u001b[1;32m   2658\u001b[0m padding_strategy, truncation_strategy, max_length, kwargs \u001b[39m=\u001b[39m \u001b[39mself\u001b[39m\u001b[39m.\u001b[39m_get_padding_truncation_strategies(\n\u001b[1;32m   2659\u001b[0m     padding\u001b[39m=\u001b[39mpadding,\n\u001b[1;32m   2660\u001b[0m     truncation\u001b[39m=\u001b[39mtruncation,\n\u001b[0;32m   (...)\u001b[0m\n\u001b[1;32m   2664\u001b[0m     \u001b[39m*\u001b[39m\u001b[39m*\u001b[39mkwargs,\n\u001b[1;32m   2665\u001b[0m )\n\u001b[0;32m-> 2667\u001b[0m \u001b[39mreturn\u001b[39;00m \u001b[39mself\u001b[39;49m\u001b[39m.\u001b[39;49m_encode_plus(\n\u001b[1;32m   2668\u001b[0m     text\u001b[39m=\u001b[39;49mtext,\n\u001b[1;32m   2669\u001b[0m     text_pair\u001b[39m=\u001b[39;49mtext_pair,\n\u001b[1;32m   2670\u001b[0m     add_special_tokens\u001b[39m=\u001b[39;49madd_special_tokens,\n\u001b[1;32m   2671\u001b[0m     padding_strategy\u001b[39m=\u001b[39;49mpadding_strategy,\n\u001b[1;32m   2672\u001b[0m     truncation_strategy\u001b[39m=\u001b[39;49mtruncation_strategy,\n\u001b[1;32m   2673\u001b[0m     max_length\u001b[39m=\u001b[39;49mmax_length,\n\u001b[1;32m   2674\u001b[0m     stride\u001b[39m=\u001b[39;49mstride,\n\u001b[1;32m   2675\u001b[0m     is_split_into_words\u001b[39m=\u001b[39;49mis_split_into_words,\n\u001b[1;32m   2676\u001b[0m     pad_to_multiple_of\u001b[39m=\u001b[39;49mpad_to_multiple_of,\n\u001b[1;32m   2677\u001b[0m     return_tensors\u001b[39m=\u001b[39;49mreturn_tensors,\n\u001b[1;32m   2678\u001b[0m     return_token_type_ids\u001b[39m=\u001b[39;49mreturn_token_type_ids,\n\u001b[1;32m   2679\u001b[0m     return_attention_mask\u001b[39m=\u001b[39;49mreturn_attention_mask,\n\u001b[1;32m   2680\u001b[0m     return_overflowing_tokens\u001b[39m=\u001b[39;49mreturn_overflowing_tokens,\n\u001b[1;32m   2681\u001b[0m     return_special_tokens_mask\u001b[39m=\u001b[39;49mreturn_special_tokens_mask,\n\u001b[1;32m   2682\u001b[0m     return_offsets_mapping\u001b[39m=\u001b[39;49mreturn_offsets_mapping,\n\u001b[1;32m   2683\u001b[0m     return_length\u001b[39m=\u001b[39;49mreturn_length,\n\u001b[1;32m   2684\u001b[0m     verbose\u001b[39m=\u001b[39;49mverbose,\n\u001b[1;32m   2685\u001b[0m     \u001b[39m*\u001b[39;49m\u001b[39m*\u001b[39;49mkwargs,\n\u001b[1;32m   2686\u001b[0m )\n",
      "File \u001b[0;32m~/miniconda3/envs/pytorch-11-7/lib/python3.10/site-packages/transformers/tokenization_utils.py:649\u001b[0m, in \u001b[0;36mPreTrainedTokenizer._encode_plus\u001b[0;34m(self, text, text_pair, add_special_tokens, padding_strategy, truncation_strategy, max_length, stride, is_split_into_words, pad_to_multiple_of, return_tensors, return_token_type_ids, return_attention_mask, return_overflowing_tokens, return_special_tokens_mask, return_offsets_mapping, return_length, verbose, **kwargs)\u001b[0m\n\u001b[1;32m    640\u001b[0m \u001b[39mif\u001b[39;00m return_offsets_mapping:\n\u001b[1;32m    641\u001b[0m     \u001b[39mraise\u001b[39;00m \u001b[39mNotImplementedError\u001b[39;00m(\n\u001b[1;32m    642\u001b[0m         \u001b[39m\"\u001b[39m\u001b[39mreturn_offset_mapping is not available when using Python tokenizers. \u001b[39m\u001b[39m\"\u001b[39m\n\u001b[1;32m    643\u001b[0m         \u001b[39m\"\u001b[39m\u001b[39mTo use this feature, change your tokenizer to one deriving from \u001b[39m\u001b[39m\"\u001b[39m\n\u001b[0;32m   (...)\u001b[0m\n\u001b[1;32m    646\u001b[0m         \u001b[39m\"\u001b[39m\u001b[39mhttps://github.com/huggingface/transformers/pull/2674\u001b[39m\u001b[39m\"\u001b[39m\n\u001b[1;32m    647\u001b[0m     )\n\u001b[0;32m--> 649\u001b[0m first_ids \u001b[39m=\u001b[39m get_input_ids(text)\n\u001b[1;32m    650\u001b[0m second_ids \u001b[39m=\u001b[39m get_input_ids(text_pair) \u001b[39mif\u001b[39;00m text_pair \u001b[39mis\u001b[39;00m \u001b[39mnot\u001b[39;00m \u001b[39mNone\u001b[39;00m \u001b[39melse\u001b[39;00m \u001b[39mNone\u001b[39;00m\n\u001b[1;32m    652\u001b[0m \u001b[39mreturn\u001b[39;00m \u001b[39mself\u001b[39m\u001b[39m.\u001b[39mprepare_for_model(\n\u001b[1;32m    653\u001b[0m     first_ids,\n\u001b[1;32m    654\u001b[0m     pair_ids\u001b[39m=\u001b[39msecond_ids,\n\u001b[0;32m   (...)\u001b[0m\n\u001b[1;32m    668\u001b[0m     verbose\u001b[39m=\u001b[39mverbose,\n\u001b[1;32m    669\u001b[0m )\n",
      "File \u001b[0;32m~/miniconda3/envs/pytorch-11-7/lib/python3.10/site-packages/transformers/tokenization_utils.py:616\u001b[0m, in \u001b[0;36mPreTrainedTokenizer._encode_plus.<locals>.get_input_ids\u001b[0;34m(text)\u001b[0m\n\u001b[1;32m    614\u001b[0m \u001b[39mdef\u001b[39;00m \u001b[39mget_input_ids\u001b[39m(text):\n\u001b[1;32m    615\u001b[0m     \u001b[39mif\u001b[39;00m \u001b[39misinstance\u001b[39m(text, \u001b[39mstr\u001b[39m):\n\u001b[0;32m--> 616\u001b[0m         tokens \u001b[39m=\u001b[39m \u001b[39mself\u001b[39;49m\u001b[39m.\u001b[39;49mtokenize(text, \u001b[39m*\u001b[39;49m\u001b[39m*\u001b[39;49mkwargs)\n\u001b[1;32m    617\u001b[0m         \u001b[39mreturn\u001b[39;00m \u001b[39mself\u001b[39m\u001b[39m.\u001b[39mconvert_tokens_to_ids(tokens)\n\u001b[1;32m    618\u001b[0m     \u001b[39melif\u001b[39;00m \u001b[39misinstance\u001b[39m(text, (\u001b[39mlist\u001b[39m, \u001b[39mtuple\u001b[39m)) \u001b[39mand\u001b[39;00m \u001b[39mlen\u001b[39m(text) \u001b[39m>\u001b[39m \u001b[39m0\u001b[39m \u001b[39mand\u001b[39;00m \u001b[39misinstance\u001b[39m(text[\u001b[39m0\u001b[39m], \u001b[39mstr\u001b[39m):\n",
      "File \u001b[0;32m~/miniconda3/envs/pytorch-11-7/lib/python3.10/site-packages/transformers/tokenization_utils.py:547\u001b[0m, in \u001b[0;36mPreTrainedTokenizer.tokenize\u001b[0;34m(self, text, **kwargs)\u001b[0m\n\u001b[1;32m    545\u001b[0m         tokenized_text\u001b[39m.\u001b[39mappend(token)\n\u001b[1;32m    546\u001b[0m     \u001b[39melse\u001b[39;00m:\n\u001b[0;32m--> 547\u001b[0m         tokenized_text\u001b[39m.\u001b[39mextend(\u001b[39mself\u001b[39;49m\u001b[39m.\u001b[39;49m_tokenize(token))\n\u001b[1;32m    548\u001b[0m \u001b[39m# [\"This\", \" is\", \" something\", \"<special_token_1>\", \"else\"]\u001b[39;00m\n\u001b[1;32m    549\u001b[0m \u001b[39mreturn\u001b[39;00m tokenized_text\n",
      "File \u001b[0;32m~/miniconda3/envs/pytorch-11-7/lib/python3.10/site-packages/transformers/models/camembert/tokenization_camembert.py:247\u001b[0m, in \u001b[0;36mCamembertTokenizer._tokenize\u001b[0;34m(self, text)\u001b[0m\n\u001b[1;32m    246\u001b[0m \u001b[39mdef\u001b[39;00m \u001b[39m_tokenize\u001b[39m(\u001b[39mself\u001b[39m, text: \u001b[39mstr\u001b[39m) \u001b[39m-\u001b[39m\u001b[39m>\u001b[39m List[\u001b[39mstr\u001b[39m]:\n\u001b[0;32m--> 247\u001b[0m     \u001b[39mreturn\u001b[39;00m \u001b[39mself\u001b[39;49m\u001b[39m.\u001b[39;49msp_model\u001b[39m.\u001b[39;49mencode(text, out_type\u001b[39m=\u001b[39;49m\u001b[39mstr\u001b[39;49m)\n",
      "File \u001b[0;32m~/miniconda3/envs/pytorch-11-7/lib/python3.10/site-packages/sentencepiece-0.1.96-py3.10-linux-x86_64.egg/sentencepiece/__init__.py:304\u001b[0m, in \u001b[0;36mSentencePieceProcessor.Encode\u001b[0;34m(self, input, out_type, add_bos, add_eos, reverse, enable_sampling, nbest_size, alpha)\u001b[0m\n\u001b[1;32m    301\u001b[0m \u001b[39mif\u001b[39;00m \u001b[39mtype\u001b[39m(\u001b[39minput\u001b[39m) \u001b[39mis\u001b[39;00m \u001b[39mlist\u001b[39m:\n\u001b[1;32m    302\u001b[0m   \u001b[39mreturn\u001b[39;00m [_encode(n) \u001b[39mfor\u001b[39;00m n \u001b[39min\u001b[39;00m \u001b[39minput\u001b[39m]\n\u001b[0;32m--> 304\u001b[0m \u001b[39mreturn\u001b[39;00m _encode(\u001b[39minput\u001b[39;49m)\n",
      "File \u001b[0;32m~/miniconda3/envs/pytorch-11-7/lib/python3.10/site-packages/sentencepiece-0.1.96-py3.10-linux-x86_64.egg/sentencepiece/__init__.py:283\u001b[0m, in \u001b[0;36mSentencePieceProcessor.Encode.<locals>._encode\u001b[0;34m(text)\u001b[0m\n\u001b[1;32m    281\u001b[0m     result \u001b[39m=\u001b[39m \u001b[39mself\u001b[39m\u001b[39m.\u001b[39mSampleEncodeAsPieces(text, nbest_size, alpha)\n\u001b[1;32m    282\u001b[0m   \u001b[39melse\u001b[39;00m:\n\u001b[0;32m--> 283\u001b[0m     result \u001b[39m=\u001b[39m \u001b[39mself\u001b[39;49m\u001b[39m.\u001b[39;49mEncodeAsPieces(text)\n\u001b[1;32m    285\u001b[0m \u001b[39mif\u001b[39;00m reverse:\n\u001b[1;32m    286\u001b[0m   result\u001b[39m.\u001b[39mreverse()\n",
      "File \u001b[0;32m~/miniconda3/envs/pytorch-11-7/lib/python3.10/site-packages/sentencepiece-0.1.96-py3.10-linux-x86_64.egg/sentencepiece/__init__.py:99\u001b[0m, in \u001b[0;36mSentencePieceProcessor.EncodeAsPieces\u001b[0;34m(self, input)\u001b[0m\n\u001b[1;32m     98\u001b[0m \u001b[39mdef\u001b[39;00m \u001b[39mEncodeAsPieces\u001b[39m(\u001b[39mself\u001b[39m, \u001b[39minput\u001b[39m):\n\u001b[0;32m---> 99\u001b[0m     \u001b[39mreturn\u001b[39;00m _sentencepiece\u001b[39m.\u001b[39;49mSentencePieceProcessor_EncodeAsPieces(\u001b[39mself\u001b[39;49m, \u001b[39minput\u001b[39;49m)\n",
      "\u001b[0;31mKeyboardInterrupt\u001b[0m: "
     ]
    }
   ],
   "source": [
    "train_dataset, val_dataset, test_dataset = get_dataset(tokenizer, processed_df, labels_dict)\n",
    "\n",
    "train_dataloader, val_dataloader, test_dataloader = get_dataloader(\n",
    "    train_dataset, val_dataset, test_dataset, batch_size=128, num_workers=8\n",
    ")"
   ]
  },
  {
   "cell_type": "code",
   "execution_count": 62,
   "metadata": {},
   "outputs": [
    {
     "name": "stderr",
     "output_type": "stream",
     "text": [
      "Some weights of the model checkpoint at camembert-base were not used when initializing CamembertModel: ['lm_head.decoder.weight', 'lm_head.layer_norm.bias', 'lm_head.dense.bias', 'lm_head.layer_norm.weight', 'lm_head.dense.weight', 'lm_head.bias']\n",
      "- This IS expected if you are initializing CamembertModel from the checkpoint of a model trained on another task or with another architecture (e.g. initializing a BertForSequenceClassification model from a BertForPreTraining model).\n",
      "- This IS NOT expected if you are initializing CamembertModel from the checkpoint of a model that you expect to be exactly identical (initializing a BertForSequenceClassification model from a BertForSequenceClassification model).\n"
     ]
    }
   ],
   "source": [
    "lt_classifier = SeanceLitClassifier(\n",
    "    processed_df=processed_df,\n",
    "    labels_dict=labels_dict,\n",
    "    batch_size=32,\n",
    "    num_workers=8,\n",
    "    type_bert=\"camembert\",\n",
    "    freeze_bert=False,\n",
    "    intervention_dim=128,\n",
    "    titre_dim=64,\n",
    "    profession_dim=32,\n",
    "    bert_dim=768,\n",
    "    dropout=0.1,\n",
    "    lr=1e-4,\n",
    ")"
   ]
  },
  {
   "attachments": {},
   "cell_type": "markdown",
   "metadata": {},
   "source": [
    "Ligthning help\n",
    "\n",
    "```python\n",
    "# To reload from a checkpoint\n",
    "model = MyLightningModule.load_from_checkpoint(\"/path/to/checkpoint.ckpt\")\n",
    "```\n",
    "\n",
    "```python\n",
    "# To resume training\n",
    "model = LitModel()\n",
    "trainer = Trainer()\n",
    "trainer.fit(model, ckpt_path=\"some/path/to/my_checkpoint.ckpt\")\n",
    "```"
   ]
  },
  {
   "cell_type": "code",
   "execution_count": 66,
   "metadata": {},
   "outputs": [
    {
     "name": "stderr",
     "output_type": "stream",
     "text": [
      "Some weights of the model checkpoint at camembert-base were not used when initializing CamembertModel: ['lm_head.decoder.weight', 'lm_head.layer_norm.bias', 'lm_head.dense.bias', 'lm_head.layer_norm.weight', 'lm_head.dense.weight', 'lm_head.bias']\n",
      "- This IS expected if you are initializing CamembertModel from the checkpoint of a model trained on another task or with another architecture (e.g. initializing a BertForSequenceClassification model from a BertForPreTraining model).\n",
      "- This IS NOT expected if you are initializing CamembertModel from the checkpoint of a model that you expect to be exactly identical (initializing a BertForSequenceClassification model from a BertForSequenceClassification model).\n",
      "Trainer already configured with model summary callbacks: [<class 'pytorch_lightning.callbacks.model_summary.ModelSummary'>]. Skipping setting a default `ModelSummary` callback.\n",
      "GPU available: True (cuda), used: True\n",
      "TPU available: False, using: 0 TPU cores\n",
      "IPU available: False, using: 0 IPUs\n",
      "HPU available: False, using: 0 HPUs\n"
     ]
    }
   ],
   "source": [
    "from pytorch_lightning import callbacks\n",
    "\n",
    "lt_classifier = SeanceLitClassifier(\n",
    "    processed_df=processed_df,\n",
    "    labels_dict=labels_dict,\n",
    "    batch_size=32,\n",
    "    num_workers=8,\n",
    "    type_bert=\"camembert\",\n",
    "    freeze_bert=True,\n",
    "    intervention_dim=128,\n",
    "    titre_dim=50,\n",
    "    profession_dim=32,\n",
    "    bert_dim=768,\n",
    "    dropout=0.1,\n",
    "    lr=1e-4,\n",
    ")\n",
    "\n",
    "trainer = pl.Trainer(\n",
    "    accelerator=\"gpu\",\n",
    "    profiler=\"simple\",\n",
    "    max_epochs=100,\n",
    "    default_root_dir=\"../\",\n",
    "    # fast_dev_run=True,\n",
    "    # overfit_batches=1,\n",
    "    # limit_train_batches=10,\n",
    "    # limit_val_batches=5,\n",
    "    callbacks=[\n",
    "        callbacks.EarlyStopping(monitor=\"val_loss\", mode=\"min\", check_finite=True, patience=5),\n",
    "        callbacks.ModelSummary(),\n",
    "        callbacks.Timer(duration=\"00:03:00:00\", interval=\"epoch\"),  # Max three hours\n",
    "        # callbacks.RichModelSummary(),\n",
    "        # callbacks.RichProgressBar(),\n",
    "        # callbacks.LearningRateFinder(min_lr=1e-06),\n",
    "        # callbacks.BatchSizeFinder(init_val=16),\n",
    "    ],\n",
    ")"
   ]
  },
  {
   "cell_type": "code",
   "execution_count": 65,
   "metadata": {},
   "outputs": [
    {
     "name": "stderr",
     "output_type": "stream",
     "text": [
      "LOCAL_RANK: 0 - CUDA_VISIBLE_DEVICES: [0]\n",
      "\n",
      "  | Name       | Type             | Params | In sizes        | Out sizes                  \n",
      "------------------------------------------------------------------------------------------------\n",
      "0 | bert_model | CamembertModel   | 110 M  | ?               | [[32, 512, 768], [32, 768]]\n",
      "1 | classifier | SeanceClassifier | 110 M  | ['?', '?', '?'] | [32, 3]                    \n",
      "------------------------------------------------------------------------------------------------\n",
      "110 M     Trainable params\n",
      "0         Non-trainable params\n",
      "110 M     Total params\n",
      "443.583   Total estimated model params size (MB)\n"
     ]
    },
    {
     "data": {
      "application/vnd.jupyter.widget-view+json": {
       "model_id": "ce0562c376704faaba604e55613765f9",
       "version_major": 2,
       "version_minor": 0
      },
      "text/plain": [
       "Sanity Checking: 0it [00:00, ?it/s]"
      ]
     },
     "metadata": {},
     "output_type": "display_data"
    },
    {
     "name": "stderr",
     "output_type": "stream",
     "text": [
      "/home/gwatk/miniconda3/envs/pytorch-11-7/lib/python3.10/site-packages/torch/utils/data/dataloader.py:554: UserWarning: This DataLoader will create 32 worker processes in total. Our suggested max number of worker in current system is 16, which is smaller than what this DataLoader is going to create. Please be aware that excessive worker creation might get DataLoader running slow or even freeze, lower the worker number to avoid potential slowness/freeze if necessary.\n",
      "  warnings.warn(_create_warning_msg(\n"
     ]
    },
    {
     "data": {
      "application/vnd.jupyter.widget-view+json": {
       "model_id": "37e67bac5af74a44958f912cec1eda66",
       "version_major": 2,
       "version_minor": 0
      },
      "text/plain": [
       "Training: 0it [00:00, ?it/s]"
      ]
     },
     "metadata": {},
     "output_type": "display_data"
    },
    {
     "ename": "OutOfMemoryError",
     "evalue": "CUDA out of memory. Tried to allocate 384.00 MiB (GPU 0; 7.80 GiB total capacity; 6.45 GiB already allocated; 392.19 MiB free; 6.51 GiB reserved in total by PyTorch) If reserved memory is >> allocated memory try setting max_split_size_mb to avoid fragmentation.  See documentation for Memory Management and PYTORCH_CUDA_ALLOC_CONF",
     "output_type": "error",
     "traceback": [
      "\u001b[0;31m---------------------------------------------------------------------------\u001b[0m",
      "\u001b[0;31mOutOfMemoryError\u001b[0m                          Traceback (most recent call last)",
      "Cell \u001b[0;32mIn[65], line 1\u001b[0m\n\u001b[0;32m----> 1\u001b[0m trainer\u001b[39m.\u001b[39;49mfit(lt_classifier)\n",
      "File \u001b[0;32m~/miniconda3/envs/pytorch-11-7/lib/python3.10/site-packages/pytorch_lightning/trainer/trainer.py:582\u001b[0m, in \u001b[0;36mTrainer.fit\u001b[0;34m(self, model, train_dataloaders, val_dataloaders, datamodule, ckpt_path)\u001b[0m\n\u001b[1;32m    580\u001b[0m     \u001b[39mraise\u001b[39;00m \u001b[39mTypeError\u001b[39;00m(\u001b[39mf\u001b[39m\u001b[39m\"\u001b[39m\u001b[39m`Trainer.fit()` requires a `LightningModule`, got: \u001b[39m\u001b[39m{\u001b[39;00mmodel\u001b[39m.\u001b[39m\u001b[39m__class__\u001b[39m\u001b[39m.\u001b[39m\u001b[39m__qualname__\u001b[39m\u001b[39m}\u001b[39;00m\u001b[39m\"\u001b[39m)\n\u001b[1;32m    581\u001b[0m \u001b[39mself\u001b[39m\u001b[39m.\u001b[39mstrategy\u001b[39m.\u001b[39m_lightning_module \u001b[39m=\u001b[39m model\n\u001b[0;32m--> 582\u001b[0m call\u001b[39m.\u001b[39;49m_call_and_handle_interrupt(\n\u001b[1;32m    583\u001b[0m     \u001b[39mself\u001b[39;49m, \u001b[39mself\u001b[39;49m\u001b[39m.\u001b[39;49m_fit_impl, model, train_dataloaders, val_dataloaders, datamodule, ckpt_path\n\u001b[1;32m    584\u001b[0m )\n",
      "File \u001b[0;32m~/miniconda3/envs/pytorch-11-7/lib/python3.10/site-packages/pytorch_lightning/trainer/call.py:38\u001b[0m, in \u001b[0;36m_call_and_handle_interrupt\u001b[0;34m(trainer, trainer_fn, *args, **kwargs)\u001b[0m\n\u001b[1;32m     36\u001b[0m         \u001b[39mreturn\u001b[39;00m trainer\u001b[39m.\u001b[39mstrategy\u001b[39m.\u001b[39mlauncher\u001b[39m.\u001b[39mlaunch(trainer_fn, \u001b[39m*\u001b[39margs, trainer\u001b[39m=\u001b[39mtrainer, \u001b[39m*\u001b[39m\u001b[39m*\u001b[39mkwargs)\n\u001b[1;32m     37\u001b[0m     \u001b[39melse\u001b[39;00m:\n\u001b[0;32m---> 38\u001b[0m         \u001b[39mreturn\u001b[39;00m trainer_fn(\u001b[39m*\u001b[39;49margs, \u001b[39m*\u001b[39;49m\u001b[39m*\u001b[39;49mkwargs)\n\u001b[1;32m     40\u001b[0m \u001b[39mexcept\u001b[39;00m _TunerExitException:\n\u001b[1;32m     41\u001b[0m     trainer\u001b[39m.\u001b[39m_call_teardown_hook()\n",
      "File \u001b[0;32m~/miniconda3/envs/pytorch-11-7/lib/python3.10/site-packages/pytorch_lightning/trainer/trainer.py:624\u001b[0m, in \u001b[0;36mTrainer._fit_impl\u001b[0;34m(self, model, train_dataloaders, val_dataloaders, datamodule, ckpt_path)\u001b[0m\n\u001b[1;32m    617\u001b[0m ckpt_path \u001b[39m=\u001b[39m ckpt_path \u001b[39mor\u001b[39;00m \u001b[39mself\u001b[39m\u001b[39m.\u001b[39mresume_from_checkpoint\n\u001b[1;32m    618\u001b[0m \u001b[39mself\u001b[39m\u001b[39m.\u001b[39m_ckpt_path \u001b[39m=\u001b[39m \u001b[39mself\u001b[39m\u001b[39m.\u001b[39m_checkpoint_connector\u001b[39m.\u001b[39m_set_ckpt_path(\n\u001b[1;32m    619\u001b[0m     \u001b[39mself\u001b[39m\u001b[39m.\u001b[39mstate\u001b[39m.\u001b[39mfn,\n\u001b[1;32m    620\u001b[0m     ckpt_path,  \u001b[39m# type: ignore[arg-type]\u001b[39;00m\n\u001b[1;32m    621\u001b[0m     model_provided\u001b[39m=\u001b[39m\u001b[39mTrue\u001b[39;00m,\n\u001b[1;32m    622\u001b[0m     model_connected\u001b[39m=\u001b[39m\u001b[39mself\u001b[39m\u001b[39m.\u001b[39mlightning_module \u001b[39mis\u001b[39;00m \u001b[39mnot\u001b[39;00m \u001b[39mNone\u001b[39;00m,\n\u001b[1;32m    623\u001b[0m )\n\u001b[0;32m--> 624\u001b[0m \u001b[39mself\u001b[39;49m\u001b[39m.\u001b[39;49m_run(model, ckpt_path\u001b[39m=\u001b[39;49m\u001b[39mself\u001b[39;49m\u001b[39m.\u001b[39;49mckpt_path)\n\u001b[1;32m    626\u001b[0m \u001b[39massert\u001b[39;00m \u001b[39mself\u001b[39m\u001b[39m.\u001b[39mstate\u001b[39m.\u001b[39mstopped\n\u001b[1;32m    627\u001b[0m \u001b[39mself\u001b[39m\u001b[39m.\u001b[39mtraining \u001b[39m=\u001b[39m \u001b[39mFalse\u001b[39;00m\n",
      "File \u001b[0;32m~/miniconda3/envs/pytorch-11-7/lib/python3.10/site-packages/pytorch_lightning/trainer/trainer.py:1061\u001b[0m, in \u001b[0;36mTrainer._run\u001b[0;34m(self, model, ckpt_path)\u001b[0m\n\u001b[1;32m   1057\u001b[0m \u001b[39mself\u001b[39m\u001b[39m.\u001b[39m_checkpoint_connector\u001b[39m.\u001b[39mrestore_training_state()\n\u001b[1;32m   1059\u001b[0m \u001b[39mself\u001b[39m\u001b[39m.\u001b[39m_checkpoint_connector\u001b[39m.\u001b[39mresume_end()\n\u001b[0;32m-> 1061\u001b[0m results \u001b[39m=\u001b[39m \u001b[39mself\u001b[39;49m\u001b[39m.\u001b[39;49m_run_stage()\n\u001b[1;32m   1063\u001b[0m log\u001b[39m.\u001b[39mdetail(\u001b[39mf\u001b[39m\u001b[39m\"\u001b[39m\u001b[39m{\u001b[39;00m\u001b[39mself\u001b[39m\u001b[39m.\u001b[39m\u001b[39m__class__\u001b[39m\u001b[39m.\u001b[39m\u001b[39m__name__\u001b[39m\u001b[39m}\u001b[39;00m\u001b[39m: trainer tearing down\u001b[39m\u001b[39m\"\u001b[39m)\n\u001b[1;32m   1064\u001b[0m \u001b[39mself\u001b[39m\u001b[39m.\u001b[39m_teardown()\n",
      "File \u001b[0;32m~/miniconda3/envs/pytorch-11-7/lib/python3.10/site-packages/pytorch_lightning/trainer/trainer.py:1140\u001b[0m, in \u001b[0;36mTrainer._run_stage\u001b[0;34m(self)\u001b[0m\n\u001b[1;32m   1138\u001b[0m \u001b[39mif\u001b[39;00m \u001b[39mself\u001b[39m\u001b[39m.\u001b[39mpredicting:\n\u001b[1;32m   1139\u001b[0m     \u001b[39mreturn\u001b[39;00m \u001b[39mself\u001b[39m\u001b[39m.\u001b[39m_run_predict()\n\u001b[0;32m-> 1140\u001b[0m \u001b[39mself\u001b[39;49m\u001b[39m.\u001b[39;49m_run_train()\n",
      "File \u001b[0;32m~/miniconda3/envs/pytorch-11-7/lib/python3.10/site-packages/pytorch_lightning/trainer/trainer.py:1163\u001b[0m, in \u001b[0;36mTrainer._run_train\u001b[0;34m(self)\u001b[0m\n\u001b[1;32m   1160\u001b[0m \u001b[39mself\u001b[39m\u001b[39m.\u001b[39mfit_loop\u001b[39m.\u001b[39mtrainer \u001b[39m=\u001b[39m \u001b[39mself\u001b[39m\n\u001b[1;32m   1162\u001b[0m \u001b[39mwith\u001b[39;00m torch\u001b[39m.\u001b[39mautograd\u001b[39m.\u001b[39mset_detect_anomaly(\u001b[39mself\u001b[39m\u001b[39m.\u001b[39m_detect_anomaly):\n\u001b[0;32m-> 1163\u001b[0m     \u001b[39mself\u001b[39;49m\u001b[39m.\u001b[39;49mfit_loop\u001b[39m.\u001b[39;49mrun()\n",
      "File \u001b[0;32m~/miniconda3/envs/pytorch-11-7/lib/python3.10/site-packages/pytorch_lightning/loops/loop.py:199\u001b[0m, in \u001b[0;36mLoop.run\u001b[0;34m(self, *args, **kwargs)\u001b[0m\n\u001b[1;32m    197\u001b[0m \u001b[39mtry\u001b[39;00m:\n\u001b[1;32m    198\u001b[0m     \u001b[39mself\u001b[39m\u001b[39m.\u001b[39mon_advance_start(\u001b[39m*\u001b[39margs, \u001b[39m*\u001b[39m\u001b[39m*\u001b[39mkwargs)\n\u001b[0;32m--> 199\u001b[0m     \u001b[39mself\u001b[39;49m\u001b[39m.\u001b[39;49madvance(\u001b[39m*\u001b[39;49margs, \u001b[39m*\u001b[39;49m\u001b[39m*\u001b[39;49mkwargs)\n\u001b[1;32m    200\u001b[0m     \u001b[39mself\u001b[39m\u001b[39m.\u001b[39mon_advance_end()\n\u001b[1;32m    201\u001b[0m     \u001b[39mself\u001b[39m\u001b[39m.\u001b[39m_restarting \u001b[39m=\u001b[39m \u001b[39mFalse\u001b[39;00m\n",
      "File \u001b[0;32m~/miniconda3/envs/pytorch-11-7/lib/python3.10/site-packages/pytorch_lightning/loops/fit_loop.py:267\u001b[0m, in \u001b[0;36mFitLoop.advance\u001b[0;34m(self)\u001b[0m\n\u001b[1;32m    265\u001b[0m \u001b[39mself\u001b[39m\u001b[39m.\u001b[39m_data_fetcher\u001b[39m.\u001b[39msetup(dataloader, batch_to_device\u001b[39m=\u001b[39mbatch_to_device)\n\u001b[1;32m    266\u001b[0m \u001b[39mwith\u001b[39;00m \u001b[39mself\u001b[39m\u001b[39m.\u001b[39mtrainer\u001b[39m.\u001b[39mprofiler\u001b[39m.\u001b[39mprofile(\u001b[39m\"\u001b[39m\u001b[39mrun_training_epoch\u001b[39m\u001b[39m\"\u001b[39m):\n\u001b[0;32m--> 267\u001b[0m     \u001b[39mself\u001b[39m\u001b[39m.\u001b[39m_outputs \u001b[39m=\u001b[39m \u001b[39mself\u001b[39;49m\u001b[39m.\u001b[39;49mepoch_loop\u001b[39m.\u001b[39;49mrun(\u001b[39mself\u001b[39;49m\u001b[39m.\u001b[39;49m_data_fetcher)\n",
      "File \u001b[0;32m~/miniconda3/envs/pytorch-11-7/lib/python3.10/site-packages/pytorch_lightning/loops/loop.py:199\u001b[0m, in \u001b[0;36mLoop.run\u001b[0;34m(self, *args, **kwargs)\u001b[0m\n\u001b[1;32m    197\u001b[0m \u001b[39mtry\u001b[39;00m:\n\u001b[1;32m    198\u001b[0m     \u001b[39mself\u001b[39m\u001b[39m.\u001b[39mon_advance_start(\u001b[39m*\u001b[39margs, \u001b[39m*\u001b[39m\u001b[39m*\u001b[39mkwargs)\n\u001b[0;32m--> 199\u001b[0m     \u001b[39mself\u001b[39;49m\u001b[39m.\u001b[39;49madvance(\u001b[39m*\u001b[39;49margs, \u001b[39m*\u001b[39;49m\u001b[39m*\u001b[39;49mkwargs)\n\u001b[1;32m    200\u001b[0m     \u001b[39mself\u001b[39m\u001b[39m.\u001b[39mon_advance_end()\n\u001b[1;32m    201\u001b[0m     \u001b[39mself\u001b[39m\u001b[39m.\u001b[39m_restarting \u001b[39m=\u001b[39m \u001b[39mFalse\u001b[39;00m\n",
      "File \u001b[0;32m~/miniconda3/envs/pytorch-11-7/lib/python3.10/site-packages/pytorch_lightning/loops/epoch/training_epoch_loop.py:214\u001b[0m, in \u001b[0;36mTrainingEpochLoop.advance\u001b[0;34m(self, data_fetcher)\u001b[0m\n\u001b[1;32m    211\u001b[0m     \u001b[39mself\u001b[39m\u001b[39m.\u001b[39mbatch_progress\u001b[39m.\u001b[39mincrement_started()\n\u001b[1;32m    213\u001b[0m     \u001b[39mwith\u001b[39;00m \u001b[39mself\u001b[39m\u001b[39m.\u001b[39mtrainer\u001b[39m.\u001b[39mprofiler\u001b[39m.\u001b[39mprofile(\u001b[39m\"\u001b[39m\u001b[39mrun_training_batch\u001b[39m\u001b[39m\"\u001b[39m):\n\u001b[0;32m--> 214\u001b[0m         batch_output \u001b[39m=\u001b[39m \u001b[39mself\u001b[39;49m\u001b[39m.\u001b[39;49mbatch_loop\u001b[39m.\u001b[39;49mrun(kwargs)\n\u001b[1;32m    216\u001b[0m \u001b[39mself\u001b[39m\u001b[39m.\u001b[39mbatch_progress\u001b[39m.\u001b[39mincrement_processed()\n\u001b[1;32m    218\u001b[0m \u001b[39m# update non-plateau LR schedulers\u001b[39;00m\n\u001b[1;32m    219\u001b[0m \u001b[39m# update epoch-interval ones only when we are at the end of training epoch\u001b[39;00m\n",
      "File \u001b[0;32m~/miniconda3/envs/pytorch-11-7/lib/python3.10/site-packages/pytorch_lightning/loops/loop.py:199\u001b[0m, in \u001b[0;36mLoop.run\u001b[0;34m(self, *args, **kwargs)\u001b[0m\n\u001b[1;32m    197\u001b[0m \u001b[39mtry\u001b[39;00m:\n\u001b[1;32m    198\u001b[0m     \u001b[39mself\u001b[39m\u001b[39m.\u001b[39mon_advance_start(\u001b[39m*\u001b[39margs, \u001b[39m*\u001b[39m\u001b[39m*\u001b[39mkwargs)\n\u001b[0;32m--> 199\u001b[0m     \u001b[39mself\u001b[39;49m\u001b[39m.\u001b[39;49madvance(\u001b[39m*\u001b[39;49margs, \u001b[39m*\u001b[39;49m\u001b[39m*\u001b[39;49mkwargs)\n\u001b[1;32m    200\u001b[0m     \u001b[39mself\u001b[39m\u001b[39m.\u001b[39mon_advance_end()\n\u001b[1;32m    201\u001b[0m     \u001b[39mself\u001b[39m\u001b[39m.\u001b[39m_restarting \u001b[39m=\u001b[39m \u001b[39mFalse\u001b[39;00m\n",
      "File \u001b[0;32m~/miniconda3/envs/pytorch-11-7/lib/python3.10/site-packages/pytorch_lightning/loops/batch/training_batch_loop.py:88\u001b[0m, in \u001b[0;36mTrainingBatchLoop.advance\u001b[0;34m(self, kwargs)\u001b[0m\n\u001b[1;32m     84\u001b[0m \u001b[39mif\u001b[39;00m \u001b[39mself\u001b[39m\u001b[39m.\u001b[39mtrainer\u001b[39m.\u001b[39mlightning_module\u001b[39m.\u001b[39mautomatic_optimization:\n\u001b[1;32m     85\u001b[0m     optimizers \u001b[39m=\u001b[39m _get_active_optimizers(\n\u001b[1;32m     86\u001b[0m         \u001b[39mself\u001b[39m\u001b[39m.\u001b[39mtrainer\u001b[39m.\u001b[39moptimizers, \u001b[39mself\u001b[39m\u001b[39m.\u001b[39mtrainer\u001b[39m.\u001b[39moptimizer_frequencies, kwargs\u001b[39m.\u001b[39mget(\u001b[39m\"\u001b[39m\u001b[39mbatch_idx\u001b[39m\u001b[39m\"\u001b[39m, \u001b[39m0\u001b[39m)\n\u001b[1;32m     87\u001b[0m     )\n\u001b[0;32m---> 88\u001b[0m     outputs \u001b[39m=\u001b[39m \u001b[39mself\u001b[39;49m\u001b[39m.\u001b[39;49moptimizer_loop\u001b[39m.\u001b[39;49mrun(optimizers, kwargs)\n\u001b[1;32m     89\u001b[0m \u001b[39melse\u001b[39;00m:\n\u001b[1;32m     90\u001b[0m     outputs \u001b[39m=\u001b[39m \u001b[39mself\u001b[39m\u001b[39m.\u001b[39mmanual_loop\u001b[39m.\u001b[39mrun(kwargs)\n",
      "File \u001b[0;32m~/miniconda3/envs/pytorch-11-7/lib/python3.10/site-packages/pytorch_lightning/loops/loop.py:199\u001b[0m, in \u001b[0;36mLoop.run\u001b[0;34m(self, *args, **kwargs)\u001b[0m\n\u001b[1;32m    197\u001b[0m \u001b[39mtry\u001b[39;00m:\n\u001b[1;32m    198\u001b[0m     \u001b[39mself\u001b[39m\u001b[39m.\u001b[39mon_advance_start(\u001b[39m*\u001b[39margs, \u001b[39m*\u001b[39m\u001b[39m*\u001b[39mkwargs)\n\u001b[0;32m--> 199\u001b[0m     \u001b[39mself\u001b[39;49m\u001b[39m.\u001b[39;49madvance(\u001b[39m*\u001b[39;49margs, \u001b[39m*\u001b[39;49m\u001b[39m*\u001b[39;49mkwargs)\n\u001b[1;32m    200\u001b[0m     \u001b[39mself\u001b[39m\u001b[39m.\u001b[39mon_advance_end()\n\u001b[1;32m    201\u001b[0m     \u001b[39mself\u001b[39m\u001b[39m.\u001b[39m_restarting \u001b[39m=\u001b[39m \u001b[39mFalse\u001b[39;00m\n",
      "File \u001b[0;32m~/miniconda3/envs/pytorch-11-7/lib/python3.10/site-packages/pytorch_lightning/loops/optimization/optimizer_loop.py:200\u001b[0m, in \u001b[0;36mOptimizerLoop.advance\u001b[0;34m(self, optimizers, kwargs)\u001b[0m\n\u001b[1;32m    197\u001b[0m \u001b[39mdef\u001b[39;00m \u001b[39madvance\u001b[39m(\u001b[39mself\u001b[39m, optimizers: List[Tuple[\u001b[39mint\u001b[39m, Optimizer]], kwargs: OrderedDict) \u001b[39m-\u001b[39m\u001b[39m>\u001b[39m \u001b[39mNone\u001b[39;00m:\n\u001b[1;32m    198\u001b[0m     kwargs \u001b[39m=\u001b[39m \u001b[39mself\u001b[39m\u001b[39m.\u001b[39m_build_kwargs(kwargs, \u001b[39mself\u001b[39m\u001b[39m.\u001b[39moptimizer_idx, \u001b[39mself\u001b[39m\u001b[39m.\u001b[39m_hiddens)\n\u001b[0;32m--> 200\u001b[0m     result \u001b[39m=\u001b[39m \u001b[39mself\u001b[39;49m\u001b[39m.\u001b[39;49m_run_optimization(kwargs, \u001b[39mself\u001b[39;49m\u001b[39m.\u001b[39;49m_optimizers[\u001b[39mself\u001b[39;49m\u001b[39m.\u001b[39;49moptim_progress\u001b[39m.\u001b[39;49moptimizer_position])\n\u001b[1;32m    201\u001b[0m     \u001b[39mif\u001b[39;00m result\u001b[39m.\u001b[39mloss \u001b[39mis\u001b[39;00m \u001b[39mnot\u001b[39;00m \u001b[39mNone\u001b[39;00m:\n\u001b[1;32m    202\u001b[0m         \u001b[39m# automatic optimization assumes a loss needs to be returned for extras to be considered as the batch\u001b[39;00m\n\u001b[1;32m    203\u001b[0m         \u001b[39m# would be skipped otherwise\u001b[39;00m\n\u001b[1;32m    204\u001b[0m         \u001b[39mself\u001b[39m\u001b[39m.\u001b[39m_outputs[\u001b[39mself\u001b[39m\u001b[39m.\u001b[39moptimizer_idx] \u001b[39m=\u001b[39m result\u001b[39m.\u001b[39masdict()\n",
      "File \u001b[0;32m~/miniconda3/envs/pytorch-11-7/lib/python3.10/site-packages/pytorch_lightning/loops/optimization/optimizer_loop.py:247\u001b[0m, in \u001b[0;36mOptimizerLoop._run_optimization\u001b[0;34m(self, kwargs, optimizer)\u001b[0m\n\u001b[1;32m    239\u001b[0m         closure()\n\u001b[1;32m    241\u001b[0m \u001b[39m# ------------------------------\u001b[39;00m\n\u001b[1;32m    242\u001b[0m \u001b[39m# BACKWARD PASS\u001b[39;00m\n\u001b[1;32m    243\u001b[0m \u001b[39m# ------------------------------\u001b[39;00m\n\u001b[1;32m    244\u001b[0m \u001b[39m# gradient update with accumulated gradients\u001b[39;00m\n\u001b[1;32m    245\u001b[0m \u001b[39melse\u001b[39;00m:\n\u001b[1;32m    246\u001b[0m     \u001b[39m# the `batch_idx` is optional with inter-batch parallelism\u001b[39;00m\n\u001b[0;32m--> 247\u001b[0m     \u001b[39mself\u001b[39;49m\u001b[39m.\u001b[39;49m_optimizer_step(optimizer, opt_idx, kwargs\u001b[39m.\u001b[39;49mget(\u001b[39m\"\u001b[39;49m\u001b[39mbatch_idx\u001b[39;49m\u001b[39m\"\u001b[39;49m, \u001b[39m0\u001b[39;49m), closure)\n\u001b[1;32m    249\u001b[0m result \u001b[39m=\u001b[39m closure\u001b[39m.\u001b[39mconsume_result()\n\u001b[1;32m    251\u001b[0m \u001b[39mif\u001b[39;00m result\u001b[39m.\u001b[39mloss \u001b[39mis\u001b[39;00m \u001b[39mnot\u001b[39;00m \u001b[39mNone\u001b[39;00m:\n\u001b[1;32m    252\u001b[0m     \u001b[39m# if no result, user decided to skip optimization\u001b[39;00m\n\u001b[1;32m    253\u001b[0m     \u001b[39m# otherwise update running loss + reset accumulated loss\u001b[39;00m\n\u001b[1;32m    254\u001b[0m     \u001b[39m# TODO: find proper way to handle updating running loss\u001b[39;00m\n",
      "File \u001b[0;32m~/miniconda3/envs/pytorch-11-7/lib/python3.10/site-packages/pytorch_lightning/loops/optimization/optimizer_loop.py:357\u001b[0m, in \u001b[0;36mOptimizerLoop._optimizer_step\u001b[0;34m(self, optimizer, opt_idx, batch_idx, train_step_and_backward_closure)\u001b[0m\n\u001b[1;32m    354\u001b[0m     \u001b[39mself\u001b[39m\u001b[39m.\u001b[39moptim_progress\u001b[39m.\u001b[39moptimizer\u001b[39m.\u001b[39mstep\u001b[39m.\u001b[39mincrement_ready()\n\u001b[1;32m    356\u001b[0m \u001b[39m# model hook\u001b[39;00m\n\u001b[0;32m--> 357\u001b[0m \u001b[39mself\u001b[39;49m\u001b[39m.\u001b[39;49mtrainer\u001b[39m.\u001b[39;49m_call_lightning_module_hook(\n\u001b[1;32m    358\u001b[0m     \u001b[39m\"\u001b[39;49m\u001b[39moptimizer_step\u001b[39;49m\u001b[39m\"\u001b[39;49m,\n\u001b[1;32m    359\u001b[0m     \u001b[39mself\u001b[39;49m\u001b[39m.\u001b[39;49mtrainer\u001b[39m.\u001b[39;49mcurrent_epoch,\n\u001b[1;32m    360\u001b[0m     batch_idx,\n\u001b[1;32m    361\u001b[0m     optimizer,\n\u001b[1;32m    362\u001b[0m     opt_idx,\n\u001b[1;32m    363\u001b[0m     train_step_and_backward_closure,\n\u001b[1;32m    364\u001b[0m     on_tpu\u001b[39m=\u001b[39;49m\u001b[39misinstance\u001b[39;49m(\u001b[39mself\u001b[39;49m\u001b[39m.\u001b[39;49mtrainer\u001b[39m.\u001b[39;49maccelerator, TPUAccelerator),\n\u001b[1;32m    365\u001b[0m     using_native_amp\u001b[39m=\u001b[39;49m(\u001b[39mself\u001b[39;49m\u001b[39m.\u001b[39;49mtrainer\u001b[39m.\u001b[39;49mamp_backend \u001b[39m==\u001b[39;49m AMPType\u001b[39m.\u001b[39;49mNATIVE),\n\u001b[1;32m    366\u001b[0m     using_lbfgs\u001b[39m=\u001b[39;49mis_lbfgs,\n\u001b[1;32m    367\u001b[0m )\n\u001b[1;32m    369\u001b[0m \u001b[39mif\u001b[39;00m \u001b[39mnot\u001b[39;00m should_accumulate:\n\u001b[1;32m    370\u001b[0m     \u001b[39mself\u001b[39m\u001b[39m.\u001b[39moptim_progress\u001b[39m.\u001b[39moptimizer\u001b[39m.\u001b[39mstep\u001b[39m.\u001b[39mincrement_completed()\n",
      "File \u001b[0;32m~/miniconda3/envs/pytorch-11-7/lib/python3.10/site-packages/pytorch_lightning/trainer/trainer.py:1305\u001b[0m, in \u001b[0;36mTrainer._call_lightning_module_hook\u001b[0;34m(self, hook_name, pl_module, *args, **kwargs)\u001b[0m\n\u001b[1;32m   1302\u001b[0m pl_module\u001b[39m.\u001b[39m_current_fx_name \u001b[39m=\u001b[39m hook_name\n\u001b[1;32m   1304\u001b[0m \u001b[39mwith\u001b[39;00m \u001b[39mself\u001b[39m\u001b[39m.\u001b[39mprofiler\u001b[39m.\u001b[39mprofile(\u001b[39mf\u001b[39m\u001b[39m\"\u001b[39m\u001b[39m[LightningModule]\u001b[39m\u001b[39m{\u001b[39;00mpl_module\u001b[39m.\u001b[39m\u001b[39m__class__\u001b[39m\u001b[39m.\u001b[39m\u001b[39m__name__\u001b[39m\u001b[39m}\u001b[39;00m\u001b[39m.\u001b[39m\u001b[39m{\u001b[39;00mhook_name\u001b[39m}\u001b[39;00m\u001b[39m\"\u001b[39m):\n\u001b[0;32m-> 1305\u001b[0m     output \u001b[39m=\u001b[39m fn(\u001b[39m*\u001b[39;49margs, \u001b[39m*\u001b[39;49m\u001b[39m*\u001b[39;49mkwargs)\n\u001b[1;32m   1307\u001b[0m \u001b[39m# restore current_fx when nested context\u001b[39;00m\n\u001b[1;32m   1308\u001b[0m pl_module\u001b[39m.\u001b[39m_current_fx_name \u001b[39m=\u001b[39m prev_fx_name\n",
      "File \u001b[0;32m~/miniconda3/envs/pytorch-11-7/lib/python3.10/site-packages/pytorch_lightning/core/module.py:1661\u001b[0m, in \u001b[0;36mLightningModule.optimizer_step\u001b[0;34m(self, epoch, batch_idx, optimizer, optimizer_idx, optimizer_closure, on_tpu, using_native_amp, using_lbfgs)\u001b[0m\n\u001b[1;32m   1579\u001b[0m \u001b[39mdef\u001b[39;00m \u001b[39moptimizer_step\u001b[39m(\n\u001b[1;32m   1580\u001b[0m     \u001b[39mself\u001b[39m,\n\u001b[1;32m   1581\u001b[0m     epoch: \u001b[39mint\u001b[39m,\n\u001b[0;32m   (...)\u001b[0m\n\u001b[1;32m   1588\u001b[0m     using_lbfgs: \u001b[39mbool\u001b[39m \u001b[39m=\u001b[39m \u001b[39mFalse\u001b[39;00m,\n\u001b[1;32m   1589\u001b[0m ) \u001b[39m-\u001b[39m\u001b[39m>\u001b[39m \u001b[39mNone\u001b[39;00m:\n\u001b[1;32m   1590\u001b[0m \u001b[39m    \u001b[39m\u001b[39mr\u001b[39m\u001b[39m\"\"\"\u001b[39;00m\n\u001b[1;32m   1591\u001b[0m \u001b[39m    Override this method to adjust the default way the :class:`~pytorch_lightning.trainer.trainer.Trainer` calls\u001b[39;00m\n\u001b[1;32m   1592\u001b[0m \u001b[39m    each optimizer.\u001b[39;00m\n\u001b[0;32m   (...)\u001b[0m\n\u001b[1;32m   1659\u001b[0m \n\u001b[1;32m   1660\u001b[0m \u001b[39m    \"\"\"\u001b[39;00m\n\u001b[0;32m-> 1661\u001b[0m     optimizer\u001b[39m.\u001b[39;49mstep(closure\u001b[39m=\u001b[39;49moptimizer_closure)\n",
      "File \u001b[0;32m~/miniconda3/envs/pytorch-11-7/lib/python3.10/site-packages/pytorch_lightning/core/optimizer.py:169\u001b[0m, in \u001b[0;36mLightningOptimizer.step\u001b[0;34m(self, closure, **kwargs)\u001b[0m\n\u001b[1;32m    166\u001b[0m     \u001b[39mraise\u001b[39;00m MisconfigurationException(\u001b[39m\"\u001b[39m\u001b[39mWhen `optimizer.step(closure)` is called, the closure should be callable\u001b[39m\u001b[39m\"\u001b[39m)\n\u001b[1;32m    168\u001b[0m \u001b[39massert\u001b[39;00m \u001b[39mself\u001b[39m\u001b[39m.\u001b[39m_strategy \u001b[39mis\u001b[39;00m \u001b[39mnot\u001b[39;00m \u001b[39mNone\u001b[39;00m\n\u001b[0;32m--> 169\u001b[0m step_output \u001b[39m=\u001b[39m \u001b[39mself\u001b[39;49m\u001b[39m.\u001b[39;49m_strategy\u001b[39m.\u001b[39;49moptimizer_step(\u001b[39mself\u001b[39;49m\u001b[39m.\u001b[39;49m_optimizer, \u001b[39mself\u001b[39;49m\u001b[39m.\u001b[39;49m_optimizer_idx, closure, \u001b[39m*\u001b[39;49m\u001b[39m*\u001b[39;49mkwargs)\n\u001b[1;32m    171\u001b[0m \u001b[39mself\u001b[39m\u001b[39m.\u001b[39m_on_after_step()\n\u001b[1;32m    173\u001b[0m \u001b[39mreturn\u001b[39;00m step_output\n",
      "File \u001b[0;32m~/miniconda3/envs/pytorch-11-7/lib/python3.10/site-packages/pytorch_lightning/strategies/strategy.py:234\u001b[0m, in \u001b[0;36mStrategy.optimizer_step\u001b[0;34m(self, optimizer, opt_idx, closure, model, **kwargs)\u001b[0m\n\u001b[1;32m    232\u001b[0m \u001b[39m# TODO(lite): remove assertion once strategy's optimizer_step typing is fixed\u001b[39;00m\n\u001b[1;32m    233\u001b[0m \u001b[39massert\u001b[39;00m \u001b[39misinstance\u001b[39m(model, pl\u001b[39m.\u001b[39mLightningModule)\n\u001b[0;32m--> 234\u001b[0m \u001b[39mreturn\u001b[39;00m \u001b[39mself\u001b[39;49m\u001b[39m.\u001b[39;49mprecision_plugin\u001b[39m.\u001b[39;49moptimizer_step(\n\u001b[1;32m    235\u001b[0m     optimizer, model\u001b[39m=\u001b[39;49mmodel, optimizer_idx\u001b[39m=\u001b[39;49mopt_idx, closure\u001b[39m=\u001b[39;49mclosure, \u001b[39m*\u001b[39;49m\u001b[39m*\u001b[39;49mkwargs\n\u001b[1;32m    236\u001b[0m )\n",
      "File \u001b[0;32m~/miniconda3/envs/pytorch-11-7/lib/python3.10/site-packages/pytorch_lightning/plugins/precision/precision_plugin.py:121\u001b[0m, in \u001b[0;36mPrecisionPlugin.optimizer_step\u001b[0;34m(self, optimizer, model, optimizer_idx, closure, **kwargs)\u001b[0m\n\u001b[1;32m    119\u001b[0m \u001b[39m\u001b[39m\u001b[39m\"\"\"Hook to run the optimizer step.\"\"\"\u001b[39;00m\n\u001b[1;32m    120\u001b[0m closure \u001b[39m=\u001b[39m partial(\u001b[39mself\u001b[39m\u001b[39m.\u001b[39m_wrap_closure, model, optimizer, optimizer_idx, closure)\n\u001b[0;32m--> 121\u001b[0m \u001b[39mreturn\u001b[39;00m optimizer\u001b[39m.\u001b[39;49mstep(closure\u001b[39m=\u001b[39;49mclosure, \u001b[39m*\u001b[39;49m\u001b[39m*\u001b[39;49mkwargs)\n",
      "File \u001b[0;32m~/miniconda3/envs/pytorch-11-7/lib/python3.10/site-packages/torch/optim/optimizer.py:140\u001b[0m, in \u001b[0;36mOptimizer._hook_for_profile.<locals>.profile_hook_step.<locals>.wrapper\u001b[0;34m(*args, **kwargs)\u001b[0m\n\u001b[1;32m    138\u001b[0m profile_name \u001b[39m=\u001b[39m \u001b[39m\"\u001b[39m\u001b[39mOptimizer.step#\u001b[39m\u001b[39m{}\u001b[39;00m\u001b[39m.step\u001b[39m\u001b[39m\"\u001b[39m\u001b[39m.\u001b[39mformat(obj\u001b[39m.\u001b[39m\u001b[39m__class__\u001b[39m\u001b[39m.\u001b[39m\u001b[39m__name__\u001b[39m)\n\u001b[1;32m    139\u001b[0m \u001b[39mwith\u001b[39;00m torch\u001b[39m.\u001b[39mautograd\u001b[39m.\u001b[39mprofiler\u001b[39m.\u001b[39mrecord_function(profile_name):\n\u001b[0;32m--> 140\u001b[0m     out \u001b[39m=\u001b[39m func(\u001b[39m*\u001b[39;49margs, \u001b[39m*\u001b[39;49m\u001b[39m*\u001b[39;49mkwargs)\n\u001b[1;32m    141\u001b[0m     obj\u001b[39m.\u001b[39m_optimizer_step_code()\n\u001b[1;32m    142\u001b[0m     \u001b[39mreturn\u001b[39;00m out\n",
      "File \u001b[0;32m~/miniconda3/envs/pytorch-11-7/lib/python3.10/site-packages/torch/optim/optimizer.py:23\u001b[0m, in \u001b[0;36m_use_grad_for_differentiable.<locals>._use_grad\u001b[0;34m(self, *args, **kwargs)\u001b[0m\n\u001b[1;32m     21\u001b[0m \u001b[39mtry\u001b[39;00m:\n\u001b[1;32m     22\u001b[0m     torch\u001b[39m.\u001b[39mset_grad_enabled(\u001b[39mself\u001b[39m\u001b[39m.\u001b[39mdefaults[\u001b[39m'\u001b[39m\u001b[39mdifferentiable\u001b[39m\u001b[39m'\u001b[39m])\n\u001b[0;32m---> 23\u001b[0m     ret \u001b[39m=\u001b[39m func(\u001b[39mself\u001b[39;49m, \u001b[39m*\u001b[39;49margs, \u001b[39m*\u001b[39;49m\u001b[39m*\u001b[39;49mkwargs)\n\u001b[1;32m     24\u001b[0m \u001b[39mfinally\u001b[39;00m:\n\u001b[1;32m     25\u001b[0m     torch\u001b[39m.\u001b[39mset_grad_enabled(prev_grad)\n",
      "File \u001b[0;32m~/miniconda3/envs/pytorch-11-7/lib/python3.10/site-packages/torch/optim/adam.py:183\u001b[0m, in \u001b[0;36mAdam.step\u001b[0;34m(self, closure, grad_scaler)\u001b[0m\n\u001b[1;32m    181\u001b[0m \u001b[39mif\u001b[39;00m closure \u001b[39mis\u001b[39;00m \u001b[39mnot\u001b[39;00m \u001b[39mNone\u001b[39;00m:\n\u001b[1;32m    182\u001b[0m     \u001b[39mwith\u001b[39;00m torch\u001b[39m.\u001b[39menable_grad():\n\u001b[0;32m--> 183\u001b[0m         loss \u001b[39m=\u001b[39m closure()\n\u001b[1;32m    185\u001b[0m \u001b[39mfor\u001b[39;00m group \u001b[39min\u001b[39;00m \u001b[39mself\u001b[39m\u001b[39m.\u001b[39mparam_groups:\n\u001b[1;32m    186\u001b[0m     params_with_grad \u001b[39m=\u001b[39m []\n",
      "File \u001b[0;32m~/miniconda3/envs/pytorch-11-7/lib/python3.10/site-packages/pytorch_lightning/plugins/precision/precision_plugin.py:107\u001b[0m, in \u001b[0;36mPrecisionPlugin._wrap_closure\u001b[0;34m(self, model, optimizer, optimizer_idx, closure)\u001b[0m\n\u001b[1;32m     94\u001b[0m \u001b[39mdef\u001b[39;00m \u001b[39m_wrap_closure\u001b[39m(\n\u001b[1;32m     95\u001b[0m     \u001b[39mself\u001b[39m,\n\u001b[1;32m     96\u001b[0m     model: \u001b[39m\"\u001b[39m\u001b[39mpl.LightningModule\u001b[39m\u001b[39m\"\u001b[39m,\n\u001b[0;32m   (...)\u001b[0m\n\u001b[1;32m     99\u001b[0m     closure: Callable[[], Any],\n\u001b[1;32m    100\u001b[0m ) \u001b[39m-\u001b[39m\u001b[39m>\u001b[39m Any:\n\u001b[1;32m    101\u001b[0m \u001b[39m    \u001b[39m\u001b[39m\"\"\"This double-closure allows makes sure the ``closure`` is executed before the\u001b[39;00m\n\u001b[1;32m    102\u001b[0m \u001b[39m    ``on_before_optimizer_step`` hook is called.\u001b[39;00m\n\u001b[1;32m    103\u001b[0m \n\u001b[1;32m    104\u001b[0m \u001b[39m    The closure (generally) runs ``backward`` so this allows inspecting gradients in this hook. This structure is\u001b[39;00m\n\u001b[1;32m    105\u001b[0m \u001b[39m    consistent with the ``PrecisionPlugin`` subclasses that cannot pass ``optimizer.step(closure)`` directly.\u001b[39;00m\n\u001b[1;32m    106\u001b[0m \u001b[39m    \"\"\"\u001b[39;00m\n\u001b[0;32m--> 107\u001b[0m     closure_result \u001b[39m=\u001b[39m closure()\n\u001b[1;32m    108\u001b[0m     \u001b[39mself\u001b[39m\u001b[39m.\u001b[39m_after_closure(model, optimizer, optimizer_idx)\n\u001b[1;32m    109\u001b[0m     \u001b[39mreturn\u001b[39;00m closure_result\n",
      "File \u001b[0;32m~/miniconda3/envs/pytorch-11-7/lib/python3.10/site-packages/pytorch_lightning/loops/optimization/optimizer_loop.py:147\u001b[0m, in \u001b[0;36mClosure.__call__\u001b[0;34m(self, *args, **kwargs)\u001b[0m\n\u001b[1;32m    146\u001b[0m \u001b[39mdef\u001b[39;00m \u001b[39m__call__\u001b[39m(\u001b[39mself\u001b[39m, \u001b[39m*\u001b[39margs: Any, \u001b[39m*\u001b[39m\u001b[39m*\u001b[39mkwargs: Any) \u001b[39m-\u001b[39m\u001b[39m>\u001b[39m Optional[Tensor]:\n\u001b[0;32m--> 147\u001b[0m     \u001b[39mself\u001b[39m\u001b[39m.\u001b[39m_result \u001b[39m=\u001b[39m \u001b[39mself\u001b[39;49m\u001b[39m.\u001b[39;49mclosure(\u001b[39m*\u001b[39;49margs, \u001b[39m*\u001b[39;49m\u001b[39m*\u001b[39;49mkwargs)\n\u001b[1;32m    148\u001b[0m     \u001b[39mreturn\u001b[39;00m \u001b[39mself\u001b[39m\u001b[39m.\u001b[39m_result\u001b[39m.\u001b[39mloss\n",
      "File \u001b[0;32m~/miniconda3/envs/pytorch-11-7/lib/python3.10/site-packages/pytorch_lightning/loops/optimization/optimizer_loop.py:133\u001b[0m, in \u001b[0;36mClosure.closure\u001b[0;34m(self, *args, **kwargs)\u001b[0m\n\u001b[1;32m    132\u001b[0m \u001b[39mdef\u001b[39;00m \u001b[39mclosure\u001b[39m(\u001b[39mself\u001b[39m, \u001b[39m*\u001b[39margs: Any, \u001b[39m*\u001b[39m\u001b[39m*\u001b[39mkwargs: Any) \u001b[39m-\u001b[39m\u001b[39m>\u001b[39m ClosureResult:\n\u001b[0;32m--> 133\u001b[0m     step_output \u001b[39m=\u001b[39m \u001b[39mself\u001b[39;49m\u001b[39m.\u001b[39;49m_step_fn()\n\u001b[1;32m    135\u001b[0m     \u001b[39mif\u001b[39;00m step_output\u001b[39m.\u001b[39mclosure_loss \u001b[39mis\u001b[39;00m \u001b[39mNone\u001b[39;00m:\n\u001b[1;32m    136\u001b[0m         \u001b[39mself\u001b[39m\u001b[39m.\u001b[39mwarning_cache\u001b[39m.\u001b[39mwarn(\u001b[39m\"\u001b[39m\u001b[39m`training_step` returned `None`. If this was on purpose, ignore this warning...\u001b[39m\u001b[39m\"\u001b[39m)\n",
      "File \u001b[0;32m~/miniconda3/envs/pytorch-11-7/lib/python3.10/site-packages/pytorch_lightning/loops/optimization/optimizer_loop.py:406\u001b[0m, in \u001b[0;36mOptimizerLoop._training_step\u001b[0;34m(self, kwargs)\u001b[0m\n\u001b[1;32m    397\u001b[0m \u001b[39m\u001b[39m\u001b[39m\"\"\"Performs the actual train step with the tied hooks.\u001b[39;00m\n\u001b[1;32m    398\u001b[0m \n\u001b[1;32m    399\u001b[0m \u001b[39mArgs:\u001b[39;00m\n\u001b[0;32m   (...)\u001b[0m\n\u001b[1;32m    403\u001b[0m \u001b[39m    A ``ClosureResult`` containing the training step output.\u001b[39;00m\n\u001b[1;32m    404\u001b[0m \u001b[39m\"\"\"\u001b[39;00m\n\u001b[1;32m    405\u001b[0m \u001b[39m# manually capture logged metrics\u001b[39;00m\n\u001b[0;32m--> 406\u001b[0m training_step_output \u001b[39m=\u001b[39m \u001b[39mself\u001b[39;49m\u001b[39m.\u001b[39;49mtrainer\u001b[39m.\u001b[39;49m_call_strategy_hook(\u001b[39m\"\u001b[39;49m\u001b[39mtraining_step\u001b[39;49m\u001b[39m\"\u001b[39;49m, \u001b[39m*\u001b[39;49mkwargs\u001b[39m.\u001b[39;49mvalues())\n\u001b[1;32m    407\u001b[0m \u001b[39mself\u001b[39m\u001b[39m.\u001b[39mtrainer\u001b[39m.\u001b[39mstrategy\u001b[39m.\u001b[39mpost_training_step()\n\u001b[1;32m    409\u001b[0m model_output \u001b[39m=\u001b[39m \u001b[39mself\u001b[39m\u001b[39m.\u001b[39mtrainer\u001b[39m.\u001b[39m_call_lightning_module_hook(\u001b[39m\"\u001b[39m\u001b[39mtraining_step_end\u001b[39m\u001b[39m\"\u001b[39m, training_step_output)\n",
      "File \u001b[0;32m~/miniconda3/envs/pytorch-11-7/lib/python3.10/site-packages/pytorch_lightning/trainer/trainer.py:1443\u001b[0m, in \u001b[0;36mTrainer._call_strategy_hook\u001b[0;34m(self, hook_name, *args, **kwargs)\u001b[0m\n\u001b[1;32m   1440\u001b[0m     \u001b[39mreturn\u001b[39;00m\n\u001b[1;32m   1442\u001b[0m \u001b[39mwith\u001b[39;00m \u001b[39mself\u001b[39m\u001b[39m.\u001b[39mprofiler\u001b[39m.\u001b[39mprofile(\u001b[39mf\u001b[39m\u001b[39m\"\u001b[39m\u001b[39m[Strategy]\u001b[39m\u001b[39m{\u001b[39;00m\u001b[39mself\u001b[39m\u001b[39m.\u001b[39mstrategy\u001b[39m.\u001b[39m\u001b[39m__class__\u001b[39m\u001b[39m.\u001b[39m\u001b[39m__name__\u001b[39m\u001b[39m}\u001b[39;00m\u001b[39m.\u001b[39m\u001b[39m{\u001b[39;00mhook_name\u001b[39m}\u001b[39;00m\u001b[39m\"\u001b[39m):\n\u001b[0;32m-> 1443\u001b[0m     output \u001b[39m=\u001b[39m fn(\u001b[39m*\u001b[39;49margs, \u001b[39m*\u001b[39;49m\u001b[39m*\u001b[39;49mkwargs)\n\u001b[1;32m   1445\u001b[0m \u001b[39m# restore current_fx when nested context\u001b[39;00m\n\u001b[1;32m   1446\u001b[0m pl_module\u001b[39m.\u001b[39m_current_fx_name \u001b[39m=\u001b[39m prev_fx_name\n",
      "File \u001b[0;32m~/miniconda3/envs/pytorch-11-7/lib/python3.10/site-packages/pytorch_lightning/strategies/strategy.py:378\u001b[0m, in \u001b[0;36mStrategy.training_step\u001b[0;34m(self, *args, **kwargs)\u001b[0m\n\u001b[1;32m    376\u001b[0m \u001b[39mwith\u001b[39;00m \u001b[39mself\u001b[39m\u001b[39m.\u001b[39mprecision_plugin\u001b[39m.\u001b[39mtrain_step_context():\n\u001b[1;32m    377\u001b[0m     \u001b[39massert\u001b[39;00m \u001b[39misinstance\u001b[39m(\u001b[39mself\u001b[39m\u001b[39m.\u001b[39mmodel, TrainingStep)\n\u001b[0;32m--> 378\u001b[0m     \u001b[39mreturn\u001b[39;00m \u001b[39mself\u001b[39;49m\u001b[39m.\u001b[39;49mmodel\u001b[39m.\u001b[39;49mtraining_step(\u001b[39m*\u001b[39;49margs, \u001b[39m*\u001b[39;49m\u001b[39m*\u001b[39;49mkwargs)\n",
      "Cell \u001b[0;32mIn[59], line 75\u001b[0m, in \u001b[0;36mSeanceLitClassifier.training_step\u001b[0;34m(self, batch, batch_idx)\u001b[0m\n\u001b[1;32m     71\u001b[0m \u001b[39mdef\u001b[39;00m \u001b[39mtraining_step\u001b[39m(\u001b[39mself\u001b[39m, batch, batch_idx):\n\u001b[1;32m     72\u001b[0m     \u001b[39m# training_step defines the train loop.\u001b[39;00m\n\u001b[1;32m     73\u001b[0m     \u001b[39m# it is independent of forward\u001b[39;00m\n\u001b[1;32m     74\u001b[0m     x, y \u001b[39m=\u001b[39m batch\n\u001b[0;32m---> 75\u001b[0m     x_hat \u001b[39m=\u001b[39m \u001b[39mself\u001b[39;49m\u001b[39m.\u001b[39;49mforward(x[\u001b[39m\"\u001b[39;49m\u001b[39mintervention\u001b[39;49m\u001b[39m\"\u001b[39;49m], x[\u001b[39m\"\u001b[39;49m\u001b[39mtitre\u001b[39;49m\u001b[39m\"\u001b[39;49m], x[\u001b[39m\"\u001b[39;49m\u001b[39mprofession\u001b[39;49m\u001b[39m\"\u001b[39;49m])\n\u001b[1;32m     76\u001b[0m     loss \u001b[39m=\u001b[39m nn\u001b[39m.\u001b[39mCrossEntropyLoss()(x_hat, y)\n\u001b[1;32m     77\u001b[0m     \u001b[39m# Logging to TensorBoard by default\u001b[39;00m\n",
      "Cell \u001b[0;32mIn[59], line 69\u001b[0m, in \u001b[0;36mSeanceLitClassifier.forward\u001b[0;34m(self, intervention, titre, profession)\u001b[0m\n\u001b[1;32m     68\u001b[0m \u001b[39mdef\u001b[39;00m \u001b[39mforward\u001b[39m(\u001b[39mself\u001b[39m, intervention, titre, profession):\n\u001b[0;32m---> 69\u001b[0m     \u001b[39mreturn\u001b[39;00m \u001b[39mself\u001b[39;49m\u001b[39m.\u001b[39;49mclassifier(intervention, titre, profession)\n",
      "File \u001b[0;32m~/miniconda3/envs/pytorch-11-7/lib/python3.10/site-packages/torch/nn/modules/module.py:1190\u001b[0m, in \u001b[0;36mModule._call_impl\u001b[0;34m(self, *input, **kwargs)\u001b[0m\n\u001b[1;32m   1186\u001b[0m \u001b[39m# If we don't have any hooks, we want to skip the rest of the logic in\u001b[39;00m\n\u001b[1;32m   1187\u001b[0m \u001b[39m# this function, and just call forward.\u001b[39;00m\n\u001b[1;32m   1188\u001b[0m \u001b[39mif\u001b[39;00m \u001b[39mnot\u001b[39;00m (\u001b[39mself\u001b[39m\u001b[39m.\u001b[39m_backward_hooks \u001b[39mor\u001b[39;00m \u001b[39mself\u001b[39m\u001b[39m.\u001b[39m_forward_hooks \u001b[39mor\u001b[39;00m \u001b[39mself\u001b[39m\u001b[39m.\u001b[39m_forward_pre_hooks \u001b[39mor\u001b[39;00m _global_backward_hooks\n\u001b[1;32m   1189\u001b[0m         \u001b[39mor\u001b[39;00m _global_forward_hooks \u001b[39mor\u001b[39;00m _global_forward_pre_hooks):\n\u001b[0;32m-> 1190\u001b[0m     \u001b[39mreturn\u001b[39;00m forward_call(\u001b[39m*\u001b[39;49m\u001b[39minput\u001b[39;49m, \u001b[39m*\u001b[39;49m\u001b[39m*\u001b[39;49mkwargs)\n\u001b[1;32m   1191\u001b[0m \u001b[39m# Do not call functions when jit is used\u001b[39;00m\n\u001b[1;32m   1192\u001b[0m full_backward_hooks, non_full_backward_hooks \u001b[39m=\u001b[39m [], []\n",
      "Cell \u001b[0;32mIn[58], line 46\u001b[0m, in \u001b[0;36mSeanceClassifier.forward\u001b[0;34m(self, intervention, titre, profession)\u001b[0m\n\u001b[1;32m     44\u001b[0m \u001b[39mdef\u001b[39;00m \u001b[39mforward\u001b[39m(\u001b[39mself\u001b[39m, intervention, titre, profession):\n\u001b[1;32m     45\u001b[0m     \u001b[39m# Embed interventions\u001b[39;00m\n\u001b[0;32m---> 46\u001b[0m     _, intervention_pooled_output \u001b[39m=\u001b[39m \u001b[39mself\u001b[39;49m\u001b[39m.\u001b[39;49mbert(\n\u001b[1;32m     47\u001b[0m         input_ids\u001b[39m=\u001b[39;49mintervention[\u001b[39m'\u001b[39;49m\u001b[39minput_ids\u001b[39;49m\u001b[39m'\u001b[39;49m]\u001b[39m.\u001b[39;49msqueeze(\u001b[39m1\u001b[39;49m),\n\u001b[1;32m     48\u001b[0m         attention_mask\u001b[39m=\u001b[39;49mintervention[\u001b[39m'\u001b[39;49m\u001b[39mattention_mask\u001b[39;49m\u001b[39m'\u001b[39;49m]\u001b[39m.\u001b[39;49msqueeze(\u001b[39m1\u001b[39;49m),\n\u001b[1;32m     49\u001b[0m         return_dict\u001b[39m=\u001b[39;49m\u001b[39mFalse\u001b[39;49;00m\n\u001b[1;32m     50\u001b[0m     )\n\u001b[1;32m     52\u001b[0m     \u001b[39m# Embed titre\u001b[39;00m\n\u001b[1;32m     53\u001b[0m     _, titre_pooled_output \u001b[39m=\u001b[39m \u001b[39mself\u001b[39m\u001b[39m.\u001b[39mbert(\n\u001b[1;32m     54\u001b[0m         input_ids\u001b[39m=\u001b[39mtitre[\u001b[39m'\u001b[39m\u001b[39minput_ids\u001b[39m\u001b[39m'\u001b[39m]\u001b[39m.\u001b[39msqueeze(\u001b[39m1\u001b[39m),\n\u001b[1;32m     55\u001b[0m         attention_mask\u001b[39m=\u001b[39mtitre[\u001b[39m'\u001b[39m\u001b[39mattention_mask\u001b[39m\u001b[39m'\u001b[39m]\u001b[39m.\u001b[39msqueeze(\u001b[39m1\u001b[39m),\n\u001b[1;32m     56\u001b[0m         return_dict\u001b[39m=\u001b[39m\u001b[39mFalse\u001b[39;00m\n\u001b[1;32m     57\u001b[0m     )\n",
      "File \u001b[0;32m~/miniconda3/envs/pytorch-11-7/lib/python3.10/site-packages/torch/nn/modules/module.py:1190\u001b[0m, in \u001b[0;36mModule._call_impl\u001b[0;34m(self, *input, **kwargs)\u001b[0m\n\u001b[1;32m   1186\u001b[0m \u001b[39m# If we don't have any hooks, we want to skip the rest of the logic in\u001b[39;00m\n\u001b[1;32m   1187\u001b[0m \u001b[39m# this function, and just call forward.\u001b[39;00m\n\u001b[1;32m   1188\u001b[0m \u001b[39mif\u001b[39;00m \u001b[39mnot\u001b[39;00m (\u001b[39mself\u001b[39m\u001b[39m.\u001b[39m_backward_hooks \u001b[39mor\u001b[39;00m \u001b[39mself\u001b[39m\u001b[39m.\u001b[39m_forward_hooks \u001b[39mor\u001b[39;00m \u001b[39mself\u001b[39m\u001b[39m.\u001b[39m_forward_pre_hooks \u001b[39mor\u001b[39;00m _global_backward_hooks\n\u001b[1;32m   1189\u001b[0m         \u001b[39mor\u001b[39;00m _global_forward_hooks \u001b[39mor\u001b[39;00m _global_forward_pre_hooks):\n\u001b[0;32m-> 1190\u001b[0m     \u001b[39mreturn\u001b[39;00m forward_call(\u001b[39m*\u001b[39;49m\u001b[39minput\u001b[39;49m, \u001b[39m*\u001b[39;49m\u001b[39m*\u001b[39;49mkwargs)\n\u001b[1;32m   1191\u001b[0m \u001b[39m# Do not call functions when jit is used\u001b[39;00m\n\u001b[1;32m   1192\u001b[0m full_backward_hooks, non_full_backward_hooks \u001b[39m=\u001b[39m [], []\n",
      "File \u001b[0;32m~/miniconda3/envs/pytorch-11-7/lib/python3.10/site-packages/transformers/models/camembert/modeling_camembert.py:898\u001b[0m, in \u001b[0;36mCamembertModel.forward\u001b[0;34m(self, input_ids, attention_mask, token_type_ids, position_ids, head_mask, inputs_embeds, encoder_hidden_states, encoder_attention_mask, past_key_values, use_cache, output_attentions, output_hidden_states, return_dict)\u001b[0m\n\u001b[1;32m    889\u001b[0m head_mask \u001b[39m=\u001b[39m \u001b[39mself\u001b[39m\u001b[39m.\u001b[39mget_head_mask(head_mask, \u001b[39mself\u001b[39m\u001b[39m.\u001b[39mconfig\u001b[39m.\u001b[39mnum_hidden_layers)\n\u001b[1;32m    891\u001b[0m embedding_output \u001b[39m=\u001b[39m \u001b[39mself\u001b[39m\u001b[39m.\u001b[39membeddings(\n\u001b[1;32m    892\u001b[0m     input_ids\u001b[39m=\u001b[39minput_ids,\n\u001b[1;32m    893\u001b[0m     position_ids\u001b[39m=\u001b[39mposition_ids,\n\u001b[0;32m   (...)\u001b[0m\n\u001b[1;32m    896\u001b[0m     past_key_values_length\u001b[39m=\u001b[39mpast_key_values_length,\n\u001b[1;32m    897\u001b[0m )\n\u001b[0;32m--> 898\u001b[0m encoder_outputs \u001b[39m=\u001b[39m \u001b[39mself\u001b[39;49m\u001b[39m.\u001b[39;49mencoder(\n\u001b[1;32m    899\u001b[0m     embedding_output,\n\u001b[1;32m    900\u001b[0m     attention_mask\u001b[39m=\u001b[39;49mextended_attention_mask,\n\u001b[1;32m    901\u001b[0m     head_mask\u001b[39m=\u001b[39;49mhead_mask,\n\u001b[1;32m    902\u001b[0m     encoder_hidden_states\u001b[39m=\u001b[39;49mencoder_hidden_states,\n\u001b[1;32m    903\u001b[0m     encoder_attention_mask\u001b[39m=\u001b[39;49mencoder_extended_attention_mask,\n\u001b[1;32m    904\u001b[0m     past_key_values\u001b[39m=\u001b[39;49mpast_key_values,\n\u001b[1;32m    905\u001b[0m     use_cache\u001b[39m=\u001b[39;49muse_cache,\n\u001b[1;32m    906\u001b[0m     output_attentions\u001b[39m=\u001b[39;49moutput_attentions,\n\u001b[1;32m    907\u001b[0m     output_hidden_states\u001b[39m=\u001b[39;49moutput_hidden_states,\n\u001b[1;32m    908\u001b[0m     return_dict\u001b[39m=\u001b[39;49mreturn_dict,\n\u001b[1;32m    909\u001b[0m )\n\u001b[1;32m    910\u001b[0m sequence_output \u001b[39m=\u001b[39m encoder_outputs[\u001b[39m0\u001b[39m]\n\u001b[1;32m    911\u001b[0m pooled_output \u001b[39m=\u001b[39m \u001b[39mself\u001b[39m\u001b[39m.\u001b[39mpooler(sequence_output) \u001b[39mif\u001b[39;00m \u001b[39mself\u001b[39m\u001b[39m.\u001b[39mpooler \u001b[39mis\u001b[39;00m \u001b[39mnot\u001b[39;00m \u001b[39mNone\u001b[39;00m \u001b[39melse\u001b[39;00m \u001b[39mNone\u001b[39;00m\n",
      "File \u001b[0;32m~/miniconda3/envs/pytorch-11-7/lib/python3.10/site-packages/torch/nn/modules/module.py:1190\u001b[0m, in \u001b[0;36mModule._call_impl\u001b[0;34m(self, *input, **kwargs)\u001b[0m\n\u001b[1;32m   1186\u001b[0m \u001b[39m# If we don't have any hooks, we want to skip the rest of the logic in\u001b[39;00m\n\u001b[1;32m   1187\u001b[0m \u001b[39m# this function, and just call forward.\u001b[39;00m\n\u001b[1;32m   1188\u001b[0m \u001b[39mif\u001b[39;00m \u001b[39mnot\u001b[39;00m (\u001b[39mself\u001b[39m\u001b[39m.\u001b[39m_backward_hooks \u001b[39mor\u001b[39;00m \u001b[39mself\u001b[39m\u001b[39m.\u001b[39m_forward_hooks \u001b[39mor\u001b[39;00m \u001b[39mself\u001b[39m\u001b[39m.\u001b[39m_forward_pre_hooks \u001b[39mor\u001b[39;00m _global_backward_hooks\n\u001b[1;32m   1189\u001b[0m         \u001b[39mor\u001b[39;00m _global_forward_hooks \u001b[39mor\u001b[39;00m _global_forward_pre_hooks):\n\u001b[0;32m-> 1190\u001b[0m     \u001b[39mreturn\u001b[39;00m forward_call(\u001b[39m*\u001b[39;49m\u001b[39minput\u001b[39;49m, \u001b[39m*\u001b[39;49m\u001b[39m*\u001b[39;49mkwargs)\n\u001b[1;32m   1191\u001b[0m \u001b[39m# Do not call functions when jit is used\u001b[39;00m\n\u001b[1;32m   1192\u001b[0m full_backward_hooks, non_full_backward_hooks \u001b[39m=\u001b[39m [], []\n",
      "File \u001b[0;32m~/miniconda3/envs/pytorch-11-7/lib/python3.10/site-packages/transformers/models/camembert/modeling_camembert.py:534\u001b[0m, in \u001b[0;36mCamembertEncoder.forward\u001b[0;34m(self, hidden_states, attention_mask, head_mask, encoder_hidden_states, encoder_attention_mask, past_key_values, use_cache, output_attentions, output_hidden_states, return_dict)\u001b[0m\n\u001b[1;32m    525\u001b[0m     layer_outputs \u001b[39m=\u001b[39m torch\u001b[39m.\u001b[39mutils\u001b[39m.\u001b[39mcheckpoint\u001b[39m.\u001b[39mcheckpoint(\n\u001b[1;32m    526\u001b[0m         create_custom_forward(layer_module),\n\u001b[1;32m    527\u001b[0m         hidden_states,\n\u001b[0;32m   (...)\u001b[0m\n\u001b[1;32m    531\u001b[0m         encoder_attention_mask,\n\u001b[1;32m    532\u001b[0m     )\n\u001b[1;32m    533\u001b[0m \u001b[39melse\u001b[39;00m:\n\u001b[0;32m--> 534\u001b[0m     layer_outputs \u001b[39m=\u001b[39m layer_module(\n\u001b[1;32m    535\u001b[0m         hidden_states,\n\u001b[1;32m    536\u001b[0m         attention_mask,\n\u001b[1;32m    537\u001b[0m         layer_head_mask,\n\u001b[1;32m    538\u001b[0m         encoder_hidden_states,\n\u001b[1;32m    539\u001b[0m         encoder_attention_mask,\n\u001b[1;32m    540\u001b[0m         past_key_value,\n\u001b[1;32m    541\u001b[0m         output_attentions,\n\u001b[1;32m    542\u001b[0m     )\n\u001b[1;32m    544\u001b[0m hidden_states \u001b[39m=\u001b[39m layer_outputs[\u001b[39m0\u001b[39m]\n\u001b[1;32m    545\u001b[0m \u001b[39mif\u001b[39;00m use_cache:\n",
      "File \u001b[0;32m~/miniconda3/envs/pytorch-11-7/lib/python3.10/site-packages/torch/nn/modules/module.py:1190\u001b[0m, in \u001b[0;36mModule._call_impl\u001b[0;34m(self, *input, **kwargs)\u001b[0m\n\u001b[1;32m   1186\u001b[0m \u001b[39m# If we don't have any hooks, we want to skip the rest of the logic in\u001b[39;00m\n\u001b[1;32m   1187\u001b[0m \u001b[39m# this function, and just call forward.\u001b[39;00m\n\u001b[1;32m   1188\u001b[0m \u001b[39mif\u001b[39;00m \u001b[39mnot\u001b[39;00m (\u001b[39mself\u001b[39m\u001b[39m.\u001b[39m_backward_hooks \u001b[39mor\u001b[39;00m \u001b[39mself\u001b[39m\u001b[39m.\u001b[39m_forward_hooks \u001b[39mor\u001b[39;00m \u001b[39mself\u001b[39m\u001b[39m.\u001b[39m_forward_pre_hooks \u001b[39mor\u001b[39;00m _global_backward_hooks\n\u001b[1;32m   1189\u001b[0m         \u001b[39mor\u001b[39;00m _global_forward_hooks \u001b[39mor\u001b[39;00m _global_forward_pre_hooks):\n\u001b[0;32m-> 1190\u001b[0m     \u001b[39mreturn\u001b[39;00m forward_call(\u001b[39m*\u001b[39;49m\u001b[39minput\u001b[39;49m, \u001b[39m*\u001b[39;49m\u001b[39m*\u001b[39;49mkwargs)\n\u001b[1;32m   1191\u001b[0m \u001b[39m# Do not call functions when jit is used\u001b[39;00m\n\u001b[1;32m   1192\u001b[0m full_backward_hooks, non_full_backward_hooks \u001b[39m=\u001b[39m [], []\n",
      "File \u001b[0;32m~/miniconda3/envs/pytorch-11-7/lib/python3.10/site-packages/transformers/models/camembert/modeling_camembert.py:419\u001b[0m, in \u001b[0;36mCamembertLayer.forward\u001b[0;34m(self, hidden_states, attention_mask, head_mask, encoder_hidden_states, encoder_attention_mask, past_key_value, output_attentions)\u001b[0m\n\u001b[1;32m    407\u001b[0m \u001b[39mdef\u001b[39;00m \u001b[39mforward\u001b[39m(\n\u001b[1;32m    408\u001b[0m     \u001b[39mself\u001b[39m,\n\u001b[1;32m    409\u001b[0m     hidden_states: torch\u001b[39m.\u001b[39mTensor,\n\u001b[0;32m   (...)\u001b[0m\n\u001b[1;32m    416\u001b[0m ) \u001b[39m-\u001b[39m\u001b[39m>\u001b[39m Tuple[torch\u001b[39m.\u001b[39mTensor]:\n\u001b[1;32m    417\u001b[0m     \u001b[39m# decoder uni-directional self-attention cached key/values tuple is at positions 1,2\u001b[39;00m\n\u001b[1;32m    418\u001b[0m     self_attn_past_key_value \u001b[39m=\u001b[39m past_key_value[:\u001b[39m2\u001b[39m] \u001b[39mif\u001b[39;00m past_key_value \u001b[39mis\u001b[39;00m \u001b[39mnot\u001b[39;00m \u001b[39mNone\u001b[39;00m \u001b[39melse\u001b[39;00m \u001b[39mNone\u001b[39;00m\n\u001b[0;32m--> 419\u001b[0m     self_attention_outputs \u001b[39m=\u001b[39m \u001b[39mself\u001b[39;49m\u001b[39m.\u001b[39;49mattention(\n\u001b[1;32m    420\u001b[0m         hidden_states,\n\u001b[1;32m    421\u001b[0m         attention_mask,\n\u001b[1;32m    422\u001b[0m         head_mask,\n\u001b[1;32m    423\u001b[0m         output_attentions\u001b[39m=\u001b[39;49moutput_attentions,\n\u001b[1;32m    424\u001b[0m         past_key_value\u001b[39m=\u001b[39;49mself_attn_past_key_value,\n\u001b[1;32m    425\u001b[0m     )\n\u001b[1;32m    426\u001b[0m     attention_output \u001b[39m=\u001b[39m self_attention_outputs[\u001b[39m0\u001b[39m]\n\u001b[1;32m    428\u001b[0m     \u001b[39m# if decoder, the last output is tuple of self-attn cache\u001b[39;00m\n",
      "File \u001b[0;32m~/miniconda3/envs/pytorch-11-7/lib/python3.10/site-packages/torch/nn/modules/module.py:1190\u001b[0m, in \u001b[0;36mModule._call_impl\u001b[0;34m(self, *input, **kwargs)\u001b[0m\n\u001b[1;32m   1186\u001b[0m \u001b[39m# If we don't have any hooks, we want to skip the rest of the logic in\u001b[39;00m\n\u001b[1;32m   1187\u001b[0m \u001b[39m# this function, and just call forward.\u001b[39;00m\n\u001b[1;32m   1188\u001b[0m \u001b[39mif\u001b[39;00m \u001b[39mnot\u001b[39;00m (\u001b[39mself\u001b[39m\u001b[39m.\u001b[39m_backward_hooks \u001b[39mor\u001b[39;00m \u001b[39mself\u001b[39m\u001b[39m.\u001b[39m_forward_hooks \u001b[39mor\u001b[39;00m \u001b[39mself\u001b[39m\u001b[39m.\u001b[39m_forward_pre_hooks \u001b[39mor\u001b[39;00m _global_backward_hooks\n\u001b[1;32m   1189\u001b[0m         \u001b[39mor\u001b[39;00m _global_forward_hooks \u001b[39mor\u001b[39;00m _global_forward_pre_hooks):\n\u001b[0;32m-> 1190\u001b[0m     \u001b[39mreturn\u001b[39;00m forward_call(\u001b[39m*\u001b[39;49m\u001b[39minput\u001b[39;49m, \u001b[39m*\u001b[39;49m\u001b[39m*\u001b[39;49mkwargs)\n\u001b[1;32m   1191\u001b[0m \u001b[39m# Do not call functions when jit is used\u001b[39;00m\n\u001b[1;32m   1192\u001b[0m full_backward_hooks, non_full_backward_hooks \u001b[39m=\u001b[39m [], []\n",
      "File \u001b[0;32m~/miniconda3/envs/pytorch-11-7/lib/python3.10/site-packages/transformers/models/camembert/modeling_camembert.py:346\u001b[0m, in \u001b[0;36mCamembertAttention.forward\u001b[0;34m(self, hidden_states, attention_mask, head_mask, encoder_hidden_states, encoder_attention_mask, past_key_value, output_attentions)\u001b[0m\n\u001b[1;32m    336\u001b[0m \u001b[39mdef\u001b[39;00m \u001b[39mforward\u001b[39m(\n\u001b[1;32m    337\u001b[0m     \u001b[39mself\u001b[39m,\n\u001b[1;32m    338\u001b[0m     hidden_states: torch\u001b[39m.\u001b[39mTensor,\n\u001b[0;32m   (...)\u001b[0m\n\u001b[1;32m    344\u001b[0m     output_attentions: Optional[\u001b[39mbool\u001b[39m] \u001b[39m=\u001b[39m \u001b[39mFalse\u001b[39;00m,\n\u001b[1;32m    345\u001b[0m ) \u001b[39m-\u001b[39m\u001b[39m>\u001b[39m Tuple[torch\u001b[39m.\u001b[39mTensor]:\n\u001b[0;32m--> 346\u001b[0m     self_outputs \u001b[39m=\u001b[39m \u001b[39mself\u001b[39;49m\u001b[39m.\u001b[39;49mself(\n\u001b[1;32m    347\u001b[0m         hidden_states,\n\u001b[1;32m    348\u001b[0m         attention_mask,\n\u001b[1;32m    349\u001b[0m         head_mask,\n\u001b[1;32m    350\u001b[0m         encoder_hidden_states,\n\u001b[1;32m    351\u001b[0m         encoder_attention_mask,\n\u001b[1;32m    352\u001b[0m         past_key_value,\n\u001b[1;32m    353\u001b[0m         output_attentions,\n\u001b[1;32m    354\u001b[0m     )\n\u001b[1;32m    355\u001b[0m     attention_output \u001b[39m=\u001b[39m \u001b[39mself\u001b[39m\u001b[39m.\u001b[39moutput(self_outputs[\u001b[39m0\u001b[39m], hidden_states)\n\u001b[1;32m    356\u001b[0m     outputs \u001b[39m=\u001b[39m (attention_output,) \u001b[39m+\u001b[39m self_outputs[\u001b[39m1\u001b[39m:]  \u001b[39m# add attentions if we output them\u001b[39;00m\n",
      "File \u001b[0;32m~/miniconda3/envs/pytorch-11-7/lib/python3.10/site-packages/torch/nn/modules/module.py:1190\u001b[0m, in \u001b[0;36mModule._call_impl\u001b[0;34m(self, *input, **kwargs)\u001b[0m\n\u001b[1;32m   1186\u001b[0m \u001b[39m# If we don't have any hooks, we want to skip the rest of the logic in\u001b[39;00m\n\u001b[1;32m   1187\u001b[0m \u001b[39m# this function, and just call forward.\u001b[39;00m\n\u001b[1;32m   1188\u001b[0m \u001b[39mif\u001b[39;00m \u001b[39mnot\u001b[39;00m (\u001b[39mself\u001b[39m\u001b[39m.\u001b[39m_backward_hooks \u001b[39mor\u001b[39;00m \u001b[39mself\u001b[39m\u001b[39m.\u001b[39m_forward_hooks \u001b[39mor\u001b[39;00m \u001b[39mself\u001b[39m\u001b[39m.\u001b[39m_forward_pre_hooks \u001b[39mor\u001b[39;00m _global_backward_hooks\n\u001b[1;32m   1189\u001b[0m         \u001b[39mor\u001b[39;00m _global_forward_hooks \u001b[39mor\u001b[39;00m _global_forward_pre_hooks):\n\u001b[0;32m-> 1190\u001b[0m     \u001b[39mreturn\u001b[39;00m forward_call(\u001b[39m*\u001b[39;49m\u001b[39minput\u001b[39;49m, \u001b[39m*\u001b[39;49m\u001b[39m*\u001b[39;49mkwargs)\n\u001b[1;32m   1191\u001b[0m \u001b[39m# Do not call functions when jit is used\u001b[39;00m\n\u001b[1;32m   1192\u001b[0m full_backward_hooks, non_full_backward_hooks \u001b[39m=\u001b[39m [], []\n",
      "File \u001b[0;32m~/miniconda3/envs/pytorch-11-7/lib/python3.10/site-packages/transformers/models/camembert/modeling_camembert.py:276\u001b[0m, in \u001b[0;36mCamembertSelfAttention.forward\u001b[0;34m(self, hidden_states, attention_mask, head_mask, encoder_hidden_states, encoder_attention_mask, past_key_value, output_attentions)\u001b[0m\n\u001b[1;32m    272\u001b[0m attention_probs \u001b[39m=\u001b[39m nn\u001b[39m.\u001b[39mfunctional\u001b[39m.\u001b[39msoftmax(attention_scores, dim\u001b[39m=\u001b[39m\u001b[39m-\u001b[39m\u001b[39m1\u001b[39m)\n\u001b[1;32m    274\u001b[0m \u001b[39m# This is actually dropping out entire tokens to attend to, which might\u001b[39;00m\n\u001b[1;32m    275\u001b[0m \u001b[39m# seem a bit unusual, but is taken from the original Transformer paper.\u001b[39;00m\n\u001b[0;32m--> 276\u001b[0m attention_probs \u001b[39m=\u001b[39m \u001b[39mself\u001b[39;49m\u001b[39m.\u001b[39;49mdropout(attention_probs)\n\u001b[1;32m    278\u001b[0m \u001b[39m# Mask heads if we want to\u001b[39;00m\n\u001b[1;32m    279\u001b[0m \u001b[39mif\u001b[39;00m head_mask \u001b[39mis\u001b[39;00m \u001b[39mnot\u001b[39;00m \u001b[39mNone\u001b[39;00m:\n",
      "File \u001b[0;32m~/miniconda3/envs/pytorch-11-7/lib/python3.10/site-packages/torch/nn/modules/module.py:1190\u001b[0m, in \u001b[0;36mModule._call_impl\u001b[0;34m(self, *input, **kwargs)\u001b[0m\n\u001b[1;32m   1186\u001b[0m \u001b[39m# If we don't have any hooks, we want to skip the rest of the logic in\u001b[39;00m\n\u001b[1;32m   1187\u001b[0m \u001b[39m# this function, and just call forward.\u001b[39;00m\n\u001b[1;32m   1188\u001b[0m \u001b[39mif\u001b[39;00m \u001b[39mnot\u001b[39;00m (\u001b[39mself\u001b[39m\u001b[39m.\u001b[39m_backward_hooks \u001b[39mor\u001b[39;00m \u001b[39mself\u001b[39m\u001b[39m.\u001b[39m_forward_hooks \u001b[39mor\u001b[39;00m \u001b[39mself\u001b[39m\u001b[39m.\u001b[39m_forward_pre_hooks \u001b[39mor\u001b[39;00m _global_backward_hooks\n\u001b[1;32m   1189\u001b[0m         \u001b[39mor\u001b[39;00m _global_forward_hooks \u001b[39mor\u001b[39;00m _global_forward_pre_hooks):\n\u001b[0;32m-> 1190\u001b[0m     \u001b[39mreturn\u001b[39;00m forward_call(\u001b[39m*\u001b[39;49m\u001b[39minput\u001b[39;49m, \u001b[39m*\u001b[39;49m\u001b[39m*\u001b[39;49mkwargs)\n\u001b[1;32m   1191\u001b[0m \u001b[39m# Do not call functions when jit is used\u001b[39;00m\n\u001b[1;32m   1192\u001b[0m full_backward_hooks, non_full_backward_hooks \u001b[39m=\u001b[39m [], []\n",
      "File \u001b[0;32m~/miniconda3/envs/pytorch-11-7/lib/python3.10/site-packages/torch/nn/modules/dropout.py:59\u001b[0m, in \u001b[0;36mDropout.forward\u001b[0;34m(self, input)\u001b[0m\n\u001b[1;32m     58\u001b[0m \u001b[39mdef\u001b[39;00m \u001b[39mforward\u001b[39m(\u001b[39mself\u001b[39m, \u001b[39minput\u001b[39m: Tensor) \u001b[39m-\u001b[39m\u001b[39m>\u001b[39m Tensor:\n\u001b[0;32m---> 59\u001b[0m     \u001b[39mreturn\u001b[39;00m F\u001b[39m.\u001b[39;49mdropout(\u001b[39minput\u001b[39;49m, \u001b[39mself\u001b[39;49m\u001b[39m.\u001b[39;49mp, \u001b[39mself\u001b[39;49m\u001b[39m.\u001b[39;49mtraining, \u001b[39mself\u001b[39;49m\u001b[39m.\u001b[39;49minplace)\n",
      "File \u001b[0;32m~/miniconda3/envs/pytorch-11-7/lib/python3.10/site-packages/torch/nn/functional.py:1252\u001b[0m, in \u001b[0;36mdropout\u001b[0;34m(input, p, training, inplace)\u001b[0m\n\u001b[1;32m   1250\u001b[0m \u001b[39mif\u001b[39;00m p \u001b[39m<\u001b[39m \u001b[39m0.0\u001b[39m \u001b[39mor\u001b[39;00m p \u001b[39m>\u001b[39m \u001b[39m1.0\u001b[39m:\n\u001b[1;32m   1251\u001b[0m     \u001b[39mraise\u001b[39;00m \u001b[39mValueError\u001b[39;00m(\u001b[39m\"\u001b[39m\u001b[39mdropout probability has to be between 0 and 1, \u001b[39m\u001b[39m\"\u001b[39m \u001b[39m\"\u001b[39m\u001b[39mbut got \u001b[39m\u001b[39m{}\u001b[39;00m\u001b[39m\"\u001b[39m\u001b[39m.\u001b[39mformat(p))\n\u001b[0;32m-> 1252\u001b[0m \u001b[39mreturn\u001b[39;00m _VF\u001b[39m.\u001b[39mdropout_(\u001b[39minput\u001b[39m, p, training) \u001b[39mif\u001b[39;00m inplace \u001b[39melse\u001b[39;00m _VF\u001b[39m.\u001b[39;49mdropout(\u001b[39minput\u001b[39;49m, p, training)\n",
      "\u001b[0;31mOutOfMemoryError\u001b[0m: CUDA out of memory. Tried to allocate 384.00 MiB (GPU 0; 7.80 GiB total capacity; 6.45 GiB already allocated; 392.19 MiB free; 6.51 GiB reserved in total by PyTorch) If reserved memory is >> allocated memory try setting max_split_size_mb to avoid fragmentation.  See documentation for Memory Management and PYTORCH_CUDA_ALLOC_CONF"
     ]
    }
   ],
   "source": [
    "trainer.fit(lt_classifier)"
   ]
  },
  {
   "cell_type": "code",
   "execution_count": 28,
   "metadata": {},
   "outputs": [
    {
     "data": {
      "text/plain": [
       "Reusing TensorBoard on port 6007 (pid 82011), started 0:05:05 ago. (Use '!kill 82011' to kill it.)"
      ]
     },
     "metadata": {},
     "output_type": "display_data"
    },
    {
     "data": {
      "text/html": [
       "\n",
       "      <iframe id=\"tensorboard-frame-361de3dbe4ec8bab\" width=\"100%\" height=\"800\" frameborder=\"0\">\n",
       "      </iframe>\n",
       "      <script>\n",
       "        (function() {\n",
       "          const frame = document.getElementById(\"tensorboard-frame-361de3dbe4ec8bab\");\n",
       "          const url = new URL(\"http://localhost\");\n",
       "          const port = 6007;\n",
       "          if (port) {\n",
       "            url.port = port;\n",
       "          }\n",
       "          frame.src = url;\n",
       "        })();\n",
       "      </script>\n",
       "    "
      ],
      "text/plain": [
       "<IPython.core.display.HTML object>"
      ]
     },
     "metadata": {},
     "output_type": "display_data"
    }
   ],
   "source": [
    "%tensorboard --logdir ../lightning_logs/"
   ]
  },
  {
   "cell_type": "code",
   "execution_count": 162,
   "metadata": {},
   "outputs": [
    {
     "data": {
      "text/html": [
       "<div>\n",
       "<style scoped>\n",
       "    .dataframe tbody tr th:only-of-type {\n",
       "        vertical-align: middle;\n",
       "    }\n",
       "\n",
       "    .dataframe tbody tr th {\n",
       "        vertical-align: top;\n",
       "    }\n",
       "\n",
       "    .dataframe thead th {\n",
       "        text-align: right;\n",
       "    }\n",
       "</style>\n",
       "<table border=\"1\" class=\"dataframe\">\n",
       "  <thead>\n",
       "    <tr style=\"text-align: right;\">\n",
       "      <th></th>\n",
       "      <th>id</th>\n",
       "      <th>seance_id</th>\n",
       "      <th>date</th>\n",
       "      <th>moment</th>\n",
       "      <th>type</th>\n",
       "      <th>titre</th>\n",
       "      <th>titre_complet</th>\n",
       "      <th>timestamp</th>\n",
       "      <th>intervention</th>\n",
       "      <th>nb_mots</th>\n",
       "      <th>nom</th>\n",
       "      <th>parlementaire</th>\n",
       "      <th>sexe</th>\n",
       "      <th>parlementaire_groupe_acronyme</th>\n",
       "      <th>fonction</th>\n",
       "      <th>source</th>\n",
       "    </tr>\n",
       "  </thead>\n",
       "  <tbody>\n",
       "    <tr>\n",
       "      <th>57</th>\n",
       "      <td>58</td>\n",
       "      <td>2</td>\n",
       "      <td>2017-06-28</td>\n",
       "      <td>15:00</td>\n",
       "      <td>loi</td>\n",
       "      <td>Élection des six vice-présidents et des trois ...</td>\n",
       "      <td>Élection des six vice-présidents et des trois ...</td>\n",
       "      <td>110</td>\n",
       "      <td>&lt;p&gt;Monsieur le président, sans vouloir compliq...</td>\n",
       "      <td>230</td>\n",
       "      <td>NaN</td>\n",
       "      <td>Jean-Luc Mélenchon</td>\n",
       "      <td>H</td>\n",
       "      <td>LFI</td>\n",
       "      <td>NaN</td>\n",
       "      <td>http://www.assemblee-nationale.fr/15/cri/2016-...</td>\n",
       "    </tr>\n",
       "    <tr>\n",
       "      <th>60</th>\n",
       "      <td>61</td>\n",
       "      <td>2</td>\n",
       "      <td>2017-06-28</td>\n",
       "      <td>15:00</td>\n",
       "      <td>loi</td>\n",
       "      <td>Élection des six vice-présidents et des trois ...</td>\n",
       "      <td>Élection des six vice-présidents et des trois ...</td>\n",
       "      <td>150</td>\n",
       "      <td>&lt;p&gt;Monsieur le président, nous avons en effet ...</td>\n",
       "      <td>138</td>\n",
       "      <td>NaN</td>\n",
       "      <td>Christian Jacob</td>\n",
       "      <td>H</td>\n",
       "      <td>LR</td>\n",
       "      <td>NaN</td>\n",
       "      <td>http://www.assemblee-nationale.fr/15/cri/2016-...</td>\n",
       "    </tr>\n",
       "    <tr>\n",
       "      <th>63</th>\n",
       "      <td>64</td>\n",
       "      <td>2</td>\n",
       "      <td>2017-06-28</td>\n",
       "      <td>15:00</td>\n",
       "      <td>loi</td>\n",
       "      <td>Élection des six vice-présidents et des trois ...</td>\n",
       "      <td>Élection des six vice-présidents et des trois ...</td>\n",
       "      <td>190</td>\n",
       "      <td>&lt;p&gt;Mes chers collègues, nous vivons une situat...</td>\n",
       "      <td>182</td>\n",
       "      <td>NaN</td>\n",
       "      <td>Olivier Faure</td>\n",
       "      <td>H</td>\n",
       "      <td>NG</td>\n",
       "      <td>NaN</td>\n",
       "      <td>http://www.assemblee-nationale.fr/15/cri/2016-...</td>\n",
       "    </tr>\n",
       "    <tr>\n",
       "      <th>66</th>\n",
       "      <td>67</td>\n",
       "      <td>2</td>\n",
       "      <td>2017-06-28</td>\n",
       "      <td>15:00</td>\n",
       "      <td>loi</td>\n",
       "      <td>Élection des six vice-présidents et des trois ...</td>\n",
       "      <td>Élection des six vice-présidents et des trois ...</td>\n",
       "      <td>230</td>\n",
       "      <td>&lt;p&gt;Monsieur le président, chers collègues, pou...</td>\n",
       "      <td>147</td>\n",
       "      <td>NaN</td>\n",
       "      <td>Franck Riester</td>\n",
       "      <td>H</td>\n",
       "      <td>LC</td>\n",
       "      <td>NaN</td>\n",
       "      <td>http://www.assemblee-nationale.fr/15/cri/2016-...</td>\n",
       "    </tr>\n",
       "    <tr>\n",
       "      <th>68</th>\n",
       "      <td>69</td>\n",
       "      <td>2</td>\n",
       "      <td>2017-06-28</td>\n",
       "      <td>15:00</td>\n",
       "      <td>loi</td>\n",
       "      <td>Élection des six vice-présidents et des trois ...</td>\n",
       "      <td>Élection des six vice-présidents et des trois ...</td>\n",
       "      <td>250</td>\n",
       "      <td>&lt;p&gt;à tous les membres des groupes de l'opposit...</td>\n",
       "      <td>32</td>\n",
       "      <td>NaN</td>\n",
       "      <td>Franck Riester</td>\n",
       "      <td>H</td>\n",
       "      <td>LC</td>\n",
       "      <td>NaN</td>\n",
       "      <td>http://www.assemblee-nationale.fr/15/cri/2016-...</td>\n",
       "    </tr>\n",
       "    <tr>\n",
       "      <th>...</th>\n",
       "      <td>...</td>\n",
       "      <td>...</td>\n",
       "      <td>...</td>\n",
       "      <td>...</td>\n",
       "      <td>...</td>\n",
       "      <td>...</td>\n",
       "      <td>...</td>\n",
       "      <td>...</td>\n",
       "      <td>...</td>\n",
       "      <td>...</td>\n",
       "      <td>...</td>\n",
       "      <td>...</td>\n",
       "      <td>...</td>\n",
       "      <td>...</td>\n",
       "      <td>...</td>\n",
       "      <td>...</td>\n",
       "    </tr>\n",
       "    <tr>\n",
       "      <th>211984</th>\n",
       "      <td>288222</td>\n",
       "      <td>1698</td>\n",
       "      <td>2018-06-21</td>\n",
       "      <td>21:30</td>\n",
       "      <td>loi</td>\n",
       "      <td>discussion générale</td>\n",
       "      <td>défense du droit de propriété &gt; discussion gén...</td>\n",
       "      <td>4100</td>\n",
       "      <td>&lt;p&gt;Évidemment qu'il faut en avoir un. On ne se...</td>\n",
       "      <td>214</td>\n",
       "      <td>NaN</td>\n",
       "      <td>Julien Aubert</td>\n",
       "      <td>H</td>\n",
       "      <td>LR</td>\n",
       "      <td>rapporteur de la commission des affaires écono...</td>\n",
       "      <td>http://www.assemblee-nationale.fr/15/cri/2017-...</td>\n",
       "    </tr>\n",
       "    <tr>\n",
       "      <th>211986</th>\n",
       "      <td>288225</td>\n",
       "      <td>1698</td>\n",
       "      <td>2018-06-21</td>\n",
       "      <td>21:30</td>\n",
       "      <td>loi</td>\n",
       "      <td>discussion générale</td>\n",
       "      <td>défense du droit de propriété &gt; discussion gén...</td>\n",
       "      <td>4120</td>\n",
       "      <td>&lt;p&gt;Excellent !&lt;/p&gt;</td>\n",
       "      <td>3</td>\n",
       "      <td>NaN</td>\n",
       "      <td>Sophie Auconie</td>\n",
       "      <td>F</td>\n",
       "      <td>UAI</td>\n",
       "      <td>NaN</td>\n",
       "      <td>http://www.assemblee-nationale.fr/15/cri/2017-...</td>\n",
       "    </tr>\n",
       "    <tr>\n",
       "      <th>211987</th>\n",
       "      <td>288224</td>\n",
       "      <td>1698</td>\n",
       "      <td>2018-06-21</td>\n",
       "      <td>21:30</td>\n",
       "      <td>loi</td>\n",
       "      <td>discussion générale</td>\n",
       "      <td>défense du droit de propriété &gt; discussion gén...</td>\n",
       "      <td>4121</td>\n",
       "      <td>&lt;p&gt;Excellent !&lt;/p&gt;</td>\n",
       "      <td>3</td>\n",
       "      <td>NaN</td>\n",
       "      <td>Constance Le Grip</td>\n",
       "      <td>F</td>\n",
       "      <td>LR</td>\n",
       "      <td>NaN</td>\n",
       "      <td>http://www.assemblee-nationale.fr/15/cri/2017-...</td>\n",
       "    </tr>\n",
       "    <tr>\n",
       "      <th>211989</th>\n",
       "      <td>288227</td>\n",
       "      <td>1698</td>\n",
       "      <td>2018-06-21</td>\n",
       "      <td>21:30</td>\n",
       "      <td>loi</td>\n",
       "      <td>discussion générale</td>\n",
       "      <td>défense du droit de propriété &gt; discussion gén...</td>\n",
       "      <td>4140</td>\n",
       "      <td>&lt;p&gt;Je n'aurai pas le temps de la défendre, mon...</td>\n",
       "      <td>15</td>\n",
       "      <td>NaN</td>\n",
       "      <td>Damien Adam</td>\n",
       "      <td>H</td>\n",
       "      <td>LREM</td>\n",
       "      <td>NaN</td>\n",
       "      <td>http://www.assemblee-nationale.fr/15/cri/2017-...</td>\n",
       "    </tr>\n",
       "    <tr>\n",
       "      <th>211990</th>\n",
       "      <td>288228</td>\n",
       "      <td>1698</td>\n",
       "      <td>2018-06-21</td>\n",
       "      <td>21:30</td>\n",
       "      <td>loi</td>\n",
       "      <td>discussion générale</td>\n",
       "      <td>défense du droit de propriété &gt; discussion gén...</td>\n",
       "      <td>4150</td>\n",
       "      <td>&lt;p&gt;Si l'on n'a pas le temps de la mettre aux v...</td>\n",
       "      <td>22</td>\n",
       "      <td>NaN</td>\n",
       "      <td>Roland Lescure</td>\n",
       "      <td>H</td>\n",
       "      <td>LREM</td>\n",
       "      <td>président de la commission des affaires économ...</td>\n",
       "      <td>http://www.assemblee-nationale.fr/15/cri/2017-...</td>\n",
       "    </tr>\n",
       "  </tbody>\n",
       "</table>\n",
       "<p>95185 rows × 16 columns</p>\n",
       "</div>"
      ],
      "text/plain": [
       "            id  seance_id        date moment type  \\\n",
       "57          58          2  2017-06-28  15:00  loi   \n",
       "60          61          2  2017-06-28  15:00  loi   \n",
       "63          64          2  2017-06-28  15:00  loi   \n",
       "66          67          2  2017-06-28  15:00  loi   \n",
       "68          69          2  2017-06-28  15:00  loi   \n",
       "...        ...        ...         ...    ...  ...   \n",
       "211984  288222       1698  2018-06-21  21:30  loi   \n",
       "211986  288225       1698  2018-06-21  21:30  loi   \n",
       "211987  288224       1698  2018-06-21  21:30  loi   \n",
       "211989  288227       1698  2018-06-21  21:30  loi   \n",
       "211990  288228       1698  2018-06-21  21:30  loi   \n",
       "\n",
       "                                                    titre  \\\n",
       "57      Élection des six vice-présidents et des trois ...   \n",
       "60      Élection des six vice-présidents et des trois ...   \n",
       "63      Élection des six vice-présidents et des trois ...   \n",
       "66      Élection des six vice-présidents et des trois ...   \n",
       "68      Élection des six vice-présidents et des trois ...   \n",
       "...                                                   ...   \n",
       "211984                                discussion générale   \n",
       "211986                                discussion générale   \n",
       "211987                                discussion générale   \n",
       "211989                                discussion générale   \n",
       "211990                                discussion générale   \n",
       "\n",
       "                                            titre_complet  timestamp  \\\n",
       "57      Élection des six vice-présidents et des trois ...        110   \n",
       "60      Élection des six vice-présidents et des trois ...        150   \n",
       "63      Élection des six vice-présidents et des trois ...        190   \n",
       "66      Élection des six vice-présidents et des trois ...        230   \n",
       "68      Élection des six vice-présidents et des trois ...        250   \n",
       "...                                                   ...        ...   \n",
       "211984  défense du droit de propriété > discussion gén...       4100   \n",
       "211986  défense du droit de propriété > discussion gén...       4120   \n",
       "211987  défense du droit de propriété > discussion gén...       4121   \n",
       "211989  défense du droit de propriété > discussion gén...       4140   \n",
       "211990  défense du droit de propriété > discussion gén...       4150   \n",
       "\n",
       "                                             intervention  nb_mots  nom  \\\n",
       "57      <p>Monsieur le président, sans vouloir compliq...      230  NaN   \n",
       "60      <p>Monsieur le président, nous avons en effet ...      138  NaN   \n",
       "63      <p>Mes chers collègues, nous vivons une situat...      182  NaN   \n",
       "66      <p>Monsieur le président, chers collègues, pou...      147  NaN   \n",
       "68      <p>à tous les membres des groupes de l'opposit...       32  NaN   \n",
       "...                                                   ...      ...  ...   \n",
       "211984  <p>Évidemment qu'il faut en avoir un. On ne se...      214  NaN   \n",
       "211986                                 <p>Excellent !</p>        3  NaN   \n",
       "211987                                 <p>Excellent !</p>        3  NaN   \n",
       "211989  <p>Je n'aurai pas le temps de la défendre, mon...       15  NaN   \n",
       "211990  <p>Si l'on n'a pas le temps de la mettre aux v...       22  NaN   \n",
       "\n",
       "             parlementaire sexe parlementaire_groupe_acronyme  \\\n",
       "57      Jean-Luc Mélenchon    H                           LFI   \n",
       "60         Christian Jacob    H                            LR   \n",
       "63           Olivier Faure    H                            NG   \n",
       "66          Franck Riester    H                            LC   \n",
       "68          Franck Riester    H                            LC   \n",
       "...                    ...  ...                           ...   \n",
       "211984       Julien Aubert    H                            LR   \n",
       "211986      Sophie Auconie    F                           UAI   \n",
       "211987   Constance Le Grip    F                            LR   \n",
       "211989         Damien Adam    H                          LREM   \n",
       "211990      Roland Lescure    H                          LREM   \n",
       "\n",
       "                                                 fonction  \\\n",
       "57                                                    NaN   \n",
       "60                                                    NaN   \n",
       "63                                                    NaN   \n",
       "66                                                    NaN   \n",
       "68                                                    NaN   \n",
       "...                                                   ...   \n",
       "211984  rapporteur de la commission des affaires écono...   \n",
       "211986                                                NaN   \n",
       "211987                                                NaN   \n",
       "211989                                                NaN   \n",
       "211990  président de la commission des affaires économ...   \n",
       "\n",
       "                                                   source  \n",
       "57      http://www.assemblee-nationale.fr/15/cri/2016-...  \n",
       "60      http://www.assemblee-nationale.fr/15/cri/2016-...  \n",
       "63      http://www.assemblee-nationale.fr/15/cri/2016-...  \n",
       "66      http://www.assemblee-nationale.fr/15/cri/2016-...  \n",
       "68      http://www.assemblee-nationale.fr/15/cri/2016-...  \n",
       "...                                                   ...  \n",
       "211984  http://www.assemblee-nationale.fr/15/cri/2017-...  \n",
       "211986  http://www.assemblee-nationale.fr/15/cri/2017-...  \n",
       "211987  http://www.assemblee-nationale.fr/15/cri/2017-...  \n",
       "211989  http://www.assemblee-nationale.fr/15/cri/2017-...  \n",
       "211990  http://www.assemblee-nationale.fr/15/cri/2017-...  \n",
       "\n",
       "[95185 rows x 16 columns]"
      ]
     },
     "execution_count": 162,
     "metadata": {},
     "output_type": "execute_result"
    }
   ],
   "source": [
    "tdf_without_pres[\n",
    "    tdf_without_pres.parlementaire.isin((tdf_without_pres.parlementaire.value_counts() > 10).index)\n",
    "]"
   ]
  },
  {
   "cell_type": "code",
   "execution_count": 97,
   "metadata": {},
   "outputs": [
    {
     "data": {
      "text/plain": [
       "président de la commission des finances, de l'économie générale et du contrôle budgétaire                                      354\n",
       "président de la commission des affaires économiques                                                                            137\n",
       "présidente de la commission des affaires sociales                                                                              129\n",
       "président de la commission des affaires culturelles et de l'éducation                                                          117\n",
       "présidente de la commission du développement durable et de l'aménagement du territoire                                          68\n",
       "présidente de la commission des affaires étrangères                                                                             55\n",
       "président de la commission des finances                                                                                         29\n",
       "présidente de la commission des lois constitutionnelles, de la législation et de l'administration générale de la République     21\n",
       "président, doyen d'âge                                                                                                          18\n",
       "vice-présidente de la commission des affaires économiques                                                                       14\n",
       "présidente de la commission des affaires européennes                                                                            14\n",
       "président de la commission de la défense nationale et des forces armées                                                         10\n",
       "vice-président de la commission mixte paritaire                                                                                  8\n",
       "Vice-présidente de la commission des finances                                                                                    8\n",
       "vice-présidente de la commission des finances, de l'économie générale et du contrôle budgétaire                                  7\n",
       "vice-présidente de la commission des finances                                                                                    7\n",
       "vice-président de la commission des finances, de l'économie générale et du contrôle budgétaire                                   6\n",
       "président du Bundestag                                                                                                           6\n",
       "présidente de la commission spéciale chargée d'examiner le projet de loi pour un état au service d'une société de confiance      6\n",
       "Premier président de la Cour des comptes                                                                                         5\n",
       "Name: fonction, dtype: int64"
      ]
     },
     "execution_count": 97,
     "metadata": {},
     "output_type": "execute_result"
    }
   ],
   "source": [
    "tdf_without_pres[\n",
    "    tdf_without_pres.fonction.fillna(\"\").str.contains(\"président\")\n",
    "].fonction.value_counts().head(20)"
   ]
  },
  {
   "cell_type": "code",
   "execution_count": null,
   "metadata": {},
   "outputs": [],
   "source": []
  },
  {
   "cell_type": "code",
   "execution_count": 85,
   "metadata": {},
   "outputs": [
    {
     "data": {
      "text/html": [
       "<div>\n",
       "<style scoped>\n",
       "    .dataframe tbody tr th:only-of-type {\n",
       "        vertical-align: middle;\n",
       "    }\n",
       "\n",
       "    .dataframe tbody tr th {\n",
       "        vertical-align: top;\n",
       "    }\n",
       "\n",
       "    .dataframe thead th {\n",
       "        text-align: right;\n",
       "    }\n",
       "</style>\n",
       "<table border=\"1\" class=\"dataframe\">\n",
       "  <thead>\n",
       "    <tr style=\"text-align: right;\">\n",
       "      <th></th>\n",
       "      <th>intervention</th>\n",
       "      <th>nom</th>\n",
       "      <th>parlementaire</th>\n",
       "      <th>parlementaire_groupe_acronyme</th>\n",
       "      <th>fonction</th>\n",
       "    </tr>\n",
       "  </thead>\n",
       "  <tbody>\n",
       "    <tr>\n",
       "      <th>109</th>\n",
       "      <td>&lt;p&gt;Je vais réunir les présidents de groupe.&lt;/p&gt;</td>\n",
       "      <td>NaN</td>\n",
       "      <td>François de Rugy</td>\n",
       "      <td>LREM</td>\n",
       "      <td>président</td>\n",
       "    </tr>\n",
       "    <tr>\n",
       "      <th>110</th>\n",
       "      <td>&lt;p&gt;La séance est suspendue.&lt;/p&gt;</td>\n",
       "      <td>NaN</td>\n",
       "      <td>François de Rugy</td>\n",
       "      <td>LREM</td>\n",
       "      <td>président</td>\n",
       "    </tr>\n",
       "    <tr>\n",
       "      <th>112</th>\n",
       "      <td>&lt;p&gt;La séance est reprise.&lt;/p&gt;&lt;p&gt;Mes chers coll...</td>\n",
       "      <td>NaN</td>\n",
       "      <td>François de Rugy</td>\n",
       "      <td>LREM</td>\n",
       "      <td>président</td>\n",
       "    </tr>\n",
       "    <tr>\n",
       "      <th>113</th>\n",
       "      <td>&lt;p&gt;La séance est suspendue.&lt;/p&gt;</td>\n",
       "      <td>NaN</td>\n",
       "      <td>François de Rugy</td>\n",
       "      <td>LREM</td>\n",
       "      <td>président</td>\n",
       "    </tr>\n",
       "    <tr>\n",
       "      <th>115</th>\n",
       "      <td>&lt;p&gt;La séance est reprise.&lt;/p&gt;&lt;p&gt;Avant de repre...</td>\n",
       "      <td>NaN</td>\n",
       "      <td>François de Rugy</td>\n",
       "      <td>LREM</td>\n",
       "      <td>président</td>\n",
       "    </tr>\n",
       "    <tr>\n",
       "      <th>116</th>\n",
       "      <td>&lt;p&gt;Monsieur le président, la majorité a décidé...</td>\n",
       "      <td>NaN</td>\n",
       "      <td>Christian Jacob</td>\n",
       "      <td>LR</td>\n",
       "      <td>NaN</td>\n",
       "    </tr>\n",
       "    <tr>\n",
       "      <th>118</th>\n",
       "      <td>&lt;p&gt;Monsieur le président, tant que les droits ...</td>\n",
       "      <td>NaN</td>\n",
       "      <td>Christian Jacob</td>\n",
       "      <td>LR</td>\n",
       "      <td>NaN</td>\n",
       "    </tr>\n",
       "    <tr>\n",
       "      <th>120</th>\n",
       "      <td>&lt;p&gt;La parole est à M. Richard Ferrand, préside...</td>\n",
       "      <td>NaN</td>\n",
       "      <td>François de Rugy</td>\n",
       "      <td>LREM</td>\n",
       "      <td>président</td>\n",
       "    </tr>\n",
       "    <tr>\n",
       "      <th>121</th>\n",
       "      <td>&lt;p&gt;M. Jacob m'apparaît un peu audacieux quand ...</td>\n",
       "      <td>NaN</td>\n",
       "      <td>Richard Ferrand</td>\n",
       "      <td>LREM</td>\n",
       "      <td>NaN</td>\n",
       "    </tr>\n",
       "    <tr>\n",
       "      <th>122</th>\n",
       "      <td>&lt;p&gt;Avec des questeurs tous désignés par La Rép...</td>\n",
       "      <td>NaN</td>\n",
       "      <td>Olivier Marleix</td>\n",
       "      <td>LR</td>\n",
       "      <td>NaN</td>\n",
       "    </tr>\n",
       "    <tr>\n",
       "      <th>123</th>\n",
       "      <td>&lt;p&gt;Si toute décision prise par un groupe est r...</td>\n",
       "      <td>NaN</td>\n",
       "      <td>Richard Ferrand</td>\n",
       "      <td>LREM</td>\n",
       "      <td>NaN</td>\n",
       "    </tr>\n",
       "    <tr>\n",
       "      <th>124</th>\n",
       "      <td>&lt;p&gt;Il fallait y penser avant !&lt;/p&gt;</td>\n",
       "      <td>NaN</td>\n",
       "      <td>Bernard Deflesselles</td>\n",
       "      <td>LR</td>\n",
       "      <td>NaN</td>\n",
       "    </tr>\n",
       "    <tr>\n",
       "      <th>125</th>\n",
       "      <td>&lt;p&gt;Il est nécessaire d'avancer, quels que soie...</td>\n",
       "      <td>NaN</td>\n",
       "      <td>Richard Ferrand</td>\n",
       "      <td>LREM</td>\n",
       "      <td>NaN</td>\n",
       "    </tr>\n",
       "    <tr>\n",
       "      <th>127</th>\n",
       "      <td>&lt;p&gt;nous estimons qu'il faut constituer sans dé...</td>\n",
       "      <td>NaN</td>\n",
       "      <td>Richard Ferrand</td>\n",
       "      <td>LREM</td>\n",
       "      <td>NaN</td>\n",
       "    </tr>\n",
       "    <tr>\n",
       "      <th>128</th>\n",
       "      <td>&lt;p&gt;C'est déjà fait !&lt;/p&gt;</td>\n",
       "      <td>NaN</td>\n",
       "      <td>Patrice Verchère</td>\n",
       "      <td>LR</td>\n",
       "      <td>NaN</td>\n",
       "    </tr>\n",
       "    <tr>\n",
       "      <th>129</th>\n",
       "      <td>&lt;p&gt;…et pour briguer de nouveaux postes à respo...</td>\n",
       "      <td>NaN</td>\n",
       "      <td>Richard Ferrand</td>\n",
       "      <td>LREM</td>\n",
       "      <td>NaN</td>\n",
       "    </tr>\n",
       "    <tr>\n",
       "      <th>131</th>\n",
       "      <td>&lt;p&gt;La parole est à M. Olivier Faure.&lt;/p&gt;</td>\n",
       "      <td>NaN</td>\n",
       "      <td>François de Rugy</td>\n",
       "      <td>LREM</td>\n",
       "      <td>président</td>\n",
       "    </tr>\n",
       "    <tr>\n",
       "      <th>132</th>\n",
       "      <td>&lt;p&gt;Monsieur le président, mes chers collègues,...</td>\n",
       "      <td>NaN</td>\n",
       "      <td>Olivier Faure</td>\n",
       "      <td>NG</td>\n",
       "      <td>NaN</td>\n",
       "    </tr>\n",
       "    <tr>\n",
       "      <th>133</th>\n",
       "      <td>&lt;p&gt;C'est vrai !&lt;/p&gt;</td>\n",
       "      <td>NaN</td>\n",
       "      <td>Damien Abad</td>\n",
       "      <td>LR</td>\n",
       "      <td>NaN</td>\n",
       "    </tr>\n",
       "    <tr>\n",
       "      <th>134</th>\n",
       "      <td>&lt;p&gt;…et je le regrette. Je le regrette amèremen...</td>\n",
       "      <td>NaN</td>\n",
       "      <td>Olivier Faure</td>\n",
       "      <td>NG</td>\n",
       "      <td>NaN</td>\n",
       "    </tr>\n",
       "  </tbody>\n",
       "</table>\n",
       "</div>"
      ],
      "text/plain": [
       "                                          intervention  nom  \\\n",
       "109    <p>Je vais réunir les présidents de groupe.</p>  NaN   \n",
       "110                    <p>La séance est suspendue.</p>  NaN   \n",
       "112  <p>La séance est reprise.</p><p>Mes chers coll...  NaN   \n",
       "113                    <p>La séance est suspendue.</p>  NaN   \n",
       "115  <p>La séance est reprise.</p><p>Avant de repre...  NaN   \n",
       "116  <p>Monsieur le président, la majorité a décidé...  NaN   \n",
       "118  <p>Monsieur le président, tant que les droits ...  NaN   \n",
       "120  <p>La parole est à M. Richard Ferrand, préside...  NaN   \n",
       "121  <p>M. Jacob m'apparaît un peu audacieux quand ...  NaN   \n",
       "122  <p>Avec des questeurs tous désignés par La Rép...  NaN   \n",
       "123  <p>Si toute décision prise par un groupe est r...  NaN   \n",
       "124                 <p>Il fallait y penser avant !</p>  NaN   \n",
       "125  <p>Il est nécessaire d'avancer, quels que soie...  NaN   \n",
       "127  <p>nous estimons qu'il faut constituer sans dé...  NaN   \n",
       "128                           <p>C'est déjà fait !</p>  NaN   \n",
       "129  <p>…et pour briguer de nouveaux postes à respo...  NaN   \n",
       "131           <p>La parole est à M. Olivier Faure.</p>  NaN   \n",
       "132  <p>Monsieur le président, mes chers collègues,...  NaN   \n",
       "133                                <p>C'est vrai !</p>  NaN   \n",
       "134  <p>…et je le regrette. Je le regrette amèremen...  NaN   \n",
       "\n",
       "            parlementaire parlementaire_groupe_acronyme   fonction  \n",
       "109      François de Rugy                          LREM  président  \n",
       "110      François de Rugy                          LREM  président  \n",
       "112      François de Rugy                          LREM  président  \n",
       "113      François de Rugy                          LREM  président  \n",
       "115      François de Rugy                          LREM  président  \n",
       "116       Christian Jacob                            LR        NaN  \n",
       "118       Christian Jacob                            LR        NaN  \n",
       "120      François de Rugy                          LREM  président  \n",
       "121       Richard Ferrand                          LREM        NaN  \n",
       "122       Olivier Marleix                            LR        NaN  \n",
       "123       Richard Ferrand                          LREM        NaN  \n",
       "124  Bernard Deflesselles                            LR        NaN  \n",
       "125       Richard Ferrand                          LREM        NaN  \n",
       "127       Richard Ferrand                          LREM        NaN  \n",
       "128      Patrice Verchère                            LR        NaN  \n",
       "129       Richard Ferrand                          LREM        NaN  \n",
       "131      François de Rugy                          LREM  président  \n",
       "132         Olivier Faure                            NG        NaN  \n",
       "133           Damien Abad                            LR        NaN  \n",
       "134         Olivier Faure                            NG        NaN  "
      ]
     },
     "execution_count": 85,
     "metadata": {},
     "output_type": "execute_result"
    }
   ],
   "source": [
    "tdf[~tdf[\"parlementaire_groupe_acronyme\"].isna()][60:80][\n",
    "    [\"intervention\", \"nom\", \"parlementaire\", \"parlementaire_groupe_acronyme\", \"fonction\"]\n",
    "]"
   ]
  },
  {
   "cell_type": "code",
   "execution_count": 10,
   "metadata": {},
   "outputs": [],
   "source": [
    "data = []\n",
    "\n",
    "for dep in slug_files:\n",
    "    tmp = deputies_df[deputies_df.slug == dep]\n",
    "\n",
    "    with open(file_dict[dep], \"r\", encoding=\"utf-8\") as f:\n",
    "        ints = json.load(f)\n",
    "\n",
    "    ints_list = [\n",
    "        {\n",
    "            \"intervention\": bs4.BeautifulSoup(intervention[\"intervention\"]).text,\n",
    "            \"nb_mots\": intervention[\"nb_mots\"],\n",
    "            \"seance_id\": intervention[\"seance_id\"],\n",
    "            \"section_id\": intervention[\"section_id\"],\n",
    "            \"type\": intervention[\"type\"],\n",
    "            \"date\": intervention[\"date\"],\n",
    "        }\n",
    "        for i, intervention in enumerate(ints[\"interventions\"])\n",
    "        if i < 500\n",
    "    ]\n",
    "\n",
    "    video = \"(disponible uniquement en vidéo)\"\n",
    "    ints_list = [x for x in ints_list if (x[\"intervention\"] != video) and (x[\"nb_mots\"] > 3)]\n",
    "\n",
    "    tokens = tokenize([x[\"intervention\"] for x in ints_list])\n",
    "\n",
    "    value = {\n",
    "        \"nom_circo\": tmp[\"nom_circo\"].iloc[0],\n",
    "        \"ancien_depute\": tmp[\"ancien_depute\"].iloc[0],\n",
    "        \"groupe_sigle\": tmp[\"groupe_sigle\"].iloc[0],\n",
    "        \"slug\": tmp[\"slug\"].iloc[0],\n",
    "        \"nom\": tmp[\"nom\"].iloc[0],\n",
    "        \"nb_mandats\": tmp[\"nb_mandats\"].iloc[0],\n",
    "        \"nb_interventions\": ints[\"last_result\"],\n",
    "        \"nb_ints\": len(ints_list),\n",
    "        \"interventions\": ints_list,\n",
    "        \"tokens\": tokens,\n",
    "    }\n",
    "\n",
    "    data.append(value)"
   ]
  },
  {
   "cell_type": "code",
   "execution_count": 11,
   "metadata": {},
   "outputs": [
    {
     "data": {
      "text/plain": [
       "837585333"
      ]
     },
     "execution_count": 11,
     "metadata": {},
     "output_type": "execute_result"
    }
   ],
   "source": [
    "with open(\"../data/2017-2022/tokenized.pkl\", \"wb\") as f:\n",
    "    pickle.dump(data, f)\n",
    "os.stat(\"../data/2017-2022/tokenized.pkl\").st_size"
   ]
  },
  {
   "cell_type": "code",
   "execution_count": 40,
   "metadata": {},
   "outputs": [],
   "source": [
    "with open(\"../data/2017-2022/tokenized.pkl\", \"rb\") as f:\n",
    "    data = pickle.load(f)"
   ]
  },
  {
   "cell_type": "code",
   "execution_count": 12,
   "metadata": {},
   "outputs": [],
   "source": [
    "lengths = [x[\"nb_ints\"] for x in data]\n",
    "all_input_ids = [x[\"tokens\"][\"input_ids\"] for x in data]\n",
    "all_masks = [x[\"tokens\"][\"attention_mask\"] for x in data]\n",
    "labels = [groups_to_int[x[\"groupe_sigle\"]] for x in data]"
   ]
  },
  {
   "cell_type": "code",
   "execution_count": 13,
   "metadata": {},
   "outputs": [
    {
     "data": {
      "text/plain": [
       "torch.Size([500, 256])"
      ]
     },
     "execution_count": 13,
     "metadata": {},
     "output_type": "execute_result"
    }
   ],
   "source": [
    "all_input_ids[2].shape"
   ]
  },
  {
   "cell_type": "code",
   "execution_count": 15,
   "metadata": {},
   "outputs": [],
   "source": [
    "padded_inputs = nn.utils.rnn.pad_sequence(all_input_ids, batch_first=True, padding_value=1)\n",
    "padded_masks = nn.utils.rnn.pad_sequence(all_masks, batch_first=True, padding_value=0)"
   ]
  },
  {
   "cell_type": "code",
   "execution_count": 15,
   "metadata": {},
   "outputs": [],
   "source": [
    "# torch.save(padded_inputs, \"../data/2017-2022/2017-2022_padded_inputs.pt\")"
   ]
  },
  {
   "cell_type": "code",
   "execution_count": 22,
   "metadata": {},
   "outputs": [],
   "source": [
    "tokens_list = {\n",
    "    \"tokens\": padded_inputs,\n",
    "    \"masks\": padded_masks,\n",
    "    \"interventions_masks\": torch.all(padded_masks == 0, dim=2),\n",
    "    \"labels\": np.array(labels),\n",
    "}"
   ]
  },
  {
   "cell_type": "code",
   "execution_count": 23,
   "metadata": {},
   "outputs": [],
   "source": [
    "torch.save(tokens_list, \"../data/2017-2022/tokens_list.pt\")"
   ]
  },
  {
   "cell_type": "code",
   "execution_count": 22,
   "metadata": {},
   "outputs": [],
   "source": [
    "tokens_list = torch.load(\"../data/2017-2022/tokens_list.pt\")"
   ]
  },
  {
   "cell_type": "code",
   "execution_count": 31,
   "metadata": {},
   "outputs": [
    {
     "data": {
      "text/plain": [
       "'(disponible uniquement en vidéo)<pad><pad><pad><pad><pad><pad><pad><pad><pad><pad><pad><pad><pad><pad><pad><pad><pad><pad><pad><pad><pad><pad><pad><pad><pad><pad><pad><pad><pad><pad><pad><pad><pad><pad><pad><pad><pad><pad><pad><pad><pad><pad><pad><pad><pad><pad><pad><pad><pad><pad><pad><pad><pad><pad><pad><pad><pad><pad><pad><pad><pad><pad><pad><pad><pad><pad><pad><pad><pad><pad><pad><pad><pad><pad><pad><pad><pad><pad><pad><pad><pad><pad><pad><pad><pad><pad><pad><pad><pad><pad><pad><pad><pad><pad><pad><pad><pad><pad><pad><pad><pad><pad><pad><pad><pad><pad><pad><pad><pad><pad><pad><pad><pad><pad><pad><pad><pad><pad><pad><pad><pad><pad><pad><pad><pad><pad><pad><pad><pad><pad><pad><pad><pad><pad><pad><pad><pad><pad><pad><pad><pad><pad><pad><pad><pad><pad><pad><pad><pad><pad><pad><pad><pad><pad><pad><pad><pad><pad><pad><pad><pad><pad><pad><pad><pad><pad><pad><pad><pad><pad><pad><pad><pad><pad><pad><pad><pad><pad><pad><pad><pad><pad><pad><pad><pad><pad><pad><pad><pad><pad><pad><pad><pad><pad><pad><pad><pad><pad><pad><pad><pad><pad><pad><pad><pad><pad><pad><pad><pad><pad><pad><pad><pad><pad><pad><pad><pad><pad><pad><pad><pad><pad><pad><pad><pad><pad><pad><pad><pad><pad><pad><pad><pad><pad><pad><pad><pad><pad><pad><pad><pad><pad><pad><pad><pad><pad><pad><pad>'"
      ]
     },
     "execution_count": 31,
     "metadata": {},
     "output_type": "execute_result"
    }
   ],
   "source": [
    "decode_tokens(tokens_list[\"tokens\"][0, 0, :])"
   ]
  },
  {
   "cell_type": "code",
   "execution_count": 24,
   "metadata": {},
   "outputs": [],
   "source": [
    "from sklearn.model_selection import train_test_split\n",
    "\n",
    "test_frac = 0.25\n",
    "X, y = np.arange(len(tokens_list[\"labels\"])), tokens_list[\"labels\"]\n",
    "train_idx, test_idx, y_train, y_test = train_test_split(X, y, stratify=y, test_size=0.25)"
   ]
  },
  {
   "cell_type": "code",
   "execution_count": 25,
   "metadata": {},
   "outputs": [],
   "source": [
    "train_tokens_list = {\n",
    "    \"tokens\": tokens_list[\"tokens\"][train_idx],\n",
    "    \"masks\": tokens_list[\"masks\"][train_idx],\n",
    "    \"interventions_masks\": tokens_list[\"interventions_masks\"][train_idx],\n",
    "    \"labels\": tokens_list[\"labels\"][train_idx],\n",
    "}\n",
    "test_tokens_list = {\n",
    "    \"tokens\": tokens_list[\"tokens\"][test_idx],\n",
    "    \"masks\": tokens_list[\"masks\"][test_idx],\n",
    "    \"interventions_masks\": tokens_list[\"interventions_masks\"][test_idx],\n",
    "    \"labels\": tokens_list[\"labels\"][test_idx],\n",
    "}"
   ]
  },
  {
   "cell_type": "code",
   "execution_count": 26,
   "metadata": {},
   "outputs": [],
   "source": [
    "unique, count = np.unique(test_tokens_list[\"labels\"], return_counts=True)\n",
    "test_party_count = pd.DataFrame({\"party\": unique, \"count\": count})\n",
    "test_party_count[\"freq\"] = test_party_count[\"count\"] / test_party_count[\"count\"].sum()\n",
    "test_party_count[\"party_name\"] = test_party_count[\"party\"].apply(lambda x: int_to_groups[x])\n",
    "test_party_count[\"type\"] = \"test\"\n",
    "\n",
    "\n",
    "unique, count = np.unique(train_tokens_list[\"labels\"], return_counts=True)\n",
    "train_party_count = pd.DataFrame({\"party\": unique, \"count\": count})\n",
    "train_party_count[\"freq\"] = train_party_count[\"count\"] / train_party_count[\"count\"].sum()\n",
    "train_party_count[\"party_name\"] = train_party_count[\"party\"].apply(lambda x: int_to_groups[x])\n",
    "train_party_count[\"type\"] = \"train\"\n",
    "\n",
    "\n",
    "unique, count = np.unique(tokens_list[\"labels\"], return_counts=True)\n",
    "party_count = pd.DataFrame({\"party\": unique, \"count\": count})\n",
    "party_count[\"freq\"] = party_count[\"count\"] / party_count[\"count\"].sum()\n",
    "party_count[\"party_name\"] = party_count[\"party\"].apply(lambda x: int_to_groups[x])\n",
    "party_count[\"type\"] = \"total\"\n",
    "\n",
    "party_count = pd.concat([party_count, train_party_count, test_party_count])"
   ]
  },
  {
   "cell_type": "code",
   "execution_count": 27,
   "metadata": {},
   "outputs": [
    {
     "data": {
      "text/plain": [
       "<AxesSubplot: xlabel='party_name', ylabel='freq'>"
      ]
     },
     "execution_count": 27,
     "metadata": {},
     "output_type": "execute_result"
    },
    {
     "data": {
      "image/png": "[encoded data removed]",
      "text/plain": [
       "<Figure size 640x480 with 1 Axes>"
      ]
     },
     "metadata": {},
     "output_type": "display_data"
    }
   ],
   "source": [
    "sns.barplot(x=\"party_name\", y=\"freq\", hue=\"type\", data=party_count)"
   ]
  },
  {
   "cell_type": "code",
   "execution_count": 7,
   "metadata": {},
   "outputs": [],
   "source": [
    "# torch.save(train_tokens_list, \"../data/2017-2022/train_data.pt\")\n",
    "# torch.save(test_tokens_list, \"../data/2017-2022/test_data.pt\")"
   ]
  },
  {
   "cell_type": "code",
   "execution_count": 6,
   "metadata": {},
   "outputs": [],
   "source": [
    "train_dict = torch.load(\"../data/2017-2022/train_data.pt\")\n",
    "test_dict = torch.load(\"../data/2017-2022/test_data.pt\")"
   ]
  },
  {
   "cell_type": "code",
   "execution_count": 7,
   "metadata": {},
   "outputs": [
    {
     "data": {
      "text/plain": [
       "dict_keys(['tokens', 'masks', 'interventions_masks', 'labels'])"
      ]
     },
     "execution_count": 7,
     "metadata": {},
     "output_type": "execute_result"
    }
   ],
   "source": [
    "train_dict.keys()"
   ]
  },
  {
   "cell_type": "code",
   "execution_count": 9,
   "metadata": {},
   "outputs": [],
   "source": [
    "class InterventionsDataset(Dataset):\n",
    "    def __init__(self, dict_data, max_interventions=100):\n",
    "        self.labels = dict_data[\"labels\"]\n",
    "        self.masks = dict_data[\"masks\"][:, :max_interventions, :]\n",
    "        self.tokens = dict_data[\"tokens\"][:, :max_interventions, :]\n",
    "        self.interventions_masks = dict_data[\"interventions_masks\"][:, :max_interventions]\n",
    "\n",
    "    def __len__(self):\n",
    "        return len(self.labels)\n",
    "\n",
    "    def get_batch_texts(self, idx):\n",
    "        return {\n",
    "            \"tokens\": self.tokens[idx],\n",
    "            \"masks\": self.masks[idx],\n",
    "            \"interventions_masks\": self.interventions_masks[idx],\n",
    "        }\n",
    "\n",
    "    def get_batch_labels(self, idx):\n",
    "        return self.labels[idx]\n",
    "\n",
    "    def __getitem__(self, idx):\n",
    "        batch_texts = self.get_batch_texts(idx)\n",
    "        batch_y = self.get_batch_labels(idx)\n",
    "\n",
    "        return batch_texts, batch_y"
   ]
  },
  {
   "cell_type": "code",
   "execution_count": 10,
   "metadata": {},
   "outputs": [],
   "source": [
    "train_dataset = InterventionsDataset(train_dict)\n",
    "train_dataloader = DataLoader(train_dataset, batch_size=4, shuffle=True)\n",
    "\n",
    "test_dataset = InterventionsDataset(test_dict)\n",
    "test_dataloader = DataLoader(test_dataset, batch_size=4)"
   ]
  },
  {
   "cell_type": "code",
   "execution_count": 11,
   "metadata": {},
   "outputs": [],
   "source": [
    "x, y = next(iter(train_dataloader))"
   ]
  },
  {
   "cell_type": "code",
   "execution_count": 13,
   "metadata": {},
   "outputs": [],
   "source": [
    "input_ids = x[\"tokens\"].to(device=device)\n",
    "attention_mask = x[\"masks\"].to(device=device)\n",
    "interventions_masks = x[\"interventions_masks\"].to(device=device)"
   ]
  },
  {
   "cell_type": "code",
   "execution_count": 12,
   "metadata": {},
   "outputs": [],
   "source": [
    "class BertOnInterventions(nn.Module):\n",
    "    def __init__(self, bert_model, bert_dim=768):\n",
    "        super(BertOnInterventions, self).__init__()\n",
    "        self.bert_model = bert_model\n",
    "        self.bert_dim = bert_dim\n",
    "\n",
    "    def forward(self, tokens, masks):\n",
    "        \"\"\"\n",
    "        tokens (batch_size, nb_int, nb_tokens)\n",
    "        masks (batch_size, nb_int, nb_tokens)\n",
    "        \"\"\"\n",
    "        nb_int = tokens.shape[1]\n",
    "        res = []\n",
    "        for i in range(nb_int):\n",
    "            input_ids = tokens[:, i, :]\n",
    "            attention_mask = masks[:, i, :]\n",
    "            tmp = self.bert_model(input_ids=input_ids, attention_mask=attention_mask)[\n",
    "                \"pooler_output\"\n",
    "            ]\n",
    "            tmp = tmp.unsqueeze(dim=1)\n",
    "            res.append(tmp)\n",
    "        pooled_output = torch.cat(res, dim=1)  # (batch_size, nb_int, bert_dim)\n",
    "        return pooled_output\n",
    "\n",
    "\n",
    "class InterventionsAttention(nn.Module):\n",
    "    def __init__(self, bert_dim, num_heads, embed_dim):\n",
    "        super(InterventionsAttention, self).__init__()\n",
    "        # Set the parameters\n",
    "        self.num_attention_heads = num_heads\n",
    "        self.attention_head_dim = embed_dim // num_heads\n",
    "\n",
    "        # Initialize the linear layers for the multi-head attention\n",
    "        self.query_linear = nn.Linear(bert_dim, embed_dim)\n",
    "        self.key_linear = nn.Linear(bert_dim, embed_dim)\n",
    "        self.value_linear = nn.Linear(bert_dim, embed_dim)\n",
    "\n",
    "        # Initialize the multi-head attention layer\n",
    "        self.attention_layer = nn.MultiheadAttention(\n",
    "            embed_dim=self.embed_dim, num_heads=num_heads, batch_first=True\n",
    "        )\n",
    "\n",
    "    def forward(self, pooled_output, interventions_masks):\n",
    "        # Add a zero padding for CLS in attention\n",
    "        pooled_output_with_cls = F.pad(\n",
    "            pooled_output, pad=(0, 0, 1, 0), mode=\"constant\", value=0.0\n",
    "        )  # (batch_size, nb_int + 1, bert_dim)\n",
    "\n",
    "        # Pad the mask as well\n",
    "        interventions_masks_with_cls = F.pad(\n",
    "            interventions_masks, pad=(1, 0), mode=\"constant\", value=1\n",
    "        )\n",
    "\n",
    "        # Split the input tensors into the different attention heads\n",
    "        query_heads = self.query_linear(\n",
    "            pooled_output_with_cls\n",
    "        )  # (batch_size, nb_int + 1, embed_dim)\n",
    "        key_heads = self.key_linear(pooled_output_with_cls)  # (batch_size, nb_int + 1, embed_dim)\n",
    "        value_heads = self.value_linear(pooled_output_with_cls)  # (batch_size, embed_dim)\n",
    "\n",
    "        # Apply the multi-head attention\n",
    "        attn_output, _ = self.attention_layer(\n",
    "            query_heads, key_heads, value_heads, key_padding_mask=interventions_masks_with_cls\n",
    "        )  # (batch_size, embed_dim)\n",
    "\n",
    "        deputy_repr = attn_output[:, 0, :]  # (batch_size, embed_dim)\n",
    "\n",
    "        return deputy_repr"
   ]
  },
  {
   "cell_type": "code",
   "execution_count": 14,
   "metadata": {},
   "outputs": [
    {
     "name": "stderr",
     "output_type": "stream",
     "text": [
      "Some weights of the model checkpoint at camembert-base were not used when initializing CamembertModel: ['lm_head.dense.bias', 'lm_head.bias', 'lm_head.decoder.weight', 'lm_head.layer_norm.bias', 'lm_head.layer_norm.weight', 'lm_head.dense.weight']\n",
      "- This IS expected if you are initializing CamembertModel from the checkpoint of a model trained on another task or with another architecture (e.g. initializing a BertForSequenceClassification model from a BertForPreTraining model).\n",
      "- This IS NOT expected if you are initializing CamembertModel from the checkpoint of a model that you expect to be exactly identical (initializing a BertForSequenceClassification model from a BertForSequenceClassification model).\n"
     ]
    }
   ],
   "source": [
    "camembert_model = CamembertModel.from_pretrained(\"camembert-base\")"
   ]
  },
  {
   "cell_type": "code",
   "execution_count": 17,
   "metadata": {},
   "outputs": [
    {
     "data": {
      "text/plain": [
       "BertOnInterventions(\n",
       "  (bert_model): CamembertModel(\n",
       "    (embeddings): CamembertEmbeddings(\n",
       "      (word_embeddings): Embedding(32005, 768, padding_idx=1)\n",
       "      (position_embeddings): Embedding(514, 768, padding_idx=1)\n",
       "      (token_type_embeddings): Embedding(1, 768)\n",
       "      (LayerNorm): LayerNorm((768,), eps=1e-05, elementwise_affine=True)\n",
       "      (dropout): Dropout(p=0.1, inplace=False)\n",
       "    )\n",
       "    (encoder): CamembertEncoder(\n",
       "      (layer): ModuleList(\n",
       "        (0): CamembertLayer(\n",
       "          (attention): CamembertAttention(\n",
       "            (self): CamembertSelfAttention(\n",
       "              (query): Linear(in_features=768, out_features=768, bias=True)\n",
       "              (key): Linear(in_features=768, out_features=768, bias=True)\n",
       "              (value): Linear(in_features=768, out_features=768, bias=True)\n",
       "              (dropout): Dropout(p=0.1, inplace=False)\n",
       "            )\n",
       "            (output): CamembertSelfOutput(\n",
       "              (dense): Linear(in_features=768, out_features=768, bias=True)\n",
       "              (LayerNorm): LayerNorm((768,), eps=1e-05, elementwise_affine=True)\n",
       "              (dropout): Dropout(p=0.1, inplace=False)\n",
       "            )\n",
       "          )\n",
       "          (intermediate): CamembertIntermediate(\n",
       "            (dense): Linear(in_features=768, out_features=3072, bias=True)\n",
       "            (intermediate_act_fn): GELUActivation()\n",
       "          )\n",
       "          (output): CamembertOutput(\n",
       "            (dense): Linear(in_features=3072, out_features=768, bias=True)\n",
       "            (LayerNorm): LayerNorm((768,), eps=1e-05, elementwise_affine=True)\n",
       "            (dropout): Dropout(p=0.1, inplace=False)\n",
       "          )\n",
       "        )\n",
       "        (1): CamembertLayer(\n",
       "          (attention): CamembertAttention(\n",
       "            (self): CamembertSelfAttention(\n",
       "              (query): Linear(in_features=768, out_features=768, bias=True)\n",
       "              (key): Linear(in_features=768, out_features=768, bias=True)\n",
       "              (value): Linear(in_features=768, out_features=768, bias=True)\n",
       "              (dropout): Dropout(p=0.1, inplace=False)\n",
       "            )\n",
       "            (output): CamembertSelfOutput(\n",
       "              (dense): Linear(in_features=768, out_features=768, bias=True)\n",
       "              (LayerNorm): LayerNorm((768,), eps=1e-05, elementwise_affine=True)\n",
       "              (dropout): Dropout(p=0.1, inplace=False)\n",
       "            )\n",
       "          )\n",
       "          (intermediate): CamembertIntermediate(\n",
       "            (dense): Linear(in_features=768, out_features=3072, bias=True)\n",
       "            (intermediate_act_fn): GELUActivation()\n",
       "          )\n",
       "          (output): CamembertOutput(\n",
       "            (dense): Linear(in_features=3072, out_features=768, bias=True)\n",
       "            (LayerNorm): LayerNorm((768,), eps=1e-05, elementwise_affine=True)\n",
       "            (dropout): Dropout(p=0.1, inplace=False)\n",
       "          )\n",
       "        )\n",
       "        (2): CamembertLayer(\n",
       "          (attention): CamembertAttention(\n",
       "            (self): CamembertSelfAttention(\n",
       "              (query): Linear(in_features=768, out_features=768, bias=True)\n",
       "              (key): Linear(in_features=768, out_features=768, bias=True)\n",
       "              (value): Linear(in_features=768, out_features=768, bias=True)\n",
       "              (dropout): Dropout(p=0.1, inplace=False)\n",
       "            )\n",
       "            (output): CamembertSelfOutput(\n",
       "              (dense): Linear(in_features=768, out_features=768, bias=True)\n",
       "              (LayerNorm): LayerNorm((768,), eps=1e-05, elementwise_affine=True)\n",
       "              (dropout): Dropout(p=0.1, inplace=False)\n",
       "            )\n",
       "          )\n",
       "          (intermediate): CamembertIntermediate(\n",
       "            (dense): Linear(in_features=768, out_features=3072, bias=True)\n",
       "            (intermediate_act_fn): GELUActivation()\n",
       "          )\n",
       "          (output): CamembertOutput(\n",
       "            (dense): Linear(in_features=3072, out_features=768, bias=True)\n",
       "            (LayerNorm): LayerNorm((768,), eps=1e-05, elementwise_affine=True)\n",
       "            (dropout): Dropout(p=0.1, inplace=False)\n",
       "          )\n",
       "        )\n",
       "        (3): CamembertLayer(\n",
       "          (attention): CamembertAttention(\n",
       "            (self): CamembertSelfAttention(\n",
       "              (query): Linear(in_features=768, out_features=768, bias=True)\n",
       "              (key): Linear(in_features=768, out_features=768, bias=True)\n",
       "              (value): Linear(in_features=768, out_features=768, bias=True)\n",
       "              (dropout): Dropout(p=0.1, inplace=False)\n",
       "            )\n",
       "            (output): CamembertSelfOutput(\n",
       "              (dense): Linear(in_features=768, out_features=768, bias=True)\n",
       "              (LayerNorm): LayerNorm((768,), eps=1e-05, elementwise_affine=True)\n",
       "              (dropout): Dropout(p=0.1, inplace=False)\n",
       "            )\n",
       "          )\n",
       "          (intermediate): CamembertIntermediate(\n",
       "            (dense): Linear(in_features=768, out_features=3072, bias=True)\n",
       "            (intermediate_act_fn): GELUActivation()\n",
       "          )\n",
       "          (output): CamembertOutput(\n",
       "            (dense): Linear(in_features=3072, out_features=768, bias=True)\n",
       "            (LayerNorm): LayerNorm((768,), eps=1e-05, elementwise_affine=True)\n",
       "            (dropout): Dropout(p=0.1, inplace=False)\n",
       "          )\n",
       "        )\n",
       "        (4): CamembertLayer(\n",
       "          (attention): CamembertAttention(\n",
       "            (self): CamembertSelfAttention(\n",
       "              (query): Linear(in_features=768, out_features=768, bias=True)\n",
       "              (key): Linear(in_features=768, out_features=768, bias=True)\n",
       "              (value): Linear(in_features=768, out_features=768, bias=True)\n",
       "              (dropout): Dropout(p=0.1, inplace=False)\n",
       "            )\n",
       "            (output): CamembertSelfOutput(\n",
       "              (dense): Linear(in_features=768, out_features=768, bias=True)\n",
       "              (LayerNorm): LayerNorm((768,), eps=1e-05, elementwise_affine=True)\n",
       "              (dropout): Dropout(p=0.1, inplace=False)\n",
       "            )\n",
       "          )\n",
       "          (intermediate): CamembertIntermediate(\n",
       "            (dense): Linear(in_features=768, out_features=3072, bias=True)\n",
       "            (intermediate_act_fn): GELUActivation()\n",
       "          )\n",
       "          (output): CamembertOutput(\n",
       "            (dense): Linear(in_features=3072, out_features=768, bias=True)\n",
       "            (LayerNorm): LayerNorm((768,), eps=1e-05, elementwise_affine=True)\n",
       "            (dropout): Dropout(p=0.1, inplace=False)\n",
       "          )\n",
       "        )\n",
       "        (5): CamembertLayer(\n",
       "          (attention): CamembertAttention(\n",
       "            (self): CamembertSelfAttention(\n",
       "              (query): Linear(in_features=768, out_features=768, bias=True)\n",
       "              (key): Linear(in_features=768, out_features=768, bias=True)\n",
       "              (value): Linear(in_features=768, out_features=768, bias=True)\n",
       "              (dropout): Dropout(p=0.1, inplace=False)\n",
       "            )\n",
       "            (output): CamembertSelfOutput(\n",
       "              (dense): Linear(in_features=768, out_features=768, bias=True)\n",
       "              (LayerNorm): LayerNorm((768,), eps=1e-05, elementwise_affine=True)\n",
       "              (dropout): Dropout(p=0.1, inplace=False)\n",
       "            )\n",
       "          )\n",
       "          (intermediate): CamembertIntermediate(\n",
       "            (dense): Linear(in_features=768, out_features=3072, bias=True)\n",
       "            (intermediate_act_fn): GELUActivation()\n",
       "          )\n",
       "          (output): CamembertOutput(\n",
       "            (dense): Linear(in_features=3072, out_features=768, bias=True)\n",
       "            (LayerNorm): LayerNorm((768,), eps=1e-05, elementwise_affine=True)\n",
       "            (dropout): Dropout(p=0.1, inplace=False)\n",
       "          )\n",
       "        )\n",
       "        (6): CamembertLayer(\n",
       "          (attention): CamembertAttention(\n",
       "            (self): CamembertSelfAttention(\n",
       "              (query): Linear(in_features=768, out_features=768, bias=True)\n",
       "              (key): Linear(in_features=768, out_features=768, bias=True)\n",
       "              (value): Linear(in_features=768, out_features=768, bias=True)\n",
       "              (dropout): Dropout(p=0.1, inplace=False)\n",
       "            )\n",
       "            (output): CamembertSelfOutput(\n",
       "              (dense): Linear(in_features=768, out_features=768, bias=True)\n",
       "              (LayerNorm): LayerNorm((768,), eps=1e-05, elementwise_affine=True)\n",
       "              (dropout): Dropout(p=0.1, inplace=False)\n",
       "            )\n",
       "          )\n",
       "          (intermediate): CamembertIntermediate(\n",
       "            (dense): Linear(in_features=768, out_features=3072, bias=True)\n",
       "            (intermediate_act_fn): GELUActivation()\n",
       "          )\n",
       "          (output): CamembertOutput(\n",
       "            (dense): Linear(in_features=3072, out_features=768, bias=True)\n",
       "            (LayerNorm): LayerNorm((768,), eps=1e-05, elementwise_affine=True)\n",
       "            (dropout): Dropout(p=0.1, inplace=False)\n",
       "          )\n",
       "        )\n",
       "        (7): CamembertLayer(\n",
       "          (attention): CamembertAttention(\n",
       "            (self): CamembertSelfAttention(\n",
       "              (query): Linear(in_features=768, out_features=768, bias=True)\n",
       "              (key): Linear(in_features=768, out_features=768, bias=True)\n",
       "              (value): Linear(in_features=768, out_features=768, bias=True)\n",
       "              (dropout): Dropout(p=0.1, inplace=False)\n",
       "            )\n",
       "            (output): CamembertSelfOutput(\n",
       "              (dense): Linear(in_features=768, out_features=768, bias=True)\n",
       "              (LayerNorm): LayerNorm((768,), eps=1e-05, elementwise_affine=True)\n",
       "              (dropout): Dropout(p=0.1, inplace=False)\n",
       "            )\n",
       "          )\n",
       "          (intermediate): CamembertIntermediate(\n",
       "            (dense): Linear(in_features=768, out_features=3072, bias=True)\n",
       "            (intermediate_act_fn): GELUActivation()\n",
       "          )\n",
       "          (output): CamembertOutput(\n",
       "            (dense): Linear(in_features=3072, out_features=768, bias=True)\n",
       "            (LayerNorm): LayerNorm((768,), eps=1e-05, elementwise_affine=True)\n",
       "            (dropout): Dropout(p=0.1, inplace=False)\n",
       "          )\n",
       "        )\n",
       "        (8): CamembertLayer(\n",
       "          (attention): CamembertAttention(\n",
       "            (self): CamembertSelfAttention(\n",
       "              (query): Linear(in_features=768, out_features=768, bias=True)\n",
       "              (key): Linear(in_features=768, out_features=768, bias=True)\n",
       "              (value): Linear(in_features=768, out_features=768, bias=True)\n",
       "              (dropout): Dropout(p=0.1, inplace=False)\n",
       "            )\n",
       "            (output): CamembertSelfOutput(\n",
       "              (dense): Linear(in_features=768, out_features=768, bias=True)\n",
       "              (LayerNorm): LayerNorm((768,), eps=1e-05, elementwise_affine=True)\n",
       "              (dropout): Dropout(p=0.1, inplace=False)\n",
       "            )\n",
       "          )\n",
       "          (intermediate): CamembertIntermediate(\n",
       "            (dense): Linear(in_features=768, out_features=3072, bias=True)\n",
       "            (intermediate_act_fn): GELUActivation()\n",
       "          )\n",
       "          (output): CamembertOutput(\n",
       "            (dense): Linear(in_features=3072, out_features=768, bias=True)\n",
       "            (LayerNorm): LayerNorm((768,), eps=1e-05, elementwise_affine=True)\n",
       "            (dropout): Dropout(p=0.1, inplace=False)\n",
       "          )\n",
       "        )\n",
       "        (9): CamembertLayer(\n",
       "          (attention): CamembertAttention(\n",
       "            (self): CamembertSelfAttention(\n",
       "              (query): Linear(in_features=768, out_features=768, bias=True)\n",
       "              (key): Linear(in_features=768, out_features=768, bias=True)\n",
       "              (value): Linear(in_features=768, out_features=768, bias=True)\n",
       "              (dropout): Dropout(p=0.1, inplace=False)\n",
       "            )\n",
       "            (output): CamembertSelfOutput(\n",
       "              (dense): Linear(in_features=768, out_features=768, bias=True)\n",
       "              (LayerNorm): LayerNorm((768,), eps=1e-05, elementwise_affine=True)\n",
       "              (dropout): Dropout(p=0.1, inplace=False)\n",
       "            )\n",
       "          )\n",
       "          (intermediate): CamembertIntermediate(\n",
       "            (dense): Linear(in_features=768, out_features=3072, bias=True)\n",
       "            (intermediate_act_fn): GELUActivation()\n",
       "          )\n",
       "          (output): CamembertOutput(\n",
       "            (dense): Linear(in_features=3072, out_features=768, bias=True)\n",
       "            (LayerNorm): LayerNorm((768,), eps=1e-05, elementwise_affine=True)\n",
       "            (dropout): Dropout(p=0.1, inplace=False)\n",
       "          )\n",
       "        )\n",
       "        (10): CamembertLayer(\n",
       "          (attention): CamembertAttention(\n",
       "            (self): CamembertSelfAttention(\n",
       "              (query): Linear(in_features=768, out_features=768, bias=True)\n",
       "              (key): Linear(in_features=768, out_features=768, bias=True)\n",
       "              (value): Linear(in_features=768, out_features=768, bias=True)\n",
       "              (dropout): Dropout(p=0.1, inplace=False)\n",
       "            )\n",
       "            (output): CamembertSelfOutput(\n",
       "              (dense): Linear(in_features=768, out_features=768, bias=True)\n",
       "              (LayerNorm): LayerNorm((768,), eps=1e-05, elementwise_affine=True)\n",
       "              (dropout): Dropout(p=0.1, inplace=False)\n",
       "            )\n",
       "          )\n",
       "          (intermediate): CamembertIntermediate(\n",
       "            (dense): Linear(in_features=768, out_features=3072, bias=True)\n",
       "            (intermediate_act_fn): GELUActivation()\n",
       "          )\n",
       "          (output): CamembertOutput(\n",
       "            (dense): Linear(in_features=3072, out_features=768, bias=True)\n",
       "            (LayerNorm): LayerNorm((768,), eps=1e-05, elementwise_affine=True)\n",
       "            (dropout): Dropout(p=0.1, inplace=False)\n",
       "          )\n",
       "        )\n",
       "        (11): CamembertLayer(\n",
       "          (attention): CamembertAttention(\n",
       "            (self): CamembertSelfAttention(\n",
       "              (query): Linear(in_features=768, out_features=768, bias=True)\n",
       "              (key): Linear(in_features=768, out_features=768, bias=True)\n",
       "              (value): Linear(in_features=768, out_features=768, bias=True)\n",
       "              (dropout): Dropout(p=0.1, inplace=False)\n",
       "            )\n",
       "            (output): CamembertSelfOutput(\n",
       "              (dense): Linear(in_features=768, out_features=768, bias=True)\n",
       "              (LayerNorm): LayerNorm((768,), eps=1e-05, elementwise_affine=True)\n",
       "              (dropout): Dropout(p=0.1, inplace=False)\n",
       "            )\n",
       "          )\n",
       "          (intermediate): CamembertIntermediate(\n",
       "            (dense): Linear(in_features=768, out_features=3072, bias=True)\n",
       "            (intermediate_act_fn): GELUActivation()\n",
       "          )\n",
       "          (output): CamembertOutput(\n",
       "            (dense): Linear(in_features=3072, out_features=768, bias=True)\n",
       "            (LayerNorm): LayerNorm((768,), eps=1e-05, elementwise_affine=True)\n",
       "            (dropout): Dropout(p=0.1, inplace=False)\n",
       "          )\n",
       "        )\n",
       "      )\n",
       "    )\n",
       "    (pooler): CamembertPooler(\n",
       "      (dense): Linear(in_features=768, out_features=768, bias=True)\n",
       "      (activation): Tanh()\n",
       "    )\n",
       "  )\n",
       ")"
      ]
     },
     "execution_count": 17,
     "metadata": {},
     "output_type": "execute_result"
    }
   ],
   "source": [
    "encoder = BertOnInterventions(camembert_model, bert_dim=768)\n",
    "encoder.to(device);"
   ]
  },
  {
   "cell_type": "code",
   "execution_count": 19,
   "metadata": {},
   "outputs": [],
   "source": [
    "with torch.no_grad():\n",
    "    t = encoder(input_ids, attention_mask)"
   ]
  },
  {
   "cell_type": "code",
   "execution_count": 20,
   "metadata": {},
   "outputs": [
    {
     "data": {
      "text/plain": [
       "tensor([[[ 0.0638,  0.1658, -0.0528,  ...,  0.0301, -0.0713, -0.0503],\n",
       "         [ 0.0364,  0.1532, -0.0667,  ...,  0.0101, -0.0971, -0.0164],\n",
       "         [ 0.0246,  0.1430, -0.0794,  ..., -0.0073, -0.0749, -0.0401],\n",
       "         ...,\n",
       "         [-0.0191,  0.1226, -0.0541,  ...,  0.0478, -0.1060,  0.0096],\n",
       "         [-0.0130,  0.1417, -0.0159,  ...,  0.0538, -0.1065,  0.0467],\n",
       "         [ 0.0381,  0.1499, -0.0719,  ...,  0.0093, -0.1196, -0.0387]],\n",
       "\n",
       "        [[ 0.0539,  0.1599, -0.0666,  ...,  0.0035, -0.1023, -0.0491],\n",
       "         [ 0.0318,  0.1507, -0.0585,  ...,  0.0422, -0.1150, -0.0169],\n",
       "         [ 0.0139,  0.1357, -0.0343,  ...,  0.0277, -0.0859, -0.0104],\n",
       "         ...,\n",
       "         [-0.1143,  0.0934, -0.0202,  ...,  0.0302, -0.0867,  0.0606],\n",
       "         [-0.0252,  0.1245, -0.0255,  ...,  0.0228, -0.1275,  0.0418],\n",
       "         [-0.1093,  0.0342,  0.0122,  ...,  0.0848, -0.1800,  0.0435]],\n",
       "\n",
       "        [[ 0.0439,  0.1139, -0.0494,  ...,  0.0311, -0.0799, -0.0731],\n",
       "         [ 0.0310,  0.1306, -0.0680,  ...,  0.0350, -0.0953, -0.0377],\n",
       "         [ 0.0169,  0.1221, -0.0805,  ...,  0.0481, -0.0808, -0.0009],\n",
       "         ...,\n",
       "         [ 0.0291,  0.1493, -0.0071,  ..., -0.0091, -0.1014, -0.0383],\n",
       "         [ 0.0378,  0.0907, -0.0905,  ...,  0.0006, -0.0901, -0.0420],\n",
       "         [-0.1216,  0.0699,  0.0098,  ...,  0.0668, -0.1203,  0.0591]],\n",
       "\n",
       "        [[-0.0686,  0.1076, -0.0098,  ...,  0.0660, -0.1401,  0.0742],\n",
       "         [-0.1006,  0.0863,  0.0158,  ...,  0.0829, -0.1592,  0.0368],\n",
       "         [ 0.0151,  0.0838, -0.0240,  ...,  0.0334, -0.1418, -0.0422],\n",
       "         ...,\n",
       "         [-0.0329,  0.1256,  0.0012,  ...,  0.0672, -0.1404,  0.0543],\n",
       "         [-0.1016,  0.0678, -0.0016,  ...,  0.0511, -0.1313,  0.0501],\n",
       "         [ 0.0019,  0.1473, -0.0397,  ...,  0.0307, -0.0478, -0.0161]]],\n",
       "       device='cuda:0')"
      ]
     },
     "execution_count": 20,
     "metadata": {},
     "output_type": "execute_result"
    }
   ],
   "source": [
    "t"
   ]
  },
  {
   "cell_type": "code",
   "execution_count": 110,
   "metadata": {},
   "outputs": [],
   "source": [
    "class SimpleCamembertClassifier(nn.Module):\n",
    "    def __init__(\n",
    "        self,\n",
    "        bert_model,\n",
    "        num_classes,\n",
    "        bert_dim=768,\n",
    "        input_dim=256,\n",
    "        embed_dim=256,\n",
    "        input_dim2=256,\n",
    "        num_heads=8,\n",
    "        dropout=0.2,\n",
    "    ):\n",
    "        super(SimpleCamembertClassifier, self).__init__()\n",
    "\n",
    "        # Set the parameters\n",
    "        self.bert_dim = bert_dim\n",
    "        self.input_dim = input_dim\n",
    "        self.embed_dim = embed_dim\n",
    "        self.input_dim2 = input_dim2\n",
    "        self.num_attention_heads = num_heads\n",
    "        self.attention_head_dim = input_dim // num_heads\n",
    "\n",
    "        # Initialize the BERT model\n",
    "        self.bert_model = bert_model\n",
    "\n",
    "        # Initialize the linear layers for the multi-head attention\n",
    "        self.query_linear = nn.Linear(bert_dim, input_dim)\n",
    "        self.key_linear = nn.Linear(bert_dim, input_dim)\n",
    "        self.value_linear = nn.Linear(bert_dim, input_dim)\n",
    "\n",
    "        # Initialize the multi-head attention layer\n",
    "        self.attention_layer = nn.MultiheadAttention(\n",
    "            embed_dim=self.embed_dim, num_heads=num_heads, batch_first=True\n",
    "        )\n",
    "\n",
    "        # Initialize the linear layers for the output projection\n",
    "        self.linear1 = nn.Linear(input_dim, input_dim2)\n",
    "        self.linear2 = nn.Linear(input_dim, num_classes)\n",
    "        self.dropout1 = nn.Dropout(dropout)\n",
    "        self.dropout2 = nn.Dropout(dropout)\n",
    "        self.relu = nn.ReLU()\n",
    "\n",
    "        # self.mlp = nn.Sequential(\n",
    "        #     nn.Dropout(dropout),\n",
    "        #     nn.Linear(input_dim, input_dim2),\n",
    "        #     nn.ReLU(),\n",
    "        #     nn.Dropout(dropout),\n",
    "        #     nn.Linear(input_dim2, num_classes)\n",
    "        # )\n",
    "\n",
    "    def forward(self, tokens, masks, interventions_masks):\n",
    "        \"\"\"\n",
    "        tokens (batch_size, nb_int, nb_tokens)\n",
    "        masks (batch_size, nb_int, nb_tokens)\n",
    "        interventions_masks (batch_size, nb_int)\n",
    "        \"\"\"\n",
    "        nb_int = tokens.shape[1]\n",
    "\n",
    "        res = []\n",
    "        for i in range(nb_int):\n",
    "            input_ids = tokens[:, i, :]\n",
    "            attention_mask = masks[:, i, :]\n",
    "            tmp = self.bert_model(input_ids=input_ids, attention_mask=attention_mask)[\n",
    "                \"pooler_output\"\n",
    "            ]\n",
    "            tmp = tmp.unsqueeze(dim=1)\n",
    "            res.append(tmp)\n",
    "        pooled_output = torch.cat(res, dim=1)  # (batch_size, nb_int, bert_dim)\n",
    "\n",
    "        # pooled_output = self.bert_model(\n",
    "        #     input_ids=tokens, attention_mask=masks, return_dict=False\n",
    "        # )\n",
    "\n",
    "        # Add a zero padding for CLS in attention\n",
    "        pooled_output_with_cls = F.pad(\n",
    "            pooled_output, pad=(0, 0, 1, 0), mode=\"constant\", value=0.0\n",
    "        )  # (batch_size, nb_int + 1, bert_dim)\n",
    "\n",
    "        interventions_masks_with_cls = F.pad(\n",
    "            interventions_masks, pad=(1, 0), mode=\"constant\", value=1\n",
    "        )\n",
    "\n",
    "        # Split the input tensors into the different attention heads\n",
    "        query_heads = self.query_linear(\n",
    "            pooled_output_with_cls\n",
    "        )  # (batch_size, nb_int + 1, input_dim)\n",
    "        key_heads = self.key_linear(pooled_output_with_cls)  # (batch_size, nb_int + 1, input_dim)\n",
    "        value_heads = self.value_linear(pooled_output_with_cls)  # (batch_size, input_dim)\n",
    "\n",
    "        # Apply the multi-head attention\n",
    "        attn_output, _ = self.attention_layer(\n",
    "            query_heads, key_heads, value_heads, key_padding_mask=interventions_masks_with_cls\n",
    "        )  # (batch_size, input_dim)\n",
    "\n",
    "        deputy_repr = attn_output[:, 0, :]  # (batch_size, input_dim)\n",
    "\n",
    "        dropout_output1 = self.dropout1(deputy_repr)\n",
    "        linear_output1 = self.relu(self.linear1(dropout_output1))  # (batch_size, input_dim2)\n",
    "        dropout_output2 = self.dropout2(linear_output1)\n",
    "        final_layer = self.relu(self.linear2(dropout_output2))  # (batch_size, num_classes)\n",
    "\n",
    "        # final_layer = self.mlp(deputy_repr)\n",
    "\n",
    "        return final_layer"
   ]
  },
  {
   "cell_type": "code",
   "execution_count": 111,
   "metadata": {},
   "outputs": [],
   "source": [
    "nb_classes = len(np.unique(train_dict[\"labels\"]))"
   ]
  },
  {
   "cell_type": "code",
   "execution_count": 112,
   "metadata": {},
   "outputs": [
    {
     "name": "stderr",
     "output_type": "stream",
     "text": [
      "Some weights of the model checkpoint at camembert-base were not used when initializing CamembertModel: ['lm_head.layer_norm.weight', 'lm_head.layer_norm.bias', 'lm_head.decoder.weight', 'lm_head.dense.bias', 'lm_head.dense.weight', 'lm_head.bias']\n",
      "- This IS expected if you are initializing CamembertModel from the checkpoint of a model trained on another task or with another architecture (e.g. initializing a BertForSequenceClassification model from a BertForPreTraining model).\n",
      "- This IS NOT expected if you are initializing CamembertModel from the checkpoint of a model that you expect to be exactly identical (initializing a BertForSequenceClassification model from a BertForSequenceClassification model).\n"
     ]
    }
   ],
   "source": [
    "camembert_model = CamembertModel.from_pretrained(\"camembert-base\")\n",
    "for param in camembert_model.parameters():\n",
    "    param.requires_grad = False"
   ]
  },
  {
   "cell_type": "code",
   "execution_count": 113,
   "metadata": {},
   "outputs": [],
   "source": [
    "classifier = SimpleCamembertClassifier(\n",
    "    bert_model=camembert_model,\n",
    "    num_classes=nb_classes,\n",
    "    bert_dim=768,\n",
    "    input_dim=64,\n",
    "    embed_dim=64,\n",
    "    input_dim2=64,\n",
    "    num_heads=1,\n",
    "    dropout=0.2,\n",
    ")\n",
    "classifier.to(device);"
   ]
  },
  {
   "cell_type": "code",
   "execution_count": 115,
   "metadata": {},
   "outputs": [],
   "source": [
    "tokens = x[\"tokens\"].to(device)\n",
    "masks = x[\"masks\"].to(device)\n",
    "interventions_masks = x[\"interventions_masks\"].to(device)"
   ]
  },
  {
   "cell_type": "code",
   "execution_count": 11,
   "metadata": {},
   "outputs": [],
   "source": [
    "train_dataset, val_dataset, test_dataset = get_dataset(\n",
    "    tokenizer,\n",
    "    processed_df,\n",
    "    labels_dict,\n",
    "    group_var=\"groupe\",\n",
    "    intervention_var=\"intervention\",\n",
    "    titre_var=\"titre_complet\",\n",
    "    profession_var=\"profession\",\n",
    "    max_len_padding=512,\n",
    "    max_len_padding_titre=64,\n",
    "    max_len_padding_profession=16,\n",
    "    test_frac=0.25,\n",
    "    val_frac=0.2,\n",
    ")\n",
    "\n",
    "train_dataloader, val_dataloader, test_dataloader = get_dataloader(\n",
    "    train_dataset,\n",
    "    val_dataset,\n",
    "    test_dataset,\n",
    "    batch_size=32,\n",
    "    num_workers=8,\n",
    ")\n",
    "\n",
    "bert_model = CamembertModel.from_pretrained(\"camembert-base\")\n",
    "for p in bert_model.parameters():\n",
    "    p.requires_grad = False\n",
    "\n",
    "model = SeanceClassifier(\n",
    "    bert_model=bert_model,\n",
    "    num_classes=3,\n",
    "    intervention_dim=256,\n",
    "    titre_dim=128,\n",
    "    profession_dim=64,\n",
    "    bert_dim=768,\n",
    "    dropout=0.1,\n",
    ")"
   ]
  },
  {
   "cell_type": "code",
   "execution_count": null,
   "metadata": {},
   "outputs": [],
   "source": [
    "from torch.optim import Adam\n",
    "from tqdm.autonotebook import tqdm\n",
    "\n",
    "\n",
    "def train(model, learning_rate, epochs, train_dataloader, val_dataloader):\n",
    "    use_cuda = torch.cuda.is_available()\n",
    "    device = torch.device(\"cuda\" if use_cuda else \"cpu\")\n",
    "\n",
    "    criterion = nn.CrossEntropyLoss()\n",
    "    optimizer = Adam(model.parameters(), lr=learning_rate)\n",
    "\n",
    "    if use_cuda:\n",
    "        model = model.to(device)\n",
    "        criterion = criterion.to(device)\n",
    "\n",
    "    total_acc_trains = []\n",
    "    total_loss_trains = []\n",
    "    total_acc_vals = []\n",
    "    total_loss_vals = []\n",
    "\n",
    "    pbar = tqdm(range(epochs), leave=False)\n",
    "    for epoch_num in pbar:\n",
    "        total_acc_train = 0\n",
    "        total_loss_train = 0\n",
    "\n",
    "        inner_pbar = tqdm(\n",
    "            train_dataloader, leave=False, total=len(train_dataloader), desc=\"Training\"\n",
    "        )\n",
    "        for train_input, train_label in train_dataloader:\n",
    "            train_label = train_label.to(device)\n",
    "\n",
    "            x = {\n",
    "                _: {\n",
    "                    \"input_ids\": train_input[_][\"input_ids\"].to(device),\n",
    "                    \"attention_mask\": train_input[_][\"attention_mask\"].to(device),\n",
    "                }\n",
    "                for _ in [\"intervention\", \"titre\", \"profession\"]\n",
    "            }\n",
    "\n",
    "            output = model(**x)\n",
    "\n",
    "            batch_loss = criterion(output, train_label.long())\n",
    "            total_loss_train += batch_loss.item()\n",
    "\n",
    "            acc = (output.argmax(dim=1) == train_label).sum().item()\n",
    "            total_acc_train += acc\n",
    "\n",
    "            model.zero_grad()\n",
    "            batch_loss.backward()\n",
    "            optimizer.step()\n",
    "\n",
    "            inner_pbar.update()\n",
    "\n",
    "        total_acc_val = 0\n",
    "        total_loss_val = 0\n",
    "\n",
    "        with torch.no_grad():\n",
    "            inner_pbar.reset(total=len(val_dataloader))\n",
    "            inner_pbar.set_description(\"Validation\")\n",
    "            for val_input, val_label in val_dataloader:\n",
    "                val_label = val_label.to(device)\n",
    "                x = {\n",
    "                    _: {\n",
    "                        \"input_ids\": val_input[_][\"input_ids\"].to(device),\n",
    "                        \"attention_mask\": val_input[_][\"attention_mask\"].to(device),\n",
    "                    }\n",
    "                    for _ in [\"intervention\", \"titre\", \"profession\"]\n",
    "                }\n",
    "\n",
    "                output = model(**x)\n",
    "\n",
    "                batch_loss = criterion(output, val_label.long())\n",
    "                total_loss_val += batch_loss.item()\n",
    "\n",
    "                acc = (output.argmax(dim=1) == val_label).sum().item()\n",
    "                total_acc_val += acc\n",
    "                inner_pbar.update()\n",
    "\n",
    "        print(\n",
    "            f\"Epochs: {epoch_num + 1} | Train Loss: {total_loss_train / len(train_dataloader): .3f} \\\n",
    "            | Train Accuracy: {total_acc_train / len(train_dataloader): .3f} \\\n",
    "            | Val Loss: {total_loss_val / len(val_dataloader): .3f} \\\n",
    "            | Val Accuracy: {total_acc_val / len(val_dataloader): .3f}\"\n",
    "        )\n",
    "\n",
    "        total_acc_trains.append(total_acc_train)\n",
    "        total_loss_trains.append(total_loss_train)\n",
    "        total_acc_vals.append(total_acc_val)\n",
    "        total_loss_vals.append(total_loss_val)\n",
    "\n",
    "    return {\n",
    "        \"train_loss\": total_loss_trains,\n",
    "        \"test_loss\": total_loss_vals,\n",
    "        \"train_acc\": total_acc_trains,\n",
    "        \"test_acc\": total_acc_vals,\n",
    "    }"
   ]
  },
  {
   "cell_type": "code",
   "execution_count": null,
   "metadata": {},
   "outputs": [],
   "source": [
    "%tensorboard --logdir ../lightning_logs/"
   ]
  },
  {
   "cell_type": "code",
   "execution_count": 69,
   "metadata": {},
   "outputs": [
    {
     "data": {
      "application/vnd.jupyter.widget-view+json": {
       "model_id": "b6d86b9554164b10be16e0822cd89541",
       "version_major": 2,
       "version_minor": 0
      },
      "text/plain": [
       "  0%|          | 0/10 [00:00<?, ?it/s]"
      ]
     },
     "metadata": {},
     "output_type": "display_data"
    },
    {
     "data": {
      "application/vnd.jupyter.widget-view+json": {
       "model_id": "ebb27ad65da5415d916a8dd53a5bbb0b",
       "version_major": 2,
       "version_minor": 0
      },
      "text/plain": [
       "Training:   0%|          | 0/423 [00:00<?, ?it/s]"
      ]
     },
     "metadata": {},
     "output_type": "display_data"
    },
    {
     "ename": "OutOfMemoryError",
     "evalue": "CUDA out of memory. Tried to allocate 384.00 MiB (GPU 0; 7.80 GiB total capacity; 6.73 GiB already allocated; 124.31 MiB free; 6.78 GiB reserved in total by PyTorch) If reserved memory is >> allocated memory try setting max_split_size_mb to avoid fragmentation.  See documentation for Memory Management and PYTORCH_CUDA_ALLOC_CONF",
     "output_type": "error",
     "traceback": [
      "\u001b[0;31m---------------------------------------------------------------------------\u001b[0m",
      "\u001b[0;31mOutOfMemoryError\u001b[0m                          Traceback (most recent call last)",
      "Cell \u001b[0;32mIn[69], line 1\u001b[0m\n\u001b[0;32m----> 1\u001b[0m train(\n\u001b[1;32m      2\u001b[0m     model,\n\u001b[1;32m      3\u001b[0m     \u001b[39m1e-4\u001b[39;49m,\n\u001b[1;32m      4\u001b[0m     \u001b[39m10\u001b[39;49m,\n\u001b[1;32m      5\u001b[0m     train_dataloader,\n\u001b[1;32m      6\u001b[0m     val_dataloader\n\u001b[1;32m      7\u001b[0m )\n",
      "Cell \u001b[0;32mIn[68], line 41\u001b[0m, in \u001b[0;36mtrain\u001b[0;34m(model, learning_rate, epochs, train_dataloader, val_dataloader)\u001b[0m\n\u001b[1;32m     34\u001b[0m train_label \u001b[39m=\u001b[39m train_label\u001b[39m.\u001b[39mto(device)\n\u001b[1;32m     36\u001b[0m x \u001b[39m=\u001b[39m {_: {\n\u001b[1;32m     37\u001b[0m     \u001b[39m\"\u001b[39m\u001b[39minput_ids\u001b[39m\u001b[39m\"\u001b[39m: train_input[_][\u001b[39m\"\u001b[39m\u001b[39minput_ids\u001b[39m\u001b[39m\"\u001b[39m]\u001b[39m.\u001b[39mto(device),\n\u001b[1;32m     38\u001b[0m     \u001b[39m\"\u001b[39m\u001b[39mattention_mask\u001b[39m\u001b[39m\"\u001b[39m: train_input[_][\u001b[39m\"\u001b[39m\u001b[39mattention_mask\u001b[39m\u001b[39m\"\u001b[39m]\u001b[39m.\u001b[39mto(device),\n\u001b[1;32m     39\u001b[0m } \u001b[39mfor\u001b[39;00m _ \u001b[39min\u001b[39;00m [\u001b[39m\"\u001b[39m\u001b[39mintervention\u001b[39m\u001b[39m\"\u001b[39m, \u001b[39m\"\u001b[39m\u001b[39mtitre\u001b[39m\u001b[39m\"\u001b[39m, \u001b[39m\"\u001b[39m\u001b[39mprofession\u001b[39m\u001b[39m\"\u001b[39m]}\n\u001b[0;32m---> 41\u001b[0m output \u001b[39m=\u001b[39m model(\u001b[39m*\u001b[39;49m\u001b[39m*\u001b[39;49mx)\n\u001b[1;32m     43\u001b[0m batch_loss \u001b[39m=\u001b[39m criterion(output, train_label\u001b[39m.\u001b[39mlong())\n\u001b[1;32m     44\u001b[0m total_loss_train \u001b[39m+\u001b[39m\u001b[39m=\u001b[39m batch_loss\u001b[39m.\u001b[39mitem()\n",
      "File \u001b[0;32m~/miniconda3/envs/pytorch-11-7/lib/python3.10/site-packages/torch/nn/modules/module.py:1190\u001b[0m, in \u001b[0;36mModule._call_impl\u001b[0;34m(self, *input, **kwargs)\u001b[0m\n\u001b[1;32m   1186\u001b[0m \u001b[39m# If we don't have any hooks, we want to skip the rest of the logic in\u001b[39;00m\n\u001b[1;32m   1187\u001b[0m \u001b[39m# this function, and just call forward.\u001b[39;00m\n\u001b[1;32m   1188\u001b[0m \u001b[39mif\u001b[39;00m \u001b[39mnot\u001b[39;00m (\u001b[39mself\u001b[39m\u001b[39m.\u001b[39m_backward_hooks \u001b[39mor\u001b[39;00m \u001b[39mself\u001b[39m\u001b[39m.\u001b[39m_forward_hooks \u001b[39mor\u001b[39;00m \u001b[39mself\u001b[39m\u001b[39m.\u001b[39m_forward_pre_hooks \u001b[39mor\u001b[39;00m _global_backward_hooks\n\u001b[1;32m   1189\u001b[0m         \u001b[39mor\u001b[39;00m _global_forward_hooks \u001b[39mor\u001b[39;00m _global_forward_pre_hooks):\n\u001b[0;32m-> 1190\u001b[0m     \u001b[39mreturn\u001b[39;00m forward_call(\u001b[39m*\u001b[39;49m\u001b[39minput\u001b[39;49m, \u001b[39m*\u001b[39;49m\u001b[39m*\u001b[39;49mkwargs)\n\u001b[1;32m   1191\u001b[0m \u001b[39m# Do not call functions when jit is used\u001b[39;00m\n\u001b[1;32m   1192\u001b[0m full_backward_hooks, non_full_backward_hooks \u001b[39m=\u001b[39m [], []\n",
      "Cell \u001b[0;32mIn[58], line 46\u001b[0m, in \u001b[0;36mSeanceClassifier.forward\u001b[0;34m(self, intervention, titre, profession)\u001b[0m\n\u001b[1;32m     44\u001b[0m \u001b[39mdef\u001b[39;00m \u001b[39mforward\u001b[39m(\u001b[39mself\u001b[39m, intervention, titre, profession):\n\u001b[1;32m     45\u001b[0m     \u001b[39m# Embed interventions\u001b[39;00m\n\u001b[0;32m---> 46\u001b[0m     _, intervention_pooled_output \u001b[39m=\u001b[39m \u001b[39mself\u001b[39;49m\u001b[39m.\u001b[39;49mbert(\n\u001b[1;32m     47\u001b[0m         input_ids\u001b[39m=\u001b[39;49mintervention[\u001b[39m'\u001b[39;49m\u001b[39minput_ids\u001b[39;49m\u001b[39m'\u001b[39;49m]\u001b[39m.\u001b[39;49msqueeze(\u001b[39m1\u001b[39;49m),\n\u001b[1;32m     48\u001b[0m         attention_mask\u001b[39m=\u001b[39;49mintervention[\u001b[39m'\u001b[39;49m\u001b[39mattention_mask\u001b[39;49m\u001b[39m'\u001b[39;49m]\u001b[39m.\u001b[39;49msqueeze(\u001b[39m1\u001b[39;49m),\n\u001b[1;32m     49\u001b[0m         return_dict\u001b[39m=\u001b[39;49m\u001b[39mFalse\u001b[39;49;00m\n\u001b[1;32m     50\u001b[0m     )\n\u001b[1;32m     52\u001b[0m     \u001b[39m# Embed titre\u001b[39;00m\n\u001b[1;32m     53\u001b[0m     _, titre_pooled_output \u001b[39m=\u001b[39m \u001b[39mself\u001b[39m\u001b[39m.\u001b[39mbert(\n\u001b[1;32m     54\u001b[0m         input_ids\u001b[39m=\u001b[39mtitre[\u001b[39m'\u001b[39m\u001b[39minput_ids\u001b[39m\u001b[39m'\u001b[39m]\u001b[39m.\u001b[39msqueeze(\u001b[39m1\u001b[39m),\n\u001b[1;32m     55\u001b[0m         attention_mask\u001b[39m=\u001b[39mtitre[\u001b[39m'\u001b[39m\u001b[39mattention_mask\u001b[39m\u001b[39m'\u001b[39m]\u001b[39m.\u001b[39msqueeze(\u001b[39m1\u001b[39m),\n\u001b[1;32m     56\u001b[0m         return_dict\u001b[39m=\u001b[39m\u001b[39mFalse\u001b[39;00m\n\u001b[1;32m     57\u001b[0m     )\n",
      "File \u001b[0;32m~/miniconda3/envs/pytorch-11-7/lib/python3.10/site-packages/torch/nn/modules/module.py:1190\u001b[0m, in \u001b[0;36mModule._call_impl\u001b[0;34m(self, *input, **kwargs)\u001b[0m\n\u001b[1;32m   1186\u001b[0m \u001b[39m# If we don't have any hooks, we want to skip the rest of the logic in\u001b[39;00m\n\u001b[1;32m   1187\u001b[0m \u001b[39m# this function, and just call forward.\u001b[39;00m\n\u001b[1;32m   1188\u001b[0m \u001b[39mif\u001b[39;00m \u001b[39mnot\u001b[39;00m (\u001b[39mself\u001b[39m\u001b[39m.\u001b[39m_backward_hooks \u001b[39mor\u001b[39;00m \u001b[39mself\u001b[39m\u001b[39m.\u001b[39m_forward_hooks \u001b[39mor\u001b[39;00m \u001b[39mself\u001b[39m\u001b[39m.\u001b[39m_forward_pre_hooks \u001b[39mor\u001b[39;00m _global_backward_hooks\n\u001b[1;32m   1189\u001b[0m         \u001b[39mor\u001b[39;00m _global_forward_hooks \u001b[39mor\u001b[39;00m _global_forward_pre_hooks):\n\u001b[0;32m-> 1190\u001b[0m     \u001b[39mreturn\u001b[39;00m forward_call(\u001b[39m*\u001b[39;49m\u001b[39minput\u001b[39;49m, \u001b[39m*\u001b[39;49m\u001b[39m*\u001b[39;49mkwargs)\n\u001b[1;32m   1191\u001b[0m \u001b[39m# Do not call functions when jit is used\u001b[39;00m\n\u001b[1;32m   1192\u001b[0m full_backward_hooks, non_full_backward_hooks \u001b[39m=\u001b[39m [], []\n",
      "File \u001b[0;32m~/miniconda3/envs/pytorch-11-7/lib/python3.10/site-packages/transformers/models/camembert/modeling_camembert.py:898\u001b[0m, in \u001b[0;36mCamembertModel.forward\u001b[0;34m(self, input_ids, attention_mask, token_type_ids, position_ids, head_mask, inputs_embeds, encoder_hidden_states, encoder_attention_mask, past_key_values, use_cache, output_attentions, output_hidden_states, return_dict)\u001b[0m\n\u001b[1;32m    889\u001b[0m head_mask \u001b[39m=\u001b[39m \u001b[39mself\u001b[39m\u001b[39m.\u001b[39mget_head_mask(head_mask, \u001b[39mself\u001b[39m\u001b[39m.\u001b[39mconfig\u001b[39m.\u001b[39mnum_hidden_layers)\n\u001b[1;32m    891\u001b[0m embedding_output \u001b[39m=\u001b[39m \u001b[39mself\u001b[39m\u001b[39m.\u001b[39membeddings(\n\u001b[1;32m    892\u001b[0m     input_ids\u001b[39m=\u001b[39minput_ids,\n\u001b[1;32m    893\u001b[0m     position_ids\u001b[39m=\u001b[39mposition_ids,\n\u001b[0;32m   (...)\u001b[0m\n\u001b[1;32m    896\u001b[0m     past_key_values_length\u001b[39m=\u001b[39mpast_key_values_length,\n\u001b[1;32m    897\u001b[0m )\n\u001b[0;32m--> 898\u001b[0m encoder_outputs \u001b[39m=\u001b[39m \u001b[39mself\u001b[39;49m\u001b[39m.\u001b[39;49mencoder(\n\u001b[1;32m    899\u001b[0m     embedding_output,\n\u001b[1;32m    900\u001b[0m     attention_mask\u001b[39m=\u001b[39;49mextended_attention_mask,\n\u001b[1;32m    901\u001b[0m     head_mask\u001b[39m=\u001b[39;49mhead_mask,\n\u001b[1;32m    902\u001b[0m     encoder_hidden_states\u001b[39m=\u001b[39;49mencoder_hidden_states,\n\u001b[1;32m    903\u001b[0m     encoder_attention_mask\u001b[39m=\u001b[39;49mencoder_extended_attention_mask,\n\u001b[1;32m    904\u001b[0m     past_key_values\u001b[39m=\u001b[39;49mpast_key_values,\n\u001b[1;32m    905\u001b[0m     use_cache\u001b[39m=\u001b[39;49muse_cache,\n\u001b[1;32m    906\u001b[0m     output_attentions\u001b[39m=\u001b[39;49moutput_attentions,\n\u001b[1;32m    907\u001b[0m     output_hidden_states\u001b[39m=\u001b[39;49moutput_hidden_states,\n\u001b[1;32m    908\u001b[0m     return_dict\u001b[39m=\u001b[39;49mreturn_dict,\n\u001b[1;32m    909\u001b[0m )\n\u001b[1;32m    910\u001b[0m sequence_output \u001b[39m=\u001b[39m encoder_outputs[\u001b[39m0\u001b[39m]\n\u001b[1;32m    911\u001b[0m pooled_output \u001b[39m=\u001b[39m \u001b[39mself\u001b[39m\u001b[39m.\u001b[39mpooler(sequence_output) \u001b[39mif\u001b[39;00m \u001b[39mself\u001b[39m\u001b[39m.\u001b[39mpooler \u001b[39mis\u001b[39;00m \u001b[39mnot\u001b[39;00m \u001b[39mNone\u001b[39;00m \u001b[39melse\u001b[39;00m \u001b[39mNone\u001b[39;00m\n",
      "File \u001b[0;32m~/miniconda3/envs/pytorch-11-7/lib/python3.10/site-packages/torch/nn/modules/module.py:1190\u001b[0m, in \u001b[0;36mModule._call_impl\u001b[0;34m(self, *input, **kwargs)\u001b[0m\n\u001b[1;32m   1186\u001b[0m \u001b[39m# If we don't have any hooks, we want to skip the rest of the logic in\u001b[39;00m\n\u001b[1;32m   1187\u001b[0m \u001b[39m# this function, and just call forward.\u001b[39;00m\n\u001b[1;32m   1188\u001b[0m \u001b[39mif\u001b[39;00m \u001b[39mnot\u001b[39;00m (\u001b[39mself\u001b[39m\u001b[39m.\u001b[39m_backward_hooks \u001b[39mor\u001b[39;00m \u001b[39mself\u001b[39m\u001b[39m.\u001b[39m_forward_hooks \u001b[39mor\u001b[39;00m \u001b[39mself\u001b[39m\u001b[39m.\u001b[39m_forward_pre_hooks \u001b[39mor\u001b[39;00m _global_backward_hooks\n\u001b[1;32m   1189\u001b[0m         \u001b[39mor\u001b[39;00m _global_forward_hooks \u001b[39mor\u001b[39;00m _global_forward_pre_hooks):\n\u001b[0;32m-> 1190\u001b[0m     \u001b[39mreturn\u001b[39;00m forward_call(\u001b[39m*\u001b[39;49m\u001b[39minput\u001b[39;49m, \u001b[39m*\u001b[39;49m\u001b[39m*\u001b[39;49mkwargs)\n\u001b[1;32m   1191\u001b[0m \u001b[39m# Do not call functions when jit is used\u001b[39;00m\n\u001b[1;32m   1192\u001b[0m full_backward_hooks, non_full_backward_hooks \u001b[39m=\u001b[39m [], []\n",
      "File \u001b[0;32m~/miniconda3/envs/pytorch-11-7/lib/python3.10/site-packages/transformers/models/camembert/modeling_camembert.py:534\u001b[0m, in \u001b[0;36mCamembertEncoder.forward\u001b[0;34m(self, hidden_states, attention_mask, head_mask, encoder_hidden_states, encoder_attention_mask, past_key_values, use_cache, output_attentions, output_hidden_states, return_dict)\u001b[0m\n\u001b[1;32m    525\u001b[0m     layer_outputs \u001b[39m=\u001b[39m torch\u001b[39m.\u001b[39mutils\u001b[39m.\u001b[39mcheckpoint\u001b[39m.\u001b[39mcheckpoint(\n\u001b[1;32m    526\u001b[0m         create_custom_forward(layer_module),\n\u001b[1;32m    527\u001b[0m         hidden_states,\n\u001b[0;32m   (...)\u001b[0m\n\u001b[1;32m    531\u001b[0m         encoder_attention_mask,\n\u001b[1;32m    532\u001b[0m     )\n\u001b[1;32m    533\u001b[0m \u001b[39melse\u001b[39;00m:\n\u001b[0;32m--> 534\u001b[0m     layer_outputs \u001b[39m=\u001b[39m layer_module(\n\u001b[1;32m    535\u001b[0m         hidden_states,\n\u001b[1;32m    536\u001b[0m         attention_mask,\n\u001b[1;32m    537\u001b[0m         layer_head_mask,\n\u001b[1;32m    538\u001b[0m         encoder_hidden_states,\n\u001b[1;32m    539\u001b[0m         encoder_attention_mask,\n\u001b[1;32m    540\u001b[0m         past_key_value,\n\u001b[1;32m    541\u001b[0m         output_attentions,\n\u001b[1;32m    542\u001b[0m     )\n\u001b[1;32m    544\u001b[0m hidden_states \u001b[39m=\u001b[39m layer_outputs[\u001b[39m0\u001b[39m]\n\u001b[1;32m    545\u001b[0m \u001b[39mif\u001b[39;00m use_cache:\n",
      "File \u001b[0;32m~/miniconda3/envs/pytorch-11-7/lib/python3.10/site-packages/torch/nn/modules/module.py:1190\u001b[0m, in \u001b[0;36mModule._call_impl\u001b[0;34m(self, *input, **kwargs)\u001b[0m\n\u001b[1;32m   1186\u001b[0m \u001b[39m# If we don't have any hooks, we want to skip the rest of the logic in\u001b[39;00m\n\u001b[1;32m   1187\u001b[0m \u001b[39m# this function, and just call forward.\u001b[39;00m\n\u001b[1;32m   1188\u001b[0m \u001b[39mif\u001b[39;00m \u001b[39mnot\u001b[39;00m (\u001b[39mself\u001b[39m\u001b[39m.\u001b[39m_backward_hooks \u001b[39mor\u001b[39;00m \u001b[39mself\u001b[39m\u001b[39m.\u001b[39m_forward_hooks \u001b[39mor\u001b[39;00m \u001b[39mself\u001b[39m\u001b[39m.\u001b[39m_forward_pre_hooks \u001b[39mor\u001b[39;00m _global_backward_hooks\n\u001b[1;32m   1189\u001b[0m         \u001b[39mor\u001b[39;00m _global_forward_hooks \u001b[39mor\u001b[39;00m _global_forward_pre_hooks):\n\u001b[0;32m-> 1190\u001b[0m     \u001b[39mreturn\u001b[39;00m forward_call(\u001b[39m*\u001b[39;49m\u001b[39minput\u001b[39;49m, \u001b[39m*\u001b[39;49m\u001b[39m*\u001b[39;49mkwargs)\n\u001b[1;32m   1191\u001b[0m \u001b[39m# Do not call functions when jit is used\u001b[39;00m\n\u001b[1;32m   1192\u001b[0m full_backward_hooks, non_full_backward_hooks \u001b[39m=\u001b[39m [], []\n",
      "File \u001b[0;32m~/miniconda3/envs/pytorch-11-7/lib/python3.10/site-packages/transformers/models/camembert/modeling_camembert.py:419\u001b[0m, in \u001b[0;36mCamembertLayer.forward\u001b[0;34m(self, hidden_states, attention_mask, head_mask, encoder_hidden_states, encoder_attention_mask, past_key_value, output_attentions)\u001b[0m\n\u001b[1;32m    407\u001b[0m \u001b[39mdef\u001b[39;00m \u001b[39mforward\u001b[39m(\n\u001b[1;32m    408\u001b[0m     \u001b[39mself\u001b[39m,\n\u001b[1;32m    409\u001b[0m     hidden_states: torch\u001b[39m.\u001b[39mTensor,\n\u001b[0;32m   (...)\u001b[0m\n\u001b[1;32m    416\u001b[0m ) \u001b[39m-\u001b[39m\u001b[39m>\u001b[39m Tuple[torch\u001b[39m.\u001b[39mTensor]:\n\u001b[1;32m    417\u001b[0m     \u001b[39m# decoder uni-directional self-attention cached key/values tuple is at positions 1,2\u001b[39;00m\n\u001b[1;32m    418\u001b[0m     self_attn_past_key_value \u001b[39m=\u001b[39m past_key_value[:\u001b[39m2\u001b[39m] \u001b[39mif\u001b[39;00m past_key_value \u001b[39mis\u001b[39;00m \u001b[39mnot\u001b[39;00m \u001b[39mNone\u001b[39;00m \u001b[39melse\u001b[39;00m \u001b[39mNone\u001b[39;00m\n\u001b[0;32m--> 419\u001b[0m     self_attention_outputs \u001b[39m=\u001b[39m \u001b[39mself\u001b[39;49m\u001b[39m.\u001b[39;49mattention(\n\u001b[1;32m    420\u001b[0m         hidden_states,\n\u001b[1;32m    421\u001b[0m         attention_mask,\n\u001b[1;32m    422\u001b[0m         head_mask,\n\u001b[1;32m    423\u001b[0m         output_attentions\u001b[39m=\u001b[39;49moutput_attentions,\n\u001b[1;32m    424\u001b[0m         past_key_value\u001b[39m=\u001b[39;49mself_attn_past_key_value,\n\u001b[1;32m    425\u001b[0m     )\n\u001b[1;32m    426\u001b[0m     attention_output \u001b[39m=\u001b[39m self_attention_outputs[\u001b[39m0\u001b[39m]\n\u001b[1;32m    428\u001b[0m     \u001b[39m# if decoder, the last output is tuple of self-attn cache\u001b[39;00m\n",
      "File \u001b[0;32m~/miniconda3/envs/pytorch-11-7/lib/python3.10/site-packages/torch/nn/modules/module.py:1190\u001b[0m, in \u001b[0;36mModule._call_impl\u001b[0;34m(self, *input, **kwargs)\u001b[0m\n\u001b[1;32m   1186\u001b[0m \u001b[39m# If we don't have any hooks, we want to skip the rest of the logic in\u001b[39;00m\n\u001b[1;32m   1187\u001b[0m \u001b[39m# this function, and just call forward.\u001b[39;00m\n\u001b[1;32m   1188\u001b[0m \u001b[39mif\u001b[39;00m \u001b[39mnot\u001b[39;00m (\u001b[39mself\u001b[39m\u001b[39m.\u001b[39m_backward_hooks \u001b[39mor\u001b[39;00m \u001b[39mself\u001b[39m\u001b[39m.\u001b[39m_forward_hooks \u001b[39mor\u001b[39;00m \u001b[39mself\u001b[39m\u001b[39m.\u001b[39m_forward_pre_hooks \u001b[39mor\u001b[39;00m _global_backward_hooks\n\u001b[1;32m   1189\u001b[0m         \u001b[39mor\u001b[39;00m _global_forward_hooks \u001b[39mor\u001b[39;00m _global_forward_pre_hooks):\n\u001b[0;32m-> 1190\u001b[0m     \u001b[39mreturn\u001b[39;00m forward_call(\u001b[39m*\u001b[39;49m\u001b[39minput\u001b[39;49m, \u001b[39m*\u001b[39;49m\u001b[39m*\u001b[39;49mkwargs)\n\u001b[1;32m   1191\u001b[0m \u001b[39m# Do not call functions when jit is used\u001b[39;00m\n\u001b[1;32m   1192\u001b[0m full_backward_hooks, non_full_backward_hooks \u001b[39m=\u001b[39m [], []\n",
      "File \u001b[0;32m~/miniconda3/envs/pytorch-11-7/lib/python3.10/site-packages/transformers/models/camembert/modeling_camembert.py:346\u001b[0m, in \u001b[0;36mCamembertAttention.forward\u001b[0;34m(self, hidden_states, attention_mask, head_mask, encoder_hidden_states, encoder_attention_mask, past_key_value, output_attentions)\u001b[0m\n\u001b[1;32m    336\u001b[0m \u001b[39mdef\u001b[39;00m \u001b[39mforward\u001b[39m(\n\u001b[1;32m    337\u001b[0m     \u001b[39mself\u001b[39m,\n\u001b[1;32m    338\u001b[0m     hidden_states: torch\u001b[39m.\u001b[39mTensor,\n\u001b[0;32m   (...)\u001b[0m\n\u001b[1;32m    344\u001b[0m     output_attentions: Optional[\u001b[39mbool\u001b[39m] \u001b[39m=\u001b[39m \u001b[39mFalse\u001b[39;00m,\n\u001b[1;32m    345\u001b[0m ) \u001b[39m-\u001b[39m\u001b[39m>\u001b[39m Tuple[torch\u001b[39m.\u001b[39mTensor]:\n\u001b[0;32m--> 346\u001b[0m     self_outputs \u001b[39m=\u001b[39m \u001b[39mself\u001b[39;49m\u001b[39m.\u001b[39;49mself(\n\u001b[1;32m    347\u001b[0m         hidden_states,\n\u001b[1;32m    348\u001b[0m         attention_mask,\n\u001b[1;32m    349\u001b[0m         head_mask,\n\u001b[1;32m    350\u001b[0m         encoder_hidden_states,\n\u001b[1;32m    351\u001b[0m         encoder_attention_mask,\n\u001b[1;32m    352\u001b[0m         past_key_value,\n\u001b[1;32m    353\u001b[0m         output_attentions,\n\u001b[1;32m    354\u001b[0m     )\n\u001b[1;32m    355\u001b[0m     attention_output \u001b[39m=\u001b[39m \u001b[39mself\u001b[39m\u001b[39m.\u001b[39moutput(self_outputs[\u001b[39m0\u001b[39m], hidden_states)\n\u001b[1;32m    356\u001b[0m     outputs \u001b[39m=\u001b[39m (attention_output,) \u001b[39m+\u001b[39m self_outputs[\u001b[39m1\u001b[39m:]  \u001b[39m# add attentions if we output them\u001b[39;00m\n",
      "File \u001b[0;32m~/miniconda3/envs/pytorch-11-7/lib/python3.10/site-packages/torch/nn/modules/module.py:1190\u001b[0m, in \u001b[0;36mModule._call_impl\u001b[0;34m(self, *input, **kwargs)\u001b[0m\n\u001b[1;32m   1186\u001b[0m \u001b[39m# If we don't have any hooks, we want to skip the rest of the logic in\u001b[39;00m\n\u001b[1;32m   1187\u001b[0m \u001b[39m# this function, and just call forward.\u001b[39;00m\n\u001b[1;32m   1188\u001b[0m \u001b[39mif\u001b[39;00m \u001b[39mnot\u001b[39;00m (\u001b[39mself\u001b[39m\u001b[39m.\u001b[39m_backward_hooks \u001b[39mor\u001b[39;00m \u001b[39mself\u001b[39m\u001b[39m.\u001b[39m_forward_hooks \u001b[39mor\u001b[39;00m \u001b[39mself\u001b[39m\u001b[39m.\u001b[39m_forward_pre_hooks \u001b[39mor\u001b[39;00m _global_backward_hooks\n\u001b[1;32m   1189\u001b[0m         \u001b[39mor\u001b[39;00m _global_forward_hooks \u001b[39mor\u001b[39;00m _global_forward_pre_hooks):\n\u001b[0;32m-> 1190\u001b[0m     \u001b[39mreturn\u001b[39;00m forward_call(\u001b[39m*\u001b[39;49m\u001b[39minput\u001b[39;49m, \u001b[39m*\u001b[39;49m\u001b[39m*\u001b[39;49mkwargs)\n\u001b[1;32m   1191\u001b[0m \u001b[39m# Do not call functions when jit is used\u001b[39;00m\n\u001b[1;32m   1192\u001b[0m full_backward_hooks, non_full_backward_hooks \u001b[39m=\u001b[39m [], []\n",
      "File \u001b[0;32m~/miniconda3/envs/pytorch-11-7/lib/python3.10/site-packages/transformers/models/camembert/modeling_camembert.py:248\u001b[0m, in \u001b[0;36mCamembertSelfAttention.forward\u001b[0;34m(self, hidden_states, attention_mask, head_mask, encoder_hidden_states, encoder_attention_mask, past_key_value, output_attentions)\u001b[0m\n\u001b[1;32m    245\u001b[0m     past_key_value \u001b[39m=\u001b[39m (key_layer, value_layer)\n\u001b[1;32m    247\u001b[0m \u001b[39m# Take the dot product between \"query\" and \"key\" to get the raw attention scores.\u001b[39;00m\n\u001b[0;32m--> 248\u001b[0m attention_scores \u001b[39m=\u001b[39m torch\u001b[39m.\u001b[39;49mmatmul(query_layer, key_layer\u001b[39m.\u001b[39;49mtranspose(\u001b[39m-\u001b[39;49m\u001b[39m1\u001b[39;49m, \u001b[39m-\u001b[39;49m\u001b[39m2\u001b[39;49m))\n\u001b[1;32m    250\u001b[0m \u001b[39mif\u001b[39;00m \u001b[39mself\u001b[39m\u001b[39m.\u001b[39mposition_embedding_type \u001b[39m==\u001b[39m \u001b[39m\"\u001b[39m\u001b[39mrelative_key\u001b[39m\u001b[39m\"\u001b[39m \u001b[39mor\u001b[39;00m \u001b[39mself\u001b[39m\u001b[39m.\u001b[39mposition_embedding_type \u001b[39m==\u001b[39m \u001b[39m\"\u001b[39m\u001b[39mrelative_key_query\u001b[39m\u001b[39m\"\u001b[39m:\n\u001b[1;32m    251\u001b[0m     seq_length \u001b[39m=\u001b[39m hidden_states\u001b[39m.\u001b[39msize()[\u001b[39m1\u001b[39m]\n",
      "\u001b[0;31mOutOfMemoryError\u001b[0m: CUDA out of memory. Tried to allocate 384.00 MiB (GPU 0; 7.80 GiB total capacity; 6.73 GiB already allocated; 124.31 MiB free; 6.78 GiB reserved in total by PyTorch) If reserved memory is >> allocated memory try setting max_split_size_mb to avoid fragmentation.  See documentation for Memory Management and PYTORCH_CUDA_ALLOC_CONF"
     ]
    }
   ],
   "source": [
    "train(model, 1e-4, 10, train_dataloader, val_dataloader)"
   ]
  },
  {
   "cell_type": "code",
   "execution_count": 168,
   "metadata": {},
   "outputs": [],
   "source": [
    "classifier = SimpleCamembertClassifier(\n",
    "    bert_model=camembert_model,\n",
    "    num_classes=nb_classes,\n",
    "    bert_dim=768,\n",
    "    input_dim=64,\n",
    "    embed_dim=64,\n",
    "    input_dim2=64,\n",
    "    num_heads=1,\n",
    "    dropout=0.2,\n",
    ")"
   ]
  },
  {
   "cell_type": "code",
   "execution_count": 169,
   "metadata": {},
   "outputs": [
    {
     "data": {
      "application/vnd.jupyter.widget-view+json": {
       "model_id": "889f470fb1d34df9b1384da6b722dc2c",
       "version_major": 2,
       "version_minor": 0
      },
      "text/plain": [
       "  0%|          | 0/10 [00:00<?, ?it/s]"
      ]
     },
     "metadata": {},
     "output_type": "display_data"
    },
    {
     "data": {
      "application/vnd.jupyter.widget-view+json": {
       "model_id": "09e40ad7ea3f49a9be4515331c057e4b",
       "version_major": 2,
       "version_minor": 0
      },
      "text/plain": [
       "Training:   0%|          | 0/89 [00:00<?, ?it/s]"
      ]
     },
     "metadata": {},
     "output_type": "display_data"
    },
    {
     "name": "stdout",
     "output_type": "stream",
     "text": [
      "Epochs: 1 | Train Loss:  55.731             | Train Accuracy:  1.750             | Val Loss:  18.784             | Val Accuracy:  0.250\n"
     ]
    },
    {
     "data": {
      "application/vnd.jupyter.widget-view+json": {
       "model_id": "49f2210e4c3d470385025d26e9f27422",
       "version_major": 2,
       "version_minor": 0
      },
      "text/plain": [
       "Training:   0%|          | 0/89 [00:00<?, ?it/s]"
      ]
     },
     "metadata": {},
     "output_type": "display_data"
    },
    {
     "name": "stdout",
     "output_type": "stream",
     "text": [
      "Epochs: 2 | Train Loss:  55.732             | Train Accuracy:  1.000             | Val Loss:  18.776             | Val Accuracy:  0.500\n"
     ]
    },
    {
     "data": {
      "application/vnd.jupyter.widget-view+json": {
       "model_id": "b2a3588625694a45b9c6b0af27ac9728",
       "version_major": 2,
       "version_minor": 0
      },
      "text/plain": [
       "Training:   0%|          | 0/89 [00:00<?, ?it/s]"
      ]
     },
     "metadata": {},
     "output_type": "display_data"
    },
    {
     "name": "stdout",
     "output_type": "stream",
     "text": [
      "Epochs: 3 | Train Loss:  55.688             | Train Accuracy:  0.750             | Val Loss:  18.765             | Val Accuracy:  0.750\n"
     ]
    },
    {
     "data": {
      "application/vnd.jupyter.widget-view+json": {
       "model_id": "b5c073cb11ba47b388651cde92c33c60",
       "version_major": 2,
       "version_minor": 0
      },
      "text/plain": [
       "Training:   0%|          | 0/89 [00:00<?, ?it/s]"
      ]
     },
     "metadata": {},
     "output_type": "display_data"
    },
    {
     "name": "stdout",
     "output_type": "stream",
     "text": [
      "Epochs: 4 | Train Loss:  55.649             | Train Accuracy:  1.000             | Val Loss:  18.758             | Val Accuracy:  0.750\n"
     ]
    },
    {
     "data": {
      "application/vnd.jupyter.widget-view+json": {
       "model_id": "14481a9abd6d4e3eb20104cb4246f24d",
       "version_major": 2,
       "version_minor": 0
      },
      "text/plain": [
       "Training:   0%|          | 0/89 [00:00<?, ?it/s]"
      ]
     },
     "metadata": {},
     "output_type": "display_data"
    },
    {
     "name": "stdout",
     "output_type": "stream",
     "text": [
      "Epochs: 5 | Train Loss:  55.613             | Train Accuracy:  1.500             | Val Loss:  18.757             | Val Accuracy:  0.250\n"
     ]
    },
    {
     "data": {
      "application/vnd.jupyter.widget-view+json": {
       "model_id": "e34c847329ad484ab62121c4f8c06e09",
       "version_major": 2,
       "version_minor": 0
      },
      "text/plain": [
       "Training:   0%|          | 0/89 [00:00<?, ?it/s]"
      ]
     },
     "metadata": {},
     "output_type": "display_data"
    },
    {
     "name": "stdout",
     "output_type": "stream",
     "text": [
      "Epochs: 6 | Train Loss:  55.605             | Train Accuracy:  1.500             | Val Loss:  18.732             | Val Accuracy:  0.750\n"
     ]
    },
    {
     "data": {
      "application/vnd.jupyter.widget-view+json": {
       "model_id": "4d9a28cfb4da4ad989d6d7f92daf0d70",
       "version_major": 2,
       "version_minor": 0
      },
      "text/plain": [
       "Training:   0%|          | 0/89 [00:00<?, ?it/s]"
      ]
     },
     "metadata": {},
     "output_type": "display_data"
    },
    {
     "name": "stdout",
     "output_type": "stream",
     "text": [
      "Epochs: 7 | Train Loss:  55.569             | Train Accuracy:  2.250             | Val Loss:  18.735             | Val Accuracy:  0.500\n"
     ]
    },
    {
     "data": {
      "application/vnd.jupyter.widget-view+json": {
       "model_id": "4115edfdb74a46a6b1feda7f4a3f011e",
       "version_major": 2,
       "version_minor": 0
      },
      "text/plain": [
       "Training:   0%|          | 0/89 [00:00<?, ?it/s]"
      ]
     },
     "metadata": {},
     "output_type": "display_data"
    },
    {
     "name": "stdout",
     "output_type": "stream",
     "text": [
      "Epochs: 8 | Train Loss:  55.535             | Train Accuracy:  1.500             | Val Loss:  18.722             | Val Accuracy:  0.500\n"
     ]
    },
    {
     "data": {
      "application/vnd.jupyter.widget-view+json": {
       "model_id": "051f44c9fa6248449e6e89197fc803c6",
       "version_major": 2,
       "version_minor": 0
      },
      "text/plain": [
       "Training:   0%|          | 0/89 [00:00<?, ?it/s]"
      ]
     },
     "metadata": {},
     "output_type": "display_data"
    },
    {
     "name": "stdout",
     "output_type": "stream",
     "text": [
      "Epochs: 9 | Train Loss:  55.515             | Train Accuracy:  1.750             | Val Loss:  18.718             | Val Accuracy:  0.500\n"
     ]
    },
    {
     "data": {
      "application/vnd.jupyter.widget-view+json": {
       "model_id": "14d7e9cb3f7346c6af12ba22ee1f7117",
       "version_major": 2,
       "version_minor": 0
      },
      "text/plain": [
       "Training:   0%|          | 0/89 [00:00<?, ?it/s]"
      ]
     },
     "metadata": {},
     "output_type": "display_data"
    },
    {
     "name": "stdout",
     "output_type": "stream",
     "text": [
      "Epochs: 10 | Train Loss:  55.484             | Train Accuracy:  1.250             | Val Loss:  18.704             | Val Accuracy:  0.500\n"
     ]
    }
   ],
   "source": [
    "EPOCHS = 10\n",
    "LR = 1e-6\n",
    "\n",
    "results = train(classifier, train_dict, test_dict, LR, EPOCHS)"
   ]
  },
  {
   "cell_type": "code",
   "execution_count": 170,
   "metadata": {},
   "outputs": [],
   "source": [
    "from pathlib import Path\n",
    "\n",
    "model_path = Path(\"../models/2017-2022\")\n",
    "model_path.mkdir(parents=True, exist_ok=True)\n",
    "torch.save(classifier.state_dict(), model_path / \"camembert_classifier.pt\")"
   ]
  },
  {
   "cell_type": "code",
   "execution_count": 171,
   "metadata": {},
   "outputs": [],
   "source": [
    "with open(model_path / \"camembert_classifier_results.json\", \"w\") as f:\n",
    "    json.dump(results, f)"
   ]
  },
  {
   "cell_type": "code",
   "execution_count": 181,
   "metadata": {},
   "outputs": [],
   "source": [
    "res_df = pd.DataFrame(results)\n",
    "res_df[\"train_loss\"] = res_df[\"train_loss\"] / len(train_dict[\"labels\"])\n",
    "res_df[\"train_acc\"] = res_df[\"train_acc\"] / len(train_dict[\"labels\"])\n",
    "\n",
    "res_df[\"test_loss\"] = res_df[\"test_loss\"] / len(test_dict[\"labels\"])\n",
    "res_df[\"test_acc\"] = res_df[\"test_acc\"] / len(test_dict[\"labels\"])"
   ]
  },
  {
   "cell_type": "code",
   "execution_count": 184,
   "metadata": {},
   "outputs": [],
   "source": [
    "import matplotlib.pyplot as plt"
   ]
  },
  {
   "cell_type": "code",
   "execution_count": 185,
   "metadata": {},
   "outputs": [
    {
     "data": {
      "text/plain": [
       "<AxesSubplot: >"
      ]
     },
     "execution_count": 185,
     "metadata": {},
     "output_type": "execute_result"
    },
    {
     "data": {
      "image/png": "[encoded data removed]",
      "text/plain": [
       "<Figure size 1500x500 with 2 Axes>"
      ]
     },
     "metadata": {},
     "output_type": "display_data"
    }
   ],
   "source": [
    "fig, axs = plt.subplots(1, 2, figsize=(15, 5))\n",
    "sns.lineplot(data=res_df[[\"train_loss\", \"test_loss\"]], ax=axs[0])\n",
    "sns.lineplot(data=res_df[[\"train_acc\", \"test_acc\"]], ax=axs[1])"
   ]
  },
  {
   "cell_type": "code",
   "execution_count": null,
   "metadata": {},
   "outputs": [],
   "source": []
  },
  {
   "cell_type": "code",
   "execution_count": 177,
   "metadata": {},
   "outputs": [
    {
     "data": {
      "text/html": [
       "<div>\n",
       "<style scoped>\n",
       "    .dataframe tbody tr th:only-of-type {\n",
       "        vertical-align: middle;\n",
       "    }\n",
       "\n",
       "    .dataframe tbody tr th {\n",
       "        vertical-align: top;\n",
       "    }\n",
       "\n",
       "    .dataframe thead th {\n",
       "        text-align: right;\n",
       "    }\n",
       "</style>\n",
       "<table border=\"1\" class=\"dataframe\">\n",
       "  <thead>\n",
       "    <tr style=\"text-align: right;\">\n",
       "      <th></th>\n",
       "      <th>train_loss</th>\n",
       "      <th>test_loss</th>\n",
       "      <th>train_acc</th>\n",
       "      <th>test_acc</th>\n",
       "    </tr>\n",
       "  </thead>\n",
       "  <tbody>\n",
       "    <tr>\n",
       "      <th>0</th>\n",
       "      <td>1.889180</td>\n",
       "      <td>0.636762</td>\n",
       "      <td>0.059322</td>\n",
       "      <td>0.008475</td>\n",
       "    </tr>\n",
       "    <tr>\n",
       "      <th>1</th>\n",
       "      <td>1.889224</td>\n",
       "      <td>0.636459</td>\n",
       "      <td>0.033898</td>\n",
       "      <td>0.016949</td>\n",
       "    </tr>\n",
       "    <tr>\n",
       "      <th>2</th>\n",
       "      <td>1.887727</td>\n",
       "      <td>0.636100</td>\n",
       "      <td>0.025424</td>\n",
       "      <td>0.025424</td>\n",
       "    </tr>\n",
       "    <tr>\n",
       "      <th>3</th>\n",
       "      <td>1.886415</td>\n",
       "      <td>0.635870</td>\n",
       "      <td>0.033898</td>\n",
       "      <td>0.025424</td>\n",
       "    </tr>\n",
       "    <tr>\n",
       "      <th>4</th>\n",
       "      <td>1.885200</td>\n",
       "      <td>0.635829</td>\n",
       "      <td>0.050847</td>\n",
       "      <td>0.008475</td>\n",
       "    </tr>\n",
       "    <tr>\n",
       "      <th>5</th>\n",
       "      <td>1.884910</td>\n",
       "      <td>0.634972</td>\n",
       "      <td>0.050847</td>\n",
       "      <td>0.025424</td>\n",
       "    </tr>\n",
       "    <tr>\n",
       "      <th>6</th>\n",
       "      <td>1.883681</td>\n",
       "      <td>0.635082</td>\n",
       "      <td>0.076271</td>\n",
       "      <td>0.016949</td>\n",
       "    </tr>\n",
       "    <tr>\n",
       "      <th>7</th>\n",
       "      <td>1.882526</td>\n",
       "      <td>0.634628</td>\n",
       "      <td>0.050847</td>\n",
       "      <td>0.016949</td>\n",
       "    </tr>\n",
       "    <tr>\n",
       "      <th>8</th>\n",
       "      <td>1.881879</td>\n",
       "      <td>0.634503</td>\n",
       "      <td>0.059322</td>\n",
       "      <td>0.016949</td>\n",
       "    </tr>\n",
       "    <tr>\n",
       "      <th>9</th>\n",
       "      <td>1.880818</td>\n",
       "      <td>0.634032</td>\n",
       "      <td>0.042373</td>\n",
       "      <td>0.016949</td>\n",
       "    </tr>\n",
       "  </tbody>\n",
       "</table>\n",
       "</div>"
      ],
      "text/plain": [
       "   train_loss  test_loss  train_acc  test_acc\n",
       "0    1.889180   0.636762   0.059322  0.008475\n",
       "1    1.889224   0.636459   0.033898  0.016949\n",
       "2    1.887727   0.636100   0.025424  0.025424\n",
       "3    1.886415   0.635870   0.033898  0.025424\n",
       "4    1.885200   0.635829   0.050847  0.008475\n",
       "5    1.884910   0.634972   0.050847  0.025424\n",
       "6    1.883681   0.635082   0.076271  0.016949\n",
       "7    1.882526   0.634628   0.050847  0.016949\n",
       "8    1.881879   0.634503   0.059322  0.016949\n",
       "9    1.880818   0.634032   0.042373  0.016949"
      ]
     },
     "execution_count": 177,
     "metadata": {},
     "output_type": "execute_result"
    }
   ],
   "source": [
    "res_df"
   ]
  },
  {
   "cell_type": "code",
   "execution_count": null,
   "metadata": {},
   "outputs": [],
   "source": [
    "import os\n",
    "\n",
    "import pytorch_lightning as pl\n",
    "from torch import nn, optim\n",
    "\n",
    "\n",
    "# Define the LightningModule\n",
    "class PLClassifier(pl.LightningModule):\n",
    "    def __init__(self, classifier):\n",
    "        super().__init__()\n",
    "        self.classifier = classifier\n",
    "\n",
    "    def forward(self, x):\n",
    "        return self.classifier(x[\"tokens\"], x[\"masks\"], x[\"interventions_masks\"])\n",
    "\n",
    "    def training_step(self, batch, batch_idx):\n",
    "        # training_step defines the train loop.\n",
    "        # it is independent of forward\n",
    "        x, y = batch\n",
    "        tokens = x[\"tokens\"]\n",
    "        masks = x[\"masks\"]\n",
    "        interventions_masks = x[\"interventions_masks\"]\n",
    "\n",
    "        output = self.classifier(tokens, masks, interventions_masks)\n",
    "\n",
    "        loss = nn.functional.mse_loss(x_hat, x)\n",
    "        # Logging to TensorBoard by default\n",
    "        self.log(\"train_loss\", loss)\n",
    "        return loss\n",
    "\n",
    "    def configure_optimizers(self):\n",
    "        optimizer = optim.Adam(self.parameters(), lr=1e-3)\n",
    "        return optimizer\n",
    "\n",
    "\n",
    "# init the autoencoder\n",
    "autoencoder = LitAutoEncoder(encoder, decoder)"
   ]
  },
  {
   "cell_type": "code",
   "execution_count": null,
   "metadata": {},
   "outputs": [],
   "source": [
    "def train(model, train_data, val_data, learning_rate, epochs, batch_size=4):\n",
    "    train, val = InterventionsDataset(train_data), InterventionsDataset(val_data)\n",
    "\n",
    "    train_dataloader = DataLoader(train, batch_size=batch_size, shuffle=True)\n",
    "    val_dataloader = DataLoader(val, batch_size=batch_size)\n",
    "\n",
    "    use_cuda = torch.cuda.is_available()\n",
    "    device = torch.device(\"cuda\" if use_cuda else \"cpu\")\n",
    "\n",
    "    criterion = nn.CrossEntropyLoss()\n",
    "    optimizer = Adam(model.parameters(), lr=learning_rate)\n",
    "\n",
    "    if use_cuda:\n",
    "        model = model.to(device)\n",
    "        criterion = criterion.to(device)\n",
    "\n",
    "    total_acc_trains = []\n",
    "    total_loss_trains = []\n",
    "    total_acc_vals = []\n",
    "    total_loss_vals = []\n",
    "\n",
    "    pbar = tqdm(range(epochs), leave=False)\n",
    "    for epoch_num in pbar:\n",
    "        total_acc_train = 0\n",
    "        total_loss_train = 0\n",
    "\n",
    "        inner_pbar = tqdm(\n",
    "            train_dataloader, leave=False, total=len(train_dataloader), desc=\"Training\"\n",
    "        )\n",
    "        for train_input, train_label in train_dataloader:\n",
    "            train_label = train_label.to(device)\n",
    "            tokens = train_input[\"tokens\"].to(device)\n",
    "            masks = train_input[\"masks\"].to(device)\n",
    "            interventions_masks = train_input[\"interventions_masks\"].to(device)\n",
    "\n",
    "            output = model(tokens, masks, interventions_masks)\n",
    "\n",
    "            batch_loss = criterion(output, train_label.long())\n",
    "            total_loss_train += batch_loss.item()\n",
    "\n",
    "            acc = (output.argmax(dim=1) == train_label).sum().item()\n",
    "            total_acc_train += acc\n",
    "\n",
    "            model.zero_grad()\n",
    "            batch_loss.backward()\n",
    "            optimizer.step()\n",
    "\n",
    "            inner_pbar.update()\n",
    "\n",
    "        total_acc_val = 0\n",
    "        total_loss_val = 0\n",
    "\n",
    "        with torch.no_grad():\n",
    "            inner_pbar.reset(total=len(val_dataloader))\n",
    "            inner_pbar.set_description(\"Validation\")\n",
    "            for val_input, val_label in val_dataloader:\n",
    "                val_label = val_label.to(device)\n",
    "                tokens = val_input[\"tokens\"].to(device)\n",
    "                masks = val_input[\"masks\"].to(device)\n",
    "                interventions_masks = val_input[\"interventions_masks\"].to(device)\n",
    "\n",
    "                output = model(tokens, masks, interventions_masks)\n",
    "\n",
    "                batch_loss = criterion(output, val_label.long())\n",
    "                total_loss_val += batch_loss.item()\n",
    "\n",
    "                acc = (output.argmax(dim=1) == val_label).sum().item()\n",
    "                total_acc_val += acc\n",
    "                inner_pbar.update()\n",
    "\n",
    "        print(\n",
    "            f\"Epochs: {epoch_num + 1} | Train Loss: {total_loss_train / len(train_data): .3f} \\\n",
    "            | Train Accuracy: {total_acc_train / len(train_data): .3f} \\\n",
    "            | Val Loss: {total_loss_val / len(val_data): .3f} \\\n",
    "            | Val Accuracy: {total_acc_val / len(val_data): .3f}\"\n",
    "        )"
   ]
  },
  {
   "cell_type": "code",
   "execution_count": null,
   "metadata": {},
   "outputs": [],
   "source": [
    "from pathlib import Path\n",
    "\n",
    "model_path = Path(\"../models/2017-2022\")\n",
    "model_path.mkdir(parents=True, exist_ok=True)\n",
    "torch.save(classifier.state_dict(), model_path / \"camembert_classifier.pt\")"
   ]
  },
  {
   "cell_type": "code",
   "execution_count": null,
   "metadata": {},
   "outputs": [],
   "source": [
    "torch.save(classifier.state_dict(), model_path / \"camembert_classifier.pt\")"
   ]
  },
  {
   "cell_type": "code",
   "execution_count": 130,
   "metadata": {},
   "outputs": [],
   "source": [
    "def evaluate(model, test_data, batch_size=4):\n",
    "\n",
    "    test = InterventionsDataset(test_data)\n",
    "\n",
    "    test_dataloader = DataLoader(test, batch_size=batch_size)\n",
    "\n",
    "    use_cuda = torch.cuda.is_available()\n",
    "    device = torch.device(\"cuda\" if use_cuda else \"cpu\")\n",
    "\n",
    "    if use_cuda:\n",
    "        model = model.cuda()\n",
    "\n",
    "    total_acc_test = 0\n",
    "    with torch.no_grad():\n",
    "        for test_input, test_label in tqdm(test_dataloader):\n",
    "            val_label = test_label.to(device)\n",
    "            tokens = test_input[\"tokens\"].to(device)\n",
    "            masks = test_input[\"masks\"].to(device)\n",
    "            interventions_masks = test_input[\"interventions_masks\"].to(device)\n",
    "\n",
    "            output = model(tokens, masks, interventions_masks)\n",
    "\n",
    "            acc = (output.argmax(dim=1) == val_label).sum().item()\n",
    "            total_acc_test += acc\n",
    "\n",
    "    print(f\"Test Accuracy: {total_acc_test / len(test_data): .3f}\")"
   ]
  },
  {
   "cell_type": "code",
   "execution_count": 131,
   "metadata": {},
   "outputs": [
    {
     "data": {
      "application/vnd.jupyter.widget-view+json": {
       "model_id": "d3331f370d3744e8b3c0105457a9706d",
       "version_major": 2,
       "version_minor": 0
      },
      "text/plain": [
       "  0%|          | 0/25 [00:00<?, ?it/s]"
      ]
     },
     "metadata": {},
     "output_type": "display_data"
    },
    {
     "name": "stdout",
     "output_type": "stream",
     "text": [
      "Test Accuracy:  11.000\n"
     ]
    }
   ],
   "source": [
    "evaluate(classifier, test_dict)"
   ]
  }
 ],
 "metadata": {
  "kernelspec": {
   "display_name": "pytorch-11.7",
   "language": "python",
   "name": "python3"
  },
  "language_info": {
   "codemirror_mode": {
    "name": "ipython",
    "version": 3
   },
   "file_extension": ".py",
   "mimetype": "text/x-python",
   "name": "python",
   "nbconvert_exporter": "python",
   "pygments_lexer": "ipython3",
   "version": "3.10.8 | packaged by conda-forge | (main, Nov 22 2022, 08:16:33) [MSC v.1929 64 bit (AMD64)]"
  },
  "orig_nbformat": 4,
  "vscode": {
   "interpreter": {
    "hash": "b827b054ac6fe7f49ea5d2c489d7dde69b918c66981b83a65df90a3e76f98e94"
   }
  }
 },
 "nbformat": 4,
 "nbformat_minor": 2
}

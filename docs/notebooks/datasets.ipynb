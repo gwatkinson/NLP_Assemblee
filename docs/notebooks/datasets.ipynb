{
 "cells": [
  {
   "attachments": {},
   "cell_type": "markdown",
   "metadata": {},
   "source": [
    "# Dataset and data loader\n",
    "\n",
    "This notebook tests the dataset and data loader classes."
   ]
  },
  {
   "cell_type": "code",
   "execution_count": 5,
   "metadata": {},
   "outputs": [
    {
     "name": "stdout",
     "output_type": "stream",
     "text": [
      "The autoreload extension is already loaded. To reload it, use:\n",
      "  %reload_ext autoreload\n"
     ]
    }
   ],
   "source": [
    "%load_ext autoreload\n",
    "%autoreload 2"
   ]
  },
  {
   "cell_type": "code",
   "execution_count": 6,
   "metadata": {},
   "outputs": [],
   "source": [
    "import pickle\n",
    "\n",
    "import numpy as np\n",
    "import torch\n",
    "from torch.nn.utils.rnn import pad_sequence\n",
    "from torch.utils.data import DataLoader\n",
    "\n",
    "from nlp_assemblee.datasets import AssembleeDataset"
   ]
  },
  {
   "cell_type": "code",
   "execution_count": 7,
   "metadata": {},
   "outputs": [],
   "source": [
    "with open(\"../../data/processed/14th_records.pkl\", \"rb\") as f:\n",
    "    records = pickle.load(f)"
   ]
  },
  {
   "cell_type": "code",
   "execution_count": 8,
   "metadata": {},
   "outputs": [],
   "source": [
    "with open(\"../../data/processed/14th_camembert_tokenizer.pkl\", \"rb\") as f:\n",
    "    camembert_tokenizer = pickle.load(f)"
   ]
  },
  {
   "cell_type": "code",
   "execution_count": 9,
   "metadata": {},
   "outputs": [
    {
     "data": {
      "text/plain": [
       "{'nom': 'Pierre Lellouche',\n",
       " 'groupe': 'UMP',\n",
       " 'seance_id': 11,\n",
       " 'date_seance': '2012-07-03',\n",
       " 'titre': 'déclaration de politique générale du gouvernement débat et vote sur cette déclaration',\n",
       " 'titre_complet': 'déclaration de politique générale du gouvernement débat et vote sur cette déclaration',\n",
       " 'intervention': 'Alors, arrêtez de dépenser !',\n",
       " 'nb_mots': 8,\n",
       " 'intervention_count': 1562,\n",
       " 'nb_mots_approx': 5,\n",
       " 'date_naissance': '1951-05-03',\n",
       " 'sexe': 'H',\n",
       " 'profession': 'Avocat et universitaire',\n",
       " 'nb_mandats': 2,\n",
       " 'date': Timestamp('2012-07-03 00:00:00'),\n",
       " 'year': 2012,\n",
       " 'month': 7,\n",
       " 'day': 3,\n",
       " 'y_naissance': 1951,\n",
       " 'n_y_naissance': 0.8658536585365854,\n",
       " 'n_year': 0.0,\n",
       " 'cos_month': -0.8660254037844388,\n",
       " 'sin_month': -0.4999999999999997,\n",
       " 'cos_day': 0.8207634412072763,\n",
       " 'sin_day': 0.5712682150947923,\n",
       " 'n_sexe': 0,\n",
       " 'label': 2,\n",
       " 'camembert_tokens': {'intervention': [5, 574, 7, 26748, 8, 11104, 83, 6],\n",
       "  'titre_complet': [5,\n",
       "   3035,\n",
       "   8,\n",
       "   462,\n",
       "   1229,\n",
       "   25,\n",
       "   754,\n",
       "   2159,\n",
       "   14,\n",
       "   2422,\n",
       "   32,\n",
       "   78,\n",
       "   3035,\n",
       "   6],\n",
       "  'titre': [5, 3035, 8, 462, 1229, 25, 754, 2159, 14, 2422, 32, 78, 3035, 6],\n",
       "  'profession': [5, 23608, 14, 6502, 6]},\n",
       " 'bert_tokens': {'intervention': [101,\n",
       "   40898,\n",
       "   117,\n",
       "   55807,\n",
       "   12715,\n",
       "   10104,\n",
       "   97184,\n",
       "   34711,\n",
       "   10129,\n",
       "   106,\n",
       "   102],\n",
       "  'titre_complet': [101,\n",
       "   108992,\n",
       "   10104,\n",
       "   15029,\n",
       "   28274,\n",
       "   10168,\n",
       "   17628,\n",
       "   102609,\n",
       "   10131,\n",
       "   18926,\n",
       "   10326,\n",
       "   11464,\n",
       "   108992,\n",
       "   102],\n",
       "  'titre': [101,\n",
       "   108992,\n",
       "   10104,\n",
       "   15029,\n",
       "   28274,\n",
       "   10168,\n",
       "   17628,\n",
       "   102609,\n",
       "   10131,\n",
       "   18926,\n",
       "   10326,\n",
       "   11464,\n",
       "   108992,\n",
       "   102],\n",
       "  'profession': [101, 33799, 44207, 10123, 10131, 54540, 102]}}"
      ]
     },
     "execution_count": 9,
     "metadata": {},
     "output_type": "execute_result"
    }
   ],
   "source": [
    "records[0]"
   ]
  },
  {
   "cell_type": "code",
   "execution_count": 11,
   "metadata": {},
   "outputs": [],
   "source": [
    "camembert_dataset = AssembleeDataset(\n",
    "    records=records,\n",
    "    bert_type=\"camembert\",\n",
    "    text_vars=[\"intervention\", \"titre_complet\"],\n",
    "    features_vars=[\"n_y_naissance\", \"n_sexe\"],\n",
    "    label_var=\"label\",\n",
    ")"
   ]
  },
  {
   "cell_type": "code",
   "execution_count": 12,
   "metadata": {},
   "outputs": [
    {
     "data": {
      "text/plain": [
       "({'intervention': [5, 574, 7, 26748, 8, 11104, 83, 6],\n",
       "  'titre_complet': [5,\n",
       "   3035,\n",
       "   8,\n",
       "   462,\n",
       "   1229,\n",
       "   25,\n",
       "   754,\n",
       "   2159,\n",
       "   14,\n",
       "   2422,\n",
       "   32,\n",
       "   78,\n",
       "   3035,\n",
       "   6],\n",
       "  'features': array([0.86585366, 0.        ])},\n",
       " 2)"
      ]
     },
     "execution_count": 12,
     "metadata": {},
     "output_type": "execute_result"
    }
   ],
   "source": [
    "camembert_dataset[0]"
   ]
  },
  {
   "cell_type": "code",
   "execution_count": 14,
   "metadata": {},
   "outputs": [
    {
     "data": {
      "text/plain": [
       "'déclaration de politique générale du gouvernement débat et vote sur cette déclaration'"
      ]
     },
     "execution_count": 14,
     "metadata": {},
     "output_type": "execute_result"
    }
   ],
   "source": [
    "camembert_tokenizer.decode(camembert_dataset[0][0][\"titre_complet\"])"
   ]
  },
  {
   "cell_type": "code",
   "execution_count": 15,
   "metadata": {},
   "outputs": [],
   "source": [
    "def collate_fn(data):\n",
    "    \"\"\"\n",
    "    data: is a list of tuples with (example, label, length)\n",
    "          where 'example' is a tensor of arbitrary shape\n",
    "          and label/length are scalars\n",
    "    \"\"\"\n",
    "    labels = torch.tensor([int(x[1]) for x in data])\n",
    "\n",
    "    padded_inputs = {}\n",
    "\n",
    "    keys = data[0][0].keys()\n",
    "\n",
    "    for var in keys:\n",
    "        if var == \"features\":\n",
    "            padded_inputs[\"features\"] = torch.tensor(np.array([x[0][var] for x in data]))\n",
    "        else:\n",
    "            padded_inputs[var] = pad_sequence(\n",
    "                [torch.tensor(x[0][var]) for x in data], batch_first=True\n",
    "            )\n",
    "\n",
    "    return padded_inputs, labels.long()"
   ]
  },
  {
   "cell_type": "code",
   "execution_count": 16,
   "metadata": {},
   "outputs": [],
   "source": [
    "camembert_dataset = AssembleeDataset(\n",
    "    records=records,\n",
    "    bert_type=\"bert\",\n",
    "    text_vars=[\"intervention\"],\n",
    "    features_vars=False,\n",
    "    label_var=\"label\",\n",
    ")"
   ]
  },
  {
   "cell_type": "code",
   "execution_count": 17,
   "metadata": {},
   "outputs": [],
   "source": [
    "camembert_dataloader = DataLoader(\n",
    "    camembert_dataset,\n",
    "    batch_size=16,\n",
    "    shuffle=True,\n",
    "    num_workers=4,\n",
    "    collate_fn=collate_fn,\n",
    "    prefetch_factor=3,\n",
    ")"
   ]
  },
  {
   "cell_type": "code",
   "execution_count": 19,
   "metadata": {},
   "outputs": [],
   "source": [
    "x, y = next(iter(camembert_dataloader))"
   ]
  },
  {
   "cell_type": "code",
   "execution_count": 20,
   "metadata": {},
   "outputs": [
    {
     "data": {
      "text/plain": [
       "{'intervention': tensor([[   101,  44356,  10141,  ...,      0,      0,      0],\n",
       "         [   101,  10281, 102609,  ...,      0,      0,      0],\n",
       "         [   101,  13796,  24931,  ...,      0,      0,      0],\n",
       "         ...,\n",
       "         [   101,  17434,  20514,  ...,      0,      0,      0],\n",
       "         [   101,  22135,  32769,  ...,  17083,    119,    102],\n",
       "         [   101,  20491,  12970,  ...,      0,      0,      0]])}"
      ]
     },
     "execution_count": 20,
     "metadata": {},
     "output_type": "execute_result"
    }
   ],
   "source": [
    "x"
   ]
  }
 ],
 "metadata": {
  "kernelspec": {
   "display_name": "pytorch-11-7",
   "language": "python",
   "name": "python3"
  },
  "language_info": {
   "codemirror_mode": {
    "name": "ipython",
    "version": 3
   },
   "file_extension": ".py",
   "mimetype": "text/x-python",
   "name": "python",
   "nbconvert_exporter": "python",
   "pygments_lexer": "ipython3",
   "version": "3.10.8"
  },
  "orig_nbformat": 4,
  "vscode": {
   "interpreter": {
    "hash": "290de4d201867099a7cec8aa5bca78d01a6c85d7bcab7b52f8e97114ad853450"
   }
  }
 },
 "nbformat": 4,
 "nbformat_minor": 2
}

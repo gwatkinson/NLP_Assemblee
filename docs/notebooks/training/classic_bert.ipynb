{
 "cells": [
  {
   "cell_type": "code",
   "execution_count": 1,
   "metadata": {},
   "outputs": [],
   "source": [
    "import pickle\n",
    "from pathlib import Path\n",
    "\n",
    "import matplotlib.pyplot as plt\n",
    "import matplotlib.ticker as mtick\n",
    "import numpy as np\n",
    "import pandas as pd\n",
    "import pytorch_lightning as pl\n",
    "import seaborn as sns\n",
    "import torch\n",
    "from pytorch_lightning import callbacks\n",
    "from pytorch_lightning import loggers as pl_loggers\n",
    "from pytorch_lightning import seed_everything\n",
    "from pytorch_lightning.callbacks import ModelCheckpoint\n",
    "from pytorch_lightning.callbacks.early_stopping import EarlyStopping\n",
    "from torch import nn, optim\n",
    "from torch.utils.data import DataLoader, Dataset\n",
    "from torch.utils.tensorboard import SummaryWriter\n",
    "from tqdm.autonotebook import tqdm\n",
    "\n",
    "from nlp_assemblee.simple_datasets import get_dataloader, get_single_dataloader"
   ]
  },
  {
   "cell_type": "code",
   "execution_count": 2,
   "metadata": {},
   "outputs": [
    {
     "name": "stderr",
     "output_type": "stream",
     "text": [
      "Global seed set to 42\n"
     ]
    },
    {
     "data": {
      "text/plain": [
       "'cuda'"
      ]
     },
     "execution_count": 2,
     "metadata": {},
     "output_type": "execute_result"
    }
   ],
   "source": [
    "sns.set_context(\"paper\")\n",
    "sns.set_palette(\"deep\")\n",
    "sns.set_style(\"white\")\n",
    "\n",
    "colors = sns.color_palette(\"deep\")\n",
    "\n",
    "seed_everything(42, workers=True)\n",
    "\n",
    "device = \"cuda\" if torch.cuda.is_available() else \"cpu\"\n",
    "device"
   ]
  },
  {
   "cell_type": "code",
   "execution_count": 3,
   "metadata": {},
   "outputs": [],
   "source": [
    "class LitModel(pl.LightningModule):\n",
    "    def __init__(\n",
    "        self,\n",
    "        classifier,\n",
    "        optimizer_type=\"Adam\",\n",
    "        learning_rate=1e-3,\n",
    "        optimizer_kwargs={},\n",
    "        criterion_type=\"CrossEntropyLoss\",\n",
    "        batch_size=256,\n",
    "        loader_kwargs={\n",
    "            \"root\": \"../../../data/\",\n",
    "            \"bert_type\": \"camembert\",\n",
    "            \"text_vars\": [\"intervention\"],\n",
    "            \"use_features\": False,\n",
    "            \"label_var\": \"label\",\n",
    "            \"num_workers\": 12,\n",
    "            \"prefetch_factor\": 4,\n",
    "            \"pin_memory\": True,\n",
    "        },\n",
    "    ):\n",
    "        super().__init__()\n",
    "\n",
    "        self.optimizer_type = optimizer_type\n",
    "        self.learning_rate = learning_rate\n",
    "        self.optimizer_kwargs = optimizer_kwargs\n",
    "        self.criterion_type = criterion_type\n",
    "        self.batch_size = batch_size\n",
    "        self.loader_kwargs = loader_kwargs\n",
    "        self.save_hyperparameters(ignore=[\"classifier\", \"criterion\"])\n",
    "\n",
    "        if criterion_type == \"CrossEntropyLoss\":\n",
    "            self.criterion = nn.functional.cross_entropy\n",
    "\n",
    "        self.classifier = classifier\n",
    "\n",
    "    def forward(self, x):\n",
    "        return self.classifier(x)\n",
    "\n",
    "    def configure_optimizers(self):\n",
    "        if self.optimizer_type == \"SGD\":\n",
    "            optimizer = optim.SGD(\n",
    "                self.classifier.parameters(), lr=self.learning_rate, **self.optimizer_kwargs\n",
    "            )\n",
    "        elif self.optimizer_type == \"Adam\":\n",
    "            optimizer = optim.Adam(\n",
    "                self.classifier.parameters(), lr=self.learning_rate, **self.optimizer_kwargs\n",
    "            )\n",
    "        return optimizer\n",
    "\n",
    "    def get_loss(self, batch, model_type=\"train\"):\n",
    "        x, y = batch\n",
    "        z = self.classifier(x)\n",
    "        loss = nn.CrossEntropyLoss()(z, y)\n",
    "        self.log(f\"{model_type}_loss\", loss, prog_bar=(model_type == \"val\"))\n",
    "\n",
    "        _, predicted = z.max(1)\n",
    "        accuracy = predicted.eq(y).sum().item() / y.size(0)\n",
    "        self.log(f\"{model_type}_accuracy\", accuracy, prog_bar=(model_type == \"val\"))\n",
    "\n",
    "        return loss\n",
    "\n",
    "    def training_step(self, batch, batch_idx):\n",
    "        tain_loss = self.get_loss(batch, model_type=\"train\")\n",
    "        return tain_loss\n",
    "\n",
    "    def validation_step(self, val_batch, batch_idx):\n",
    "        val_loss = self.get_loss(val_batch, model_type=\"val\")\n",
    "        return val_loss\n",
    "\n",
    "    def test_step(self, test_batch, batch_idx):\n",
    "        test_loss = self.get_loss(test_batch, model_type=\"test\")\n",
    "        return test_loss\n",
    "\n",
    "    def train_dataloader(self):\n",
    "        _, loader, _ = get_single_dataloader(\n",
    "            phase=\"train\", batch_size=self.batch_size, **self.loader_kwargs\n",
    "        )\n",
    "        return loader\n",
    "\n",
    "    def val_dataloader(self):\n",
    "        _, loader, _ = get_single_dataloader(\n",
    "            phase=\"val\", batch_size=self.batch_size, **self.loader_kwargs\n",
    "        )\n",
    "        return loader\n",
    "\n",
    "    def test_dataloader(self):\n",
    "        _, loader, _ = get_single_dataloader(\n",
    "            phase=\"test\", batch_size=self.batch_size, **self.loader_kwargs\n",
    "        )\n",
    "        return loader"
   ]
  },
  {
   "cell_type": "code",
   "execution_count": 44,
   "metadata": {},
   "outputs": [],
   "source": [
    "class ClassicBert(nn.Module):\n",
    "    def __init__(self):\n",
    "        super().__init__()\n",
    "        self.fc1 = nn.Sequential(\n",
    "            nn.Linear(768, 256),\n",
    "            nn.LeakyReLU(0.01),\n",
    "            nn.Dropout(0.2),\n",
    "            nn.Linear(256, 256),\n",
    "            nn.LeakyReLU(0.01),\n",
    "            nn.Dropout(0.2),\n",
    "        )\n",
    "        self.fc2 = nn.Sequential(\n",
    "            nn.Linear(768, 256),\n",
    "            nn.LeakyReLU(0.01),\n",
    "            nn.Dropout(0.2),\n",
    "            nn.Linear(256, 256),\n",
    "            nn.LeakyReLU(0.01),\n",
    "            nn.Dropout(0.2),\n",
    "        )\n",
    "        self.fc3 = nn.Sequential(\n",
    "            nn.Linear(768, 256),\n",
    "            nn.LeakyReLU(0.01),\n",
    "            nn.Dropout(0.2),\n",
    "            nn.Linear(256, 256),\n",
    "            nn.LeakyReLU(0.01),\n",
    "            nn.Dropout(0.2),\n",
    "        )\n",
    "        self.fc4 = nn.Sequential(\n",
    "            nn.Linear(2, 256),\n",
    "            nn.LeakyReLU(0.01),\n",
    "            nn.Linear(256, 256),\n",
    "            nn.LeakyReLU(0.01),\n",
    "        )\n",
    "        self.fc5 = nn.Sequential(\n",
    "            nn.Linear(256, 512),\n",
    "            nn.LeakyReLU(0.01),\n",
    "            nn.Dropout(0.2),\n",
    "            nn.Linear(512, 3),\n",
    "            nn.LeakyReLU(0.01),\n",
    "        )\n",
    "\n",
    "    def forward(self, x):\n",
    "        x_ = x[\"text\"][\"intervention\"].to(device)\n",
    "        y_ = x[\"text\"][\"titre_complet\"].to(device)\n",
    "        z_ = x[\"text\"][\"profession\"].to(device)\n",
    "        f_ = x[\"features\"].to(device).float()\n",
    "\n",
    "        x_ = self.fc1(x_)\n",
    "        y_ = self.fc2(y_)\n",
    "        z_ = self.fc3(z_)\n",
    "        f_ = self.fc4(f_)\n",
    "\n",
    "        p_ = x_ + y_ + z_ + f_\n",
    "\n",
    "        p_ = self.fc5(p_)\n",
    "\n",
    "        return p_"
   ]
  },
  {
   "cell_type": "code",
   "execution_count": 45,
   "metadata": {},
   "outputs": [],
   "source": [
    "net = ClassicBert()\n",
    "\n",
    "lit_model = LitModel(\n",
    "    net,\n",
    "    optimizer_type=\"Adam\",\n",
    "    learning_rate=5e-3,\n",
    "    optimizer_kwargs={},\n",
    "    criterion_type=\"CrossEntropyLoss\",\n",
    "    batch_size=256,\n",
    "    loader_kwargs={\n",
    "        \"root\": \"../../../data/\",\n",
    "        \"bert_type\": \"bert\",\n",
    "        \"text_vars\": [\"intervention\", \"titre_complet\", \"profession\"],\n",
    "        \"use_features\": True,\n",
    "        \"label_var\": \"label\",\n",
    "        \"num_workers\": 12,\n",
    "        \"prefetch_factor\": 4,\n",
    "        \"pin_memory\": True,\n",
    "    },\n",
    ")"
   ]
  },
  {
   "cell_type": "code",
   "execution_count": 46,
   "metadata": {},
   "outputs": [
    {
     "name": "stderr",
     "output_type": "stream",
     "text": [
      "Trainer already configured with model summary callbacks: [<class 'pytorch_lightning.callbacks.model_summary.ModelSummary'>]. Skipping setting a default `ModelSummary` callback.\n",
      "GPU available: True (cuda), used: True\n",
      "TPU available: False, using: 0 TPU cores\n",
      "IPU available: False, using: 0 IPUs\n",
      "HPU available: False, using: 0 HPUs\n"
     ]
    }
   ],
   "source": [
    "trainer = pl.Trainer(\n",
    "    accelerator=\"gpu\",\n",
    "    # profiler=\"simple\",\n",
    "    max_epochs=100,\n",
    "    default_root_dir=\"../../../\",\n",
    "    # fast_dev_run=True,\n",
    "    # overfit_batches=1,\n",
    "    # auto_scale_batch_size=\"binsearch\",\n",
    "    # auto_lr_find=True,\n",
    "    callbacks=[\n",
    "        callbacks.EarlyStopping(monitor=\"val_loss\", mode=\"min\", check_finite=True, patience=10),\n",
    "        callbacks.ModelSummary(max_depth=-1),\n",
    "        # Max three hours\n",
    "        callbacks.Timer(duration=\"00:03:00:00\", interval=\"epoch\"),\n",
    "    ],\n",
    ")"
   ]
  },
  {
   "cell_type": "code",
   "execution_count": 47,
   "metadata": {},
   "outputs": [
    {
     "name": "stderr",
     "output_type": "stream",
     "text": [
      "LOCAL_RANK: 0 - CUDA_VISIBLE_DEVICES: [0]\n",
      "\n",
      "   | Name             | Type        | Params\n",
      "--------------------------------------------------\n",
      "0  | classifier       | ClassicBert | 987 K \n",
      "1  | classifier.fc1   | Sequential  | 262 K \n",
      "2  | classifier.fc1.0 | Linear      | 196 K \n",
      "3  | classifier.fc1.1 | LeakyReLU   | 0     \n",
      "4  | classifier.fc1.2 | Dropout     | 0     \n",
      "5  | classifier.fc1.3 | Linear      | 65.8 K\n",
      "6  | classifier.fc1.4 | LeakyReLU   | 0     \n",
      "7  | classifier.fc1.5 | Dropout     | 0     \n",
      "8  | classifier.fc2   | Sequential  | 262 K \n",
      "9  | classifier.fc2.0 | Linear      | 196 K \n",
      "10 | classifier.fc2.1 | LeakyReLU   | 0     \n",
      "11 | classifier.fc2.2 | Dropout     | 0     \n",
      "12 | classifier.fc2.3 | Linear      | 65.8 K\n",
      "13 | classifier.fc2.4 | LeakyReLU   | 0     \n",
      "14 | classifier.fc2.5 | Dropout     | 0     \n",
      "15 | classifier.fc3   | Sequential  | 262 K \n",
      "16 | classifier.fc3.0 | Linear      | 196 K \n",
      "17 | classifier.fc3.1 | LeakyReLU   | 0     \n",
      "18 | classifier.fc3.2 | Dropout     | 0     \n",
      "19 | classifier.fc3.3 | Linear      | 65.8 K\n",
      "20 | classifier.fc3.4 | LeakyReLU   | 0     \n",
      "21 | classifier.fc3.5 | Dropout     | 0     \n",
      "22 | classifier.fc4   | Sequential  | 66.6 K\n",
      "23 | classifier.fc4.0 | Linear      | 768   \n",
      "24 | classifier.fc4.1 | LeakyReLU   | 0     \n",
      "25 | classifier.fc4.2 | Linear      | 65.8 K\n",
      "26 | classifier.fc4.3 | LeakyReLU   | 0     \n",
      "27 | classifier.fc5   | Sequential  | 133 K \n",
      "28 | classifier.fc5.0 | Linear      | 131 K \n",
      "29 | classifier.fc5.1 | LeakyReLU   | 0     \n",
      "30 | classifier.fc5.2 | Dropout     | 0     \n",
      "31 | classifier.fc5.3 | Linear      | 1.5 K \n",
      "32 | classifier.fc5.4 | LeakyReLU   | 0     \n",
      "--------------------------------------------------\n",
      "987 K     Trainable params\n",
      "0         Non-trainable params\n",
      "987 K     Total params\n",
      "3.951     Total estimated model params size (MB)\n"
     ]
    },
    {
     "data": {
      "application/vnd.jupyter.widget-view+json": {
       "model_id": "4cd7b31055fe4dfcb5ab5cc852c8f23b",
       "version_major": 2,
       "version_minor": 0
      },
      "text/plain": [
       "Sanity Checking: 0it [00:00, ?it/s]"
      ]
     },
     "metadata": {},
     "output_type": "display_data"
    },
    {
     "data": {
      "application/vnd.jupyter.widget-view+json": {
       "model_id": "1913d7dd3d274e638ad68868ff429382",
       "version_major": 2,
       "version_minor": 0
      },
      "text/plain": [
       "Training: 0it [00:00, ?it/s]"
      ]
     },
     "metadata": {},
     "output_type": "display_data"
    },
    {
     "data": {
      "application/vnd.jupyter.widget-view+json": {
       "model_id": "10346bc9e6574c04aeaba3e931565def",
       "version_major": 2,
       "version_minor": 0
      },
      "text/plain": [
       "Validation: 0it [00:00, ?it/s]"
      ]
     },
     "metadata": {},
     "output_type": "display_data"
    },
    {
     "data": {
      "application/vnd.jupyter.widget-view+json": {
       "model_id": "d3404308d139466d8daa4857c70e1205",
       "version_major": 2,
       "version_minor": 0
      },
      "text/plain": [
       "Validation: 0it [00:00, ?it/s]"
      ]
     },
     "metadata": {},
     "output_type": "display_data"
    },
    {
     "data": {
      "application/vnd.jupyter.widget-view+json": {
       "model_id": "69712a62d428431b80d6dae537f2ed95",
       "version_major": 2,
       "version_minor": 0
      },
      "text/plain": [
       "Validation: 0it [00:00, ?it/s]"
      ]
     },
     "metadata": {},
     "output_type": "display_data"
    },
    {
     "data": {
      "application/vnd.jupyter.widget-view+json": {
       "model_id": "a618bc3414fd4635884371b8230a2a3b",
       "version_major": 2,
       "version_minor": 0
      },
      "text/plain": [
       "Validation: 0it [00:00, ?it/s]"
      ]
     },
     "metadata": {},
     "output_type": "display_data"
    },
    {
     "data": {
      "application/vnd.jupyter.widget-view+json": {
       "model_id": "f4694c6d7db94343b7df8b0430c8a7b5",
       "version_major": 2,
       "version_minor": 0
      },
      "text/plain": [
       "Validation: 0it [00:00, ?it/s]"
      ]
     },
     "metadata": {},
     "output_type": "display_data"
    },
    {
     "data": {
      "application/vnd.jupyter.widget-view+json": {
       "model_id": "b46d77dd6adc4d6e9dd7d9f44a18c051",
       "version_major": 2,
       "version_minor": 0
      },
      "text/plain": [
       "Validation: 0it [00:00, ?it/s]"
      ]
     },
     "metadata": {},
     "output_type": "display_data"
    },
    {
     "data": {
      "application/vnd.jupyter.widget-view+json": {
       "model_id": "8537aac7d0304943aca2ffe09d996053",
       "version_major": 2,
       "version_minor": 0
      },
      "text/plain": [
       "Validation: 0it [00:00, ?it/s]"
      ]
     },
     "metadata": {},
     "output_type": "display_data"
    },
    {
     "data": {
      "application/vnd.jupyter.widget-view+json": {
       "model_id": "11ffa94b3e0e402e90a30976e6e187e8",
       "version_major": 2,
       "version_minor": 0
      },
      "text/plain": [
       "Validation: 0it [00:00, ?it/s]"
      ]
     },
     "metadata": {},
     "output_type": "display_data"
    },
    {
     "data": {
      "application/vnd.jupyter.widget-view+json": {
       "model_id": "9fce13b983fa4e84968183f3e7303291",
       "version_major": 2,
       "version_minor": 0
      },
      "text/plain": [
       "Validation: 0it [00:00, ?it/s]"
      ]
     },
     "metadata": {},
     "output_type": "display_data"
    },
    {
     "data": {
      "application/vnd.jupyter.widget-view+json": {
       "model_id": "81b7a10f0c4f4a4ba5afb085e674c1ad",
       "version_major": 2,
       "version_minor": 0
      },
      "text/plain": [
       "Validation: 0it [00:00, ?it/s]"
      ]
     },
     "metadata": {},
     "output_type": "display_data"
    },
    {
     "data": {
      "application/vnd.jupyter.widget-view+json": {
       "model_id": "9cf92a6212e54a3889859751f6172c79",
       "version_major": 2,
       "version_minor": 0
      },
      "text/plain": [
       "Validation: 0it [00:00, ?it/s]"
      ]
     },
     "metadata": {},
     "output_type": "display_data"
    },
    {
     "data": {
      "application/vnd.jupyter.widget-view+json": {
       "model_id": "66ec37c060204c7d970d417dc5436fd3",
       "version_major": 2,
       "version_minor": 0
      },
      "text/plain": [
       "Validation: 0it [00:00, ?it/s]"
      ]
     },
     "metadata": {},
     "output_type": "display_data"
    },
    {
     "data": {
      "application/vnd.jupyter.widget-view+json": {
       "model_id": "e63a7afe97af46098b2d81da21429086",
       "version_major": 2,
       "version_minor": 0
      },
      "text/plain": [
       "Validation: 0it [00:00, ?it/s]"
      ]
     },
     "metadata": {},
     "output_type": "display_data"
    },
    {
     "data": {
      "application/vnd.jupyter.widget-view+json": {
       "model_id": "ce0a3bf47a2f40caba68a9c4dfcefe0b",
       "version_major": 2,
       "version_minor": 0
      },
      "text/plain": [
       "Validation: 0it [00:00, ?it/s]"
      ]
     },
     "metadata": {},
     "output_type": "display_data"
    },
    {
     "data": {
      "application/vnd.jupyter.widget-view+json": {
       "model_id": "333cb5709be74638a2722e5c3f58812b",
       "version_major": 2,
       "version_minor": 0
      },
      "text/plain": [
       "Validation: 0it [00:00, ?it/s]"
      ]
     },
     "metadata": {},
     "output_type": "display_data"
    },
    {
     "data": {
      "application/vnd.jupyter.widget-view+json": {
       "model_id": "07f77d39034b46fa8663e04a88377073",
       "version_major": 2,
       "version_minor": 0
      },
      "text/plain": [
       "Validation: 0it [00:00, ?it/s]"
      ]
     },
     "metadata": {},
     "output_type": "display_data"
    },
    {
     "data": {
      "application/vnd.jupyter.widget-view+json": {
       "model_id": "9a3d127e1ede426697c7fab14ba4e43d",
       "version_major": 2,
       "version_minor": 0
      },
      "text/plain": [
       "Validation: 0it [00:00, ?it/s]"
      ]
     },
     "metadata": {},
     "output_type": "display_data"
    },
    {
     "data": {
      "application/vnd.jupyter.widget-view+json": {
       "model_id": "d2d67e034c7f47939a2f498ef17a7d11",
       "version_major": 2,
       "version_minor": 0
      },
      "text/plain": [
       "Validation: 0it [00:00, ?it/s]"
      ]
     },
     "metadata": {},
     "output_type": "display_data"
    },
    {
     "data": {
      "application/vnd.jupyter.widget-view+json": {
       "model_id": "89348edc1ec1403d9043b3afed3f0cc0",
       "version_major": 2,
       "version_minor": 0
      },
      "text/plain": [
       "Validation: 0it [00:00, ?it/s]"
      ]
     },
     "metadata": {},
     "output_type": "display_data"
    },
    {
     "data": {
      "application/vnd.jupyter.widget-view+json": {
       "model_id": "2487188a28e84554adc39832ecff6de2",
       "version_major": 2,
       "version_minor": 0
      },
      "text/plain": [
       "Validation: 0it [00:00, ?it/s]"
      ]
     },
     "metadata": {},
     "output_type": "display_data"
    },
    {
     "data": {
      "application/vnd.jupyter.widget-view+json": {
       "model_id": "b609f1889b2642438c31fa6a28e76e95",
       "version_major": 2,
       "version_minor": 0
      },
      "text/plain": [
       "Validation: 0it [00:00, ?it/s]"
      ]
     },
     "metadata": {},
     "output_type": "display_data"
    },
    {
     "data": {
      "application/vnd.jupyter.widget-view+json": {
       "model_id": "f3a2f82d55d247ddb24325f1de0bd343",
       "version_major": 2,
       "version_minor": 0
      },
      "text/plain": [
       "Validation: 0it [00:00, ?it/s]"
      ]
     },
     "metadata": {},
     "output_type": "display_data"
    },
    {
     "data": {
      "application/vnd.jupyter.widget-view+json": {
       "model_id": "b9396fdf0624461ebb3d0f80e65da951",
       "version_major": 2,
       "version_minor": 0
      },
      "text/plain": [
       "Validation: 0it [00:00, ?it/s]"
      ]
     },
     "metadata": {},
     "output_type": "display_data"
    },
    {
     "data": {
      "application/vnd.jupyter.widget-view+json": {
       "model_id": "2a285a8f2ae147bf89f76b77cfa4405f",
       "version_major": 2,
       "version_minor": 0
      },
      "text/plain": [
       "Validation: 0it [00:00, ?it/s]"
      ]
     },
     "metadata": {},
     "output_type": "display_data"
    },
    {
     "data": {
      "application/vnd.jupyter.widget-view+json": {
       "model_id": "258367e9f9f64f658ad9843e059ab8c1",
       "version_major": 2,
       "version_minor": 0
      },
      "text/plain": [
       "Validation: 0it [00:00, ?it/s]"
      ]
     },
     "metadata": {},
     "output_type": "display_data"
    },
    {
     "data": {
      "application/vnd.jupyter.widget-view+json": {
       "model_id": "d6ba700b1b304da49125c6e2254ca829",
       "version_major": 2,
       "version_minor": 0
      },
      "text/plain": [
       "Validation: 0it [00:00, ?it/s]"
      ]
     },
     "metadata": {},
     "output_type": "display_data"
    },
    {
     "data": {
      "application/vnd.jupyter.widget-view+json": {
       "model_id": "c61d44160aea4db386c1d08060d24e7b",
       "version_major": 2,
       "version_minor": 0
      },
      "text/plain": [
       "Validation: 0it [00:00, ?it/s]"
      ]
     },
     "metadata": {},
     "output_type": "display_data"
    },
    {
     "data": {
      "application/vnd.jupyter.widget-view+json": {
       "model_id": "305b7b150a40461f8387a8f3c6767219",
       "version_major": 2,
       "version_minor": 0
      },
      "text/plain": [
       "Validation: 0it [00:00, ?it/s]"
      ]
     },
     "metadata": {},
     "output_type": "display_data"
    },
    {
     "data": {
      "application/vnd.jupyter.widget-view+json": {
       "model_id": "136cd49214c244bd92145db98b63a38e",
       "version_major": 2,
       "version_minor": 0
      },
      "text/plain": [
       "Validation: 0it [00:00, ?it/s]"
      ]
     },
     "metadata": {},
     "output_type": "display_data"
    },
    {
     "data": {
      "application/vnd.jupyter.widget-view+json": {
       "model_id": "23c7618045b445fc86a9aed61c975d68",
       "version_major": 2,
       "version_minor": 0
      },
      "text/plain": [
       "Validation: 0it [00:00, ?it/s]"
      ]
     },
     "metadata": {},
     "output_type": "display_data"
    },
    {
     "data": {
      "application/vnd.jupyter.widget-view+json": {
       "model_id": "b4accf4e5db840e898173fec3cc2115f",
       "version_major": 2,
       "version_minor": 0
      },
      "text/plain": [
       "Validation: 0it [00:00, ?it/s]"
      ]
     },
     "metadata": {},
     "output_type": "display_data"
    },
    {
     "data": {
      "application/vnd.jupyter.widget-view+json": {
       "model_id": "3fb82e946de041e3bee8b091785ba96d",
       "version_major": 2,
       "version_minor": 0
      },
      "text/plain": [
       "Validation: 0it [00:00, ?it/s]"
      ]
     },
     "metadata": {},
     "output_type": "display_data"
    },
    {
     "data": {
      "application/vnd.jupyter.widget-view+json": {
       "model_id": "e983fbb452194f39993a2b133cafce1f",
       "version_major": 2,
       "version_minor": 0
      },
      "text/plain": [
       "Validation: 0it [00:00, ?it/s]"
      ]
     },
     "metadata": {},
     "output_type": "display_data"
    },
    {
     "data": {
      "application/vnd.jupyter.widget-view+json": {
       "model_id": "d57e60d56646441981581274e5f8ae66",
       "version_major": 2,
       "version_minor": 0
      },
      "text/plain": [
       "Validation: 0it [00:00, ?it/s]"
      ]
     },
     "metadata": {},
     "output_type": "display_data"
    },
    {
     "data": {
      "application/vnd.jupyter.widget-view+json": {
       "model_id": "010f3ffdc3cc40c6b45b89227ab97807",
       "version_major": 2,
       "version_minor": 0
      },
      "text/plain": [
       "Validation: 0it [00:00, ?it/s]"
      ]
     },
     "metadata": {},
     "output_type": "display_data"
    },
    {
     "data": {
      "application/vnd.jupyter.widget-view+json": {
       "model_id": "54b7237dff134ad4b3204c15eef6a89b",
       "version_major": 2,
       "version_minor": 0
      },
      "text/plain": [
       "Validation: 0it [00:00, ?it/s]"
      ]
     },
     "metadata": {},
     "output_type": "display_data"
    },
    {
     "data": {
      "application/vnd.jupyter.widget-view+json": {
       "model_id": "0e0fd53eda76479f97c798fd0b84928f",
       "version_major": 2,
       "version_minor": 0
      },
      "text/plain": [
       "Validation: 0it [00:00, ?it/s]"
      ]
     },
     "metadata": {},
     "output_type": "display_data"
    },
    {
     "data": {
      "application/vnd.jupyter.widget-view+json": {
       "model_id": "d4c78fb5a33f44d3ae3ba68c44608208",
       "version_major": 2,
       "version_minor": 0
      },
      "text/plain": [
       "Validation: 0it [00:00, ?it/s]"
      ]
     },
     "metadata": {},
     "output_type": "display_data"
    },
    {
     "data": {
      "application/vnd.jupyter.widget-view+json": {
       "model_id": "7491026fa9c64d1faeb9ee55c59e24f9",
       "version_major": 2,
       "version_minor": 0
      },
      "text/plain": [
       "Validation: 0it [00:00, ?it/s]"
      ]
     },
     "metadata": {},
     "output_type": "display_data"
    },
    {
     "data": {
      "application/vnd.jupyter.widget-view+json": {
       "model_id": "a548c6eab2f54c4bbb25cb2d029b24ba",
       "version_major": 2,
       "version_minor": 0
      },
      "text/plain": [
       "Validation: 0it [00:00, ?it/s]"
      ]
     },
     "metadata": {},
     "output_type": "display_data"
    },
    {
     "data": {
      "application/vnd.jupyter.widget-view+json": {
       "model_id": "6a3f2191fd5d4514a1c25db2c9cfe312",
       "version_major": 2,
       "version_minor": 0
      },
      "text/plain": [
       "Validation: 0it [00:00, ?it/s]"
      ]
     },
     "metadata": {},
     "output_type": "display_data"
    },
    {
     "data": {
      "application/vnd.jupyter.widget-view+json": {
       "model_id": "cf30016afdf24815964b54e2fca40f72",
       "version_major": 2,
       "version_minor": 0
      },
      "text/plain": [
       "Validation: 0it [00:00, ?it/s]"
      ]
     },
     "metadata": {},
     "output_type": "display_data"
    },
    {
     "data": {
      "application/vnd.jupyter.widget-view+json": {
       "model_id": "6e4c558c0c304c9eb700d31a361938ce",
       "version_major": 2,
       "version_minor": 0
      },
      "text/plain": [
       "Validation: 0it [00:00, ?it/s]"
      ]
     },
     "metadata": {},
     "output_type": "display_data"
    },
    {
     "data": {
      "application/vnd.jupyter.widget-view+json": {
       "model_id": "d08c8ef0f7a246298af849c130c8f5aa",
       "version_major": 2,
       "version_minor": 0
      },
      "text/plain": [
       "Validation: 0it [00:00, ?it/s]"
      ]
     },
     "metadata": {},
     "output_type": "display_data"
    },
    {
     "data": {
      "application/vnd.jupyter.widget-view+json": {
       "model_id": "02349240ea9447f1a980a01a8068fb46",
       "version_major": 2,
       "version_minor": 0
      },
      "text/plain": [
       "Validation: 0it [00:00, ?it/s]"
      ]
     },
     "metadata": {},
     "output_type": "display_data"
    }
   ],
   "source": [
    "trainer.fit(lit_model)"
   ]
  }
 ],
 "metadata": {
  "kernelspec": {
   "display_name": "pytorch-11-7",
   "language": "python",
   "name": "python3"
  },
  "language_info": {
   "codemirror_mode": {
    "name": "ipython",
    "version": 3
   },
   "file_extension": ".py",
   "mimetype": "text/x-python",
   "name": "python",
   "nbconvert_exporter": "python",
   "pygments_lexer": "ipython3",
   "version": "3.10.8"
  },
  "orig_nbformat": 4,
  "vscode": {
   "interpreter": {
    "hash": "290de4d201867099a7cec8aa5bca78d01a6c85d7bcab7b52f8e97114ad853450"
   }
  }
 },
 "nbformat": 4,
 "nbformat_minor": 2
}

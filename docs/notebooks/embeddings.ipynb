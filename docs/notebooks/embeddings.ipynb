{
 "cells": [
  {
   "cell_type": "code",
   "execution_count": 1,
   "metadata": {},
   "outputs": [],
   "source": [
    "%load_ext autoreload\n",
    "%autoreload 2"
   ]
  },
  {
   "cell_type": "code",
   "execution_count": 2,
   "metadata": {},
   "outputs": [],
   "source": [
    "from nlp_assemblee.datasets import build_dataset_and_dataloader_from_config\n",
    "from nlp_assemblee.models import build_classifier_from_config"
   ]
  },
  {
   "cell_type": "code",
   "execution_count": 3,
   "metadata": {},
   "outputs": [],
   "source": [
    "import pickle\n",
    "\n",
    "import numpy as np\n",
    "import torch\n",
    "from tqdm.autonotebook import tqdm"
   ]
  },
  {
   "cell_type": "code",
   "execution_count": 4,
   "metadata": {},
   "outputs": [
    {
     "data": {
      "text/plain": [
       "'cuda'"
      ]
     },
     "execution_count": 4,
     "metadata": {},
     "output_type": "execute_result"
    }
   ],
   "source": [
    "device = \"cuda\" if torch.cuda.is_available() else \"cpu\"\n",
    "device"
   ]
  },
  {
   "cell_type": "code",
   "execution_count": 5,
   "metadata": {},
   "outputs": [
    {
     "name": "stderr",
     "output_type": "stream",
     "text": [
      "Some weights of the model checkpoint at bert-base-multilingual-cased were not used when initializing BertModel: ['cls.seq_relationship.bias', 'cls.predictions.decoder.weight', 'cls.seq_relationship.weight', 'cls.predictions.bias', 'cls.predictions.transform.dense.weight', 'cls.predictions.transform.LayerNorm.weight', 'cls.predictions.transform.LayerNorm.bias', 'cls.predictions.transform.dense.bias']\n",
      "- This IS expected if you are initializing BertModel from the checkpoint of a model trained on another task or with another architecture (e.g. initializing a BertForSequenceClassification model from a BertForPreTraining model).\n",
      "- This IS NOT expected if you are initializing BertModel from the checkpoint of a model that you expect to be exactly identical (initializing a BertForSequenceClassification model from a BertForSequenceClassification model).\n",
      "Some weights of the model checkpoint at bert-base-multilingual-cased were not used when initializing BertModel: ['cls.seq_relationship.bias', 'cls.predictions.decoder.weight', 'cls.seq_relationship.weight', 'cls.predictions.bias', 'cls.predictions.transform.dense.weight', 'cls.predictions.transform.LayerNorm.weight', 'cls.predictions.transform.LayerNorm.bias', 'cls.predictions.transform.dense.bias']\n",
      "- This IS expected if you are initializing BertModel from the checkpoint of a model trained on another task or with another architecture (e.g. initializing a BertForSequenceClassification model from a BertForPreTraining model).\n",
      "- This IS NOT expected if you are initializing BertModel from the checkpoint of a model that you expect to be exactly identical (initializing a BertForSequenceClassification model from a BertForSequenceClassification model).\n",
      "Some weights of the model checkpoint at bert-base-multilingual-cased were not used when initializing BertModel: ['cls.seq_relationship.bias', 'cls.predictions.decoder.weight', 'cls.seq_relationship.weight', 'cls.predictions.bias', 'cls.predictions.transform.dense.weight', 'cls.predictions.transform.LayerNorm.weight', 'cls.predictions.transform.LayerNorm.bias', 'cls.predictions.transform.dense.bias']\n",
      "- This IS expected if you are initializing BertModel from the checkpoint of a model trained on another task or with another architecture (e.g. initializing a BertForSequenceClassification model from a BertForPreTraining model).\n",
      "- This IS NOT expected if you are initializing BertModel from the checkpoint of a model that you expect to be exactly identical (initializing a BertForSequenceClassification model from a BertForSequenceClassification model).\n"
     ]
    },
    {
     "data": {
      "application/vnd.jupyter.widget-view+json": {
       "model_id": "e1c153d1a0d642aaaed55372a2897c10",
       "version_major": 2,
       "version_minor": 0
      },
      "text/plain": [
       "  0%|          | 0/3 [00:00<?, ?it/s]"
      ]
     },
     "metadata": {},
     "output_type": "display_data"
    },
    {
     "data": {
      "application/vnd.jupyter.widget-view+json": {
       "model_id": "e66aedb4ab8e4ee88895f754ee295052",
       "version_major": 2,
       "version_minor": 0
      },
      "text/plain": [
       "  0%|          | 0/1855 [00:00<?, ?it/s]"
      ]
     },
     "metadata": {},
     "output_type": "display_data"
    },
    {
     "data": {
      "application/vnd.jupyter.widget-view+json": {
       "model_id": "15cb0ef0b1474548a88c7457e1af70c8",
       "version_major": 2,
       "version_minor": 0
      },
      "text/plain": [
       "  0%|          | 0/796 [00:00<?, ?it/s]"
      ]
     },
     "metadata": {},
     "output_type": "display_data"
    },
    {
     "data": {
      "application/vnd.jupyter.widget-view+json": {
       "model_id": "430b6a1816a7462fb7bff794880f1769",
       "version_major": 2,
       "version_minor": 0
      },
      "text/plain": [
       "  0%|          | 0/1137 [00:00<?, ?it/s]"
      ]
     },
     "metadata": {},
     "output_type": "display_data"
    }
   ],
   "source": [
    "bert_type = \"bert\"\n",
    "\n",
    "config_file = f\"../../configs/{bert_type}.json\"\n",
    "\n",
    "classifier = build_classifier_from_config(config_file)\n",
    "\n",
    "datasets, loaders = build_dataset_and_dataloader_from_config(config_file, \"../../\")\n",
    "\n",
    "\n",
    "embeddings = {\n",
    "    \"intervention\": [],\n",
    "    \"titre_complet\": [],\n",
    "    \"profession\": [],\n",
    "    \"features\": [],\n",
    "    \"label\": [],\n",
    "}\n",
    "\n",
    "embedder = classifier.bert_linears.bert_layers.to(device)\n",
    "\n",
    "for phase in tqdm([\"train\", \"val\", \"test\"]):\n",
    "    embeddings = {\n",
    "        \"intervention\": [],\n",
    "        \"titre_complet\": [],\n",
    "        \"profession\": [],\n",
    "        \"features\": [],\n",
    "        \"label\": [],\n",
    "    }\n",
    "    for x, y in tqdm(loaders[phase]):\n",
    "        x = {k: v.to(device) for k, v in x.items()}\n",
    "        with torch.no_grad():\n",
    "            for k, v in x.items():\n",
    "                if k != \"features\":\n",
    "                    embeddings[k].append(embedder[k].bert(v)[\"pooler_output\"].cpu().numpy())\n",
    "                else:\n",
    "                    embeddings[\"features\"].append(v.cpu().numpy())\n",
    "        embeddings[\"label\"].append(y.cpu().numpy())\n",
    "\n",
    "    embs = {\n",
    "        \"intervention\": np.vstack(embeddings[\"intervention\"]),\n",
    "        \"titre_complet\": np.vstack(embeddings[\"titre_complet\"]),\n",
    "        \"profession\": np.vstack(embeddings[\"profession\"]),\n",
    "        \"features\": np.vstack(embeddings[\"features\"]),\n",
    "        \"label\": np.hstack(embeddings[\"label\"]),\n",
    "    }\n",
    "\n",
    "    with open(f\"../../data/{bert_type}_embeddings_{phase}.pkl\", \"wb\") as f:\n",
    "        pickle.dump(embs, f)"
   ]
  },
  {
   "cell_type": "code",
   "execution_count": null,
   "metadata": {},
   "outputs": [],
   "source": [
    "bert_type = \"camembert\"\n",
    "\n",
    "config_file = f\"../../configs/{bert_type}.json\"\n",
    "\n",
    "classifier = build_classifier_from_config(config_file)\n",
    "\n",
    "datasets, loaders = build_dataset_and_dataloader_from_config(config_file, \"../../\")\n",
    "\n",
    "\n",
    "embeddings = {\n",
    "    \"intervention\": [],\n",
    "    \"titre_complet\": [],\n",
    "    \"profession\": [],\n",
    "    \"features\": [],\n",
    "    \"label\": [],\n",
    "}\n",
    "\n",
    "embedder = classifier.bert_linears.bert_layers.to(device)\n",
    "\n",
    "for phase in tqdm([\"train\", \"val\", \"test\"]):\n",
    "    phase_list = []\n",
    "    for x, y in tqdm(loaders[phase]):\n",
    "        embeddings = {}\n",
    "        x = {k: v.to(device) for k, v in x.items()}\n",
    "        with torch.no_grad():\n",
    "            for k, v in x.items():\n",
    "                if k != \"features\":\n",
    "                    embeddings[k] = embedder[k].bert(v)[\"pooler_output\"].cpu().numpy()\n",
    "                else:\n",
    "                    embeddings[\"features\"] = v.cpu().numpy()\n",
    "        embeddings[\"label\"] = y.cpu().numpy()\n",
    "        phase_list.append(embeddings)\n",
    "\n",
    "    with open(f\"../../data/{bert_type}_embeddings_{phase}.pkl\", \"wb\") as f:\n",
    "        pickle.dump(phase_list, f)"
   ]
  },
  {
   "cell_type": "code",
   "execution_count": null,
   "metadata": {},
   "outputs": [],
   "source": [
    "embs = {\n",
    "    \"intervention\": np.vstack(\n",
    "        embeddings[\"val\"][\"intervention\"]\n",
    "        + embeddings[\"train\"][\"intervention\"]\n",
    "        + embeddings[\"test\"][\"intervention\"]\n",
    "    ),\n",
    "    \"titre_complet\": np.vstack(\n",
    "        embeddings[\"val\"][\"titre_complet\"]\n",
    "        + embeddings[\"train\"][\"titre_complet\"]\n",
    "        + embeddings[\"test\"][\"titre_complet\"]\n",
    "    ),\n",
    "    \"profession\": np.vstack(\n",
    "        embeddings[\"val\"][\"profession\"]\n",
    "        + embeddings[\"train\"][\"profession\"]\n",
    "        + embeddings[\"test\"][\"profession\"]\n",
    "    ),\n",
    "    \"features\": np.vstack(\n",
    "        embeddings[\"val\"][\"features\"]\n",
    "        + embeddings[\"train\"][\"features\"]\n",
    "        + embeddings[\"test\"][\"features\"]\n",
    "    ),\n",
    "    \"label\": np.hstack(\n",
    "        embeddings[\"val\"][\"label\"] + embeddings[\"train\"][\"label\"] + embeddings[\"test\"][\"label\"]\n",
    "    ),\n",
    "}\n",
    "\n",
    "with open(\"../../data/camembert_embeddings_array.pkl\", \"wb\") as f:\n",
    "    pickle.dump(embs, f)"
   ]
  },
  {
   "cell_type": "code",
   "execution_count": 5,
   "metadata": {},
   "outputs": [],
   "source": [
    "with open(\"../../data/camembert_embeddings_array.pkl\", \"rb\") as f:\n",
    "    embs = pickle.load(f)"
   ]
  },
  {
   "cell_type": "code",
   "execution_count": 9,
   "metadata": {},
   "outputs": [],
   "source": [
    "labs = embs[\"label\"]"
   ]
  },
  {
   "cell_type": "code",
   "execution_count": 12,
   "metadata": {},
   "outputs": [],
   "source": [
    "n = len(labs)\n",
    "probs = [np.sum(labs == i) / n for i in range(3)]"
   ]
  },
  {
   "cell_type": "code",
   "execution_count": 11,
   "metadata": {},
   "outputs": [
    {
     "data": {
      "text/plain": [
       "[0.5000838942327529, 0.1402051420288101, 0.35971096373843703, 0.0]"
      ]
     },
     "execution_count": 11,
     "metadata": {},
     "output_type": "execute_result"
    }
   ],
   "source": [
    "probs"
   ]
  },
  {
   "cell_type": "code",
   "execution_count": 14,
   "metadata": {},
   "outputs": [
    {
     "data": {
      "text/plain": [
       "0.9897897551342119"
      ]
     },
     "execution_count": 14,
     "metadata": {},
     "output_type": "execute_result"
    }
   ],
   "source": [
    "-np.sum(probs * np.log(probs))"
   ]
  },
  {
   "cell_type": "code",
   "execution_count": 15,
   "metadata": {},
   "outputs": [],
   "source": [
    "from sklearn.dummy import DummyClassifier\n",
    "from sklearn.metrics import balanced_accuracy_score\n",
    "from sklearn.model_selection import train_test_split"
   ]
  },
  {
   "cell_type": "code",
   "execution_count": 19,
   "metadata": {},
   "outputs": [
    {
     "data": {
      "text/html": [
       "<style>#sk-container-id-2 {color: black;background-color: white;}#sk-container-id-2 pre{padding: 0;}#sk-container-id-2 div.sk-toggleable {background-color: white;}#sk-container-id-2 label.sk-toggleable__label {cursor: pointer;display: block;width: 100%;margin-bottom: 0;padding: 0.3em;box-sizing: border-box;text-align: center;}#sk-container-id-2 label.sk-toggleable__label-arrow:before {content: \"▸\";float: left;margin-right: 0.25em;color: #696969;}#sk-container-id-2 label.sk-toggleable__label-arrow:hover:before {color: black;}#sk-container-id-2 div.sk-estimator:hover label.sk-toggleable__label-arrow:before {color: black;}#sk-container-id-2 div.sk-toggleable__content {max-height: 0;max-width: 0;overflow: hidden;text-align: left;background-color: #f0f8ff;}#sk-container-id-2 div.sk-toggleable__content pre {margin: 0.2em;color: black;border-radius: 0.25em;background-color: #f0f8ff;}#sk-container-id-2 input.sk-toggleable__control:checked~div.sk-toggleable__content {max-height: 200px;max-width: 100%;overflow: auto;}#sk-container-id-2 input.sk-toggleable__control:checked~label.sk-toggleable__label-arrow:before {content: \"▾\";}#sk-container-id-2 div.sk-estimator input.sk-toggleable__control:checked~label.sk-toggleable__label {background-color: #d4ebff;}#sk-container-id-2 div.sk-label input.sk-toggleable__control:checked~label.sk-toggleable__label {background-color: #d4ebff;}#sk-container-id-2 input.sk-hidden--visually {border: 0;clip: rect(1px 1px 1px 1px);clip: rect(1px, 1px, 1px, 1px);height: 1px;margin: -1px;overflow: hidden;padding: 0;position: absolute;width: 1px;}#sk-container-id-2 div.sk-estimator {font-family: monospace;background-color: #f0f8ff;border: 1px dotted black;border-radius: 0.25em;box-sizing: border-box;margin-bottom: 0.5em;}#sk-container-id-2 div.sk-estimator:hover {background-color: #d4ebff;}#sk-container-id-2 div.sk-parallel-item::after {content: \"\";width: 100%;border-bottom: 1px solid gray;flex-grow: 1;}#sk-container-id-2 div.sk-label:hover label.sk-toggleable__label {background-color: #d4ebff;}#sk-container-id-2 div.sk-serial::before {content: \"\";position: absolute;border-left: 1px solid gray;box-sizing: border-box;top: 0;bottom: 0;left: 50%;z-index: 0;}#sk-container-id-2 div.sk-serial {display: flex;flex-direction: column;align-items: center;background-color: white;padding-right: 0.2em;padding-left: 0.2em;position: relative;}#sk-container-id-2 div.sk-item {position: relative;z-index: 1;}#sk-container-id-2 div.sk-parallel {display: flex;align-items: stretch;justify-content: center;background-color: white;position: relative;}#sk-container-id-2 div.sk-item::before, #sk-container-id-2 div.sk-parallel-item::before {content: \"\";position: absolute;border-left: 1px solid gray;box-sizing: border-box;top: 0;bottom: 0;left: 50%;z-index: -1;}#sk-container-id-2 div.sk-parallel-item {display: flex;flex-direction: column;z-index: 1;position: relative;background-color: white;}#sk-container-id-2 div.sk-parallel-item:first-child::after {align-self: flex-end;width: 50%;}#sk-container-id-2 div.sk-parallel-item:last-child::after {align-self: flex-start;width: 50%;}#sk-container-id-2 div.sk-parallel-item:only-child::after {width: 0;}#sk-container-id-2 div.sk-dashed-wrapped {border: 1px dashed gray;margin: 0 0.4em 0.5em 0.4em;box-sizing: border-box;padding-bottom: 0.4em;background-color: white;}#sk-container-id-2 div.sk-label label {font-family: monospace;font-weight: bold;display: inline-block;line-height: 1.2em;}#sk-container-id-2 div.sk-label-container {text-align: center;}#sk-container-id-2 div.sk-container {/* jupyter's `normalize.less` sets `[hidden] { display: none; }` but bootstrap.min.css set `[hidden] { display: none !important; }` so we also need the `!important` here to be able to override the default hidden behavior on the sphinx rendered scikit-learn.org. See: https://github.com/scikit-learn/scikit-learn/issues/21755 */display: inline-block !important;position: relative;}#sk-container-id-2 div.sk-text-repr-fallback {display: none;}</style><div id=\"sk-container-id-2\" class=\"sk-top-container\"><div class=\"sk-text-repr-fallback\"><pre>DummyClassifier(strategy=&#x27;stratified&#x27;)</pre><b>In a Jupyter environment, please rerun this cell to show the HTML representation or trust the notebook. <br />On GitHub, the HTML representation is unable to render, please try loading this page with nbviewer.org.</b></div><div class=\"sk-container\" hidden><div class=\"sk-item\"><div class=\"sk-estimator sk-toggleable\"><input class=\"sk-toggleable__control sk-hidden--visually\" id=\"sk-estimator-id-2\" type=\"checkbox\" checked><label for=\"sk-estimator-id-2\" class=\"sk-toggleable__label sk-toggleable__label-arrow\">DummyClassifier</label><div class=\"sk-toggleable__content\"><pre>DummyClassifier(strategy=&#x27;stratified&#x27;)</pre></div></div></div></div></div>"
      ],
      "text/plain": [
       "DummyClassifier(strategy='stratified')"
      ]
     },
     "execution_count": 19,
     "metadata": {},
     "output_type": "execute_result"
    }
   ],
   "source": [
    "dummy = DummyClassifier(strategy=\"stratified\")\n",
    "dummy.fit(embs[\"features\"], embs[\"label\"])"
   ]
  },
  {
   "cell_type": "code",
   "execution_count": 21,
   "metadata": {},
   "outputs": [
    {
     "data": {
      "text/plain": [
       "0.33242072528356476"
      ]
     },
     "execution_count": 21,
     "metadata": {},
     "output_type": "execute_result"
    }
   ],
   "source": [
    "y_pred = dummy.predict(embs[\"features\"])\n",
    "\n",
    "balanced_accuracy_score(embs[\"label\"], y_pred)"
   ]
  },
  {
   "cell_type": "code",
   "execution_count": 23,
   "metadata": {},
   "outputs": [
    {
     "data": {
      "text/plain": [
       "dict_keys(['intervention', 'titre_complet', 'profession', 'features', 'label'])"
      ]
     },
     "execution_count": 23,
     "metadata": {},
     "output_type": "execute_result"
    }
   ],
   "source": [
    "embs.keys()"
   ]
  },
  {
   "cell_type": "code",
   "execution_count": 24,
   "metadata": {},
   "outputs": [],
   "source": [
    "test_pc = 0.3\n",
    "val_pc = 0.3\n",
    "\n",
    "X = np.arange(len(labs))\n",
    "y = labs\n",
    "idx_train, idx_test, y_train, y_test = train_test_split(\n",
    "    X, y, test_size=test_pc, random_state=42, stratify=y\n",
    ")\n",
    "idx_train, idx_val, y_train, y_val = train_test_split(\n",
    "    idx_train,\n",
    "    y_train,\n",
    "    test_size=val_pc,\n",
    "    random_state=42,\n",
    "    stratify=y_train,\n",
    ")\n",
    "\n",
    "train_records = {\n",
    "    \"intervention\": embs[\"intervention\"][idx_train],\n",
    "    \"titre_complet\": embs[\"titre_complet\"][idx_train],\n",
    "    \"profession\": embs[\"profession\"][idx_train],\n",
    "    \"features\": embs[\"features\"][idx_train],\n",
    "    \"label\": embs[\"label\"][idx_train],\n",
    "}\n",
    "test_records = {\n",
    "    \"intervention\": embs[\"intervention\"][idx_test],\n",
    "    \"titre_complet\": embs[\"titre_complet\"][idx_test],\n",
    "    \"profession\": embs[\"profession\"][idx_test],\n",
    "    \"features\": embs[\"features\"][idx_test],\n",
    "    \"label\": embs[\"label\"][idx_test],\n",
    "}\n",
    "val_records = {\n",
    "    \"intervention\": embs[\"intervention\"][idx_val],\n",
    "    \"titre_complet\": embs[\"titre_complet\"][idx_val],\n",
    "    \"profession\": embs[\"profession\"][idx_val],\n",
    "    \"features\": embs[\"features\"][idx_val],\n",
    "    \"label\": embs[\"label\"][idx_val],\n",
    "}"
   ]
  },
  {
   "cell_type": "code",
   "execution_count": 25,
   "metadata": {},
   "outputs": [],
   "source": [
    "bert_type = \"camembert\"\n",
    "for phase, phase_list in zip([\"train\", \"val\", \"test\"], [train_records, val_records, test_records]):\n",
    "    with open(f\"../../data/{bert_type}_embeddings_{phase}.pkl\", \"wb\") as f:\n",
    "        pickle.dump(phase_list, f)"
   ]
  }
 ],
 "metadata": {
  "kernelspec": {
   "display_name": "pytorch-11-7",
   "language": "python",
   "name": "python3"
  },
  "language_info": {
   "codemirror_mode": {
    "name": "ipython",
    "version": 3
   },
   "file_extension": ".py",
   "mimetype": "text/x-python",
   "name": "python",
   "nbconvert_exporter": "python",
   "pygments_lexer": "ipython3",
   "version": "3.10.8 | packaged by conda-forge | (main, Nov 22 2022, 08:26:04) [GCC 10.4.0]"
  },
  "orig_nbformat": 4,
  "vscode": {
   "interpreter": {
    "hash": "290de4d201867099a7cec8aa5bca78d01a6c85d7bcab7b52f8e97114ad853450"
   }
  }
 },
 "nbformat": 4,
 "nbformat_minor": 2
}

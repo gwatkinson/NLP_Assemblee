{
 "cells": [
  {
   "cell_type": "code",
   "execution_count": null,
   "metadata": {},
   "outputs": [],
   "source": [
    "import json\n",
    "import pickle\n",
    "from pathlib import Path\n",
    "\n",
    "import numpy as np\n",
    "import torch\n",
    "from sklearn.dummy import DummyClassifier\n",
    "from sklearn.metrics import balanced_accuracy_score\n",
    "from sklearn.model_selection import train_test_split\n",
    "from tqdm.autonotebook import tqdm\n",
    "\n",
    "from nlp_assemblee.datasets import build_dataset_and_dataloader_from_config\n",
    "from nlp_assemblee.models import build_classifier_from_config\n",
    "from nlp_assemblee.simple_visualisation import (\n",
    "    calculate_metrics,\n",
    "    plot_precision_recall_curve,\n",
    "    plot_roc_curve,\n",
    ")"
   ]
  },
  {
   "cell_type": "code",
   "execution_count": null,
   "metadata": {},
   "outputs": [],
   "source": [
    "device = \"cuda\" if torch.cuda.is_available() else \"cpu\"\n",
    "device"
   ]
  },
  {
   "cell_type": "code",
   "execution_count": null,
   "metadata": {},
   "outputs": [],
   "source": [
    "def load_records(path, phase=\"train\"):\n",
    "    path = Path(path)\n",
    "    with open(path / f\"precomputed_{phase}.pkl\", \"rb\") as f:\n",
    "        records = pickle.load(f)\n",
    "    return records"
   ]
  },
  {
   "cell_type": "code",
   "execution_count": null,
   "metadata": {},
   "outputs": [],
   "source": [
    "y_train = load_records(\"../../data/precomputed/paraphrase-multilingual-MiniLM-L12-v2\")[\"label\"]\n",
    "y_test = load_records(\"../../data/precomputed/paraphrase-multilingual-MiniLM-L12-v2\", phase=\"test\")[\n",
    "    \"label\"\n",
    "]"
   ]
  },
  {
   "cell_type": "code",
   "execution_count": null,
   "metadata": {},
   "outputs": [],
   "source": [
    "n = len(y_train)\n",
    "probas = [np.sum(y_train == i) / n for i in range(3)]"
   ]
  },
  {
   "cell_type": "code",
   "execution_count": null,
   "metadata": {},
   "outputs": [],
   "source": [
    "probas"
   ]
  },
  {
   "attachments": {},
   "cell_type": "markdown",
   "metadata": {},
   "source": [
    "## Uniform"
   ]
  },
  {
   "cell_type": "code",
   "execution_count": null,
   "metadata": {},
   "outputs": [],
   "source": [
    "strategy = \"uniform\"\n",
    "dummy = DummyClassifier(strategy=strategy)\n",
    "dummy.fit(y_train, y_train)"
   ]
  },
  {
   "cell_type": "code",
   "execution_count": null,
   "metadata": {},
   "outputs": [],
   "source": [
    "y_pred = dummy.predict(y_test)\n",
    "probs = dummy.predict_proba(y_test)"
   ]
  },
  {
   "cell_type": "code",
   "execution_count": null,
   "metadata": {},
   "outputs": [],
   "source": [
    "results = {\n",
    "    \"labels\": y_test,\n",
    "    \"predictions\": y_pred,\n",
    "    \"probs\": probs,\n",
    "}"
   ]
  },
  {
   "cell_type": "code",
   "execution_count": null,
   "metadata": {},
   "outputs": [],
   "source": [
    "metrics = calculate_metrics(results)"
   ]
  },
  {
   "cell_type": "code",
   "execution_count": null,
   "metadata": {},
   "outputs": [],
   "source": [
    "RESULTS_PATH = f\"../../results/dummy_classifier_{strategy}\"\n",
    "Path(RESULTS_PATH).mkdir(exist_ok=True, parents=True)\n",
    "with open(Path(RESULTS_PATH) / \"logs.json\", \"w\") as f:\n",
    "    json.dump(metrics, f)"
   ]
  },
  {
   "cell_type": "code",
   "execution_count": null,
   "metadata": {},
   "outputs": [],
   "source": [
    "roc_fig = plot_roc_curve(results, figsize=(6, 6), palette=\"deep\")\n",
    "roc_fig.savefig(Path(RESULTS_PATH) / \"roc_curve.png\")"
   ]
  },
  {
   "cell_type": "code",
   "execution_count": null,
   "metadata": {},
   "outputs": [],
   "source": [
    "pr_fig = plot_precision_recall_curve(results, figsize=(6, 6), palette=\"deep\")\n",
    "pr_fig.savefig(Path(RESULTS_PATH) / \"precision_recall_curve.png\")"
   ]
  },
  {
   "attachments": {},
   "cell_type": "markdown",
   "metadata": {},
   "source": [
    "## Most frequent"
   ]
  },
  {
   "cell_type": "code",
   "execution_count": null,
   "metadata": {},
   "outputs": [],
   "source": [
    "strategy = \"most_frequent\"\n",
    "dummy = DummyClassifier(strategy=strategy)\n",
    "dummy.fit(y_train, y_train)"
   ]
  },
  {
   "cell_type": "code",
   "execution_count": null,
   "metadata": {},
   "outputs": [],
   "source": [
    "y_pred = dummy.predict(y_test)\n",
    "probs = dummy.predict_proba(y_test)"
   ]
  },
  {
   "cell_type": "code",
   "execution_count": null,
   "metadata": {},
   "outputs": [],
   "source": [
    "results = {\n",
    "    \"labels\": y_test,\n",
    "    \"predictions\": y_pred,\n",
    "    \"probs\": probs,\n",
    "}"
   ]
  },
  {
   "cell_type": "code",
   "execution_count": null,
   "metadata": {},
   "outputs": [],
   "source": [
    "metrics = calculate_metrics(results)"
   ]
  },
  {
   "cell_type": "code",
   "execution_count": null,
   "metadata": {},
   "outputs": [],
   "source": [
    "RESULTS_PATH = f\"../../results/dummy_classifier_{strategy}\"\n",
    "Path(RESULTS_PATH).mkdir(exist_ok=True, parents=True)\n",
    "with open(Path(RESULTS_PATH) / \"logs.json\", \"w\") as f:\n",
    "    json.dump(metrics, f)"
   ]
  },
  {
   "cell_type": "code",
   "execution_count": null,
   "metadata": {},
   "outputs": [],
   "source": [
    "roc_fig = plot_roc_curve(results, figsize=(6, 6), palette=\"deep\")\n",
    "roc_fig.savefig(Path(RESULTS_PATH) / \"roc_curve.png\")"
   ]
  },
  {
   "cell_type": "code",
   "execution_count": null,
   "metadata": {},
   "outputs": [],
   "source": [
    "pr_fig = plot_precision_recall_curve(results, figsize=(6, 6), palette=\"deep\")\n",
    "pr_fig.savefig(Path(RESULTS_PATH) / \"precision_recall_curve.png\")"
   ]
  },
  {
   "cell_type": "markdown",
   "metadata": {},
   "source": [
    "## Stratified"
   ]
  },
  {
   "cell_type": "code",
   "execution_count": null,
   "metadata": {},
   "outputs": [],
   "source": [
    "strategy = \"stratified\"\n",
    "dummy = DummyClassifier(strategy=strategy)\n",
    "dummy.fit(y_train, y_train)"
   ]
  },
  {
   "cell_type": "code",
   "execution_count": null,
   "metadata": {},
   "outputs": [],
   "source": [
    "y_pred = dummy.predict(y_test)\n",
    "probs = dummy.predict_proba(y_test)"
   ]
  },
  {
   "cell_type": "code",
   "execution_count": null,
   "metadata": {},
   "outputs": [],
   "source": [
    "results = {\n",
    "    \"labels\": y_test,\n",
    "    \"predictions\": y_pred,\n",
    "    \"probs\": probs,\n",
    "}"
   ]
  },
  {
   "cell_type": "code",
   "execution_count": null,
   "metadata": {},
   "outputs": [],
   "source": [
    "metrics = calculate_metrics(results)"
   ]
  },
  {
   "cell_type": "code",
   "execution_count": null,
   "metadata": {},
   "outputs": [],
   "source": [
    "RESULTS_PATH = f\"../../results/dummy_classifier_{strategy}\"\n",
    "Path(RESULTS_PATH).mkdir(exist_ok=True, parents=True)\n",
    "with open(Path(RESULTS_PATH) / \"logs.json\", \"w\") as f:\n",
    "    json.dump(metrics, f)"
   ]
  },
  {
   "cell_type": "code",
   "execution_count": null,
   "metadata": {},
   "outputs": [],
   "source": [
    "roc_fig = plot_roc_curve(results, figsize=(6, 6), palette=\"deep\")\n",
    "roc_fig.savefig(Path(RESULTS_PATH) / \"roc_curve.png\")"
   ]
  },
  {
   "cell_type": "code",
   "execution_count": null,
   "metadata": {},
   "outputs": [],
   "source": [
    "pr_fig = plot_precision_recall_curve(results, figsize=(6, 6), palette=\"deep\")\n",
    "pr_fig.savefig(Path(RESULTS_PATH) / \"precision_recall_curve.png\")"
   ]
  },
  {
   "attachments": {},
   "cell_type": "markdown",
   "metadata": {},
   "source": [
    "## Prior"
   ]
  },
  {
   "cell_type": "code",
   "execution_count": null,
   "metadata": {},
   "outputs": [],
   "source": [
    "strategy = \"prior\"\n",
    "dummy = DummyClassifier(strategy=strategy)\n",
    "dummy.fit(y_train, y_train)"
   ]
  },
  {
   "cell_type": "code",
   "execution_count": null,
   "metadata": {},
   "outputs": [],
   "source": [
    "y_pred = dummy.predict(y_test)\n",
    "probs = dummy.predict_proba(y_test)"
   ]
  },
  {
   "cell_type": "code",
   "execution_count": null,
   "metadata": {},
   "outputs": [],
   "source": [
    "results = {\n",
    "    \"labels\": y_test,\n",
    "    \"predictions\": y_pred,\n",
    "    \"probs\": probs,\n",
    "}"
   ]
  },
  {
   "cell_type": "code",
   "execution_count": null,
   "metadata": {},
   "outputs": [],
   "source": [
    "metrics = calculate_metrics(results)"
   ]
  },
  {
   "cell_type": "code",
   "execution_count": null,
   "metadata": {},
   "outputs": [],
   "source": [
    "RESULTS_PATH = f\"../../results/dummy_classifier_{strategy}\"\n",
    "Path(RESULTS_PATH).mkdir(exist_ok=True, parents=True)\n",
    "with open(Path(RESULTS_PATH) / \"logs.json\", \"w\") as f:\n",
    "    json.dump(metrics, f)"
   ]
  },
  {
   "cell_type": "code",
   "execution_count": null,
   "metadata": {},
   "outputs": [],
   "source": [
    "roc_fig = plot_roc_curve(results, figsize=(6, 6), palette=\"deep\")\n",
    "roc_fig.savefig(Path(RESULTS_PATH) / \"roc_curve.png\")"
   ]
  },
  {
   "cell_type": "code",
   "execution_count": null,
   "metadata": {},
   "outputs": [],
   "source": [
    "pr_fig = plot_precision_recall_curve(results, figsize=(6, 6), palette=\"deep\")\n",
    "pr_fig.savefig(Path(RESULTS_PATH) / \"precision_recall_curve.png\")"
   ]
  }
 ],
 "metadata": {
  "kernelspec": {
   "display_name": "pytorch-11-7",
   "language": "python",
   "name": "python3"
  },
  "language_info": {
   "codemirror_mode": {
    "name": "ipython",
    "version": 3
   },
   "file_extension": ".py",
   "mimetype": "text/x-python",
   "name": "python",
   "nbconvert_exporter": "python",
   "pygments_lexer": "ipython3",
   "version": "3.10.9"
  },
  "vscode": {
   "interpreter": {
    "hash": "290de4d201867099a7cec8aa5bca78d01a6c85d7bcab7b52f8e97114ad853450"
   }
  }
 },
 "nbformat": 4,
 "nbformat_minor": 2
}

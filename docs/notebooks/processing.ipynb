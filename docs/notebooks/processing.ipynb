{
 "cells": [
  {
   "attachments": {},
   "cell_type": "markdown",
   "metadata": {},
   "source": [
    "# Processing the data compiled from the API\n",
    "\n",
    "In this notebook, we process the data obtained from the API, resulting in a dataframe that can be used for further analysis.\n",
    "\n",
    "The compiled data is stored in the `data/compiled` folder.\n",
    "\n",
    "The processed data is then stored in the `data/processed` folder.\n",
    "\n",
    "The module `data_processing` contains the functions used to process the data."
   ]
  },
  {
   "cell_type": "code",
   "execution_count": 1,
   "metadata": {},
   "outputs": [],
   "source": [
    "%load_ext autoreload\n",
    "%autoreload 2"
   ]
  },
  {
   "cell_type": "code",
   "execution_count": 2,
   "metadata": {},
   "outputs": [],
   "source": [
    "from warnings import filterwarnings\n",
    "\n",
    "import matplotlib.pyplot as plt\n",
    "import numpy as np\n",
    "import pandas as pd\n",
    "import plotly.express as px\n",
    "import seaborn as sns\n",
    "\n",
    "from nlp_assemblee.data_processing import DataProcessing\n",
    "\n",
    "sns.set_style(\"ticks\")\n",
    "sns.set_context(\"paper\")\n",
    "sns.set_palette(\"muted\")\n",
    "\n",
    "\n",
    "filterwarnings(\"ignore\")"
   ]
  },
  {
   "cell_type": "code",
   "execution_count": 3,
   "metadata": {},
   "outputs": [],
   "source": [
    "# label_dict_15th = {\n",
    "#     \"NI\": 2,\n",
    "#     \"UAI\": 2,\n",
    "#     \"LC\": 2,\n",
    "#     \"LR\": 2,\n",
    "#     \"LFI\": 0,\n",
    "#     \"NG\": 0,\n",
    "#     \"GDR\": 0,\n",
    "#     \"LREM\": 1,\n",
    "#     \"MODEM\": 1,\n",
    "# }\n",
    "\n",
    "# processor15 = DataProcessing(\n",
    "#     deputies_df_path=\"../../data/compiled/15th_deputies.pkl\",\n",
    "#     compiled_data_path=\"../../data/compiled/15th_legislature_complete.tsv\",\n",
    "#     # process=False,\n",
    "#     # save=False\n",
    "#     process=True,\n",
    "#     max_len=512,\n",
    "#     save=\"../../data/processed\",\n",
    "#     legislature=15,\n",
    "# )"
   ]
  },
  {
   "attachments": {},
   "cell_type": "markdown",
   "metadata": {},
   "source": [
    "We focus on the data from the 14th legislature, which is stored in the `data/compiled/` folder.\n",
    "\n",
    "To process it, we use the DataProcessing class from the `data_processing` module.\n",
    "It loads the data from the `data/compiled/` folder and processes it.\n",
    "\n",
    "It processes :\n",
    "\n",
    "* The deputies' data\n",
    "* The compiled speech data\n",
    "* Then it merges the two dataframes\n",
    "* Then it tokenizes the interventions, the titles and the professions\n",
    "* The data is then stored in the `data/processed/` folder\n",
    "* The file of interest being `data/processed/14th_records.pkl`, which contains the processed and the tokenized data (both with BERT and CamemBERT).\n",
    "* The tokenizing takes around 10 minutes, so it is recommended to load the preprocessed data."
   ]
  },
  {
   "cell_type": "code",
   "execution_count": 4,
   "metadata": {},
   "outputs": [
    {
     "name": "stdout",
     "output_type": "stream",
     "text": [
      "Cleaning the deputies dataframe...\n",
      "Cleaning the compiled dataset...\n",
      "Merging the two dataframes...\n",
      "Tokenizing the resulting data...\n"
     ]
    },
    {
     "data": {
      "application/vnd.jupyter.widget-view+json": {
       "model_id": "b0ad530e17524223b1ba380efb65ab5a",
       "version_major": 2,
       "version_minor": 0
      },
      "text/plain": [
       "  0%|          | 0/363572 [00:00<?, ?it/s]"
      ]
     },
     "metadata": {},
     "output_type": "display_data"
    },
    {
     "name": "stdout",
     "output_type": "stream",
     "text": [
      "Saving the processed data...\n"
     ]
    }
   ],
   "source": [
    "label_dict_14th = {\n",
    "    \"SRC\": 0,\n",
    "    \"ECOLO\": 0,\n",
    "    \"SER\": 0,\n",
    "    \"GDR\": 0,\n",
    "    \"UDI\": 1,\n",
    "    \"RRDP\": 1,\n",
    "    \"LR\": 2,\n",
    "    \"UMP\": 2,\n",
    "    \"RUMP\": 2,\n",
    "    \"NI\": 2,\n",
    "    \"\": 2,\n",
    "}\n",
    "\n",
    "processor14 = DataProcessing(\n",
    "    deputies_df_path=\"../../data/compiled/14th_deputies.pkl\",\n",
    "    compiled_data_path=\"../../data/compiled/14th_legislature_complete.tsv\",\n",
    "    label_dict=label_dict_14th,\n",
    "    process=True,\n",
    "    tokenize=True,\n",
    "    save=\"../../data/processed\",\n",
    "    load=False,\n",
    "    # process=False,\n",
    "    # tokenize=False,\n",
    "    # save=False,\n",
    "    # load=\"../../data/processed\",\n",
    "    max_len=512,\n",
    "    year_min=1940,\n",
    "    year_max=2022,\n",
    "    legislature=14,\n",
    ")"
   ]
  },
  {
   "attachments": {},
   "cell_type": "markdown",
   "metadata": {},
   "source": [
    "## Exploring the deputies dataframe\n",
    "\n",
    "First, we look at the processed deputies dataframe. It contains informations about the deputies.\n",
    "\n",
    "It has the following columns:"
   ]
  },
  {
   "cell_type": "code",
   "execution_count": 5,
   "metadata": {},
   "outputs": [
    {
     "name": "stdout",
     "output_type": "stream",
     "text": [
      "<class 'pandas.core.frame.DataFrame'>\n",
      "RangeIndex: 648 entries, 0 to 647\n",
      "Data columns (total 21 columns):\n",
      " #   Column                Non-Null Count  Dtype \n",
      "---  ------                --------------  ----- \n",
      " 0   id                    648 non-null    int64 \n",
      " 1   nom                   648 non-null    object\n",
      " 2   nom_de_famille        648 non-null    object\n",
      " 3   prenom                648 non-null    object\n",
      " 4   sexe                  648 non-null    object\n",
      " 5   date_naissance        648 non-null    object\n",
      " 6   lieu_naissance        645 non-null    object\n",
      " 7   num_deptmt            648 non-null    object\n",
      " 8   nom_circo             648 non-null    object\n",
      " 9   num_circo             648 non-null    int64 \n",
      " 10  mandat_debut          648 non-null    object\n",
      " 11  mandat_fin            648 non-null    object\n",
      " 12  ancien_depute         648 non-null    int64 \n",
      " 13  groupe_sigle          648 non-null    object\n",
      " 14  parti_ratt_financier  648 non-null    object\n",
      " 15  anciens_mandats       648 non-null    object\n",
      " 16  profession            648 non-null    object\n",
      " 17  place_en_hemicycle    640 non-null    object\n",
      " 18  slug                  648 non-null    object\n",
      " 19  nb_mandats            648 non-null    int64 \n",
      " 20  legislature           648 non-null    object\n",
      "dtypes: int64(4), object(17)\n",
      "memory usage: 106.4+ KB\n"
     ]
    }
   ],
   "source": [
    "processor14.deputies_df_processed.info()"
   ]
  },
  {
   "cell_type": "code",
   "execution_count": 6,
   "metadata": {},
   "outputs": [
    {
     "data": {
      "text/html": [
       "<div>\n",
       "<style scoped>\n",
       "    .dataframe tbody tr th:only-of-type {\n",
       "        vertical-align: middle;\n",
       "    }\n",
       "\n",
       "    .dataframe tbody tr th {\n",
       "        vertical-align: top;\n",
       "    }\n",
       "\n",
       "    .dataframe thead th {\n",
       "        text-align: right;\n",
       "    }\n",
       "</style>\n",
       "<table border=\"1\" class=\"dataframe\">\n",
       "  <thead>\n",
       "    <tr style=\"text-align: right;\">\n",
       "      <th></th>\n",
       "      <th>id</th>\n",
       "      <th>nom</th>\n",
       "      <th>nom_de_famille</th>\n",
       "      <th>prenom</th>\n",
       "      <th>sexe</th>\n",
       "      <th>date_naissance</th>\n",
       "      <th>lieu_naissance</th>\n",
       "      <th>num_deptmt</th>\n",
       "      <th>nom_circo</th>\n",
       "      <th>num_circo</th>\n",
       "      <th>...</th>\n",
       "      <th>mandat_fin</th>\n",
       "      <th>ancien_depute</th>\n",
       "      <th>groupe_sigle</th>\n",
       "      <th>parti_ratt_financier</th>\n",
       "      <th>anciens_mandats</th>\n",
       "      <th>profession</th>\n",
       "      <th>place_en_hemicycle</th>\n",
       "      <th>slug</th>\n",
       "      <th>nb_mandats</th>\n",
       "      <th>legislature</th>\n",
       "    </tr>\n",
       "  </thead>\n",
       "  <tbody>\n",
       "    <tr>\n",
       "      <th>0</th>\n",
       "      <td>1</td>\n",
       "      <td>Jean-François Lamour</td>\n",
       "      <td>Lamour</td>\n",
       "      <td>Jean-François</td>\n",
       "      <td>H</td>\n",
       "      <td>1956-02-02</td>\n",
       "      <td>Paris (Paris)</td>\n",
       "      <td>75</td>\n",
       "      <td>Paris</td>\n",
       "      <td>13</td>\n",
       "      <td>...</td>\n",
       "      <td>2017-06-20</td>\n",
       "      <td>1</td>\n",
       "      <td>LR</td>\n",
       "      <td>Les Républicains</td>\n",
       "      <td>[{'mandat': '20/06/2007 / 19/06/2012 / fin de ...</td>\n",
       "      <td>Kinésithérapeute</td>\n",
       "      <td>80</td>\n",
       "      <td>jean-francois-lamour</td>\n",
       "      <td>2</td>\n",
       "      <td>2012-2017</td>\n",
       "    </tr>\n",
       "    <tr>\n",
       "      <th>1</th>\n",
       "      <td>2</td>\n",
       "      <td>Jean-Michel Clément</td>\n",
       "      <td>Clément</td>\n",
       "      <td>Jean-Michel</td>\n",
       "      <td>H</td>\n",
       "      <td>1954-10-31</td>\n",
       "      <td>Mauprevoir (Vienne)</td>\n",
       "      <td>86</td>\n",
       "      <td>Vienne</td>\n",
       "      <td>3</td>\n",
       "      <td>...</td>\n",
       "      <td>2017-06-20</td>\n",
       "      <td>1</td>\n",
       "      <td>SER</td>\n",
       "      <td>Parti socialiste</td>\n",
       "      <td>[{'mandat': '20/06/2007 / 19/06/2012 / fin de ...</td>\n",
       "      <td>Avocat</td>\n",
       "      <td>263</td>\n",
       "      <td>jean-michel-clement</td>\n",
       "      <td>2</td>\n",
       "      <td>2012-2017</td>\n",
       "    </tr>\n",
       "    <tr>\n",
       "      <th>2</th>\n",
       "      <td>3</td>\n",
       "      <td>Bernard Reynès</td>\n",
       "      <td>Reynès</td>\n",
       "      <td>Bernard</td>\n",
       "      <td>H</td>\n",
       "      <td>1953-10-18</td>\n",
       "      <td>Meknès (Maroc)</td>\n",
       "      <td>13</td>\n",
       "      <td>Bouches-du-Rhône</td>\n",
       "      <td>15</td>\n",
       "      <td>...</td>\n",
       "      <td>2017-06-20</td>\n",
       "      <td>1</td>\n",
       "      <td>LR</td>\n",
       "      <td>Les Républicains</td>\n",
       "      <td>[{'mandat': '20/06/2007 / 19/06/2012 / fin de ...</td>\n",
       "      <td>Chirurgien-Dentiste</td>\n",
       "      <td>190</td>\n",
       "      <td>bernard-reynes</td>\n",
       "      <td>2</td>\n",
       "      <td>2012-2017</td>\n",
       "    </tr>\n",
       "    <tr>\n",
       "      <th>3</th>\n",
       "      <td>4</td>\n",
       "      <td>Sandrine Hurel</td>\n",
       "      <td>Hurel</td>\n",
       "      <td>Sandrine</td>\n",
       "      <td>F</td>\n",
       "      <td>1968-08-07</td>\n",
       "      <td>Lisieux (Calvados)</td>\n",
       "      <td>76</td>\n",
       "      <td>Seine-Maritime</td>\n",
       "      <td>6</td>\n",
       "      <td>...</td>\n",
       "      <td>2015-08-27</td>\n",
       "      <td>1</td>\n",
       "      <td></td>\n",
       "      <td>Parti socialiste</td>\n",
       "      <td>[{'mandat': '20/06/2007 / 19/06/2012 / fin de ...</td>\n",
       "      <td>Secrétaire de direction</td>\n",
       "      <td>460</td>\n",
       "      <td>sandrine-hurel</td>\n",
       "      <td>2</td>\n",
       "      <td>2012-2017</td>\n",
       "    </tr>\n",
       "    <tr>\n",
       "      <th>4</th>\n",
       "      <td>5</td>\n",
       "      <td>Marc Laffineur</td>\n",
       "      <td>Laffineur</td>\n",
       "      <td>Marc</td>\n",
       "      <td>H</td>\n",
       "      <td>1945-08-10</td>\n",
       "      <td>Maubeuge (Nord)</td>\n",
       "      <td>49</td>\n",
       "      <td>Maine-et-Loire</td>\n",
       "      <td>7</td>\n",
       "      <td>...</td>\n",
       "      <td>2017-06-20</td>\n",
       "      <td>1</td>\n",
       "      <td>LR</td>\n",
       "      <td>Les Républicains</td>\n",
       "      <td>[{'mandat': '20/06/2012 /  / '}, {'mandat': '0...</td>\n",
       "      <td>Médecin anesthésiste-réanimateur</td>\n",
       "      <td>183</td>\n",
       "      <td>marc-laffineur</td>\n",
       "      <td>2</td>\n",
       "      <td>2012-2017</td>\n",
       "    </tr>\n",
       "  </tbody>\n",
       "</table>\n",
       "<p>5 rows × 21 columns</p>\n",
       "</div>"
      ],
      "text/plain": [
       "   id                   nom nom_de_famille         prenom sexe date_naissance  \\\n",
       "0   1  Jean-François Lamour         Lamour  Jean-François    H     1956-02-02   \n",
       "1   2   Jean-Michel Clément        Clément    Jean-Michel    H     1954-10-31   \n",
       "2   3        Bernard Reynès         Reynès        Bernard    H     1953-10-18   \n",
       "3   4        Sandrine Hurel          Hurel       Sandrine    F     1968-08-07   \n",
       "4   5        Marc Laffineur      Laffineur           Marc    H     1945-08-10   \n",
       "\n",
       "        lieu_naissance num_deptmt         nom_circo  num_circo  ...  \\\n",
       "0        Paris (Paris)         75             Paris         13  ...   \n",
       "1  Mauprevoir (Vienne)         86            Vienne          3  ...   \n",
       "2       Meknès (Maroc)         13  Bouches-du-Rhône         15  ...   \n",
       "3   Lisieux (Calvados)         76    Seine-Maritime          6  ...   \n",
       "4      Maubeuge (Nord)         49    Maine-et-Loire          7  ...   \n",
       "\n",
       "   mandat_fin ancien_depute  groupe_sigle parti_ratt_financier  \\\n",
       "0  2017-06-20             1            LR     Les Républicains   \n",
       "1  2017-06-20             1           SER     Parti socialiste   \n",
       "2  2017-06-20             1            LR     Les Républicains   \n",
       "3  2015-08-27             1                   Parti socialiste   \n",
       "4  2017-06-20             1            LR     Les Républicains   \n",
       "\n",
       "                                     anciens_mandats  \\\n",
       "0  [{'mandat': '20/06/2007 / 19/06/2012 / fin de ...   \n",
       "1  [{'mandat': '20/06/2007 / 19/06/2012 / fin de ...   \n",
       "2  [{'mandat': '20/06/2007 / 19/06/2012 / fin de ...   \n",
       "3  [{'mandat': '20/06/2007 / 19/06/2012 / fin de ...   \n",
       "4  [{'mandat': '20/06/2012 /  / '}, {'mandat': '0...   \n",
       "\n",
       "                         profession place_en_hemicycle                  slug  \\\n",
       "0                  Kinésithérapeute                 80  jean-francois-lamour   \n",
       "1                            Avocat                263   jean-michel-clement   \n",
       "2               Chirurgien-Dentiste                190        bernard-reynes   \n",
       "3           Secrétaire de direction                460        sandrine-hurel   \n",
       "4  Médecin anesthésiste-réanimateur                183        marc-laffineur   \n",
       "\n",
       "  nb_mandats  legislature  \n",
       "0          2    2012-2017  \n",
       "1          2    2012-2017  \n",
       "2          2    2012-2017  \n",
       "3          2    2012-2017  \n",
       "4          2    2012-2017  \n",
       "\n",
       "[5 rows x 21 columns]"
      ]
     },
     "execution_count": 6,
     "metadata": {},
     "output_type": "execute_result"
    }
   ],
   "source": [
    "processor14.deputies_df_processed.head()"
   ]
  },
  {
   "attachments": {},
   "cell_type": "markdown",
   "metadata": {},
   "source": [
    "We can then look at some descriptive statistics :"
   ]
  },
  {
   "cell_type": "code",
   "execution_count": 7,
   "metadata": {},
   "outputs": [],
   "source": [
    "ddf = processor14.deputies_df_processed.copy()\n",
    "ddf[\"date_naissance\"] = pd.to_datetime(ddf[\"date_naissance\"])\n",
    "\n",
    "dddf = pd.DataFrame(\n",
    "    {\n",
    "        \"Groupe\": ddf[\"groupe_sigle\"]\n",
    "        .map(label_dict_14th)\n",
    "        .map({0.0: \"Gauche\", 1.0: \"Centre\", 2.0: \"Droite\"}),\n",
    "        \"Partie\": ddf[\"groupe_sigle\"].map(lambda x: \"NI\" if x == \"\" else x),\n",
    "    }\n",
    ")"
   ]
  },
  {
   "cell_type": "code",
   "execution_count": 8,
   "metadata": {},
   "outputs": [
    {
     "data": {
      "application/vnd.plotly.v1+json": {
       "config": {
        "plotlyServerURL": "https://plot.ly"
       },
       "data": [
        {
         "branchvalues": "total",
         "domain": {
          "x": [
           0,
           1
          ],
          "y": [
           0,
           1
          ]
         },
         "hovertemplate": "labels=%{label}<br>count=%{value}<br>parent=%{parent}<br>id=%{id}<extra></extra>",
         "ids": [
          "Gauche/GDR",
          "Droite/LR",
          "Droite/NI",
          "Centre/RRDP",
          "Gauche/SER",
          "Centre/UDI",
          "Centre",
          "Droite",
          "Gauche"
         ],
         "labels": [
          "GDR",
          "LR",
          "NI",
          "RRDP",
          "SER",
          "UDI",
          "Centre",
          "Droite",
          "Gauche"
         ],
         "name": "",
         "parents": [
          "Gauche",
          "Droite",
          "Droite",
          "Centre",
          "Gauche",
          "Centre",
          "",
          "",
          ""
         ],
         "type": "sunburst",
         "values": [
          15,
          205,
          82,
          20,
          294,
          32,
          52,
          287,
          309
         ]
        }
       ],
       "layout": {
        "legend": {
         "tracegroupgap": 0
        },
        "sunburstcolorway": [
         "rgb(251,180,174)",
         "rgb(179,205,227)",
         "rgb(204,235,197)",
         "rgb(222,203,228)",
         "rgb(254,217,166)",
         "rgb(255,255,204)",
         "rgb(229,216,189)",
         "rgb(253,218,236)",
         "rgb(242,242,242)"
        ],
        "template": {
         "data": {
          "bar": [
           {
            "error_x": {
             "color": "#2a3f5f"
            },
            "error_y": {
             "color": "#2a3f5f"
            },
            "marker": {
             "line": {
              "color": "#E5ECF6",
              "width": 0.5
             },
             "pattern": {
              "fillmode": "overlay",
              "size": 10,
              "solidity": 0.2
             }
            },
            "type": "bar"
           }
          ],
          "barpolar": [
           {
            "marker": {
             "line": {
              "color": "#E5ECF6",
              "width": 0.5
             },
             "pattern": {
              "fillmode": "overlay",
              "size": 10,
              "solidity": 0.2
             }
            },
            "type": "barpolar"
           }
          ],
          "carpet": [
           {
            "aaxis": {
             "endlinecolor": "#2a3f5f",
             "gridcolor": "white",
             "linecolor": "white",
             "minorgridcolor": "white",
             "startlinecolor": "#2a3f5f"
            },
            "baxis": {
             "endlinecolor": "#2a3f5f",
             "gridcolor": "white",
             "linecolor": "white",
             "minorgridcolor": "white",
             "startlinecolor": "#2a3f5f"
            },
            "type": "carpet"
           }
          ],
          "choropleth": [
           {
            "colorbar": {
             "outlinewidth": 0,
             "ticks": ""
            },
            "type": "choropleth"
           }
          ],
          "contour": [
           {
            "colorbar": {
             "outlinewidth": 0,
             "ticks": ""
            },
            "colorscale": [
             [
              0,
              "#0d0887"
             ],
             [
              0.1111111111111111,
              "#46039f"
             ],
             [
              0.2222222222222222,
              "#7201a8"
             ],
             [
              0.3333333333333333,
              "#9c179e"
             ],
             [
              0.4444444444444444,
              "#bd3786"
             ],
             [
              0.5555555555555556,
              "#d8576b"
             ],
             [
              0.6666666666666666,
              "#ed7953"
             ],
             [
              0.7777777777777778,
              "#fb9f3a"
             ],
             [
              0.8888888888888888,
              "#fdca26"
             ],
             [
              1,
              "#f0f921"
             ]
            ],
            "type": "contour"
           }
          ],
          "contourcarpet": [
           {
            "colorbar": {
             "outlinewidth": 0,
             "ticks": ""
            },
            "type": "contourcarpet"
           }
          ],
          "heatmap": [
           {
            "colorbar": {
             "outlinewidth": 0,
             "ticks": ""
            },
            "colorscale": [
             [
              0,
              "#0d0887"
             ],
             [
              0.1111111111111111,
              "#46039f"
             ],
             [
              0.2222222222222222,
              "#7201a8"
             ],
             [
              0.3333333333333333,
              "#9c179e"
             ],
             [
              0.4444444444444444,
              "#bd3786"
             ],
             [
              0.5555555555555556,
              "#d8576b"
             ],
             [
              0.6666666666666666,
              "#ed7953"
             ],
             [
              0.7777777777777778,
              "#fb9f3a"
             ],
             [
              0.8888888888888888,
              "#fdca26"
             ],
             [
              1,
              "#f0f921"
             ]
            ],
            "type": "heatmap"
           }
          ],
          "heatmapgl": [
           {
            "colorbar": {
             "outlinewidth": 0,
             "ticks": ""
            },
            "colorscale": [
             [
              0,
              "#0d0887"
             ],
             [
              0.1111111111111111,
              "#46039f"
             ],
             [
              0.2222222222222222,
              "#7201a8"
             ],
             [
              0.3333333333333333,
              "#9c179e"
             ],
             [
              0.4444444444444444,
              "#bd3786"
             ],
             [
              0.5555555555555556,
              "#d8576b"
             ],
             [
              0.6666666666666666,
              "#ed7953"
             ],
             [
              0.7777777777777778,
              "#fb9f3a"
             ],
             [
              0.8888888888888888,
              "#fdca26"
             ],
             [
              1,
              "#f0f921"
             ]
            ],
            "type": "heatmapgl"
           }
          ],
          "histogram": [
           {
            "marker": {
             "pattern": {
              "fillmode": "overlay",
              "size": 10,
              "solidity": 0.2
             }
            },
            "type": "histogram"
           }
          ],
          "histogram2d": [
           {
            "colorbar": {
             "outlinewidth": 0,
             "ticks": ""
            },
            "colorscale": [
             [
              0,
              "#0d0887"
             ],
             [
              0.1111111111111111,
              "#46039f"
             ],
             [
              0.2222222222222222,
              "#7201a8"
             ],
             [
              0.3333333333333333,
              "#9c179e"
             ],
             [
              0.4444444444444444,
              "#bd3786"
             ],
             [
              0.5555555555555556,
              "#d8576b"
             ],
             [
              0.6666666666666666,
              "#ed7953"
             ],
             [
              0.7777777777777778,
              "#fb9f3a"
             ],
             [
              0.8888888888888888,
              "#fdca26"
             ],
             [
              1,
              "#f0f921"
             ]
            ],
            "type": "histogram2d"
           }
          ],
          "histogram2dcontour": [
           {
            "colorbar": {
             "outlinewidth": 0,
             "ticks": ""
            },
            "colorscale": [
             [
              0,
              "#0d0887"
             ],
             [
              0.1111111111111111,
              "#46039f"
             ],
             [
              0.2222222222222222,
              "#7201a8"
             ],
             [
              0.3333333333333333,
              "#9c179e"
             ],
             [
              0.4444444444444444,
              "#bd3786"
             ],
             [
              0.5555555555555556,
              "#d8576b"
             ],
             [
              0.6666666666666666,
              "#ed7953"
             ],
             [
              0.7777777777777778,
              "#fb9f3a"
             ],
             [
              0.8888888888888888,
              "#fdca26"
             ],
             [
              1,
              "#f0f921"
             ]
            ],
            "type": "histogram2dcontour"
           }
          ],
          "mesh3d": [
           {
            "colorbar": {
             "outlinewidth": 0,
             "ticks": ""
            },
            "type": "mesh3d"
           }
          ],
          "parcoords": [
           {
            "line": {
             "colorbar": {
              "outlinewidth": 0,
              "ticks": ""
             }
            },
            "type": "parcoords"
           }
          ],
          "pie": [
           {
            "automargin": true,
            "type": "pie"
           }
          ],
          "scatter": [
           {
            "fillpattern": {
             "fillmode": "overlay",
             "size": 10,
             "solidity": 0.2
            },
            "type": "scatter"
           }
          ],
          "scatter3d": [
           {
            "line": {
             "colorbar": {
              "outlinewidth": 0,
              "ticks": ""
             }
            },
            "marker": {
             "colorbar": {
              "outlinewidth": 0,
              "ticks": ""
             }
            },
            "type": "scatter3d"
           }
          ],
          "scattercarpet": [
           {
            "marker": {
             "colorbar": {
              "outlinewidth": 0,
              "ticks": ""
             }
            },
            "type": "scattercarpet"
           }
          ],
          "scattergeo": [
           {
            "marker": {
             "colorbar": {
              "outlinewidth": 0,
              "ticks": ""
             }
            },
            "type": "scattergeo"
           }
          ],
          "scattergl": [
           {
            "marker": {
             "colorbar": {
              "outlinewidth": 0,
              "ticks": ""
             }
            },
            "type": "scattergl"
           }
          ],
          "scattermapbox": [
           {
            "marker": {
             "colorbar": {
              "outlinewidth": 0,
              "ticks": ""
             }
            },
            "type": "scattermapbox"
           }
          ],
          "scatterpolar": [
           {
            "marker": {
             "colorbar": {
              "outlinewidth": 0,
              "ticks": ""
             }
            },
            "type": "scatterpolar"
           }
          ],
          "scatterpolargl": [
           {
            "marker": {
             "colorbar": {
              "outlinewidth": 0,
              "ticks": ""
             }
            },
            "type": "scatterpolargl"
           }
          ],
          "scatterternary": [
           {
            "marker": {
             "colorbar": {
              "outlinewidth": 0,
              "ticks": ""
             }
            },
            "type": "scatterternary"
           }
          ],
          "surface": [
           {
            "colorbar": {
             "outlinewidth": 0,
             "ticks": ""
            },
            "colorscale": [
             [
              0,
              "#0d0887"
             ],
             [
              0.1111111111111111,
              "#46039f"
             ],
             [
              0.2222222222222222,
              "#7201a8"
             ],
             [
              0.3333333333333333,
              "#9c179e"
             ],
             [
              0.4444444444444444,
              "#bd3786"
             ],
             [
              0.5555555555555556,
              "#d8576b"
             ],
             [
              0.6666666666666666,
              "#ed7953"
             ],
             [
              0.7777777777777778,
              "#fb9f3a"
             ],
             [
              0.8888888888888888,
              "#fdca26"
             ],
             [
              1,
              "#f0f921"
             ]
            ],
            "type": "surface"
           }
          ],
          "table": [
           {
            "cells": {
             "fill": {
              "color": "#EBF0F8"
             },
             "line": {
              "color": "white"
             }
            },
            "header": {
             "fill": {
              "color": "#C8D4E3"
             },
             "line": {
              "color": "white"
             }
            },
            "type": "table"
           }
          ]
         },
         "layout": {
          "annotationdefaults": {
           "arrowcolor": "#2a3f5f",
           "arrowhead": 0,
           "arrowwidth": 1
          },
          "autotypenumbers": "strict",
          "coloraxis": {
           "colorbar": {
            "outlinewidth": 0,
            "ticks": ""
           }
          },
          "colorscale": {
           "diverging": [
            [
             0,
             "#8e0152"
            ],
            [
             0.1,
             "#c51b7d"
            ],
            [
             0.2,
             "#de77ae"
            ],
            [
             0.3,
             "#f1b6da"
            ],
            [
             0.4,
             "#fde0ef"
            ],
            [
             0.5,
             "#f7f7f7"
            ],
            [
             0.6,
             "#e6f5d0"
            ],
            [
             0.7,
             "#b8e186"
            ],
            [
             0.8,
             "#7fbc41"
            ],
            [
             0.9,
             "#4d9221"
            ],
            [
             1,
             "#276419"
            ]
           ],
           "sequential": [
            [
             0,
             "#0d0887"
            ],
            [
             0.1111111111111111,
             "#46039f"
            ],
            [
             0.2222222222222222,
             "#7201a8"
            ],
            [
             0.3333333333333333,
             "#9c179e"
            ],
            [
             0.4444444444444444,
             "#bd3786"
            ],
            [
             0.5555555555555556,
             "#d8576b"
            ],
            [
             0.6666666666666666,
             "#ed7953"
            ],
            [
             0.7777777777777778,
             "#fb9f3a"
            ],
            [
             0.8888888888888888,
             "#fdca26"
            ],
            [
             1,
             "#f0f921"
            ]
           ],
           "sequentialminus": [
            [
             0,
             "#0d0887"
            ],
            [
             0.1111111111111111,
             "#46039f"
            ],
            [
             0.2222222222222222,
             "#7201a8"
            ],
            [
             0.3333333333333333,
             "#9c179e"
            ],
            [
             0.4444444444444444,
             "#bd3786"
            ],
            [
             0.5555555555555556,
             "#d8576b"
            ],
            [
             0.6666666666666666,
             "#ed7953"
            ],
            [
             0.7777777777777778,
             "#fb9f3a"
            ],
            [
             0.8888888888888888,
             "#fdca26"
            ],
            [
             1,
             "#f0f921"
            ]
           ]
          },
          "colorway": [
           "#636efa",
           "#EF553B",
           "#00cc96",
           "#ab63fa",
           "#FFA15A",
           "#19d3f3",
           "#FF6692",
           "#B6E880",
           "#FF97FF",
           "#FECB52"
          ],
          "font": {
           "color": "#2a3f5f"
          },
          "geo": {
           "bgcolor": "white",
           "lakecolor": "white",
           "landcolor": "#E5ECF6",
           "showlakes": true,
           "showland": true,
           "subunitcolor": "white"
          },
          "hoverlabel": {
           "align": "left"
          },
          "hovermode": "closest",
          "mapbox": {
           "style": "light"
          },
          "paper_bgcolor": "white",
          "plot_bgcolor": "#E5ECF6",
          "polar": {
           "angularaxis": {
            "gridcolor": "white",
            "linecolor": "white",
            "ticks": ""
           },
           "bgcolor": "#E5ECF6",
           "radialaxis": {
            "gridcolor": "white",
            "linecolor": "white",
            "ticks": ""
           }
          },
          "scene": {
           "xaxis": {
            "backgroundcolor": "#E5ECF6",
            "gridcolor": "white",
            "gridwidth": 2,
            "linecolor": "white",
            "showbackground": true,
            "ticks": "",
            "zerolinecolor": "white"
           },
           "yaxis": {
            "backgroundcolor": "#E5ECF6",
            "gridcolor": "white",
            "gridwidth": 2,
            "linecolor": "white",
            "showbackground": true,
            "ticks": "",
            "zerolinecolor": "white"
           },
           "zaxis": {
            "backgroundcolor": "#E5ECF6",
            "gridcolor": "white",
            "gridwidth": 2,
            "linecolor": "white",
            "showbackground": true,
            "ticks": "",
            "zerolinecolor": "white"
           }
          },
          "shapedefaults": {
           "line": {
            "color": "#2a3f5f"
           }
          },
          "ternary": {
           "aaxis": {
            "gridcolor": "white",
            "linecolor": "white",
            "ticks": ""
           },
           "baxis": {
            "gridcolor": "white",
            "linecolor": "white",
            "ticks": ""
           },
           "bgcolor": "#E5ECF6",
           "caxis": {
            "gridcolor": "white",
            "linecolor": "white",
            "ticks": ""
           }
          },
          "title": {
           "x": 0.05
          },
          "xaxis": {
           "automargin": true,
           "gridcolor": "white",
           "linecolor": "white",
           "ticks": "",
           "title": {
            "standoff": 15
           },
           "zerolinecolor": "white",
           "zerolinewidth": 2
          },
          "yaxis": {
           "automargin": true,
           "gridcolor": "white",
           "linecolor": "white",
           "ticks": "",
           "title": {
            "standoff": 15
           },
           "zerolinecolor": "white",
           "zerolinewidth": 2
          }
         }
        },
        "title": {
         "text": "Répartition des groupes politiques dans la 14ème législature"
        }
       }
      }
     },
     "metadata": {},
     "output_type": "display_data"
    }
   ],
   "source": [
    "fig = px.sunburst(\n",
    "    dddf,\n",
    "    path=[\"Groupe\", \"Partie\"],\n",
    "    color_discrete_sequence=px.colors.qualitative.Pastel1,\n",
    "    title=\"Répartition des groupes politiques dans la 14ème législature\",\n",
    ")\n",
    "fig.show()\n",
    "fig.write_image(\"../../images/sunburst_groupes.png\")"
   ]
  },
  {
   "cell_type": "code",
   "execution_count": 9,
   "metadata": {},
   "outputs": [
    {
     "data": {
      "image/png": "[encoded data removed]",
      "text/plain": [
       "<Figure size 640x480 with 1 Axes>"
      ]
     },
     "metadata": {},
     "output_type": "display_data"
    }
   ],
   "source": [
    "colors = sns.color_palette(\"pastel\", as_cmap=True)\n",
    "ax = ddf[\"groupe_sigle\"].value_counts().plot.pie(colors=colors, autopct=\"%0.0f%%\")\n",
    "ax.set(ylabel=\"\", title=\"Répartition des groupes politiques dans la 14ème législature\");"
   ]
  },
  {
   "cell_type": "code",
   "execution_count": 10,
   "metadata": {},
   "outputs": [
    {
     "data": {
      "image/png": "[encoded data removed]",
      "text/plain": [
       "<Figure size 2100x300 with 7 Axes>"
      ]
     },
     "metadata": {},
     "output_type": "display_data"
    }
   ],
   "source": [
    "title = \"Répartition des ages selon le groupe politique dans la 14ème législature\"\n",
    "\n",
    "g = sns.FacetGrid(ddf, col=\"groupe_sigle\", margin_titles=True)\n",
    "g.map(sns.histplot, \"date_naissance\", stat=\"probability\")\n",
    "g.set_axis_labels(\"Date de naissance\", \"\")\n",
    "g.figure.suptitle(title, fontsize=16)\n",
    "for group in g.axes_dict:\n",
    "    subtitle = group if group != \"\" else \"Pas de groupe\"\n",
    "    g.axes_dict[group].set_title(subtitle)\n",
    "g.figure.tight_layout()\n",
    "g.figure.savefig(\"../../images/histplot_groupes.png\")"
   ]
  },
  {
   "cell_type": "code",
   "execution_count": 11,
   "metadata": {},
   "outputs": [],
   "source": [
    "sexe_df = ddf.groupby(\"groupe_sigle\")[\"sexe\"].value_counts(normalize=True, sort=True) * 100\n",
    "sexe_df.name = \"percentage\"\n",
    "sexe_df = sexe_df.reset_index()\n",
    "sexe_df[\"groupe_sigle\"] = sexe_df[\"groupe_sigle\"].where(\n",
    "    sexe_df[\"groupe_sigle\"] != \"\", \"Pas de groupe\"\n",
    ")"
   ]
  },
  {
   "cell_type": "code",
   "execution_count": 12,
   "metadata": {},
   "outputs": [
    {
     "data": {
      "image/png": "[encoded data removed]",
      "text/plain": [
       "<Figure size 640x480 with 1 Axes>"
      ]
     },
     "metadata": {},
     "output_type": "display_data"
    }
   ],
   "source": [
    "g = sns.barplot(data=sexe_df, y=\"percentage\", x=\"groupe_sigle\", hue=\"sexe\")\n",
    "sns.despine()\n",
    "plt.xticks(rotation=60)\n",
    "g.set(xlabel=\"Groupe politique\", ylabel=\"Pourcentage\")\n",
    "g.figure.savefig(\"../../images/barplot_sexe.png\")"
   ]
  },
  {
   "cell_type": "code",
   "execution_count": 13,
   "metadata": {},
   "outputs": [
    {
     "data": {
      "image/png": "[encoded data removed]",
      "text/plain": [
       "<Figure size 640x480 with 1 Axes>"
      ]
     },
     "metadata": {},
     "output_type": "display_data"
    }
   ],
   "source": [
    "g = sns.countplot(data=ddf, x=\"nb_mandats\", hue=\"groupe_sigle\")\n",
    "sns.despine()\n",
    "g.set(\n",
    "    xlabel=\"Nombre de mandats\",\n",
    "    ylabel=\"Nombre de députés\",\n",
    "    title=\"Répartition du nombre de mandats selon le groupe politique\",\n",
    ")\n",
    "g.legend(title=\"Groupe politique\")\n",
    "g.figure.savefig(\"../../images/countplot_mandats.png\")"
   ]
  },
  {
   "attachments": {},
   "cell_type": "markdown",
   "metadata": {},
   "source": [
    "## Exploring the processed compiled dataframe\n",
    "\n",
    "Then, we can look at one of the resulting dataframe. We will not explore it more as it is not used as is in the analysis, but it is a intermediate step."
   ]
  },
  {
   "cell_type": "code",
   "execution_count": 14,
   "metadata": {},
   "outputs": [
    {
     "name": "stdout",
     "output_type": "stream",
     "text": [
      "<class 'pandas.core.frame.DataFrame'>\n",
      "RangeIndex: 363572 entries, 0 to 363571\n",
      "Data columns (total 18 columns):\n",
      " #   Column              Non-Null Count   Dtype \n",
      "---  ------              --------------   ----- \n",
      " 0   id                  363572 non-null  int64 \n",
      " 1   seance_id           363572 non-null  int64 \n",
      " 2   date                363572 non-null  object\n",
      " 3   moment              363572 non-null  object\n",
      " 4   type                363572 non-null  object\n",
      " 5   titre_complet       363572 non-null  object\n",
      " 6   titre               363572 non-null  object\n",
      " 7   timestamp           363572 non-null  int64 \n",
      " 8   intervention        363572 non-null  object\n",
      " 9   nb_mots             363572 non-null  int64 \n",
      " 10  personnalite        0 non-null       object\n",
      " 11  depute              363572 non-null  object\n",
      " 12  parlementaire_sexe  363572 non-null  object\n",
      " 13  depute_groupe       363572 non-null  object\n",
      " 14  fonction            72597 non-null   object\n",
      " 15  source              363572 non-null  object\n",
      " 16  intervention_count  363572 non-null  int64 \n",
      " 17  nb_mots_approx      363572 non-null  int64 \n",
      "dtypes: int64(6), object(12)\n",
      "memory usage: 49.9+ MB\n"
     ]
    }
   ],
   "source": [
    "processor14.compiled_data_processed.info()"
   ]
  },
  {
   "cell_type": "code",
   "execution_count": 15,
   "metadata": {},
   "outputs": [
    {
     "data": {
      "text/html": [
       "<div>\n",
       "<style scoped>\n",
       "    .dataframe tbody tr th:only-of-type {\n",
       "        vertical-align: middle;\n",
       "    }\n",
       "\n",
       "    .dataframe tbody tr th {\n",
       "        vertical-align: top;\n",
       "    }\n",
       "\n",
       "    .dataframe thead th {\n",
       "        text-align: right;\n",
       "    }\n",
       "</style>\n",
       "<table border=\"1\" class=\"dataframe\">\n",
       "  <thead>\n",
       "    <tr style=\"text-align: right;\">\n",
       "      <th></th>\n",
       "      <th>id</th>\n",
       "      <th>seance_id</th>\n",
       "      <th>date</th>\n",
       "      <th>moment</th>\n",
       "      <th>type</th>\n",
       "      <th>titre_complet</th>\n",
       "      <th>titre</th>\n",
       "      <th>timestamp</th>\n",
       "      <th>intervention</th>\n",
       "      <th>nb_mots</th>\n",
       "      <th>personnalite</th>\n",
       "      <th>depute</th>\n",
       "      <th>parlementaire_sexe</th>\n",
       "      <th>depute_groupe</th>\n",
       "      <th>fonction</th>\n",
       "      <th>source</th>\n",
       "      <th>intervention_count</th>\n",
       "      <th>nb_mots_approx</th>\n",
       "    </tr>\n",
       "  </thead>\n",
       "  <tbody>\n",
       "    <tr>\n",
       "      <th>0</th>\n",
       "      <td>125</td>\n",
       "      <td>11</td>\n",
       "      <td>2012-07-03</td>\n",
       "      <td>15:00</td>\n",
       "      <td>loi</td>\n",
       "      <td>déclaration de politique générale du gouvernem...</td>\n",
       "      <td>déclaration de politique générale du gouvernem...</td>\n",
       "      <td>190</td>\n",
       "      <td>Alors, arrêtez de dépenser !</td>\n",
       "      <td>8</td>\n",
       "      <td>NaN</td>\n",
       "      <td>Pierre Lellouche</td>\n",
       "      <td>H</td>\n",
       "      <td>UMP</td>\n",
       "      <td>NaN</td>\n",
       "      <td>http://www.assemblee-nationale.fr/14/cri/2011-...</td>\n",
       "      <td>1562</td>\n",
       "      <td>5</td>\n",
       "    </tr>\n",
       "    <tr>\n",
       "      <th>1</th>\n",
       "      <td>531</td>\n",
       "      <td>22</td>\n",
       "      <td>2012-07-04</td>\n",
       "      <td>15:00</td>\n",
       "      <td>loi</td>\n",
       "      <td>rappels au règlement</td>\n",
       "      <td>rappels au règlement</td>\n",
       "      <td>160</td>\n",
       "      <td>Commencez par respecter l'opposition ! (Protes...</td>\n",
       "      <td>16</td>\n",
       "      <td>NaN</td>\n",
       "      <td>Pierre Lellouche</td>\n",
       "      <td>H</td>\n",
       "      <td>UMP</td>\n",
       "      <td>NaN</td>\n",
       "      <td>http://www.assemblee-nationale.fr/14/cri/2011-...</td>\n",
       "      <td>1562</td>\n",
       "      <td>16</td>\n",
       "    </tr>\n",
       "    <tr>\n",
       "      <th>2</th>\n",
       "      <td>568</td>\n",
       "      <td>22</td>\n",
       "      <td>2012-07-04</td>\n",
       "      <td>15:00</td>\n",
       "      <td>loi</td>\n",
       "      <td>débat sur les résultats du conseil européen de...</td>\n",
       "      <td>débat sur les résultats du conseil européen de...</td>\n",
       "      <td>530</td>\n",
       "      <td>Apprenez à respecter le Parlement ! Où vous cr...</td>\n",
       "      <td>9</td>\n",
       "      <td>NaN</td>\n",
       "      <td>Pierre Lellouche</td>\n",
       "      <td>H</td>\n",
       "      <td>UMP</td>\n",
       "      <td>NaN</td>\n",
       "      <td>http://www.assemblee-nationale.fr/14/cri/2011-...</td>\n",
       "      <td>1562</td>\n",
       "      <td>10</td>\n",
       "    </tr>\n",
       "    <tr>\n",
       "      <th>3</th>\n",
       "      <td>827</td>\n",
       "      <td>22</td>\n",
       "      <td>2012-07-04</td>\n",
       "      <td>15:00</td>\n",
       "      <td>loi</td>\n",
       "      <td>débat sur les résultats du conseil européen de...</td>\n",
       "      <td>débat sur les résultats du conseil européen de...</td>\n",
       "      <td>3120</td>\n",
       "      <td>Madame la présidente, monsieur le ministre, me...</td>\n",
       "      <td>186</td>\n",
       "      <td>NaN</td>\n",
       "      <td>Pierre Lellouche</td>\n",
       "      <td>H</td>\n",
       "      <td>UMP</td>\n",
       "      <td>NaN</td>\n",
       "      <td>http://www.assemblee-nationale.fr/14/cri/2011-...</td>\n",
       "      <td>1562</td>\n",
       "      <td>181</td>\n",
       "    </tr>\n",
       "    <tr>\n",
       "      <th>4</th>\n",
       "      <td>829</td>\n",
       "      <td>22</td>\n",
       "      <td>2012-07-04</td>\n",
       "      <td>15:00</td>\n",
       "      <td>loi</td>\n",
       "      <td>débat sur les résultats du conseil européen de...</td>\n",
       "      <td>débat sur les résultats du conseil européen de...</td>\n",
       "      <td>3140</td>\n",
       "      <td>Bien sûr, les impôts vont à nouveau pleuvoir c...</td>\n",
       "      <td>64</td>\n",
       "      <td>NaN</td>\n",
       "      <td>Pierre Lellouche</td>\n",
       "      <td>H</td>\n",
       "      <td>UMP</td>\n",
       "      <td>NaN</td>\n",
       "      <td>http://www.assemblee-nationale.fr/14/cri/2011-...</td>\n",
       "      <td>1562</td>\n",
       "      <td>58</td>\n",
       "    </tr>\n",
       "  </tbody>\n",
       "</table>\n",
       "</div>"
      ],
      "text/plain": [
       "    id  seance_id        date moment type  \\\n",
       "0  125         11  2012-07-03  15:00  loi   \n",
       "1  531         22  2012-07-04  15:00  loi   \n",
       "2  568         22  2012-07-04  15:00  loi   \n",
       "3  827         22  2012-07-04  15:00  loi   \n",
       "4  829         22  2012-07-04  15:00  loi   \n",
       "\n",
       "                                       titre_complet  \\\n",
       "0  déclaration de politique générale du gouvernem...   \n",
       "1                               rappels au règlement   \n",
       "2  débat sur les résultats du conseil européen de...   \n",
       "3  débat sur les résultats du conseil européen de...   \n",
       "4  débat sur les résultats du conseil européen de...   \n",
       "\n",
       "                                               titre  timestamp  \\\n",
       "0  déclaration de politique générale du gouvernem...        190   \n",
       "1                               rappels au règlement        160   \n",
       "2  débat sur les résultats du conseil européen de...        530   \n",
       "3  débat sur les résultats du conseil européen de...       3120   \n",
       "4  débat sur les résultats du conseil européen de...       3140   \n",
       "\n",
       "                                        intervention  nb_mots personnalite  \\\n",
       "0                       Alors, arrêtez de dépenser !        8          NaN   \n",
       "1  Commencez par respecter l'opposition ! (Protes...       16          NaN   \n",
       "2  Apprenez à respecter le Parlement ! Où vous cr...        9          NaN   \n",
       "3  Madame la présidente, monsieur le ministre, me...      186          NaN   \n",
       "4  Bien sûr, les impôts vont à nouveau pleuvoir c...       64          NaN   \n",
       "\n",
       "             depute parlementaire_sexe depute_groupe fonction  \\\n",
       "0  Pierre Lellouche                  H           UMP      NaN   \n",
       "1  Pierre Lellouche                  H           UMP      NaN   \n",
       "2  Pierre Lellouche                  H           UMP      NaN   \n",
       "3  Pierre Lellouche                  H           UMP      NaN   \n",
       "4  Pierre Lellouche                  H           UMP      NaN   \n",
       "\n",
       "                                              source  intervention_count  \\\n",
       "0  http://www.assemblee-nationale.fr/14/cri/2011-...                1562   \n",
       "1  http://www.assemblee-nationale.fr/14/cri/2011-...                1562   \n",
       "2  http://www.assemblee-nationale.fr/14/cri/2011-...                1562   \n",
       "3  http://www.assemblee-nationale.fr/14/cri/2011-...                1562   \n",
       "4  http://www.assemblee-nationale.fr/14/cri/2011-...                1562   \n",
       "\n",
       "   nb_mots_approx  \n",
       "0               5  \n",
       "1              16  \n",
       "2              10  \n",
       "3             181  \n",
       "4              58  "
      ]
     },
     "execution_count": 15,
     "metadata": {},
     "output_type": "execute_result"
    }
   ],
   "source": [
    "processor14.compiled_data_processed.head()"
   ]
  },
  {
   "attachments": {},
   "cell_type": "markdown",
   "metadata": {},
   "source": [
    "## Exploring the merged dataframes\n",
    "\n",
    "Here, we look at the merged dataframes. Those are the dataframes that will be used for the analysis.\n",
    "\n",
    "The first one contains larger interventions, since it is the result of grouping the interventions by deputies, session and theme.\n",
    "\n",
    "The second contains smaller interventions as they are kept as is."
   ]
  },
  {
   "cell_type": "code",
   "execution_count": 16,
   "metadata": {},
   "outputs": [
    {
     "name": "stdout",
     "output_type": "stream",
     "text": [
      "<class 'pandas.core.frame.DataFrame'>\n",
      "Int64Index: 74608 entries, 0 to 74607\n",
      "Data columns (total 27 columns):\n",
      " #   Column              Non-Null Count  Dtype         \n",
      "---  ------              --------------  -----         \n",
      " 0   seance_id           74608 non-null  int64         \n",
      " 1   date_seance         74608 non-null  object        \n",
      " 2   nom                 74608 non-null  object        \n",
      " 3   groupe              74608 non-null  object        \n",
      " 4   titre               74608 non-null  object        \n",
      " 5   titre_complet       74608 non-null  object        \n",
      " 6   intervention_count  74608 non-null  int64         \n",
      " 7   intervention        74608 non-null  object        \n",
      " 8   nb_mots             74608 non-null  int64         \n",
      " 9   nb_mots_approx      74608 non-null  int64         \n",
      " 10  date_naissance      74608 non-null  object        \n",
      " 11  sexe                74608 non-null  object        \n",
      " 12  profession          74608 non-null  object        \n",
      " 13  nb_mandats          74608 non-null  int64         \n",
      " 14  date                74608 non-null  datetime64[ns]\n",
      " 15  year                74608 non-null  int64         \n",
      " 16  month               74608 non-null  int64         \n",
      " 17  day                 74608 non-null  int64         \n",
      " 18  y_naissance         74608 non-null  int64         \n",
      " 19  n_y_naissance       74608 non-null  float64       \n",
      " 20  n_year              74608 non-null  float64       \n",
      " 21  cos_month           74608 non-null  float64       \n",
      " 22  sin_month           74608 non-null  float64       \n",
      " 23  cos_day             74608 non-null  float64       \n",
      " 24  sin_day             74608 non-null  float64       \n",
      " 25  n_sexe              74608 non-null  int64         \n",
      " 26  label               74608 non-null  int64         \n",
      "dtypes: datetime64[ns](1), float64(6), int64(11), object(9)\n",
      "memory usage: 15.9+ MB\n"
     ]
    }
   ],
   "source": [
    "processor14.processed_data.info()"
   ]
  },
  {
   "cell_type": "code",
   "execution_count": 17,
   "metadata": {},
   "outputs": [
    {
     "data": {
      "text/html": [
       "<div>\n",
       "<style scoped>\n",
       "    .dataframe tbody tr th:only-of-type {\n",
       "        vertical-align: middle;\n",
       "    }\n",
       "\n",
       "    .dataframe tbody tr th {\n",
       "        vertical-align: top;\n",
       "    }\n",
       "\n",
       "    .dataframe thead th {\n",
       "        text-align: right;\n",
       "    }\n",
       "</style>\n",
       "<table border=\"1\" class=\"dataframe\">\n",
       "  <thead>\n",
       "    <tr style=\"text-align: right;\">\n",
       "      <th></th>\n",
       "      <th>seance_id</th>\n",
       "      <th>date_seance</th>\n",
       "      <th>nom</th>\n",
       "      <th>groupe</th>\n",
       "      <th>titre</th>\n",
       "      <th>titre_complet</th>\n",
       "      <th>intervention_count</th>\n",
       "      <th>intervention</th>\n",
       "      <th>nb_mots</th>\n",
       "      <th>nb_mots_approx</th>\n",
       "      <th>...</th>\n",
       "      <th>day</th>\n",
       "      <th>y_naissance</th>\n",
       "      <th>n_y_naissance</th>\n",
       "      <th>n_year</th>\n",
       "      <th>cos_month</th>\n",
       "      <th>sin_month</th>\n",
       "      <th>cos_day</th>\n",
       "      <th>sin_day</th>\n",
       "      <th>n_sexe</th>\n",
       "      <th>label</th>\n",
       "    </tr>\n",
       "  </thead>\n",
       "  <tbody>\n",
       "    <tr>\n",
       "      <th>0</th>\n",
       "      <td>11</td>\n",
       "      <td>2012-07-03</td>\n",
       "      <td>André Chassaigne</td>\n",
       "      <td>GDR</td>\n",
       "      <td>déclaration de politique générale du gouvernement</td>\n",
       "      <td>déclaration de politique générale du gouvernem...</td>\n",
       "      <td>3634</td>\n",
       "      <td>Dois-je attendre M. le Premier ministre ? Mons...</td>\n",
       "      <td>27737</td>\n",
       "      <td>2425</td>\n",
       "      <td>...</td>\n",
       "      <td>3</td>\n",
       "      <td>1950</td>\n",
       "      <td>0.878049</td>\n",
       "      <td>0.0</td>\n",
       "      <td>-0.866025</td>\n",
       "      <td>-0.5</td>\n",
       "      <td>0.820763</td>\n",
       "      <td>0.571268</td>\n",
       "      <td>0</td>\n",
       "      <td>0</td>\n",
       "    </tr>\n",
       "    <tr>\n",
       "      <th>1</th>\n",
       "      <td>22</td>\n",
       "      <td>2012-07-04</td>\n",
       "      <td>André Chassaigne</td>\n",
       "      <td>GDR</td>\n",
       "      <td>débat sur les résultats du conseil européen de...</td>\n",
       "      <td>débat sur les résultats du conseil européen de...</td>\n",
       "      <td>3634</td>\n",
       "      <td>Il faut vérifier que le peuple soit d'accord !</td>\n",
       "      <td>11</td>\n",
       "      <td>9</td>\n",
       "      <td>...</td>\n",
       "      <td>4</td>\n",
       "      <td>1950</td>\n",
       "      <td>0.878049</td>\n",
       "      <td>0.0</td>\n",
       "      <td>-0.866025</td>\n",
       "      <td>-0.5</td>\n",
       "      <td>0.688967</td>\n",
       "      <td>0.724793</td>\n",
       "      <td>0</td>\n",
       "      <td>0</td>\n",
       "    </tr>\n",
       "    <tr>\n",
       "      <th>2</th>\n",
       "      <td>79</td>\n",
       "      <td>2012-07-18</td>\n",
       "      <td>André Chassaigne</td>\n",
       "      <td>GDR</td>\n",
       "      <td>article 2</td>\n",
       "      <td>projet de loi de finances rectificative pour 2...</td>\n",
       "      <td>3634</td>\n",
       "      <td>Quand je vous écoute, chers collègues de l'opp...</td>\n",
       "      <td>629</td>\n",
       "      <td>597</td>\n",
       "      <td>...</td>\n",
       "      <td>18</td>\n",
       "      <td>1950</td>\n",
       "      <td>0.878049</td>\n",
       "      <td>0.0</td>\n",
       "      <td>-0.866025</td>\n",
       "      <td>-0.5</td>\n",
       "      <td>-0.874347</td>\n",
       "      <td>-0.485302</td>\n",
       "      <td>0</td>\n",
       "      <td>0</td>\n",
       "    </tr>\n",
       "    <tr>\n",
       "      <th>3</th>\n",
       "      <td>80</td>\n",
       "      <td>2012-07-19</td>\n",
       "      <td>André Chassaigne</td>\n",
       "      <td>GDR</td>\n",
       "      <td>article 3</td>\n",
       "      <td>projet de loi de finances rectificative pour 2...</td>\n",
       "      <td>3634</td>\n",
       "      <td>Cet article institue au titre de l'année 2012 ...</td>\n",
       "      <td>382</td>\n",
       "      <td>350</td>\n",
       "      <td>...</td>\n",
       "      <td>19</td>\n",
       "      <td>1950</td>\n",
       "      <td>0.878049</td>\n",
       "      <td>0.0</td>\n",
       "      <td>-0.866025</td>\n",
       "      <td>-0.5</td>\n",
       "      <td>-0.758758</td>\n",
       "      <td>-0.651372</td>\n",
       "      <td>0</td>\n",
       "      <td>0</td>\n",
       "    </tr>\n",
       "    <tr>\n",
       "      <th>4</th>\n",
       "      <td>112</td>\n",
       "      <td>2012-07-25</td>\n",
       "      <td>André Chassaigne</td>\n",
       "      <td>GDR</td>\n",
       "      <td>discussion générale</td>\n",
       "      <td>protection physique des matières nucléaires &gt; ...</td>\n",
       "      <td>3634</td>\n",
       "      <td>Madame la présidente, madame la ministre délég...</td>\n",
       "      <td>48330</td>\n",
       "      <td>1560</td>\n",
       "      <td>...</td>\n",
       "      <td>25</td>\n",
       "      <td>1950</td>\n",
       "      <td>0.878049</td>\n",
       "      <td>0.0</td>\n",
       "      <td>-0.866025</td>\n",
       "      <td>-0.5</td>\n",
       "      <td>0.347305</td>\n",
       "      <td>-0.937752</td>\n",
       "      <td>0</td>\n",
       "      <td>0</td>\n",
       "    </tr>\n",
       "  </tbody>\n",
       "</table>\n",
       "<p>5 rows × 27 columns</p>\n",
       "</div>"
      ],
      "text/plain": [
       "   seance_id date_seance               nom groupe  \\\n",
       "0         11  2012-07-03  André Chassaigne    GDR   \n",
       "1         22  2012-07-04  André Chassaigne    GDR   \n",
       "2         79  2012-07-18  André Chassaigne    GDR   \n",
       "3         80  2012-07-19  André Chassaigne    GDR   \n",
       "4        112  2012-07-25  André Chassaigne    GDR   \n",
       "\n",
       "                                               titre  \\\n",
       "0  déclaration de politique générale du gouvernement   \n",
       "1  débat sur les résultats du conseil européen de...   \n",
       "2                                          article 2   \n",
       "3                                          article 3   \n",
       "4                                discussion générale   \n",
       "\n",
       "                                       titre_complet  intervention_count  \\\n",
       "0  déclaration de politique générale du gouvernem...                3634   \n",
       "1  débat sur les résultats du conseil européen de...                3634   \n",
       "2  projet de loi de finances rectificative pour 2...                3634   \n",
       "3  projet de loi de finances rectificative pour 2...                3634   \n",
       "4  protection physique des matières nucléaires > ...                3634   \n",
       "\n",
       "                                        intervention  nb_mots  nb_mots_approx  \\\n",
       "0  Dois-je attendre M. le Premier ministre ? Mons...    27737            2425   \n",
       "1     Il faut vérifier que le peuple soit d'accord !       11               9   \n",
       "2  Quand je vous écoute, chers collègues de l'opp...      629             597   \n",
       "3  Cet article institue au titre de l'année 2012 ...      382             350   \n",
       "4  Madame la présidente, madame la ministre délég...    48330            1560   \n",
       "\n",
       "   ... day y_naissance n_y_naissance  n_year cos_month  sin_month   cos_day  \\\n",
       "0  ...   3        1950      0.878049     0.0 -0.866025       -0.5  0.820763   \n",
       "1  ...   4        1950      0.878049     0.0 -0.866025       -0.5  0.688967   \n",
       "2  ...  18        1950      0.878049     0.0 -0.866025       -0.5 -0.874347   \n",
       "3  ...  19        1950      0.878049     0.0 -0.866025       -0.5 -0.758758   \n",
       "4  ...  25        1950      0.878049     0.0 -0.866025       -0.5  0.347305   \n",
       "\n",
       "    sin_day  n_sexe  label  \n",
       "0  0.571268       0      0  \n",
       "1  0.724793       0      0  \n",
       "2 -0.485302       0      0  \n",
       "3 -0.651372       0      0  \n",
       "4 -0.937752       0      0  \n",
       "\n",
       "[5 rows x 27 columns]"
      ]
     },
     "execution_count": 17,
     "metadata": {},
     "output_type": "execute_result"
    }
   ],
   "source": [
    "processor14.processed_data.head()"
   ]
  },
  {
   "cell_type": "code",
   "execution_count": 18,
   "metadata": {},
   "outputs": [
    {
     "data": {
      "text/html": [
       "<div>\n",
       "<style scoped>\n",
       "    .dataframe tbody tr th:only-of-type {\n",
       "        vertical-align: middle;\n",
       "    }\n",
       "\n",
       "    .dataframe tbody tr th {\n",
       "        vertical-align: top;\n",
       "    }\n",
       "\n",
       "    .dataframe thead th {\n",
       "        text-align: right;\n",
       "    }\n",
       "</style>\n",
       "<table border=\"1\" class=\"dataframe\">\n",
       "  <thead>\n",
       "    <tr style=\"text-align: right;\">\n",
       "      <th></th>\n",
       "      <th>nom</th>\n",
       "      <th>groupe</th>\n",
       "      <th>seance_id</th>\n",
       "      <th>date_seance</th>\n",
       "      <th>titre</th>\n",
       "      <th>titre_complet</th>\n",
       "      <th>intervention</th>\n",
       "      <th>nb_mots</th>\n",
       "      <th>intervention_count</th>\n",
       "      <th>nb_mots_approx</th>\n",
       "      <th>...</th>\n",
       "      <th>day</th>\n",
       "      <th>y_naissance</th>\n",
       "      <th>n_y_naissance</th>\n",
       "      <th>n_year</th>\n",
       "      <th>cos_month</th>\n",
       "      <th>sin_month</th>\n",
       "      <th>cos_day</th>\n",
       "      <th>sin_day</th>\n",
       "      <th>n_sexe</th>\n",
       "      <th>label</th>\n",
       "    </tr>\n",
       "  </thead>\n",
       "  <tbody>\n",
       "    <tr>\n",
       "      <th>0</th>\n",
       "      <td>Pierre Lellouche</td>\n",
       "      <td>UMP</td>\n",
       "      <td>11</td>\n",
       "      <td>2012-07-03</td>\n",
       "      <td>déclaration de politique générale du gouvernem...</td>\n",
       "      <td>déclaration de politique générale du gouvernem...</td>\n",
       "      <td>Alors, arrêtez de dépenser !</td>\n",
       "      <td>8</td>\n",
       "      <td>1562</td>\n",
       "      <td>5</td>\n",
       "      <td>...</td>\n",
       "      <td>3</td>\n",
       "      <td>1951</td>\n",
       "      <td>0.865854</td>\n",
       "      <td>0.0</td>\n",
       "      <td>-0.866025</td>\n",
       "      <td>-0.5</td>\n",
       "      <td>0.820763</td>\n",
       "      <td>0.571268</td>\n",
       "      <td>0</td>\n",
       "      <td>2</td>\n",
       "    </tr>\n",
       "    <tr>\n",
       "      <th>1</th>\n",
       "      <td>Pierre Lellouche</td>\n",
       "      <td>UMP</td>\n",
       "      <td>22</td>\n",
       "      <td>2012-07-04</td>\n",
       "      <td>rappels au règlement</td>\n",
       "      <td>rappels au règlement</td>\n",
       "      <td>Commencez par respecter l'opposition ! (Protes...</td>\n",
       "      <td>16</td>\n",
       "      <td>1562</td>\n",
       "      <td>16</td>\n",
       "      <td>...</td>\n",
       "      <td>4</td>\n",
       "      <td>1951</td>\n",
       "      <td>0.865854</td>\n",
       "      <td>0.0</td>\n",
       "      <td>-0.866025</td>\n",
       "      <td>-0.5</td>\n",
       "      <td>0.688967</td>\n",
       "      <td>0.724793</td>\n",
       "      <td>0</td>\n",
       "      <td>2</td>\n",
       "    </tr>\n",
       "    <tr>\n",
       "      <th>2</th>\n",
       "      <td>Pierre Lellouche</td>\n",
       "      <td>UMP</td>\n",
       "      <td>22</td>\n",
       "      <td>2012-07-04</td>\n",
       "      <td>débat sur les résultats du conseil européen de...</td>\n",
       "      <td>débat sur les résultats du conseil européen de...</td>\n",
       "      <td>Apprenez à respecter le Parlement ! Où vous cr...</td>\n",
       "      <td>9</td>\n",
       "      <td>1562</td>\n",
       "      <td>10</td>\n",
       "      <td>...</td>\n",
       "      <td>4</td>\n",
       "      <td>1951</td>\n",
       "      <td>0.865854</td>\n",
       "      <td>0.0</td>\n",
       "      <td>-0.866025</td>\n",
       "      <td>-0.5</td>\n",
       "      <td>0.688967</td>\n",
       "      <td>0.724793</td>\n",
       "      <td>0</td>\n",
       "      <td>2</td>\n",
       "    </tr>\n",
       "    <tr>\n",
       "      <th>3</th>\n",
       "      <td>Pierre Lellouche</td>\n",
       "      <td>UMP</td>\n",
       "      <td>22</td>\n",
       "      <td>2012-07-04</td>\n",
       "      <td>débat sur les résultats du conseil européen de...</td>\n",
       "      <td>débat sur les résultats du conseil européen de...</td>\n",
       "      <td>Madame la présidente, monsieur le ministre, me...</td>\n",
       "      <td>186</td>\n",
       "      <td>1562</td>\n",
       "      <td>181</td>\n",
       "      <td>...</td>\n",
       "      <td>4</td>\n",
       "      <td>1951</td>\n",
       "      <td>0.865854</td>\n",
       "      <td>0.0</td>\n",
       "      <td>-0.866025</td>\n",
       "      <td>-0.5</td>\n",
       "      <td>0.688967</td>\n",
       "      <td>0.724793</td>\n",
       "      <td>0</td>\n",
       "      <td>2</td>\n",
       "    </tr>\n",
       "    <tr>\n",
       "      <th>4</th>\n",
       "      <td>Pierre Lellouche</td>\n",
       "      <td>UMP</td>\n",
       "      <td>22</td>\n",
       "      <td>2012-07-04</td>\n",
       "      <td>débat sur les résultats du conseil européen de...</td>\n",
       "      <td>débat sur les résultats du conseil européen de...</td>\n",
       "      <td>Bien sûr, les impôts vont à nouveau pleuvoir c...</td>\n",
       "      <td>64</td>\n",
       "      <td>1562</td>\n",
       "      <td>58</td>\n",
       "      <td>...</td>\n",
       "      <td>4</td>\n",
       "      <td>1951</td>\n",
       "      <td>0.865854</td>\n",
       "      <td>0.0</td>\n",
       "      <td>-0.866025</td>\n",
       "      <td>-0.5</td>\n",
       "      <td>0.688967</td>\n",
       "      <td>0.724793</td>\n",
       "      <td>0</td>\n",
       "      <td>2</td>\n",
       "    </tr>\n",
       "  </tbody>\n",
       "</table>\n",
       "<p>5 rows × 27 columns</p>\n",
       "</div>"
      ],
      "text/plain": [
       "                nom groupe  seance_id date_seance  \\\n",
       "0  Pierre Lellouche    UMP         11  2012-07-03   \n",
       "1  Pierre Lellouche    UMP         22  2012-07-04   \n",
       "2  Pierre Lellouche    UMP         22  2012-07-04   \n",
       "3  Pierre Lellouche    UMP         22  2012-07-04   \n",
       "4  Pierre Lellouche    UMP         22  2012-07-04   \n",
       "\n",
       "                                               titre  \\\n",
       "0  déclaration de politique générale du gouvernem...   \n",
       "1                               rappels au règlement   \n",
       "2  débat sur les résultats du conseil européen de...   \n",
       "3  débat sur les résultats du conseil européen de...   \n",
       "4  débat sur les résultats du conseil européen de...   \n",
       "\n",
       "                                       titre_complet  \\\n",
       "0  déclaration de politique générale du gouvernem...   \n",
       "1                               rappels au règlement   \n",
       "2  débat sur les résultats du conseil européen de...   \n",
       "3  débat sur les résultats du conseil européen de...   \n",
       "4  débat sur les résultats du conseil européen de...   \n",
       "\n",
       "                                        intervention  nb_mots  \\\n",
       "0                       Alors, arrêtez de dépenser !        8   \n",
       "1  Commencez par respecter l'opposition ! (Protes...       16   \n",
       "2  Apprenez à respecter le Parlement ! Où vous cr...        9   \n",
       "3  Madame la présidente, monsieur le ministre, me...      186   \n",
       "4  Bien sûr, les impôts vont à nouveau pleuvoir c...       64   \n",
       "\n",
       "   intervention_count  nb_mots_approx  ... day y_naissance n_y_naissance  \\\n",
       "0                1562               5  ...   3        1951      0.865854   \n",
       "1                1562              16  ...   4        1951      0.865854   \n",
       "2                1562              10  ...   4        1951      0.865854   \n",
       "3                1562             181  ...   4        1951      0.865854   \n",
       "4                1562              58  ...   4        1951      0.865854   \n",
       "\n",
       "   n_year cos_month  sin_month   cos_day   sin_day  n_sexe  label  \n",
       "0     0.0 -0.866025       -0.5  0.820763  0.571268       0      2  \n",
       "1     0.0 -0.866025       -0.5  0.688967  0.724793       0      2  \n",
       "2     0.0 -0.866025       -0.5  0.688967  0.724793       0      2  \n",
       "3     0.0 -0.866025       -0.5  0.688967  0.724793       0      2  \n",
       "4     0.0 -0.866025       -0.5  0.688967  0.724793       0      2  \n",
       "\n",
       "[5 rows x 27 columns]"
      ]
     },
     "execution_count": 18,
     "metadata": {},
     "output_type": "execute_result"
    }
   ],
   "source": [
    "processor14.short_interventions.head()"
   ]
  },
  {
   "cell_type": "code",
   "execution_count": 19,
   "metadata": {},
   "outputs": [],
   "source": [
    "cdf = processor14.short_interventions.copy()"
   ]
  },
  {
   "cell_type": "code",
   "execution_count": 20,
   "metadata": {},
   "outputs": [
    {
     "data": {
      "application/vnd.plotly.v1+json": {
       "config": {
        "plotlyServerURL": "https://plot.ly"
       },
       "data": [
        {
         "branchvalues": "total",
         "domain": {
          "x": [
           0,
           1
          ],
          "y": [
           0,
           1
          ]
         },
         "hovertemplate": "labels=%{label}<br>count=%{value}<br>parent=%{parent}<br>id=%{id}<extra></extra>",
         "ids": [
          "Gauche/ECOLO",
          "Gauche/GDR",
          "Droite/LR",
          "Droite/NI",
          "Centre/RRDP",
          "Droite/RUMP",
          "Gauche/SER",
          "Gauche/SRC",
          "Centre/UDI",
          "Droite/UMP",
          "Centre",
          "Droite",
          "Gauche"
         ],
         "labels": [
          "ECOLO",
          "GDR",
          "LR",
          "NI",
          "RRDP",
          "RUMP",
          "SER",
          "SRC",
          "UDI",
          "UMP",
          "Centre",
          "Droite",
          "Gauche"
         ],
         "name": "",
         "parents": [
          "Gauche",
          "Gauche",
          "Droite",
          "Droite",
          "Centre",
          "Droite",
          "Gauche",
          "Gauche",
          "Centre",
          "Droite",
          "",
          "",
          ""
         ],
         "type": "sunburst",
         "values": [
          22760,
          23117,
          33405,
          4717,
          18561,
          571,
          19176,
          116762,
          32416,
          92087,
          50977,
          130780,
          181815
         ]
        }
       ],
       "layout": {
        "legend": {
         "tracegroupgap": 0
        },
        "sunburstcolorway": [
         "rgb(251,180,174)",
         "rgb(179,205,227)",
         "rgb(204,235,197)",
         "rgb(222,203,228)",
         "rgb(254,217,166)",
         "rgb(255,255,204)",
         "rgb(229,216,189)",
         "rgb(253,218,236)",
         "rgb(242,242,242)"
        ],
        "template": {
         "data": {
          "bar": [
           {
            "error_x": {
             "color": "#2a3f5f"
            },
            "error_y": {
             "color": "#2a3f5f"
            },
            "marker": {
             "line": {
              "color": "#E5ECF6",
              "width": 0.5
             },
             "pattern": {
              "fillmode": "overlay",
              "size": 10,
              "solidity": 0.2
             }
            },
            "type": "bar"
           }
          ],
          "barpolar": [
           {
            "marker": {
             "line": {
              "color": "#E5ECF6",
              "width": 0.5
             },
             "pattern": {
              "fillmode": "overlay",
              "size": 10,
              "solidity": 0.2
             }
            },
            "type": "barpolar"
           }
          ],
          "carpet": [
           {
            "aaxis": {
             "endlinecolor": "#2a3f5f",
             "gridcolor": "white",
             "linecolor": "white",
             "minorgridcolor": "white",
             "startlinecolor": "#2a3f5f"
            },
            "baxis": {
             "endlinecolor": "#2a3f5f",
             "gridcolor": "white",
             "linecolor": "white",
             "minorgridcolor": "white",
             "startlinecolor": "#2a3f5f"
            },
            "type": "carpet"
           }
          ],
          "choropleth": [
           {
            "colorbar": {
             "outlinewidth": 0,
             "ticks": ""
            },
            "type": "choropleth"
           }
          ],
          "contour": [
           {
            "colorbar": {
             "outlinewidth": 0,
             "ticks": ""
            },
            "colorscale": [
             [
              0,
              "#0d0887"
             ],
             [
              0.1111111111111111,
              "#46039f"
             ],
             [
              0.2222222222222222,
              "#7201a8"
             ],
             [
              0.3333333333333333,
              "#9c179e"
             ],
             [
              0.4444444444444444,
              "#bd3786"
             ],
             [
              0.5555555555555556,
              "#d8576b"
             ],
             [
              0.6666666666666666,
              "#ed7953"
             ],
             [
              0.7777777777777778,
              "#fb9f3a"
             ],
             [
              0.8888888888888888,
              "#fdca26"
             ],
             [
              1,
              "#f0f921"
             ]
            ],
            "type": "contour"
           }
          ],
          "contourcarpet": [
           {
            "colorbar": {
             "outlinewidth": 0,
             "ticks": ""
            },
            "type": "contourcarpet"
           }
          ],
          "heatmap": [
           {
            "colorbar": {
             "outlinewidth": 0,
             "ticks": ""
            },
            "colorscale": [
             [
              0,
              "#0d0887"
             ],
             [
              0.1111111111111111,
              "#46039f"
             ],
             [
              0.2222222222222222,
              "#7201a8"
             ],
             [
              0.3333333333333333,
              "#9c179e"
             ],
             [
              0.4444444444444444,
              "#bd3786"
             ],
             [
              0.5555555555555556,
              "#d8576b"
             ],
             [
              0.6666666666666666,
              "#ed7953"
             ],
             [
              0.7777777777777778,
              "#fb9f3a"
             ],
             [
              0.8888888888888888,
              "#fdca26"
             ],
             [
              1,
              "#f0f921"
             ]
            ],
            "type": "heatmap"
           }
          ],
          "heatmapgl": [
           {
            "colorbar": {
             "outlinewidth": 0,
             "ticks": ""
            },
            "colorscale": [
             [
              0,
              "#0d0887"
             ],
             [
              0.1111111111111111,
              "#46039f"
             ],
             [
              0.2222222222222222,
              "#7201a8"
             ],
             [
              0.3333333333333333,
              "#9c179e"
             ],
             [
              0.4444444444444444,
              "#bd3786"
             ],
             [
              0.5555555555555556,
              "#d8576b"
             ],
             [
              0.6666666666666666,
              "#ed7953"
             ],
             [
              0.7777777777777778,
              "#fb9f3a"
             ],
             [
              0.8888888888888888,
              "#fdca26"
             ],
             [
              1,
              "#f0f921"
             ]
            ],
            "type": "heatmapgl"
           }
          ],
          "histogram": [
           {
            "marker": {
             "pattern": {
              "fillmode": "overlay",
              "size": 10,
              "solidity": 0.2
             }
            },
            "type": "histogram"
           }
          ],
          "histogram2d": [
           {
            "colorbar": {
             "outlinewidth": 0,
             "ticks": ""
            },
            "colorscale": [
             [
              0,
              "#0d0887"
             ],
             [
              0.1111111111111111,
              "#46039f"
             ],
             [
              0.2222222222222222,
              "#7201a8"
             ],
             [
              0.3333333333333333,
              "#9c179e"
             ],
             [
              0.4444444444444444,
              "#bd3786"
             ],
             [
              0.5555555555555556,
              "#d8576b"
             ],
             [
              0.6666666666666666,
              "#ed7953"
             ],
             [
              0.7777777777777778,
              "#fb9f3a"
             ],
             [
              0.8888888888888888,
              "#fdca26"
             ],
             [
              1,
              "#f0f921"
             ]
            ],
            "type": "histogram2d"
           }
          ],
          "histogram2dcontour": [
           {
            "colorbar": {
             "outlinewidth": 0,
             "ticks": ""
            },
            "colorscale": [
             [
              0,
              "#0d0887"
             ],
             [
              0.1111111111111111,
              "#46039f"
             ],
             [
              0.2222222222222222,
              "#7201a8"
             ],
             [
              0.3333333333333333,
              "#9c179e"
             ],
             [
              0.4444444444444444,
              "#bd3786"
             ],
             [
              0.5555555555555556,
              "#d8576b"
             ],
             [
              0.6666666666666666,
              "#ed7953"
             ],
             [
              0.7777777777777778,
              "#fb9f3a"
             ],
             [
              0.8888888888888888,
              "#fdca26"
             ],
             [
              1,
              "#f0f921"
             ]
            ],
            "type": "histogram2dcontour"
           }
          ],
          "mesh3d": [
           {
            "colorbar": {
             "outlinewidth": 0,
             "ticks": ""
            },
            "type": "mesh3d"
           }
          ],
          "parcoords": [
           {
            "line": {
             "colorbar": {
              "outlinewidth": 0,
              "ticks": ""
             }
            },
            "type": "parcoords"
           }
          ],
          "pie": [
           {
            "automargin": true,
            "type": "pie"
           }
          ],
          "scatter": [
           {
            "fillpattern": {
             "fillmode": "overlay",
             "size": 10,
             "solidity": 0.2
            },
            "type": "scatter"
           }
          ],
          "scatter3d": [
           {
            "line": {
             "colorbar": {
              "outlinewidth": 0,
              "ticks": ""
             }
            },
            "marker": {
             "colorbar": {
              "outlinewidth": 0,
              "ticks": ""
             }
            },
            "type": "scatter3d"
           }
          ],
          "scattercarpet": [
           {
            "marker": {
             "colorbar": {
              "outlinewidth": 0,
              "ticks": ""
             }
            },
            "type": "scattercarpet"
           }
          ],
          "scattergeo": [
           {
            "marker": {
             "colorbar": {
              "outlinewidth": 0,
              "ticks": ""
             }
            },
            "type": "scattergeo"
           }
          ],
          "scattergl": [
           {
            "marker": {
             "colorbar": {
              "outlinewidth": 0,
              "ticks": ""
             }
            },
            "type": "scattergl"
           }
          ],
          "scattermapbox": [
           {
            "marker": {
             "colorbar": {
              "outlinewidth": 0,
              "ticks": ""
             }
            },
            "type": "scattermapbox"
           }
          ],
          "scatterpolar": [
           {
            "marker": {
             "colorbar": {
              "outlinewidth": 0,
              "ticks": ""
             }
            },
            "type": "scatterpolar"
           }
          ],
          "scatterpolargl": [
           {
            "marker": {
             "colorbar": {
              "outlinewidth": 0,
              "ticks": ""
             }
            },
            "type": "scatterpolargl"
           }
          ],
          "scatterternary": [
           {
            "marker": {
             "colorbar": {
              "outlinewidth": 0,
              "ticks": ""
             }
            },
            "type": "scatterternary"
           }
          ],
          "surface": [
           {
            "colorbar": {
             "outlinewidth": 0,
             "ticks": ""
            },
            "colorscale": [
             [
              0,
              "#0d0887"
             ],
             [
              0.1111111111111111,
              "#46039f"
             ],
             [
              0.2222222222222222,
              "#7201a8"
             ],
             [
              0.3333333333333333,
              "#9c179e"
             ],
             [
              0.4444444444444444,
              "#bd3786"
             ],
             [
              0.5555555555555556,
              "#d8576b"
             ],
             [
              0.6666666666666666,
              "#ed7953"
             ],
             [
              0.7777777777777778,
              "#fb9f3a"
             ],
             [
              0.8888888888888888,
              "#fdca26"
             ],
             [
              1,
              "#f0f921"
             ]
            ],
            "type": "surface"
           }
          ],
          "table": [
           {
            "cells": {
             "fill": {
              "color": "#EBF0F8"
             },
             "line": {
              "color": "white"
             }
            },
            "header": {
             "fill": {
              "color": "#C8D4E3"
             },
             "line": {
              "color": "white"
             }
            },
            "type": "table"
           }
          ]
         },
         "layout": {
          "annotationdefaults": {
           "arrowcolor": "#2a3f5f",
           "arrowhead": 0,
           "arrowwidth": 1
          },
          "autotypenumbers": "strict",
          "coloraxis": {
           "colorbar": {
            "outlinewidth": 0,
            "ticks": ""
           }
          },
          "colorscale": {
           "diverging": [
            [
             0,
             "#8e0152"
            ],
            [
             0.1,
             "#c51b7d"
            ],
            [
             0.2,
             "#de77ae"
            ],
            [
             0.3,
             "#f1b6da"
            ],
            [
             0.4,
             "#fde0ef"
            ],
            [
             0.5,
             "#f7f7f7"
            ],
            [
             0.6,
             "#e6f5d0"
            ],
            [
             0.7,
             "#b8e186"
            ],
            [
             0.8,
             "#7fbc41"
            ],
            [
             0.9,
             "#4d9221"
            ],
            [
             1,
             "#276419"
            ]
           ],
           "sequential": [
            [
             0,
             "#0d0887"
            ],
            [
             0.1111111111111111,
             "#46039f"
            ],
            [
             0.2222222222222222,
             "#7201a8"
            ],
            [
             0.3333333333333333,
             "#9c179e"
            ],
            [
             0.4444444444444444,
             "#bd3786"
            ],
            [
             0.5555555555555556,
             "#d8576b"
            ],
            [
             0.6666666666666666,
             "#ed7953"
            ],
            [
             0.7777777777777778,
             "#fb9f3a"
            ],
            [
             0.8888888888888888,
             "#fdca26"
            ],
            [
             1,
             "#f0f921"
            ]
           ],
           "sequentialminus": [
            [
             0,
             "#0d0887"
            ],
            [
             0.1111111111111111,
             "#46039f"
            ],
            [
             0.2222222222222222,
             "#7201a8"
            ],
            [
             0.3333333333333333,
             "#9c179e"
            ],
            [
             0.4444444444444444,
             "#bd3786"
            ],
            [
             0.5555555555555556,
             "#d8576b"
            ],
            [
             0.6666666666666666,
             "#ed7953"
            ],
            [
             0.7777777777777778,
             "#fb9f3a"
            ],
            [
             0.8888888888888888,
             "#fdca26"
            ],
            [
             1,
             "#f0f921"
            ]
           ]
          },
          "colorway": [
           "#636efa",
           "#EF553B",
           "#00cc96",
           "#ab63fa",
           "#FFA15A",
           "#19d3f3",
           "#FF6692",
           "#B6E880",
           "#FF97FF",
           "#FECB52"
          ],
          "font": {
           "color": "#2a3f5f"
          },
          "geo": {
           "bgcolor": "white",
           "lakecolor": "white",
           "landcolor": "#E5ECF6",
           "showlakes": true,
           "showland": true,
           "subunitcolor": "white"
          },
          "hoverlabel": {
           "align": "left"
          },
          "hovermode": "closest",
          "mapbox": {
           "style": "light"
          },
          "paper_bgcolor": "white",
          "plot_bgcolor": "#E5ECF6",
          "polar": {
           "angularaxis": {
            "gridcolor": "white",
            "linecolor": "white",
            "ticks": ""
           },
           "bgcolor": "#E5ECF6",
           "radialaxis": {
            "gridcolor": "white",
            "linecolor": "white",
            "ticks": ""
           }
          },
          "scene": {
           "xaxis": {
            "backgroundcolor": "#E5ECF6",
            "gridcolor": "white",
            "gridwidth": 2,
            "linecolor": "white",
            "showbackground": true,
            "ticks": "",
            "zerolinecolor": "white"
           },
           "yaxis": {
            "backgroundcolor": "#E5ECF6",
            "gridcolor": "white",
            "gridwidth": 2,
            "linecolor": "white",
            "showbackground": true,
            "ticks": "",
            "zerolinecolor": "white"
           },
           "zaxis": {
            "backgroundcolor": "#E5ECF6",
            "gridcolor": "white",
            "gridwidth": 2,
            "linecolor": "white",
            "showbackground": true,
            "ticks": "",
            "zerolinecolor": "white"
           }
          },
          "shapedefaults": {
           "line": {
            "color": "#2a3f5f"
           }
          },
          "ternary": {
           "aaxis": {
            "gridcolor": "white",
            "linecolor": "white",
            "ticks": ""
           },
           "baxis": {
            "gridcolor": "white",
            "linecolor": "white",
            "ticks": ""
           },
           "bgcolor": "#E5ECF6",
           "caxis": {
            "gridcolor": "white",
            "linecolor": "white",
            "ticks": ""
           }
          },
          "title": {
           "x": 0.05
          },
          "xaxis": {
           "automargin": true,
           "gridcolor": "white",
           "linecolor": "white",
           "ticks": "",
           "title": {
            "standoff": 15
           },
           "zerolinecolor": "white",
           "zerolinewidth": 2
          },
          "yaxis": {
           "automargin": true,
           "gridcolor": "white",
           "linecolor": "white",
           "ticks": "",
           "title": {
            "standoff": 15
           },
           "zerolinecolor": "white",
           "zerolinewidth": 2
          }
         }
        },
        "title": {
         "text": "Répartition des groupes politiques dans la 14ème législature"
        }
       }
      }
     },
     "metadata": {},
     "output_type": "display_data"
    }
   ],
   "source": [
    "ccdf = pd.DataFrame(\n",
    "    {\n",
    "        \"Groupe\": cdf[\"groupe\"]\n",
    "        .map(label_dict_14th)\n",
    "        .map({0.0: \"Gauche\", 1.0: \"Centre\", 2.0: \"Droite\"}),\n",
    "        \"Partie\": cdf[\"groupe\"],\n",
    "    }\n",
    ")\n",
    "fig = px.sunburst(\n",
    "    ccdf,\n",
    "    path=[\"Groupe\", \"Partie\"],\n",
    "    color_discrete_sequence=px.colors.qualitative.Pastel1,\n",
    "    title=\"Répartition des groupes politiques dans la 14ème législature\",\n",
    ")\n",
    "fig.show()\n",
    "fig.write_image(\"../../images/sunburst_groupes_interventions.png\")"
   ]
  },
  {
   "cell_type": "code",
   "execution_count": 21,
   "metadata": {},
   "outputs": [
    {
     "data": {
      "image/png": "[encoded data removed]",
      "text/plain": [
       "<Figure size 1500x600 with 10 Axes>"
      ]
     },
     "metadata": {},
     "output_type": "display_data"
    }
   ],
   "source": [
    "title = \"Répartition du nombre de mots dans les interventions\"\n",
    "\n",
    "g = sns.FacetGrid(cdf, col=\"groupe\", margin_titles=True, col_wrap=5)\n",
    "g.map(sns.histplot, \"nb_mots_approx\", stat=\"probability\")\n",
    "\n",
    "g.set_axis_labels(\"Nombre de mots\", \"Nombre d'interventions\")\n",
    "g.figure.suptitle(title, fontsize=16)\n",
    "for group in g.axes_dict:\n",
    "    g.axes_dict[group].set_title(group)\n",
    "    g.axes_dict[group].set_xlim(0, 512)\n",
    "g.figure.tight_layout()\n",
    "g.figure.savefig(\"../../images/histplot_nb_mots.png\")"
   ]
  },
  {
   "attachments": {},
   "cell_type": "markdown",
   "metadata": {},
   "source": [
    "We notice that the distribution of the number of words in the interventions are similar for all groups. Most interventions are around 50 words long.\n",
    "\n",
    "However, we do notice that the major parties have more really shorts interventions than the minor parties."
   ]
  },
  {
   "attachments": {},
   "cell_type": "markdown",
   "metadata": {},
   "source": [
    "## Looking at the tokenised data\n",
    "\n",
    "Lastly, we look at the \"records\", that contain all the previous informations, but also the tokenised interventions, titles and profession, using both Camembert and BERT."
   ]
  },
  {
   "cell_type": "code",
   "execution_count": 22,
   "metadata": {},
   "outputs": [],
   "source": [
    "n = len(processor14.records)\n",
    "idx = np.random.randint(0, n, 10)"
   ]
  },
  {
   "cell_type": "code",
   "execution_count": 23,
   "metadata": {},
   "outputs": [],
   "source": [
    "example = processor14.records[idx[0]]"
   ]
  },
  {
   "cell_type": "code",
   "execution_count": 24,
   "metadata": {},
   "outputs": [
    {
     "data": {
      "text/plain": [
       "{'nom': 'Sébastien Denaja',\n",
       " 'groupe': 'SRC',\n",
       " 'seance_id': 2762,\n",
       " 'date_seance': '2014-01-24',\n",
       " 'titre': \"après l'article 11\",\n",
       " 'titre_complet': \"Égalité entre les femmes et les hommes > après l'article 11\",\n",
       " 'intervention': \"Une fois encore, le projet de loi ALUR semble apporter un certain nombre de réponses, notamment en son article 12, selon lequel toute personne ayant accès aux informations liées aux personnes ou familles mentionnées au premier alinéa de l'article L. 345-2-4 du code de l'action sociale et des familles et qui ont recours au dispositif d'accueil, d'hébergement et d'accompagnement vers l'insertion et le logement est tenue au secret professionnel dans les conditions prévues aux articles 226-13 et 226-14 du code pénal. Il me semble que cet article qui renforce les obligations des acteurs de l'hébergement en matière de secret professionnel peut être de nature à vous rassurer quant à l'anonymat des personnes accueillies. En tout état de cause, la commission est défavorable à cet amendement.\",\n",
       " 'nb_mots': 143,\n",
       " 'intervention_count': 1469,\n",
       " 'nb_mots_approx': 125,\n",
       " 'date_naissance': '1979-01-14',\n",
       " 'sexe': 'H',\n",
       " 'profession': 'Maître de conférences',\n",
       " 'nb_mandats': 2,\n",
       " 'date': Timestamp('2014-01-24 00:00:00'),\n",
       " 'year': 2014,\n",
       " 'month': 1,\n",
       " 'day': 24,\n",
       " 'y_naissance': 1979,\n",
       " 'n_y_naissance': 0.524390243902439,\n",
       " 'n_year': 0.4,\n",
       " 'cos_month': 0.8660254037844387,\n",
       " 'sin_month': 0.49999999999999994,\n",
       " 'cos_day': 0.15142777750457667,\n",
       " 'sin_day': -0.9884683243281114,\n",
       " 'n_sexe': 0,\n",
       " 'label': 0,\n",
       " 'camembert_tokens': {'intervention': [5,\n",
       "   180,\n",
       "   151,\n",
       "   143,\n",
       "   7,\n",
       "   16,\n",
       "   327,\n",
       "   8,\n",
       "   589,\n",
       "   7024,\n",
       "   4331,\n",
       "   630,\n",
       "   2091,\n",
       "   23,\n",
       "   1000,\n",
       "   365,\n",
       "   8,\n",
       "   2552,\n",
       "   7,\n",
       "   410,\n",
       "   22,\n",
       "   58,\n",
       "   724,\n",
       "   409,\n",
       "   7,\n",
       "   395,\n",
       "   966,\n",
       "   194,\n",
       "   314,\n",
       "   634,\n",
       "   1376,\n",
       "   68,\n",
       "   592,\n",
       "   3496,\n",
       "   68,\n",
       "   242,\n",
       "   47,\n",
       "   1641,\n",
       "   20296,\n",
       "   36,\n",
       "   246,\n",
       "   10482,\n",
       "   8,\n",
       "   17,\n",
       "   11,\n",
       "   802,\n",
       "   71,\n",
       "   9,\n",
       "   135,\n",
       "   2121,\n",
       "   5428,\n",
       "   5088,\n",
       "   25,\n",
       "   986,\n",
       "   8,\n",
       "   17,\n",
       "   11,\n",
       "   974,\n",
       "   1039,\n",
       "   14,\n",
       "   20,\n",
       "   1641,\n",
       "   14,\n",
       "   31,\n",
       "   96,\n",
       "   2727,\n",
       "   36,\n",
       "   2507,\n",
       "   18,\n",
       "   11,\n",
       "   1585,\n",
       "   7,\n",
       "   18,\n",
       "   11,\n",
       "   7036,\n",
       "   14,\n",
       "   18,\n",
       "   11,\n",
       "   5543,\n",
       "   224,\n",
       "   17,\n",
       "   11,\n",
       "   8909,\n",
       "   14,\n",
       "   16,\n",
       "   1989,\n",
       "   30,\n",
       "   1899,\n",
       "   36,\n",
       "   2381,\n",
       "   1166,\n",
       "   29,\n",
       "   19,\n",
       "   643,\n",
       "   5931,\n",
       "   68,\n",
       "   1213,\n",
       "   118,\n",
       "   2648,\n",
       "   12805,\n",
       "   14,\n",
       "   118,\n",
       "   2648,\n",
       "   13180,\n",
       "   25,\n",
       "   986,\n",
       "   8485,\n",
       "   9,\n",
       "   69,\n",
       "   103,\n",
       "   630,\n",
       "   27,\n",
       "   280,\n",
       "   724,\n",
       "   31,\n",
       "   10021,\n",
       "   19,\n",
       "   5641,\n",
       "   20,\n",
       "   1602,\n",
       "   8,\n",
       "   17,\n",
       "   11,\n",
       "   7036,\n",
       "   22,\n",
       "   763,\n",
       "   8,\n",
       "   2381,\n",
       "   1166,\n",
       "   104,\n",
       "   98,\n",
       "   8,\n",
       "   696,\n",
       "   15,\n",
       "   39,\n",
       "   10814,\n",
       "   1627,\n",
       "   15,\n",
       "   17,\n",
       "   11,\n",
       "   18765,\n",
       "   20,\n",
       "   242,\n",
       "   23803,\n",
       "   10,\n",
       "   9,\n",
       "   107,\n",
       "   66,\n",
       "   956,\n",
       "   8,\n",
       "   625,\n",
       "   7,\n",
       "   13,\n",
       "   2585,\n",
       "   30,\n",
       "   20975,\n",
       "   15,\n",
       "   280,\n",
       "   14072,\n",
       "   9,\n",
       "   6],\n",
       "  'titre_complet': [5,\n",
       "   1254,\n",
       "   383,\n",
       "   3330,\n",
       "   128,\n",
       "   19,\n",
       "   389,\n",
       "   14,\n",
       "   19,\n",
       "   529,\n",
       "   614,\n",
       "   182,\n",
       "   17,\n",
       "   11,\n",
       "   802,\n",
       "   532,\n",
       "   6],\n",
       "  'titre': [5, 182, 17, 11, 802, 532, 6],\n",
       "  'profession': [5, 4999, 8, 5400, 6]},\n",
       " 'bert_tokens': {'intervention': [101,\n",
       "   13509,\n",
       "   13224,\n",
       "   14375,\n",
       "   117,\n",
       "   10141,\n",
       "   18769,\n",
       "   10104,\n",
       "   20472,\n",
       "   47271,\n",
       "   98348,\n",
       "   29264,\n",
       "   72894,\n",
       "   62615,\n",
       "   10119,\n",
       "   16620,\n",
       "   11491,\n",
       "   10104,\n",
       "   73337,\n",
       "   10107,\n",
       "   117,\n",
       "   13964,\n",
       "   10110,\n",
       "   10312,\n",
       "   13262,\n",
       "   10186,\n",
       "   117,\n",
       "   14944,\n",
       "   24809,\n",
       "   16920,\n",
       "   29275,\n",
       "   16936,\n",
       "   33742,\n",
       "   10754,\n",
       "   46033,\n",
       "   97832,\n",
       "   10754,\n",
       "   18517,\n",
       "   10431,\n",
       "   42912,\n",
       "   33507,\n",
       "   47931,\n",
       "   10257,\n",
       "   11913,\n",
       "   12134,\n",
       "   11246,\n",
       "   10113,\n",
       "   10104,\n",
       "   180,\n",
       "   112,\n",
       "   13262,\n",
       "   149,\n",
       "   119,\n",
       "   30287,\n",
       "   118,\n",
       "   123,\n",
       "   118,\n",
       "   125,\n",
       "   10168,\n",
       "   16964,\n",
       "   10104,\n",
       "   180,\n",
       "   112,\n",
       "   14204,\n",
       "   19279,\n",
       "   10131,\n",
       "   10139,\n",
       "   42912,\n",
       "   10131,\n",
       "   10355,\n",
       "   11378,\n",
       "   11639,\n",
       "   102074,\n",
       "   10257,\n",
       "   47277,\n",
       "   172,\n",
       "   112,\n",
       "   62844,\n",
       "   117,\n",
       "   172,\n",
       "   112,\n",
       "   176,\n",
       "   48654,\n",
       "   28163,\n",
       "   10426,\n",
       "   10131,\n",
       "   172,\n",
       "   112,\n",
       "   13621,\n",
       "   22530,\n",
       "   71250,\n",
       "   10426,\n",
       "   12576,\n",
       "   180,\n",
       "   112,\n",
       "   15498,\n",
       "   107373,\n",
       "   10131,\n",
       "   10141,\n",
       "   49316,\n",
       "   13748,\n",
       "   10176,\n",
       "   73453,\n",
       "   10257,\n",
       "   23658,\n",
       "   39143,\n",
       "   10260,\n",
       "   10152,\n",
       "   17315,\n",
       "   70901,\n",
       "   10171,\n",
       "   10754,\n",
       "   18416,\n",
       "   23776,\n",
       "   118,\n",
       "   10249,\n",
       "   10131,\n",
       "   23776,\n",
       "   118,\n",
       "   10247,\n",
       "   10168,\n",
       "   16964,\n",
       "   53393,\n",
       "   17661,\n",
       "   119,\n",
       "   10282,\n",
       "   10911,\n",
       "   29264,\n",
       "   10121,\n",
       "   18734,\n",
       "   13262,\n",
       "   10355,\n",
       "   63256,\n",
       "   39910,\n",
       "   10152,\n",
       "   101549,\n",
       "   10139,\n",
       "   52239,\n",
       "   10104,\n",
       "   180,\n",
       "   112,\n",
       "   176,\n",
       "   48654,\n",
       "   28163,\n",
       "   10426,\n",
       "   10110,\n",
       "   43142,\n",
       "   10104,\n",
       "   23658,\n",
       "   39143,\n",
       "   12568,\n",
       "   11684,\n",
       "   10104,\n",
       "   16613,\n",
       "   254,\n",
       "   24931,\n",
       "   59329,\n",
       "   47394,\n",
       "   10129,\n",
       "   28784,\n",
       "   254,\n",
       "   180,\n",
       "   112,\n",
       "   12797,\n",
       "   13969,\n",
       "   10526,\n",
       "   10139,\n",
       "   18517,\n",
       "   62844,\n",
       "   22201,\n",
       "   119,\n",
       "   10243,\n",
       "   13003,\n",
       "   21210,\n",
       "   10104,\n",
       "   15311,\n",
       "   117,\n",
       "   10109,\n",
       "   26568,\n",
       "   10176,\n",
       "   97184,\n",
       "   13369,\n",
       "   31334,\n",
       "   11203,\n",
       "   254,\n",
       "   18734,\n",
       "   10392,\n",
       "   13201,\n",
       "   10426,\n",
       "   119,\n",
       "   102],\n",
       "  'titre_complet': [101,\n",
       "   234,\n",
       "   53740,\n",
       "   12208,\n",
       "   10402,\n",
       "   10152,\n",
       "   21560,\n",
       "   10131,\n",
       "   10152,\n",
       "   17949,\n",
       "   135,\n",
       "   11677,\n",
       "   180,\n",
       "   112,\n",
       "   13262,\n",
       "   10193,\n",
       "   102],\n",
       "  'titre': [101, 11677, 180, 112, 13262, 10193, 102],\n",
       "  'profession': [101, 76712, 10104, 93575, 102]}}"
      ]
     },
     "execution_count": 24,
     "metadata": {},
     "output_type": "execute_result"
    }
   ],
   "source": [
    "example"
   ]
  },
  {
   "cell_type": "code",
   "execution_count": 25,
   "metadata": {},
   "outputs": [
    {
     "data": {
      "text/plain": [
       "\"Une fois encore, le projet de loi ALUR semble apporter un certain nombre de réponses, notamment en son article 12, selon lequel toute personne ayant accès aux informations liées aux personnes ou familles mentionnées au premier alinéa de l'article L. 345-2-4 du code de l'action sociale et des familles et qui ont recours au dispositif d'accueil, d'hébergement et d'accompagnement vers l'insertion et le logement est tenue au secret professionnel dans les conditions prévues aux articles 226-13 et 226-14 du code pénal. Il me semble que cet article qui renforce les obligations des acteurs de l'hébergement en matière de secret professionnel peut être de nature à vous rassurer quant à l'anonymat des personnes accueillies. En tout état de cause, la commission est défavorable à cet amendement.\""
      ]
     },
     "execution_count": 25,
     "metadata": {},
     "output_type": "execute_result"
    }
   ],
   "source": [
    "example[\"intervention\"]"
   ]
  },
  {
   "cell_type": "code",
   "execution_count": 26,
   "metadata": {},
   "outputs": [
    {
     "data": {
      "text/plain": [
       "[5,\n",
       " 180,\n",
       " 151,\n",
       " 143,\n",
       " 7,\n",
       " 16,\n",
       " 327,\n",
       " 8,\n",
       " 589,\n",
       " 7024,\n",
       " 4331,\n",
       " 630,\n",
       " 2091,\n",
       " 23,\n",
       " 1000,\n",
       " 365,\n",
       " 8,\n",
       " 2552,\n",
       " 7,\n",
       " 410,\n",
       " 22,\n",
       " 58,\n",
       " 724,\n",
       " 409,\n",
       " 7,\n",
       " 395,\n",
       " 966,\n",
       " 194,\n",
       " 314,\n",
       " 634,\n",
       " 1376,\n",
       " 68,\n",
       " 592,\n",
       " 3496,\n",
       " 68,\n",
       " 242,\n",
       " 47,\n",
       " 1641,\n",
       " 20296,\n",
       " 36,\n",
       " 246,\n",
       " 10482,\n",
       " 8,\n",
       " 17,\n",
       " 11,\n",
       " 802,\n",
       " 71,\n",
       " 9,\n",
       " 135,\n",
       " 2121,\n",
       " 5428,\n",
       " 5088,\n",
       " 25,\n",
       " 986,\n",
       " 8,\n",
       " 17,\n",
       " 11,\n",
       " 974,\n",
       " 1039,\n",
       " 14,\n",
       " 20,\n",
       " 1641,\n",
       " 14,\n",
       " 31,\n",
       " 96,\n",
       " 2727,\n",
       " 36,\n",
       " 2507,\n",
       " 18,\n",
       " 11,\n",
       " 1585,\n",
       " 7,\n",
       " 18,\n",
       " 11,\n",
       " 7036,\n",
       " 14,\n",
       " 18,\n",
       " 11,\n",
       " 5543,\n",
       " 224,\n",
       " 17,\n",
       " 11,\n",
       " 8909,\n",
       " 14,\n",
       " 16,\n",
       " 1989,\n",
       " 30,\n",
       " 1899,\n",
       " 36,\n",
       " 2381,\n",
       " 1166,\n",
       " 29,\n",
       " 19,\n",
       " 643,\n",
       " 5931,\n",
       " 68,\n",
       " 1213,\n",
       " 118,\n",
       " 2648,\n",
       " 12805,\n",
       " 14,\n",
       " 118,\n",
       " 2648,\n",
       " 13180,\n",
       " 25,\n",
       " 986,\n",
       " 8485,\n",
       " 9,\n",
       " 69,\n",
       " 103,\n",
       " 630,\n",
       " 27,\n",
       " 280,\n",
       " 724,\n",
       " 31,\n",
       " 10021,\n",
       " 19,\n",
       " 5641,\n",
       " 20,\n",
       " 1602,\n",
       " 8,\n",
       " 17,\n",
       " 11,\n",
       " 7036,\n",
       " 22,\n",
       " 763,\n",
       " 8,\n",
       " 2381,\n",
       " 1166,\n",
       " 104,\n",
       " 98,\n",
       " 8,\n",
       " 696,\n",
       " 15,\n",
       " 39,\n",
       " 10814,\n",
       " 1627,\n",
       " 15,\n",
       " 17,\n",
       " 11,\n",
       " 18765,\n",
       " 20,\n",
       " 242,\n",
       " 23803,\n",
       " 10,\n",
       " 9,\n",
       " 107,\n",
       " 66,\n",
       " 956,\n",
       " 8,\n",
       " 625,\n",
       " 7,\n",
       " 13,\n",
       " 2585,\n",
       " 30,\n",
       " 20975,\n",
       " 15,\n",
       " 280,\n",
       " 14072,\n",
       " 9,\n",
       " 6]"
      ]
     },
     "execution_count": 26,
     "metadata": {},
     "output_type": "execute_result"
    }
   ],
   "source": [
    "example[\"camembert_tokens\"][\"intervention\"]"
   ]
  },
  {
   "cell_type": "code",
   "execution_count": 27,
   "metadata": {},
   "outputs": [
    {
     "ename": "TypeError",
     "evalue": "list indices must be integers or slices, not str",
     "output_type": "error",
     "traceback": [
      "\u001b[0;31m---------------------------------------------------------------------------\u001b[0m",
      "\u001b[0;31mTypeError\u001b[0m                                 Traceback (most recent call last)",
      "Cell \u001b[0;32mIn[27], line 1\u001b[0m\n\u001b[0;32m----> 1\u001b[0m processor14\u001b[39m.\u001b[39mcamembert_tokenizer\u001b[39m.\u001b[39mdecode(example[\u001b[39m\"\u001b[39;49m\u001b[39mcamembert_tokens\u001b[39;49m\u001b[39m\"\u001b[39;49m][\u001b[39m\"\u001b[39;49m\u001b[39mintervention\u001b[39;49m\u001b[39m\"\u001b[39;49m][\u001b[39m\"\u001b[39;49m\u001b[39minput_ids\u001b[39;49m\u001b[39m\"\u001b[39;49m])\n",
      "\u001b[0;31mTypeError\u001b[0m: list indices must be integers or slices, not str"
     ]
    }
   ],
   "source": [
    "processor14.camembert_tokenizer.decode(example[\"camembert_tokens\"][\"intervention\"][\"input_ids\"])"
   ]
  },
  {
   "cell_type": "code",
   "execution_count": null,
   "metadata": {},
   "outputs": [
    {
     "data": {
      "image/png": "[encoded data removed]",
      "text/plain": [
       "<Figure size 1200x600 with 2 Axes>"
      ]
     },
     "metadata": {},
     "output_type": "display_data"
    }
   ],
   "source": [
    "fig, (ax1, ax2) = plt.subplots(1, 2, figsize=(12, 6), sharey=True)\n",
    "\n",
    "c_lens = []\n",
    "for record in processor14.records:\n",
    "    c_lens.append(len(record[\"camembert_tokens\"][\"intervention\"][\"input_ids\"]))\n",
    "sns.histplot(c_lens, bins=100, ax=ax1)\n",
    "ax1.set(xlabel=\"Nombre de tokens\", ylabel=\"Nombre d'interventions\", title=\"CamemBERT\")\n",
    "\n",
    "b_lens = []\n",
    "for record in processor14.records:\n",
    "    b_lens.append(len(record[\"bert_tokens\"][\"intervention\"][\"input_ids\"]))\n",
    "sns.histplot(b_lens, bins=100, ax=ax2)\n",
    "ax2.set(xlabel=\"Nombre de tokens\", ylabel=\"Nombre d'interventions\", title=\"BERT\")\n",
    "\n",
    "\n",
    "fig.suptitle(\"Répartition du nombre de tokens dans les interventions\")\n",
    "fig.tight_layout()\n",
    "fig.savefig(\"../../images/histplot_nb_tokens.png\")"
   ]
  }
 ],
 "metadata": {
  "kernelspec": {
   "display_name": "pytorch-11-7",
   "language": "python",
   "name": "python3"
  },
  "language_info": {
   "codemirror_mode": {
    "name": "ipython",
    "version": 3
   },
   "file_extension": ".py",
   "mimetype": "text/x-python",
   "name": "python",
   "nbconvert_exporter": "python",
   "pygments_lexer": "ipython3",
   "version": "3.10.8"
  },
  "orig_nbformat": 4,
  "vscode": {
   "interpreter": {
    "hash": "290de4d201867099a7cec8aa5bca78d01a6c85d7bcab7b52f8e97114ad853450"
   }
  }
 },
 "nbformat": 4,
 "nbformat_minor": 2
}
